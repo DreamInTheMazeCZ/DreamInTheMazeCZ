{
 "cells": [
  {
   "cell_type": "markdown",
   "id": "001c6a44",
   "metadata": {
    "papermill": {
     "duration": 0.018597,
     "end_time": "2022-06-28T16:44:25.874545",
     "exception": false,
     "start_time": "2022-06-28T16:44:25.855948",
     "status": "completed"
    },
    "tags": []
   },
   "source": [
    "### sklearn.linear_model.ElasticNet\n",
    "\n",
    "#### 릿지회귀와 라쏘회귀를 절충한 모델로, 규제항은 릿지와 랐의 규제항을 단순히 더하여 사용\n",
    "- 두 규제항의 혼합정도를 혼합비율 r을 사용하여 조절\n",
    "- r=0일 경우 릿지회귀\n",
    "- r=1일 경우 라쏘회귀\n",
    "\n",
    "#### 주요 Hyperparameter\n",
    "- alpha : 기본값 1로, 0에 가까울수록 규제가 없고(선형회귀와 유사한 결과) 값이 커질수록 규제가 강해져 회귀계수가 0에 근접(훈련데이터의 정확도는 낮아지지만 일반화에 기여)\n",
    "- l1_ratio : 릿지와 라쏘의 규제 비율에 대한 가중 정도(조절 어려움)\n",
    "\n",
    "##### ElasticNet(alpha=1.0, *, l1_ratio=0.5, fit_intercept=True, normalize=False, precompute=False, copy_X=True, max_iter=1000, tol=0.0001, warm_start=False, positive=False, random_state=None, selection='cyclic')"
   ]
  },
  {
   "cell_type": "markdown",
   "id": "6d38a08a",
   "metadata": {
    "papermill": {
     "duration": 0.016156,
     "end_time": "2022-06-28T16:44:25.907867",
     "exception": false,
     "start_time": "2022-06-28T16:44:25.891711",
     "status": "completed"
    },
    "tags": []
   },
   "source": [
    "# 분석 코드"
   ]
  },
  {
   "cell_type": "code",
   "execution_count": 1,
   "id": "bf080f7d",
   "metadata": {
    "execution": {
     "iopub.execute_input": "2022-06-28T16:44:25.941507Z",
     "iopub.status.busy": "2022-06-28T16:44:25.940787Z",
     "iopub.status.idle": "2022-06-28T16:44:27.686998Z",
     "shell.execute_reply": "2022-06-28T16:44:27.686300Z"
    },
    "papermill": {
     "duration": 1.767367,
     "end_time": "2022-06-28T16:44:27.690124",
     "exception": false,
     "start_time": "2022-06-28T16:44:25.922757",
     "status": "completed"
    },
    "tags": []
   },
   "outputs": [
    {
     "data": {
      "text/html": [
       "<div>\n",
       "<style scoped>\n",
       "    .dataframe tbody tr th:only-of-type {\n",
       "        vertical-align: middle;\n",
       "    }\n",
       "\n",
       "    .dataframe tbody tr th {\n",
       "        vertical-align: top;\n",
       "    }\n",
       "\n",
       "    .dataframe thead th {\n",
       "        text-align: right;\n",
       "    }\n",
       "</style>\n",
       "<table border=\"1\" class=\"dataframe\">\n",
       "  <thead>\n",
       "    <tr style=\"text-align: right;\">\n",
       "      <th></th>\n",
       "      <th>housing_age</th>\n",
       "      <th>income</th>\n",
       "      <th>bedrooms</th>\n",
       "      <th>households</th>\n",
       "      <th>rooms</th>\n",
       "      <th>house_value</th>\n",
       "    </tr>\n",
       "  </thead>\n",
       "  <tbody>\n",
       "    <tr>\n",
       "      <th>0</th>\n",
       "      <td>23</td>\n",
       "      <td>6.7770</td>\n",
       "      <td>0.141112</td>\n",
       "      <td>2.442244</td>\n",
       "      <td>8.103960</td>\n",
       "      <td>500000</td>\n",
       "    </tr>\n",
       "    <tr>\n",
       "      <th>1</th>\n",
       "      <td>49</td>\n",
       "      <td>6.0199</td>\n",
       "      <td>0.160984</td>\n",
       "      <td>2.726688</td>\n",
       "      <td>5.752412</td>\n",
       "      <td>500000</td>\n",
       "    </tr>\n",
       "    <tr>\n",
       "      <th>2</th>\n",
       "      <td>35</td>\n",
       "      <td>5.1155</td>\n",
       "      <td>0.249061</td>\n",
       "      <td>1.902676</td>\n",
       "      <td>3.888078</td>\n",
       "      <td>500000</td>\n",
       "    </tr>\n",
       "    <tr>\n",
       "      <th>3</th>\n",
       "      <td>32</td>\n",
       "      <td>4.7109</td>\n",
       "      <td>0.231383</td>\n",
       "      <td>1.913669</td>\n",
       "      <td>4.508393</td>\n",
       "      <td>500000</td>\n",
       "    </tr>\n",
       "    <tr>\n",
       "      <th>4</th>\n",
       "      <td>21</td>\n",
       "      <td>4.5625</td>\n",
       "      <td>0.255583</td>\n",
       "      <td>3.092664</td>\n",
       "      <td>4.667954</td>\n",
       "      <td>500000</td>\n",
       "    </tr>\n",
       "  </tbody>\n",
       "</table>\n",
       "</div>"
      ],
      "text/plain": [
       "   housing_age  income  bedrooms  households     rooms  house_value\n",
       "0           23  6.7770  0.141112    2.442244  8.103960       500000\n",
       "1           49  6.0199  0.160984    2.726688  5.752412       500000\n",
       "2           35  5.1155  0.249061    1.902676  3.888078       500000\n",
       "3           32  4.7109  0.231383    1.913669  4.508393       500000\n",
       "4           21  4.5625  0.255583    3.092664  4.667954       500000"
      ]
     },
     "execution_count": 1,
     "metadata": {},
     "output_type": "execute_result"
    }
   ],
   "source": [
    "# 라이브러리 및 데이터 로드\n",
    "import warnings\n",
    "warnings.filterwarnings('ignore')\n",
    "import pandas as pd\n",
    "import numpy as np\n",
    "import matplotlib.pyplot as plt\n",
    "from scipy.stats import randint\n",
    "from sklearn.model_selection import train_test_split, GridSearchCV, RandomizedSearchCV\n",
    "from sklearn.preprocessing import MinMaxScaler, StandardScaler\n",
    "from sklearn.linear_model import ElasticNet\n",
    "from sklearn.metrics import mean_squared_error\n",
    "\n",
    "df = pd.read_csv('../input/big-data-certification-study/house_price.csv', encoding='utf-8')\n",
    "df.head()"
   ]
  },
  {
   "cell_type": "code",
   "execution_count": 2,
   "id": "f59db7a1",
   "metadata": {
    "execution": {
     "iopub.execute_input": "2022-06-28T16:44:27.726351Z",
     "iopub.status.busy": "2022-06-28T16:44:27.725708Z",
     "iopub.status.idle": "2022-06-28T16:44:27.741093Z",
     "shell.execute_reply": "2022-06-28T16:44:27.740426Z"
    },
    "papermill": {
     "duration": 0.037503,
     "end_time": "2022-06-28T16:44:27.743289",
     "exception": false,
     "start_time": "2022-06-28T16:44:27.705786",
     "status": "completed"
    },
    "tags": []
   },
   "outputs": [
    {
     "data": {
      "text/plain": [
       "((17689, 6), (17689, 5), (17689, 1))"
      ]
     },
     "execution_count": 2,
     "metadata": {},
     "output_type": "execute_result"
    }
   ],
   "source": [
    "# 데이터셋 분리\n",
    "X = df.drop(columns=['house_value'])\n",
    "y = df[['house_value']]\n",
    "\n",
    "df.shape, X.shape, y.shape"
   ]
  },
  {
   "cell_type": "code",
   "execution_count": 3,
   "id": "ab252bf8",
   "metadata": {
    "execution": {
     "iopub.execute_input": "2022-06-28T16:44:27.784026Z",
     "iopub.status.busy": "2022-06-28T16:44:27.783340Z",
     "iopub.status.idle": "2022-06-28T16:44:27.792474Z",
     "shell.execute_reply": "2022-06-28T16:44:27.791758Z"
    },
    "papermill": {
     "duration": 0.032639,
     "end_time": "2022-06-28T16:44:27.794948",
     "exception": false,
     "start_time": "2022-06-28T16:44:27.762309",
     "status": "completed"
    },
    "tags": []
   },
   "outputs": [],
   "source": [
    "X_train, X_test, y_train, y_test = train_test_split(X, y, random_state=42)"
   ]
  },
  {
   "cell_type": "code",
   "execution_count": 4,
   "id": "d3ea73c0",
   "metadata": {
    "execution": {
     "iopub.execute_input": "2022-06-28T16:44:27.831554Z",
     "iopub.status.busy": "2022-06-28T16:44:27.830881Z",
     "iopub.status.idle": "2022-06-28T16:44:27.842607Z",
     "shell.execute_reply": "2022-06-28T16:44:27.841934Z"
    },
    "papermill": {
     "duration": 0.031883,
     "end_time": "2022-06-28T16:44:27.844902",
     "exception": false,
     "start_time": "2022-06-28T16:44:27.813019",
     "status": "completed"
    },
    "tags": []
   },
   "outputs": [],
   "source": [
    "# 정규화 - Min-Max Scaling\n",
    "scaler=MinMaxScaler()\n",
    "scaler.fit(X_train) # feature data의 train data만 fit\n",
    "scaled_X_train = scaler.transform(X_train)\n",
    "scaled_X_test = scaler.transform(X_test)"
   ]
  },
  {
   "cell_type": "code",
   "execution_count": 5,
   "id": "dc656c2f",
   "metadata": {
    "execution": {
     "iopub.execute_input": "2022-06-28T16:44:27.881359Z",
     "iopub.status.busy": "2022-06-28T16:44:27.880710Z",
     "iopub.status.idle": "2022-06-28T16:44:27.917239Z",
     "shell.execute_reply": "2022-06-28T16:44:27.915975Z"
    },
    "papermill": {
     "duration": 0.060424,
     "end_time": "2022-06-28T16:44:27.921223",
     "exception": false,
     "start_time": "2022-06-28T16:44:27.860799",
     "status": "completed"
    },
    "tags": []
   },
   "outputs": [
    {
     "data": {
      "text/plain": [
       "0.05038517013198185"
      ]
     },
     "execution_count": 5,
     "metadata": {},
     "output_type": "execute_result"
    }
   ],
   "source": [
    "# 모델 적용/예측 및 정확도\n",
    "model=ElasticNet()\n",
    "model.fit(scaled_X_train, y_train)\n",
    "pred_x = model.predict(scaled_X_train)\n",
    "model.score(scaled_X_train, y_train)"
   ]
  },
  {
   "cell_type": "code",
   "execution_count": 6,
   "id": "9e33fefc",
   "metadata": {
    "execution": {
     "iopub.execute_input": "2022-06-28T16:44:28.037117Z",
     "iopub.status.busy": "2022-06-28T16:44:28.036777Z",
     "iopub.status.idle": "2022-06-28T16:44:28.052380Z",
     "shell.execute_reply": "2022-06-28T16:44:28.051485Z"
    },
    "papermill": {
     "duration": 0.046547,
     "end_time": "2022-06-28T16:44:28.055383",
     "exception": false,
     "start_time": "2022-06-28T16:44:28.008836",
     "status": "completed"
    },
    "tags": []
   },
   "outputs": [
    {
     "data": {
      "text/plain": [
       "0.05184820641905341"
      ]
     },
     "execution_count": 6,
     "metadata": {},
     "output_type": "execute_result"
    }
   ],
   "source": [
    "pred_y = model.predict(scaled_X_test)\n",
    "model.score(scaled_X_test, y_test)"
   ]
  },
  {
   "cell_type": "code",
   "execution_count": 7,
   "id": "1e547940",
   "metadata": {
    "execution": {
     "iopub.execute_input": "2022-06-28T16:44:28.118583Z",
     "iopub.status.busy": "2022-06-28T16:44:28.118072Z",
     "iopub.status.idle": "2022-06-28T16:44:28.144736Z",
     "shell.execute_reply": "2022-06-28T16:44:28.143487Z"
    },
    "papermill": {
     "duration": 0.063039,
     "end_time": "2022-06-28T16:44:28.149731",
     "exception": false,
     "start_time": "2022-06-28T16:44:28.086692",
     "status": "completed"
    },
    "tags": []
   },
   "outputs": [
    {
     "name": "stdout",
     "output_type": "stream",
     "text": [
      "Train RMSE : 93009 \n",
      "Test  RMSE : 93090\n"
     ]
    }
   ],
   "source": [
    "# RMSE(Root Mean Squared Error)\n",
    "rmse_train=np.sqrt(mean_squared_error(y_train,pred_x)) \n",
    "rmse_test=np.sqrt(mean_squared_error(y_test,pred_y)) \n",
    "print('Train RMSE :', round(rmse_train), '\\nTest  RMSE :', round(rmse_test))"
   ]
  },
  {
   "cell_type": "code",
   "execution_count": 8,
   "id": "735d7b20",
   "metadata": {
    "execution": {
     "iopub.execute_input": "2022-06-28T16:44:28.191766Z",
     "iopub.status.busy": "2022-06-28T16:44:28.191482Z",
     "iopub.status.idle": "2022-06-28T16:44:30.616837Z",
     "shell.execute_reply": "2022-06-28T16:44:30.615120Z"
    },
    "papermill": {
     "duration": 2.447242,
     "end_time": "2022-06-28T16:44:30.621563",
     "exception": false,
     "start_time": "2022-06-28T16:44:28.174321",
     "status": "completed"
    },
    "tags": []
   },
   "outputs": [
    {
     "data": {
      "text/plain": [
       "GridSearchCV(cv=5, estimator=ElasticNet(),\n",
       "             param_grid={'alpha': [0.0, 1e-06, 1e-05, 0.0001, 0.001, 0.01, 0.1,\n",
       "                                   0.5, 1.0, 2.0, 3.0]},\n",
       "             return_train_score=True)"
      ]
     },
     "execution_count": 8,
     "metadata": {},
     "output_type": "execute_result"
    }
   ],
   "source": [
    "# Hyperparameter Tuning\n",
    "# Grid Search\n",
    "g_param = {'alpha':[0.0,1e-6,1e-5,1e-4,1e-3,1e-2,0.1,0.5,1.0,2.0,3.0]} \n",
    "g_search= GridSearchCV(ElasticNet(), g_param, cv=5, return_train_score=True) \n",
    "g_search.fit(scaled_X_train, y_train)"
   ]
  },
  {
   "cell_type": "code",
   "execution_count": 9,
   "id": "d4c48418",
   "metadata": {
    "execution": {
     "iopub.execute_input": "2022-06-28T16:44:30.725121Z",
     "iopub.status.busy": "2022-06-28T16:44:30.724785Z",
     "iopub.status.idle": "2022-06-28T16:44:30.740876Z",
     "shell.execute_reply": "2022-06-28T16:44:30.737586Z"
    },
    "papermill": {
     "duration": 0.057725,
     "end_time": "2022-06-28T16:44:30.747502",
     "exception": false,
     "start_time": "2022-06-28T16:44:30.689777",
     "status": "completed"
    },
    "tags": []
   },
   "outputs": [
    {
     "name": "stdout",
     "output_type": "stream",
     "text": [
      "Best Parameter : {'alpha': 1e-05}\n",
      "Best Score : 0.5703\n",
      "Test Score : 0.5826\n"
     ]
    }
   ],
   "source": [
    "print('Best Parameter :', g_search.best_params_) \n",
    "print('Best Score :',round(g_search.best_score_,4)) \n",
    "print('Test Score :',round(g_search.score(scaled_X_test, y_test),4))"
   ]
  },
  {
   "cell_type": "code",
   "execution_count": 10,
   "id": "c9496553",
   "metadata": {
    "execution": {
     "iopub.execute_input": "2022-06-28T16:44:30.819318Z",
     "iopub.status.busy": "2022-06-28T16:44:30.818814Z",
     "iopub.status.idle": "2022-06-28T16:44:53.674092Z",
     "shell.execute_reply": "2022-06-28T16:44:53.673253Z"
    },
    "papermill": {
     "duration": 22.896569,
     "end_time": "2022-06-28T16:44:53.679540",
     "exception": false,
     "start_time": "2022-06-28T16:44:30.782971",
     "status": "completed"
    },
    "tags": []
   },
   "outputs": [
    {
     "data": {
      "text/plain": [
       "RandomizedSearchCV(cv=5, estimator=ElasticNet(), n_iter=100,\n",
       "                   param_distributions={'alpha': <scipy.stats._distn_infrastructure.rv_frozen object at 0x7f30a78b6250>},\n",
       "                   return_train_score=True)"
      ]
     },
     "execution_count": 10,
     "metadata": {},
     "output_type": "execute_result"
    }
   ],
   "source": [
    "# Randomized Search \n",
    "r_param={'alpha':randint(low=1e-5, high=10)} \n",
    "r_search=RandomizedSearchCV(ElasticNet(), param_distributions=r_param, cv=5, n_iter=100, return_train_score=True) \n",
    "r_search.fit(scaled_X_train, y_train)"
   ]
  },
  {
   "cell_type": "code",
   "execution_count": 11,
   "id": "fee4e235",
   "metadata": {
    "execution": {
     "iopub.execute_input": "2022-06-28T16:44:53.774385Z",
     "iopub.status.busy": "2022-06-28T16:44:53.773903Z",
     "iopub.status.idle": "2022-06-28T16:44:53.792988Z",
     "shell.execute_reply": "2022-06-28T16:44:53.791997Z"
    },
    "papermill": {
     "duration": 0.068402,
     "end_time": "2022-06-28T16:44:53.800199",
     "exception": false,
     "start_time": "2022-06-28T16:44:53.731797",
     "status": "completed"
    },
    "tags": []
   },
   "outputs": [
    {
     "name": "stdout",
     "output_type": "stream",
     "text": [
      "Best Parameter : {'alpha': 0}\n",
      "Best Score : 0.5703\n",
      "Test Score : 0.5826\n"
     ]
    }
   ],
   "source": [
    "print('Best Parameter :', r_search.best_params_) \n",
    "print('Best Score :',round(r_search.best_score_,4)) \n",
    "print('Test Score :',round(r_search.score(scaled_X_test, y_test),4))"
   ]
  }
 ],
 "metadata": {
  "kernelspec": {
   "display_name": "Python 3",
   "language": "python",
   "name": "python3"
  },
  "language_info": {
   "codemirror_mode": {
    "name": "ipython",
    "version": 3
   },
   "file_extension": ".py",
   "mimetype": "text/x-python",
   "name": "python",
   "nbconvert_exporter": "python",
   "pygments_lexer": "ipython3",
   "version": "3.7.12"
  },
  "papermill": {
   "default_parameters": {},
   "duration": 43.229851,
   "end_time": "2022-06-28T16:44:54.766012",
   "environment_variables": {},
   "exception": null,
   "input_path": "__notebook__.ipynb",
   "output_path": "__notebook__.ipynb",
   "parameters": {},
   "start_time": "2022-06-28T16:44:11.536161",
   "version": "2.3.4"
  }
 },
 "nbformat": 4,
 "nbformat_minor": 5
}
