{
 "cells": [
  {
   "cell_type": "markdown",
   "id": "cd962b73",
   "metadata": {
    "papermill": {
     "duration": 0.018304,
     "end_time": "2022-06-28T16:02:54.660886",
     "exception": false,
     "start_time": "2022-06-28T16:02:54.642582",
     "status": "completed"
    },
    "tags": []
   },
   "source": [
    "### sklearn.linear_model.LinearRegression\n",
    "#### 연속형 원인변수가 연속형 결과변수에 영향을 미치는지를 분석하여 레이블 변수 예측\n",
    "\n",
    "#### 평가지표\n",
    "- SSE : 오차제곱합(예측값과 실제값의 차이의 제곱합)\n",
    "- AE : 평균오차(예측값과 평균의 차이로, 예측값이 평균적으로 미달/초과하는지 확인)\n",
    "- MSE : 평균제곱오차(예측오차 제곱합의 평균)\n",
    "- MAE : 평균절대오차(예측오차 절대값의 평균)\n",
    "- RMSE : 평균제곱근오차(종속변수와 단위가 같아 설명이 쉽고 표준편차와 같이 예측에 대한 오차 정보 제공)\n",
    "- MAPE : 평균절대백분율오차(실제값에 대한 오차의 백분율로, 시계열분석에서 예측 성능지표로 자주 활용)\n",
    "\n",
    "##### LinearRegression(*, fit_intercept=True, normalize=False, copy_X=True, n_jobs=None, positive=False)"
   ]
  },
  {
   "cell_type": "markdown",
   "id": "7d400421",
   "metadata": {
    "papermill": {
     "duration": 0.016872,
     "end_time": "2022-06-28T16:02:54.695133",
     "exception": false,
     "start_time": "2022-06-28T16:02:54.678261",
     "status": "completed"
    },
    "tags": []
   },
   "source": [
    "# 분석 코드"
   ]
  },
  {
   "cell_type": "code",
   "execution_count": 1,
   "id": "e4c73f66",
   "metadata": {
    "execution": {
     "iopub.execute_input": "2022-06-28T16:02:54.732173Z",
     "iopub.status.busy": "2022-06-28T16:02:54.731114Z",
     "iopub.status.idle": "2022-06-28T16:02:56.026375Z",
     "shell.execute_reply": "2022-06-28T16:02:56.025508Z"
    },
    "papermill": {
     "duration": 1.316373,
     "end_time": "2022-06-28T16:02:56.028724",
     "exception": false,
     "start_time": "2022-06-28T16:02:54.712351",
     "status": "completed"
    },
    "tags": []
   },
   "outputs": [
    {
     "data": {
      "text/html": [
       "<div>\n",
       "<style scoped>\n",
       "    .dataframe tbody tr th:only-of-type {\n",
       "        vertical-align: middle;\n",
       "    }\n",
       "\n",
       "    .dataframe tbody tr th {\n",
       "        vertical-align: top;\n",
       "    }\n",
       "\n",
       "    .dataframe thead th {\n",
       "        text-align: right;\n",
       "    }\n",
       "</style>\n",
       "<table border=\"1\" class=\"dataframe\">\n",
       "  <thead>\n",
       "    <tr style=\"text-align: right;\">\n",
       "      <th></th>\n",
       "      <th>housing_age</th>\n",
       "      <th>income</th>\n",
       "      <th>bedrooms</th>\n",
       "      <th>households</th>\n",
       "      <th>rooms</th>\n",
       "      <th>house_value</th>\n",
       "    </tr>\n",
       "  </thead>\n",
       "  <tbody>\n",
       "    <tr>\n",
       "      <th>0</th>\n",
       "      <td>23</td>\n",
       "      <td>6.7770</td>\n",
       "      <td>0.141112</td>\n",
       "      <td>2.442244</td>\n",
       "      <td>8.103960</td>\n",
       "      <td>500000</td>\n",
       "    </tr>\n",
       "    <tr>\n",
       "      <th>1</th>\n",
       "      <td>49</td>\n",
       "      <td>6.0199</td>\n",
       "      <td>0.160984</td>\n",
       "      <td>2.726688</td>\n",
       "      <td>5.752412</td>\n",
       "      <td>500000</td>\n",
       "    </tr>\n",
       "    <tr>\n",
       "      <th>2</th>\n",
       "      <td>35</td>\n",
       "      <td>5.1155</td>\n",
       "      <td>0.249061</td>\n",
       "      <td>1.902676</td>\n",
       "      <td>3.888078</td>\n",
       "      <td>500000</td>\n",
       "    </tr>\n",
       "    <tr>\n",
       "      <th>3</th>\n",
       "      <td>32</td>\n",
       "      <td>4.7109</td>\n",
       "      <td>0.231383</td>\n",
       "      <td>1.913669</td>\n",
       "      <td>4.508393</td>\n",
       "      <td>500000</td>\n",
       "    </tr>\n",
       "    <tr>\n",
       "      <th>4</th>\n",
       "      <td>21</td>\n",
       "      <td>4.5625</td>\n",
       "      <td>0.255583</td>\n",
       "      <td>3.092664</td>\n",
       "      <td>4.667954</td>\n",
       "      <td>500000</td>\n",
       "    </tr>\n",
       "  </tbody>\n",
       "</table>\n",
       "</div>"
      ],
      "text/plain": [
       "   housing_age  income  bedrooms  households     rooms  house_value\n",
       "0           23  6.7770  0.141112    2.442244  8.103960       500000\n",
       "1           49  6.0199  0.160984    2.726688  5.752412       500000\n",
       "2           35  5.1155  0.249061    1.902676  3.888078       500000\n",
       "3           32  4.7109  0.231383    1.913669  4.508393       500000\n",
       "4           21  4.5625  0.255583    3.092664  4.667954       500000"
      ]
     },
     "execution_count": 1,
     "metadata": {},
     "output_type": "execute_result"
    }
   ],
   "source": [
    "# 라이브러리 및 데이터 로드\n",
    "import warnings\n",
    "warnings.filterwarnings('ignore')\n",
    "import pandas as pd\n",
    "import numpy as np\n",
    "import matplotlib.pyplot as plt\n",
    "from scipy.stats import randint\n",
    "from sklearn.model_selection import train_test_split, GridSearchCV, RandomizedSearchCV\n",
    "from sklearn.preprocessing import MinMaxScaler, StandardScaler\n",
    "from sklearn.linear_model import LinearRegression\n",
    "from sklearn.metrics import confusion_matrix, classification_report, mean_squared_error\n",
    "\n",
    "df = pd.read_csv('../input/big-data-certification-study/house_price.csv', encoding='utf-8')\n",
    "df.head()"
   ]
  },
  {
   "cell_type": "code",
   "execution_count": 2,
   "id": "07be130d",
   "metadata": {
    "execution": {
     "iopub.execute_input": "2022-06-28T16:02:56.066906Z",
     "iopub.status.busy": "2022-06-28T16:02:56.066322Z",
     "iopub.status.idle": "2022-06-28T16:02:56.079390Z",
     "shell.execute_reply": "2022-06-28T16:02:56.078810Z"
    },
    "papermill": {
     "duration": 0.03436,
     "end_time": "2022-06-28T16:02:56.081217",
     "exception": false,
     "start_time": "2022-06-28T16:02:56.046857",
     "status": "completed"
    },
    "tags": []
   },
   "outputs": [
    {
     "data": {
      "text/plain": [
       "((17689, 6), (17689, 5), (17689, 1))"
      ]
     },
     "execution_count": 2,
     "metadata": {},
     "output_type": "execute_result"
    }
   ],
   "source": [
    "# 데이터셋 분리\n",
    "X = df.drop(columns=['house_value'])\n",
    "y = df[['house_value']]\n",
    "\n",
    "df.shape, X.shape, y.shape"
   ]
  },
  {
   "cell_type": "code",
   "execution_count": 3,
   "id": "97468022",
   "metadata": {
    "execution": {
     "iopub.execute_input": "2022-06-28T16:02:56.119048Z",
     "iopub.status.busy": "2022-06-28T16:02:56.118609Z",
     "iopub.status.idle": "2022-06-28T16:02:56.126078Z",
     "shell.execute_reply": "2022-06-28T16:02:56.125427Z"
    },
    "papermill": {
     "duration": 0.028879,
     "end_time": "2022-06-28T16:02:56.128021",
     "exception": false,
     "start_time": "2022-06-28T16:02:56.099142",
     "status": "completed"
    },
    "tags": []
   },
   "outputs": [],
   "source": [
    "X_train, X_test, y_train, y_test = train_test_split(X, y, random_state=42)\n",
    "# stratify : y 범주의 비율에 따라 데이터 분리"
   ]
  },
  {
   "cell_type": "markdown",
   "id": "f4f43d67",
   "metadata": {
    "papermill": {
     "duration": 0.017834,
     "end_time": "2022-06-28T16:02:56.163788",
     "exception": false,
     "start_time": "2022-06-28T16:02:56.145954",
     "status": "completed"
    },
    "tags": []
   },
   "source": [
    "## statsmodels 적용\n",
    "- 각종 통계량 및 지표 확인 모델"
   ]
  },
  {
   "cell_type": "code",
   "execution_count": 4,
   "id": "7f4e5688",
   "metadata": {
    "execution": {
     "iopub.execute_input": "2022-06-28T16:02:56.202343Z",
     "iopub.status.busy": "2022-06-28T16:02:56.201784Z",
     "iopub.status.idle": "2022-06-28T16:02:56.985119Z",
     "shell.execute_reply": "2022-06-28T16:02:56.984232Z"
    },
    "papermill": {
     "duration": 0.805204,
     "end_time": "2022-06-28T16:02:56.987555",
     "exception": false,
     "start_time": "2022-06-28T16:02:56.182351",
     "status": "completed"
    },
    "tags": []
   },
   "outputs": [
    {
     "data": {
      "text/html": [
       "<div>\n",
       "<style scoped>\n",
       "    .dataframe tbody tr th:only-of-type {\n",
       "        vertical-align: middle;\n",
       "    }\n",
       "\n",
       "    .dataframe tbody tr th {\n",
       "        vertical-align: top;\n",
       "    }\n",
       "\n",
       "    .dataframe thead th {\n",
       "        text-align: right;\n",
       "    }\n",
       "</style>\n",
       "<table border=\"1\" class=\"dataframe\">\n",
       "  <thead>\n",
       "    <tr style=\"text-align: right;\">\n",
       "      <th></th>\n",
       "      <th>const</th>\n",
       "      <th>housing_age</th>\n",
       "      <th>income</th>\n",
       "      <th>bedrooms</th>\n",
       "      <th>households</th>\n",
       "      <th>rooms</th>\n",
       "    </tr>\n",
       "  </thead>\n",
       "  <tbody>\n",
       "    <tr>\n",
       "      <th>17235</th>\n",
       "      <td>1.0</td>\n",
       "      <td>12</td>\n",
       "      <td>2.0577</td>\n",
       "      <td>0.185449</td>\n",
       "      <td>3.945455</td>\n",
       "      <td>6.372727</td>\n",
       "    </tr>\n",
       "    <tr>\n",
       "      <th>14220</th>\n",
       "      <td>1.0</td>\n",
       "      <td>37</td>\n",
       "      <td>4.0000</td>\n",
       "      <td>0.171566</td>\n",
       "      <td>2.741497</td>\n",
       "      <td>6.363946</td>\n",
       "    </tr>\n",
       "    <tr>\n",
       "      <th>3280</th>\n",
       "      <td>1.0</td>\n",
       "      <td>24</td>\n",
       "      <td>5.8904</td>\n",
       "      <td>0.154485</td>\n",
       "      <td>2.969325</td>\n",
       "      <td>6.651840</td>\n",
       "    </tr>\n",
       "    <tr>\n",
       "      <th>15279</th>\n",
       "      <td>1.0</td>\n",
       "      <td>17</td>\n",
       "      <td>0.9393</td>\n",
       "      <td>0.241460</td>\n",
       "      <td>3.257256</td>\n",
       "      <td>4.518470</td>\n",
       "    </tr>\n",
       "    <tr>\n",
       "      <th>14727</th>\n",
       "      <td>1.0</td>\n",
       "      <td>16</td>\n",
       "      <td>2.7143</td>\n",
       "      <td>0.194977</td>\n",
       "      <td>2.679287</td>\n",
       "      <td>6.385301</td>\n",
       "    </tr>\n",
       "  </tbody>\n",
       "</table>\n",
       "</div>"
      ],
      "text/plain": [
       "       const  housing_age  income  bedrooms  households     rooms\n",
       "17235    1.0           12  2.0577  0.185449    3.945455  6.372727\n",
       "14220    1.0           37  4.0000  0.171566    2.741497  6.363946\n",
       "3280     1.0           24  5.8904  0.154485    2.969325  6.651840\n",
       "15279    1.0           17  0.9393  0.241460    3.257256  4.518470\n",
       "14727    1.0           16  2.7143  0.194977    2.679287  6.385301"
      ]
     },
     "execution_count": 4,
     "metadata": {},
     "output_type": "execute_result"
    }
   ],
   "source": [
    "import statsmodels.api as sm\n",
    "x_train_new=sm.add_constant(X_train)\n",
    "x_test_new=sm.add_constant(X_test)\n",
    "x_train_new.head()"
   ]
  },
  {
   "cell_type": "code",
   "execution_count": 5,
   "id": "16d7c03d",
   "metadata": {
    "execution": {
     "iopub.execute_input": "2022-06-28T16:02:57.028276Z",
     "iopub.status.busy": "2022-06-28T16:02:57.027157Z",
     "iopub.status.idle": "2022-06-28T16:02:57.075288Z",
     "shell.execute_reply": "2022-06-28T16:02:57.074279Z"
    },
    "papermill": {
     "duration": 0.07205,
     "end_time": "2022-06-28T16:02:57.079673",
     "exception": false,
     "start_time": "2022-06-28T16:02:57.007623",
     "status": "completed"
    },
    "tags": []
   },
   "outputs": [
    {
     "name": "stdout",
     "output_type": "stream",
     "text": [
      "                            OLS Regression Results                            \n",
      "==============================================================================\n",
      "Dep. Variable:            house_value   R-squared:                       0.571\n",
      "Model:                            OLS   Adj. R-squared:                  0.571\n",
      "Method:                 Least Squares   F-statistic:                     3525.\n",
      "Date:                Tue, 28 Jun 2022   Prob (F-statistic):               0.00\n",
      "Time:                        16:02:57   Log-Likelihood:            -1.6533e+05\n",
      "No. Observations:               13266   AIC:                         3.307e+05\n",
      "Df Residuals:                   13260   BIC:                         3.307e+05\n",
      "Df Model:                           5                                         \n",
      "Covariance Type:            nonrobust                                         \n",
      "===============================================================================\n",
      "                  coef    std err          t      P>|t|      [0.025      0.975]\n",
      "-------------------------------------------------------------------------------\n",
      "const       -1.092e+05   9108.171    -11.985      0.000   -1.27e+05   -9.13e+04\n",
      "housing_age  1406.3643     50.490     27.854      0.000    1307.397    1505.332\n",
      "income       5.699e+04    488.592    116.636      0.000     5.6e+04    5.79e+04\n",
      "bedrooms     6.312e+05   1.98e+04     31.849      0.000    5.92e+05     6.7e+05\n",
      "households  -2.708e+04    754.708    -35.880      0.000   -2.86e+04   -2.56e+04\n",
      "rooms        -792.5064    831.170     -0.953      0.340   -2421.718     836.705\n",
      "==============================================================================\n",
      "Omnibus:                     2009.923   Durbin-Watson:                   2.006\n",
      "Prob(Omnibus):                  0.000   Jarque-Bera (JB):             4958.875\n",
      "Skew:                           0.858   Prob(JB):                         0.00\n",
      "Kurtosis:                       5.455   Cond. No.                     1.20e+03\n",
      "==============================================================================\n",
      "\n",
      "Notes:\n",
      "[1] Standard Errors assume that the covariance matrix of the errors is correctly specified.\n",
      "[2] The condition number is large, 1.2e+03. This might indicate that there are\n",
      "strong multicollinearity or other numerical problems.\n"
     ]
    }
   ],
   "source": [
    "multi_model=sm.OLS(y_train,x_train_new).fit()\n",
    "print(multi_model.summary())"
   ]
  },
  {
   "cell_type": "markdown",
   "id": "ce436d3b",
   "metadata": {
    "papermill": {
     "duration": 0.034431,
     "end_time": "2022-06-28T16:02:57.149477",
     "exception": false,
     "start_time": "2022-06-28T16:02:57.115046",
     "status": "completed"
    },
    "tags": []
   },
   "source": [
    "- R-squared(설명력) : 54.6% 수준으로 회귀직선(예측값)과 실제값 일치\n",
    "- coef : X 변수가 1 증가할 때 Y 변수가 변화하는 정도로, 기울기\n",
    "- p<|t| : 통계적으로 유의한가를 검증한 결과로, p-value가 0.05보다 작을 경우 유의한 영향을 미치는 변수로 해석 가능"
   ]
  },
  {
   "cell_type": "markdown",
   "id": "fdfd01df",
   "metadata": {
    "papermill": {
     "duration": 0.018757,
     "end_time": "2022-06-28T16:02:57.202058",
     "exception": false,
     "start_time": "2022-06-28T16:02:57.183301",
     "status": "completed"
    },
    "tags": []
   },
   "source": [
    "## sklearn 적용"
   ]
  },
  {
   "cell_type": "code",
   "execution_count": 6,
   "id": "83e494b7",
   "metadata": {
    "execution": {
     "iopub.execute_input": "2022-06-28T16:02:57.241714Z",
     "iopub.status.busy": "2022-06-28T16:02:57.241431Z",
     "iopub.status.idle": "2022-06-28T16:02:57.253435Z",
     "shell.execute_reply": "2022-06-28T16:02:57.252633Z"
    },
    "papermill": {
     "duration": 0.03486,
     "end_time": "2022-06-28T16:02:57.255831",
     "exception": false,
     "start_time": "2022-06-28T16:02:57.220971",
     "status": "completed"
    },
    "tags": []
   },
   "outputs": [],
   "source": [
    "# 정규화 - Min-Max Scaling\n",
    "scaler=MinMaxScaler()\n",
    "scaler.fit(X_train) # feature data의 train data만 fit\n",
    "scaled_X_train = scaler.transform(X_train)\n",
    "scaled_X_test = scaler.transform(X_test)"
   ]
  },
  {
   "cell_type": "code",
   "execution_count": 7,
   "id": "52638b3b",
   "metadata": {
    "execution": {
     "iopub.execute_input": "2022-06-28T16:02:57.297033Z",
     "iopub.status.busy": "2022-06-28T16:02:57.296458Z",
     "iopub.status.idle": "2022-06-28T16:02:57.332655Z",
     "shell.execute_reply": "2022-06-28T16:02:57.331815Z"
    },
    "papermill": {
     "duration": 0.060627,
     "end_time": "2022-06-28T16:02:57.335674",
     "exception": false,
     "start_time": "2022-06-28T16:02:57.275047",
     "status": "completed"
    },
    "tags": []
   },
   "outputs": [
    {
     "data": {
      "text/plain": [
       "0.5706921210926263"
      ]
     },
     "execution_count": 7,
     "metadata": {},
     "output_type": "execute_result"
    }
   ],
   "source": [
    "# 모델 적용/예측 및 정확도\n",
    "model=LinearRegression()\n",
    "model.fit(scaled_X_train, y_train)\n",
    "pred_x = model.predict(scaled_X_train)\n",
    "model.score(scaled_X_train, y_train)"
   ]
  },
  {
   "cell_type": "code",
   "execution_count": 8,
   "id": "4a7ed504",
   "metadata": {
    "execution": {
     "iopub.execute_input": "2022-06-28T16:02:57.410081Z",
     "iopub.status.busy": "2022-06-28T16:02:57.409628Z",
     "iopub.status.idle": "2022-06-28T16:02:57.428096Z",
     "shell.execute_reply": "2022-06-28T16:02:57.427127Z"
    },
    "papermill": {
     "duration": 0.058886,
     "end_time": "2022-06-28T16:02:57.431811",
     "exception": false,
     "start_time": "2022-06-28T16:02:57.372925",
     "status": "completed"
    },
    "tags": []
   },
   "outputs": [
    {
     "data": {
      "text/plain": [
       "0.5826083517811865"
      ]
     },
     "execution_count": 8,
     "metadata": {},
     "output_type": "execute_result"
    }
   ],
   "source": [
    "pred_y = model.predict(scaled_X_test)\n",
    "model.score(scaled_X_test, y_test)"
   ]
  },
  {
   "cell_type": "code",
   "execution_count": 9,
   "id": "d6a4df81",
   "metadata": {
    "execution": {
     "iopub.execute_input": "2022-06-28T16:02:57.506480Z",
     "iopub.status.busy": "2022-06-28T16:02:57.506028Z",
     "iopub.status.idle": "2022-06-28T16:02:57.525712Z",
     "shell.execute_reply": "2022-06-28T16:02:57.524571Z"
    },
    "papermill": {
     "duration": 0.060964,
     "end_time": "2022-06-28T16:02:57.529229",
     "exception": false,
     "start_time": "2022-06-28T16:02:57.468265",
     "status": "completed"
    },
    "tags": []
   },
   "outputs": [
    {
     "name": "stdout",
     "output_type": "stream",
     "text": [
      "Train RMSE : 62537 \n",
      "Test  RMSE : 61764\n"
     ]
    }
   ],
   "source": [
    "# RMSE(Root Mean Squared Error)\n",
    "rmse_train=np.sqrt(mean_squared_error(y_train,pred_x)) \n",
    "rmse_test=np.sqrt(mean_squared_error(y_test,pred_y)) \n",
    "print('Train RMSE :', round(rmse_train), '\\nTest  RMSE :', round(rmse_test))"
   ]
  },
  {
   "cell_type": "code",
   "execution_count": 10,
   "id": "bace1627",
   "metadata": {
    "execution": {
     "iopub.execute_input": "2022-06-28T16:02:57.576840Z",
     "iopub.status.busy": "2022-06-28T16:02:57.576576Z",
     "iopub.status.idle": "2022-06-28T16:02:57.585900Z",
     "shell.execute_reply": "2022-06-28T16:02:57.584973Z"
    },
    "papermill": {
     "duration": 0.032817,
     "end_time": "2022-06-28T16:02:57.588065",
     "exception": false,
     "start_time": "2022-06-28T16:02:57.555248",
     "status": "completed"
    },
    "tags": []
   },
   "outputs": [
    {
     "data": {
      "text/plain": [
       "46218.35635910518"
      ]
     },
     "execution_count": 10,
     "metadata": {},
     "output_type": "execute_result"
    }
   ],
   "source": [
    "# MAE(Mean Absolute Error)\n",
    "from sklearn.metrics import mean_absolute_error\n",
    "mean_absolute_error(y_test, pred_y)"
   ]
  },
  {
   "cell_type": "code",
   "execution_count": 11,
   "id": "4313a492",
   "metadata": {
    "execution": {
     "iopub.execute_input": "2022-06-28T16:02:57.630790Z",
     "iopub.status.busy": "2022-06-28T16:02:57.630479Z",
     "iopub.status.idle": "2022-06-28T16:02:57.637936Z",
     "shell.execute_reply": "2022-06-28T16:02:57.637052Z"
    },
    "papermill": {
     "duration": 0.031288,
     "end_time": "2022-06-28T16:02:57.639960",
     "exception": false,
     "start_time": "2022-06-28T16:02:57.608672",
     "status": "completed"
    },
    "tags": []
   },
   "outputs": [
    {
     "data": {
      "text/plain": [
       "3814773021.730826"
      ]
     },
     "execution_count": 11,
     "metadata": {},
     "output_type": "execute_result"
    }
   ],
   "source": [
    "# MSE(Mean Squared Error)\n",
    "mean_squared_error(y_test, pred_y)"
   ]
  },
  {
   "cell_type": "code",
   "execution_count": 12,
   "id": "ec6c1943",
   "metadata": {
    "execution": {
     "iopub.execute_input": "2022-06-28T16:02:57.684192Z",
     "iopub.status.busy": "2022-06-28T16:02:57.683886Z",
     "iopub.status.idle": "2022-06-28T16:02:57.694223Z",
     "shell.execute_reply": "2022-06-28T16:02:57.693275Z"
    },
    "papermill": {
     "duration": 0.034624,
     "end_time": "2022-06-28T16:02:57.696367",
     "exception": false,
     "start_time": "2022-06-28T16:02:57.661743",
     "status": "completed"
    },
    "tags": []
   },
   "outputs": [
    {
     "data": {
      "text/plain": [
       "house_value    30.33032\n",
       "dtype: float64"
      ]
     },
     "execution_count": 12,
     "metadata": {},
     "output_type": "execute_result"
    }
   ],
   "source": [
    "# MAPE(Mean Absolute Percentage Error)\n",
    "abs((y_test-pred_y)/y_test).mean()*100"
   ]
  },
  {
   "cell_type": "code",
   "execution_count": 13,
   "id": "8cbc9db5",
   "metadata": {
    "execution": {
     "iopub.execute_input": "2022-06-28T16:02:57.741291Z",
     "iopub.status.busy": "2022-06-28T16:02:57.740791Z",
     "iopub.status.idle": "2022-06-28T16:02:57.748958Z",
     "shell.execute_reply": "2022-06-28T16:02:57.748313Z"
    },
    "papermill": {
     "duration": 0.033134,
     "end_time": "2022-06-28T16:02:57.750904",
     "exception": false,
     "start_time": "2022-06-28T16:02:57.717770",
     "status": "completed"
    },
    "tags": []
   },
   "outputs": [
    {
     "data": {
      "text/plain": [
       "house_value   -12.178049\n",
       "dtype: float64"
      ]
     },
     "execution_count": 13,
     "metadata": {},
     "output_type": "execute_result"
    }
   ],
   "source": [
    "# MPE(Mean Percentage Error)\n",
    "((y_test-pred_y)/y_test).mean()*100"
   ]
  }
 ],
 "metadata": {
  "kernelspec": {
   "display_name": "Python 3",
   "language": "python",
   "name": "python3"
  },
  "language_info": {
   "codemirror_mode": {
    "name": "ipython",
    "version": 3
   },
   "file_extension": ".py",
   "mimetype": "text/x-python",
   "name": "python",
   "nbconvert_exporter": "python",
   "pygments_lexer": "ipython3",
   "version": "3.7.12"
  },
  "papermill": {
   "default_parameters": {},
   "duration": 14.183307,
   "end_time": "2022-06-28T16:02:58.595562",
   "environment_variables": {},
   "exception": null,
   "input_path": "__notebook__.ipynb",
   "output_path": "__notebook__.ipynb",
   "parameters": {},
   "start_time": "2022-06-28T16:02:44.412255",
   "version": "2.3.4"
  }
 },
 "nbformat": 4,
 "nbformat_minor": 5
}
