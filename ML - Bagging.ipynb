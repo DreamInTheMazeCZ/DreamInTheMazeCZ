{
 "cells": [
  {
   "cell_type": "markdown",
   "id": "69a2c50b",
   "metadata": {
    "papermill": {
     "duration": 0.012116,
     "end_time": "2022-06-27T15:29:05.886094",
     "exception": false,
     "start_time": "2022-06-27T15:29:05.873978",
     "status": "completed"
    },
    "tags": []
   },
   "source": [
    "### sklearn.ensemble.BaggingClassifier\n",
    "### sklearn.ensemble.BaggingRegressor\n",
    "- 학습데이터에 대해 여러 개의 부트스트랩(Bootstrap) 데이터를 생성하고, 각 부트스트랩 데이터에 하나 또는 여러 알고리즘을 학습시킨 후 산출된 결과 중에서 투표 방식을 통해 최종 결과를 선정하는 알고리즘\n",
    "\n",
    "#### 주요 Hyperparameter\n",
    "- n_estimators : 부트스트랩 데이터셋 수\n",
    "\n",
    "##### BaggingClassifier(base_estimator=None, n_estimators=10, *, max_samples=1.0, max_features=1.0, bootstrap=True, bootstrap_features=False, oob_score=False, warm_start=False, n_jobs=None, random_state=None, verbose=0)\n",
    "##### BaggingRegressor(base_estimator=None, n_estimators=10, *, max_samples=1.0, max_features=1.0, bootstrap=True, bootstrap_features=False, oob_score=False, warm_start=False, n_jobs=None, random_state=None, verbose=0)"
   ]
  },
  {
   "cell_type": "markdown",
   "id": "0da9ef05",
   "metadata": {
    "papermill": {
     "duration": 0.010439,
     "end_time": "2022-06-27T15:29:05.907447",
     "exception": false,
     "start_time": "2022-06-27T15:29:05.897008",
     "status": "completed"
    },
    "tags": []
   },
   "source": [
    "# 분석 코드 - Classification"
   ]
  },
  {
   "cell_type": "code",
   "execution_count": 1,
   "id": "e3dbc4a9",
   "metadata": {
    "execution": {
     "iopub.execute_input": "2022-06-27T15:29:05.930249Z",
     "iopub.status.busy": "2022-06-27T15:29:05.929791Z",
     "iopub.status.idle": "2022-06-27T15:29:07.287716Z",
     "shell.execute_reply": "2022-06-27T15:29:07.287126Z"
    },
    "papermill": {
     "duration": 1.371759,
     "end_time": "2022-06-27T15:29:07.289679",
     "exception": false,
     "start_time": "2022-06-27T15:29:05.917920",
     "status": "completed"
    },
    "tags": []
   },
   "outputs": [
    {
     "data": {
      "text/html": [
       "<div>\n",
       "<style scoped>\n",
       "    .dataframe tbody tr th:only-of-type {\n",
       "        vertical-align: middle;\n",
       "    }\n",
       "\n",
       "    .dataframe tbody tr th {\n",
       "        vertical-align: top;\n",
       "    }\n",
       "\n",
       "    .dataframe thead th {\n",
       "        text-align: right;\n",
       "    }\n",
       "</style>\n",
       "<table border=\"1\" class=\"dataframe\">\n",
       "  <thead>\n",
       "    <tr style=\"text-align: right;\">\n",
       "      <th></th>\n",
       "      <th>code</th>\n",
       "      <th>Clump_Thickness</th>\n",
       "      <th>Cell_Size</th>\n",
       "      <th>Cell_Shape</th>\n",
       "      <th>Marginal_Adhesion</th>\n",
       "      <th>Single_Epithelial_Cell_Size</th>\n",
       "      <th>Bare_Nuclei</th>\n",
       "      <th>Bland_Chromatin</th>\n",
       "      <th>Normal_Nucleoli</th>\n",
       "      <th>Mitoses</th>\n",
       "      <th>Class</th>\n",
       "    </tr>\n",
       "  </thead>\n",
       "  <tbody>\n",
       "    <tr>\n",
       "      <th>0</th>\n",
       "      <td>1000025</td>\n",
       "      <td>5</td>\n",
       "      <td>1</td>\n",
       "      <td>1</td>\n",
       "      <td>1</td>\n",
       "      <td>2</td>\n",
       "      <td>1</td>\n",
       "      <td>3</td>\n",
       "      <td>1</td>\n",
       "      <td>1</td>\n",
       "      <td>0</td>\n",
       "    </tr>\n",
       "    <tr>\n",
       "      <th>1</th>\n",
       "      <td>1002945</td>\n",
       "      <td>5</td>\n",
       "      <td>4</td>\n",
       "      <td>4</td>\n",
       "      <td>5</td>\n",
       "      <td>7</td>\n",
       "      <td>10</td>\n",
       "      <td>3</td>\n",
       "      <td>2</td>\n",
       "      <td>1</td>\n",
       "      <td>0</td>\n",
       "    </tr>\n",
       "    <tr>\n",
       "      <th>2</th>\n",
       "      <td>1015425</td>\n",
       "      <td>3</td>\n",
       "      <td>1</td>\n",
       "      <td>1</td>\n",
       "      <td>1</td>\n",
       "      <td>2</td>\n",
       "      <td>2</td>\n",
       "      <td>3</td>\n",
       "      <td>1</td>\n",
       "      <td>1</td>\n",
       "      <td>0</td>\n",
       "    </tr>\n",
       "    <tr>\n",
       "      <th>3</th>\n",
       "      <td>1016277</td>\n",
       "      <td>6</td>\n",
       "      <td>8</td>\n",
       "      <td>8</td>\n",
       "      <td>1</td>\n",
       "      <td>3</td>\n",
       "      <td>4</td>\n",
       "      <td>3</td>\n",
       "      <td>7</td>\n",
       "      <td>1</td>\n",
       "      <td>0</td>\n",
       "    </tr>\n",
       "    <tr>\n",
       "      <th>4</th>\n",
       "      <td>1017023</td>\n",
       "      <td>4</td>\n",
       "      <td>1</td>\n",
       "      <td>1</td>\n",
       "      <td>3</td>\n",
       "      <td>2</td>\n",
       "      <td>1</td>\n",
       "      <td>3</td>\n",
       "      <td>1</td>\n",
       "      <td>1</td>\n",
       "      <td>0</td>\n",
       "    </tr>\n",
       "  </tbody>\n",
       "</table>\n",
       "</div>"
      ],
      "text/plain": [
       "      code  Clump_Thickness  Cell_Size  Cell_Shape  Marginal_Adhesion  \\\n",
       "0  1000025                5          1           1                  1   \n",
       "1  1002945                5          4           4                  5   \n",
       "2  1015425                3          1           1                  1   \n",
       "3  1016277                6          8           8                  1   \n",
       "4  1017023                4          1           1                  3   \n",
       "\n",
       "   Single_Epithelial_Cell_Size  Bare_Nuclei  Bland_Chromatin  Normal_Nucleoli  \\\n",
       "0                            2            1                3                1   \n",
       "1                            7           10                3                2   \n",
       "2                            2            2                3                1   \n",
       "3                            3            4                3                7   \n",
       "4                            2            1                3                1   \n",
       "\n",
       "   Mitoses  Class  \n",
       "0        1      0  \n",
       "1        1      0  \n",
       "2        1      0  \n",
       "3        1      0  \n",
       "4        1      0  "
      ]
     },
     "execution_count": 1,
     "metadata": {},
     "output_type": "execute_result"
    }
   ],
   "source": [
    "# 라이브러리 및 데이터 로드\n",
    "import warnings\n",
    "warnings.filterwarnings('ignore')\n",
    "import pandas as pd\n",
    "import numpy as np\n",
    "import matplotlib.pyplot as plt\n",
    "from scipy.stats import randint\n",
    "from sklearn.model_selection import train_test_split, GridSearchCV, RandomizedSearchCV\n",
    "from sklearn.preprocessing import MinMaxScaler, StandardScaler, LabelEncoder\n",
    "from sklearn.svm import SVC, SVR\n",
    "from sklearn.neighbors import KNeighborsRegressor\n",
    "from sklearn.ensemble import BaggingClassifier, BaggingRegressor\n",
    "from sklearn.metrics import classification_report, confusion_matrix, mean_squared_error, accuracy_score\n",
    "\n",
    "df = pd.read_csv('../input/big-data-certification-study/breast-cancer-wisconsin.csv', encoding='utf-8')\n",
    "df.head()"
   ]
  },
  {
   "cell_type": "code",
   "execution_count": 2,
   "id": "40ab8c1b",
   "metadata": {
    "execution": {
     "iopub.execute_input": "2022-06-27T15:29:07.314094Z",
     "iopub.status.busy": "2022-06-27T15:29:07.313616Z",
     "iopub.status.idle": "2022-06-27T15:29:07.332829Z",
     "shell.execute_reply": "2022-06-27T15:29:07.332104Z"
    },
    "papermill": {
     "duration": 0.033782,
     "end_time": "2022-06-27T15:29:07.335050",
     "exception": false,
     "start_time": "2022-06-27T15:29:07.301268",
     "status": "completed"
    },
    "tags": []
   },
   "outputs": [],
   "source": [
    "# 데이터 분리\n",
    "X=df.drop(columns=['code','Class'])\n",
    "y=df[['Class']]\n",
    "X_train,X_test,y_train,y_test=train_test_split(X,y,stratify=y,random_state=42)"
   ]
  },
  {
   "cell_type": "code",
   "execution_count": 3,
   "id": "f708c197",
   "metadata": {
    "execution": {
     "iopub.execute_input": "2022-06-27T15:29:07.358742Z",
     "iopub.status.busy": "2022-06-27T15:29:07.358480Z",
     "iopub.status.idle": "2022-06-27T15:29:07.368060Z",
     "shell.execute_reply": "2022-06-27T15:29:07.367185Z"
    },
    "papermill": {
     "duration": 0.023986,
     "end_time": "2022-06-27T15:29:07.370329",
     "exception": false,
     "start_time": "2022-06-27T15:29:07.346343",
     "status": "completed"
    },
    "tags": []
   },
   "outputs": [],
   "source": [
    "# 정규화\n",
    "scaler=MinMaxScaler()\n",
    "scaler.fit(X_train)\n",
    "mm_X_train=scaler.transform(X_train)\n",
    "mm_X_test=scaler.transform(X_test)"
   ]
  },
  {
   "cell_type": "code",
   "execution_count": 4,
   "id": "9cc0fbdf",
   "metadata": {
    "execution": {
     "iopub.execute_input": "2022-06-27T15:29:07.394745Z",
     "iopub.status.busy": "2022-06-27T15:29:07.394456Z",
     "iopub.status.idle": "2022-06-27T15:29:07.439715Z",
     "shell.execute_reply": "2022-06-27T15:29:07.438839Z"
    },
    "papermill": {
     "duration": 0.060072,
     "end_time": "2022-06-27T15:29:07.441992",
     "exception": false,
     "start_time": "2022-06-27T15:29:07.381920",
     "status": "completed"
    },
    "tags": []
   },
   "outputs": [
    {
     "data": {
      "text/plain": [
       "0.9590643274853801"
      ]
     },
     "execution_count": 4,
     "metadata": {},
     "output_type": "execute_result"
    }
   ],
   "source": [
    "# 모델 적용\n",
    "model=BaggingClassifier(base_estimator=SVC(), n_estimators=10, random_state=0)\n",
    "model.fit(mm_X_train, y_train)\n",
    "y_pred=model.predict(mm_X_test)\n",
    "accuracy_score(y_test,y_pred)"
   ]
  },
  {
   "cell_type": "code",
   "execution_count": 5,
   "id": "4774088a",
   "metadata": {
    "execution": {
     "iopub.execute_input": "2022-06-27T15:29:07.466458Z",
     "iopub.status.busy": "2022-06-27T15:29:07.465823Z",
     "iopub.status.idle": "2022-06-27T15:29:07.478979Z",
     "shell.execute_reply": "2022-06-27T15:29:07.478119Z"
    },
    "papermill": {
     "duration": 0.027698,
     "end_time": "2022-06-27T15:29:07.481089",
     "exception": false,
     "start_time": "2022-06-27T15:29:07.453391",
     "status": "completed"
    },
    "tags": []
   },
   "outputs": [
    {
     "name": "stdout",
     "output_type": "stream",
     "text": [
      "혼동행렬 :\n",
      " [[106   5]\n",
      " [  2  58]] \n",
      " 분류예측 보고서 :\n",
      "               precision    recall  f1-score   support\n",
      "\n",
      "           0       0.98      0.95      0.97       111\n",
      "           1       0.92      0.97      0.94        60\n",
      "\n",
      "    accuracy                           0.96       171\n",
      "   macro avg       0.95      0.96      0.96       171\n",
      "weighted avg       0.96      0.96      0.96       171\n",
      " \n",
      "\n",
      "\n"
     ]
    }
   ],
   "source": [
    "# 혼동행렬, 분류예측 보고서\n",
    "cm_train=confusion_matrix(y_test,y_pred)\n",
    "cfr_train=classification_report(y_test,y_pred)\n",
    "print('혼동행렬 :\\n',cm_train,'\\n',\n",
    "      '분류예측 보고서 :\\n',cfr_train,'\\n\\n')"
   ]
  },
  {
   "cell_type": "markdown",
   "id": "4e98e3bd",
   "metadata": {
    "papermill": {
     "duration": 0.011163,
     "end_time": "2022-06-27T15:29:07.503901",
     "exception": false,
     "start_time": "2022-06-27T15:29:07.492738",
     "status": "completed"
    },
    "tags": []
   },
   "source": [
    "# 분석 코드 - Regression"
   ]
  },
  {
   "cell_type": "code",
   "execution_count": 6,
   "id": "b9515c13",
   "metadata": {
    "execution": {
     "iopub.execute_input": "2022-06-27T15:29:07.529079Z",
     "iopub.status.busy": "2022-06-27T15:29:07.528118Z",
     "iopub.status.idle": "2022-06-27T15:29:07.583779Z",
     "shell.execute_reply": "2022-06-27T15:29:07.582832Z"
    },
    "papermill": {
     "duration": 0.0705,
     "end_time": "2022-06-27T15:29:07.585976",
     "exception": false,
     "start_time": "2022-06-27T15:29:07.515476",
     "status": "completed"
    },
    "tags": []
   },
   "outputs": [
    {
     "data": {
      "text/html": [
       "<div>\n",
       "<style scoped>\n",
       "    .dataframe tbody tr th:only-of-type {\n",
       "        vertical-align: middle;\n",
       "    }\n",
       "\n",
       "    .dataframe tbody tr th {\n",
       "        vertical-align: top;\n",
       "    }\n",
       "\n",
       "    .dataframe thead th {\n",
       "        text-align: right;\n",
       "    }\n",
       "</style>\n",
       "<table border=\"1\" class=\"dataframe\">\n",
       "  <thead>\n",
       "    <tr style=\"text-align: right;\">\n",
       "      <th></th>\n",
       "      <th>housing_age</th>\n",
       "      <th>income</th>\n",
       "      <th>bedrooms</th>\n",
       "      <th>households</th>\n",
       "      <th>rooms</th>\n",
       "      <th>house_value</th>\n",
       "    </tr>\n",
       "  </thead>\n",
       "  <tbody>\n",
       "    <tr>\n",
       "      <th>0</th>\n",
       "      <td>23</td>\n",
       "      <td>6.7770</td>\n",
       "      <td>0.141112</td>\n",
       "      <td>2.442244</td>\n",
       "      <td>8.103960</td>\n",
       "      <td>500000</td>\n",
       "    </tr>\n",
       "    <tr>\n",
       "      <th>1</th>\n",
       "      <td>49</td>\n",
       "      <td>6.0199</td>\n",
       "      <td>0.160984</td>\n",
       "      <td>2.726688</td>\n",
       "      <td>5.752412</td>\n",
       "      <td>500000</td>\n",
       "    </tr>\n",
       "    <tr>\n",
       "      <th>2</th>\n",
       "      <td>35</td>\n",
       "      <td>5.1155</td>\n",
       "      <td>0.249061</td>\n",
       "      <td>1.902676</td>\n",
       "      <td>3.888078</td>\n",
       "      <td>500000</td>\n",
       "    </tr>\n",
       "    <tr>\n",
       "      <th>3</th>\n",
       "      <td>32</td>\n",
       "      <td>4.7109</td>\n",
       "      <td>0.231383</td>\n",
       "      <td>1.913669</td>\n",
       "      <td>4.508393</td>\n",
       "      <td>500000</td>\n",
       "    </tr>\n",
       "    <tr>\n",
       "      <th>4</th>\n",
       "      <td>21</td>\n",
       "      <td>4.5625</td>\n",
       "      <td>0.255583</td>\n",
       "      <td>3.092664</td>\n",
       "      <td>4.667954</td>\n",
       "      <td>500000</td>\n",
       "    </tr>\n",
       "  </tbody>\n",
       "</table>\n",
       "</div>"
      ],
      "text/plain": [
       "   housing_age  income  bedrooms  households     rooms  house_value\n",
       "0           23  6.7770  0.141112    2.442244  8.103960       500000\n",
       "1           49  6.0199  0.160984    2.726688  5.752412       500000\n",
       "2           35  5.1155  0.249061    1.902676  3.888078       500000\n",
       "3           32  4.7109  0.231383    1.913669  4.508393       500000\n",
       "4           21  4.5625  0.255583    3.092664  4.667954       500000"
      ]
     },
     "execution_count": 6,
     "metadata": {},
     "output_type": "execute_result"
    }
   ],
   "source": [
    "df2=pd.read_csv('../input/big-data-certification-study/house_price.csv', encoding='utf-8')\n",
    "df2.head()"
   ]
  },
  {
   "cell_type": "code",
   "execution_count": 7,
   "id": "1d2fd5f6",
   "metadata": {
    "execution": {
     "iopub.execute_input": "2022-06-27T15:29:07.612899Z",
     "iopub.status.busy": "2022-06-27T15:29:07.612265Z",
     "iopub.status.idle": "2022-06-27T15:29:07.624376Z",
     "shell.execute_reply": "2022-06-27T15:29:07.623520Z"
    },
    "papermill": {
     "duration": 0.028009,
     "end_time": "2022-06-27T15:29:07.626561",
     "exception": false,
     "start_time": "2022-06-27T15:29:07.598552",
     "status": "completed"
    },
    "tags": []
   },
   "outputs": [],
   "source": [
    "# 데이터 분리\n",
    "X=df2.drop(columns=['house_value'])\n",
    "y=df2[['house_value']]\n",
    "X_train, X_test, y_train, y_test=train_test_split(X,y,random_state=42)"
   ]
  },
  {
   "cell_type": "code",
   "execution_count": 8,
   "id": "aefb1562",
   "metadata": {
    "execution": {
     "iopub.execute_input": "2022-06-27T15:29:07.652442Z",
     "iopub.status.busy": "2022-06-27T15:29:07.651981Z",
     "iopub.status.idle": "2022-06-27T15:29:07.662470Z",
     "shell.execute_reply": "2022-06-27T15:29:07.661849Z"
    },
    "papermill": {
     "duration": 0.025982,
     "end_time": "2022-06-27T15:29:07.664551",
     "exception": false,
     "start_time": "2022-06-27T15:29:07.638569",
     "status": "completed"
    },
    "tags": []
   },
   "outputs": [],
   "source": [
    "# 정규화\n",
    "scale=MinMaxScaler()\n",
    "scale.fit(X_train)\n",
    "ms_X_train=scale.transform(X_train)\n",
    "ms_X_test=scale.transform(X_test)"
   ]
  },
  {
   "cell_type": "code",
   "execution_count": 9,
   "id": "73836399",
   "metadata": {
    "execution": {
     "iopub.execute_input": "2022-06-27T15:29:07.691097Z",
     "iopub.status.busy": "2022-06-27T15:29:07.690570Z",
     "iopub.status.idle": "2022-06-27T15:29:10.577711Z",
     "shell.execute_reply": "2022-06-27T15:29:10.576878Z"
    },
    "papermill": {
     "duration": 2.902436,
     "end_time": "2022-06-27T15:29:10.579681",
     "exception": false,
     "start_time": "2022-06-27T15:29:07.677245",
     "status": "completed"
    },
    "tags": []
   },
   "outputs": [
    {
     "data": {
      "text/plain": [
       "0.7316018746553036"
      ]
     },
     "execution_count": 9,
     "metadata": {},
     "output_type": "execute_result"
    }
   ],
   "source": [
    "# 모델 적용\n",
    "model=BaggingRegressor(base_estimator=KNeighborsRegressor(),\n",
    "                       n_estimators=10,random_state=0)\n",
    "model.fit(ms_X_train, y_train)\n",
    "\n",
    "pred_x=model.predict(ms_X_train)\n",
    "model.score(ms_X_train, y_train)"
   ]
  },
  {
   "cell_type": "code",
   "execution_count": 10,
   "id": "b85c4792",
   "metadata": {
    "execution": {
     "iopub.execute_input": "2022-06-27T15:29:10.606488Z",
     "iopub.status.busy": "2022-06-27T15:29:10.605925Z",
     "iopub.status.idle": "2022-06-27T15:29:11.601960Z",
     "shell.execute_reply": "2022-06-27T15:29:11.600998Z"
    },
    "papermill": {
     "duration": 1.012693,
     "end_time": "2022-06-27T15:29:11.604705",
     "exception": false,
     "start_time": "2022-06-27T15:29:10.592012",
     "status": "completed"
    },
    "tags": []
   },
   "outputs": [
    {
     "data": {
      "text/plain": [
       "0.6024268009648992"
      ]
     },
     "execution_count": 10,
     "metadata": {},
     "output_type": "execute_result"
    }
   ],
   "source": [
    "pred_y=model.predict(ms_X_test)\n",
    "model.score(ms_X_test, y_test)"
   ]
  },
  {
   "cell_type": "code",
   "execution_count": 11,
   "id": "66595531",
   "metadata": {
    "execution": {
     "iopub.execute_input": "2022-06-27T15:29:11.632723Z",
     "iopub.status.busy": "2022-06-27T15:29:11.632447Z",
     "iopub.status.idle": "2022-06-27T15:29:11.641814Z",
     "shell.execute_reply": "2022-06-27T15:29:11.640895Z"
    },
    "papermill": {
     "duration": 0.02567,
     "end_time": "2022-06-27T15:29:11.643595",
     "exception": false,
     "start_time": "2022-06-27T15:29:11.617925",
     "status": "completed"
    },
    "tags": []
   },
   "outputs": [
    {
     "name": "stdout",
     "output_type": "stream",
     "text": [
      "Train RMSE : 49447 \n",
      "Test RMSE : 60280\n"
     ]
    }
   ],
   "source": [
    "# RMSE\n",
    "rmse_train=np.sqrt(mean_squared_error(y_train,pred_x))\n",
    "rmse_test=np.sqrt(mean_squared_error(y_test,pred_y))\n",
    "print('Train RMSE :', round(rmse_train),\n",
    "      '\\nTest RMSE :', round(rmse_test))"
   ]
  }
 ],
 "metadata": {
  "kernelspec": {
   "display_name": "Python 3",
   "language": "python",
   "name": "python3"
  },
  "language_info": {
   "codemirror_mode": {
    "name": "ipython",
    "version": 3
   },
   "file_extension": ".py",
   "mimetype": "text/x-python",
   "name": "python",
   "nbconvert_exporter": "python",
   "pygments_lexer": "ipython3",
   "version": "3.7.12"
  },
  "papermill": {
   "default_parameters": {},
   "duration": 15.335124,
   "end_time": "2022-06-27T15:29:12.377469",
   "environment_variables": {},
   "exception": null,
   "input_path": "__notebook__.ipynb",
   "output_path": "__notebook__.ipynb",
   "parameters": {},
   "start_time": "2022-06-27T15:28:57.042345",
   "version": "2.3.4"
  }
 },
 "nbformat": 4,
 "nbformat_minor": 5
}
