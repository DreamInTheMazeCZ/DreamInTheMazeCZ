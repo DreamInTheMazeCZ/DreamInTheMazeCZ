{
 "cells": [
  {
   "cell_type": "markdown",
   "id": "354801d1",
   "metadata": {
    "papermill": {
     "duration": 0.015276,
     "end_time": "2022-06-27T14:08:42.912540",
     "exception": false,
     "start_time": "2022-06-27T14:08:42.897264",
     "status": "completed"
    },
    "tags": []
   },
   "source": [
    "### sklearn.ensemble.VotingClassifier\n",
    "### sklearn.ensemble.VotingRegressor\n",
    "\n",
    "#### 주요 Hyperparameter\n",
    "- 분류 : hard(범주형), soft(확률형)\n",
    "\n",
    "##### VotingClassifier(estimators, *, voting='hard', n_jobs=None, weights=None, flatten_transform=True)\n",
    "##### VotingRegressor(estimators, *, n_jobs=None, weights=None, verbose=False)"
   ]
  },
  {
   "cell_type": "markdown",
   "id": "c9aa9fea",
   "metadata": {
    "papermill": {
     "duration": 0.014832,
     "end_time": "2022-06-27T14:08:42.941881",
     "exception": false,
     "start_time": "2022-06-27T14:08:42.927049",
     "status": "completed"
    },
    "tags": []
   },
   "source": [
    "# 분석 코드 - Classification\n",
    "### Hard Learner"
   ]
  },
  {
   "cell_type": "code",
   "execution_count": 1,
   "id": "90acd53c",
   "metadata": {
    "execution": {
     "iopub.execute_input": "2022-06-27T14:08:42.974302Z",
     "iopub.status.busy": "2022-06-27T14:08:42.973419Z",
     "iopub.status.idle": "2022-06-27T14:08:44.448976Z",
     "shell.execute_reply": "2022-06-27T14:08:44.447990Z"
    },
    "papermill": {
     "duration": 1.495584,
     "end_time": "2022-06-27T14:08:44.451875",
     "exception": false,
     "start_time": "2022-06-27T14:08:42.956291",
     "status": "completed"
    },
    "tags": []
   },
   "outputs": [
    {
     "data": {
      "text/html": [
       "<div>\n",
       "<style scoped>\n",
       "    .dataframe tbody tr th:only-of-type {\n",
       "        vertical-align: middle;\n",
       "    }\n",
       "\n",
       "    .dataframe tbody tr th {\n",
       "        vertical-align: top;\n",
       "    }\n",
       "\n",
       "    .dataframe thead th {\n",
       "        text-align: right;\n",
       "    }\n",
       "</style>\n",
       "<table border=\"1\" class=\"dataframe\">\n",
       "  <thead>\n",
       "    <tr style=\"text-align: right;\">\n",
       "      <th></th>\n",
       "      <th>code</th>\n",
       "      <th>Clump_Thickness</th>\n",
       "      <th>Cell_Size</th>\n",
       "      <th>Cell_Shape</th>\n",
       "      <th>Marginal_Adhesion</th>\n",
       "      <th>Single_Epithelial_Cell_Size</th>\n",
       "      <th>Bare_Nuclei</th>\n",
       "      <th>Bland_Chromatin</th>\n",
       "      <th>Normal_Nucleoli</th>\n",
       "      <th>Mitoses</th>\n",
       "      <th>Class</th>\n",
       "    </tr>\n",
       "  </thead>\n",
       "  <tbody>\n",
       "    <tr>\n",
       "      <th>0</th>\n",
       "      <td>1000025</td>\n",
       "      <td>5</td>\n",
       "      <td>1</td>\n",
       "      <td>1</td>\n",
       "      <td>1</td>\n",
       "      <td>2</td>\n",
       "      <td>1</td>\n",
       "      <td>3</td>\n",
       "      <td>1</td>\n",
       "      <td>1</td>\n",
       "      <td>0</td>\n",
       "    </tr>\n",
       "    <tr>\n",
       "      <th>1</th>\n",
       "      <td>1002945</td>\n",
       "      <td>5</td>\n",
       "      <td>4</td>\n",
       "      <td>4</td>\n",
       "      <td>5</td>\n",
       "      <td>7</td>\n",
       "      <td>10</td>\n",
       "      <td>3</td>\n",
       "      <td>2</td>\n",
       "      <td>1</td>\n",
       "      <td>0</td>\n",
       "    </tr>\n",
       "    <tr>\n",
       "      <th>2</th>\n",
       "      <td>1015425</td>\n",
       "      <td>3</td>\n",
       "      <td>1</td>\n",
       "      <td>1</td>\n",
       "      <td>1</td>\n",
       "      <td>2</td>\n",
       "      <td>2</td>\n",
       "      <td>3</td>\n",
       "      <td>1</td>\n",
       "      <td>1</td>\n",
       "      <td>0</td>\n",
       "    </tr>\n",
       "    <tr>\n",
       "      <th>3</th>\n",
       "      <td>1016277</td>\n",
       "      <td>6</td>\n",
       "      <td>8</td>\n",
       "      <td>8</td>\n",
       "      <td>1</td>\n",
       "      <td>3</td>\n",
       "      <td>4</td>\n",
       "      <td>3</td>\n",
       "      <td>7</td>\n",
       "      <td>1</td>\n",
       "      <td>0</td>\n",
       "    </tr>\n",
       "    <tr>\n",
       "      <th>4</th>\n",
       "      <td>1017023</td>\n",
       "      <td>4</td>\n",
       "      <td>1</td>\n",
       "      <td>1</td>\n",
       "      <td>3</td>\n",
       "      <td>2</td>\n",
       "      <td>1</td>\n",
       "      <td>3</td>\n",
       "      <td>1</td>\n",
       "      <td>1</td>\n",
       "      <td>0</td>\n",
       "    </tr>\n",
       "  </tbody>\n",
       "</table>\n",
       "</div>"
      ],
      "text/plain": [
       "      code  Clump_Thickness  Cell_Size  Cell_Shape  Marginal_Adhesion  \\\n",
       "0  1000025                5          1           1                  1   \n",
       "1  1002945                5          4           4                  5   \n",
       "2  1015425                3          1           1                  1   \n",
       "3  1016277                6          8           8                  1   \n",
       "4  1017023                4          1           1                  3   \n",
       "\n",
       "   Single_Epithelial_Cell_Size  Bare_Nuclei  Bland_Chromatin  Normal_Nucleoli  \\\n",
       "0                            2            1                3                1   \n",
       "1                            7           10                3                2   \n",
       "2                            2            2                3                1   \n",
       "3                            3            4                3                7   \n",
       "4                            2            1                3                1   \n",
       "\n",
       "   Mitoses  Class  \n",
       "0        1      0  \n",
       "1        1      0  \n",
       "2        1      0  \n",
       "3        1      0  \n",
       "4        1      0  "
      ]
     },
     "execution_count": 1,
     "metadata": {},
     "output_type": "execute_result"
    }
   ],
   "source": [
    "# 라이브러리 및 데이터 로드\n",
    "import warnings\n",
    "warnings.filterwarnings('ignore')\n",
    "import pandas as pd\n",
    "import numpy as np\n",
    "import matplotlib.pyplot as plt\n",
    "from scipy.stats import randint\n",
    "from sklearn.model_selection import train_test_split, GridSearchCV, RandomizedSearchCV\n",
    "from sklearn.preprocessing import MinMaxScaler, StandardScaler, LabelEncoder\n",
    "from sklearn.linear_model import LogisticRegression, LinearRegression\n",
    "from sklearn.svm import SVC, SVR\n",
    "from sklearn.ensemble import RandomForestClassifier, RandomForestRegressor, VotingClassifier, VotingRegressor\n",
    "from sklearn.metrics import classification_report, confusion_matrix, mean_squared_error, accuracy_score\n",
    "\n",
    "df = pd.read_csv('../input/big-data-certification-study/breast-cancer-wisconsin.csv', encoding='utf-8')\n",
    "df.head()"
   ]
  },
  {
   "cell_type": "code",
   "execution_count": 2,
   "id": "65fc8100",
   "metadata": {
    "execution": {
     "iopub.execute_input": "2022-06-27T14:08:44.484186Z",
     "iopub.status.busy": "2022-06-27T14:08:44.483603Z",
     "iopub.status.idle": "2022-06-27T14:08:44.505477Z",
     "shell.execute_reply": "2022-06-27T14:08:44.504748Z"
    },
    "papermill": {
     "duration": 0.0405,
     "end_time": "2022-06-27T14:08:44.507699",
     "exception": false,
     "start_time": "2022-06-27T14:08:44.467199",
     "status": "completed"
    },
    "tags": []
   },
   "outputs": [],
   "source": [
    "# 데이터 분리\n",
    "X=df.drop(columns=['code','Class'])\n",
    "y=df[['Class']]\n",
    "X_train,X_test,y_train,y_test=train_test_split(X,y,stratify=y,random_state=42)"
   ]
  },
  {
   "cell_type": "code",
   "execution_count": 3,
   "id": "89986668",
   "metadata": {
    "execution": {
     "iopub.execute_input": "2022-06-27T14:08:44.539270Z",
     "iopub.status.busy": "2022-06-27T14:08:44.538730Z",
     "iopub.status.idle": "2022-06-27T14:08:44.548364Z",
     "shell.execute_reply": "2022-06-27T14:08:44.547470Z"
    },
    "papermill": {
     "duration": 0.027841,
     "end_time": "2022-06-27T14:08:44.550505",
     "exception": false,
     "start_time": "2022-06-27T14:08:44.522664",
     "status": "completed"
    },
    "tags": []
   },
   "outputs": [],
   "source": [
    "# 정규화\n",
    "scaler=MinMaxScaler()\n",
    "scaler.fit(X_train)\n",
    "mm_X_train=scaler.transform(X_train)\n",
    "mm_X_test=scaler.transform(X_test)"
   ]
  },
  {
   "cell_type": "code",
   "execution_count": 4,
   "id": "d0947f2e",
   "metadata": {
    "execution": {
     "iopub.execute_input": "2022-06-27T14:08:44.583337Z",
     "iopub.status.busy": "2022-06-27T14:08:44.582757Z",
     "iopub.status.idle": "2022-06-27T14:08:45.212744Z",
     "shell.execute_reply": "2022-06-27T14:08:45.211445Z"
    },
    "papermill": {
     "duration": 0.648482,
     "end_time": "2022-06-27T14:08:45.215096",
     "exception": false,
     "start_time": "2022-06-27T14:08:44.566614",
     "status": "completed"
    },
    "tags": []
   },
   "outputs": [
    {
     "name": "stdout",
     "output_type": "stream",
     "text": [
      "LogisticRegression 0.9590643274853801\n",
      "RandomForestClassifier 0.9649122807017544\n",
      "SVC 0.9649122807017544\n",
      "VotingClassifier 0.9649122807017544\n"
     ]
    }
   ],
   "source": [
    "# 모델 적용\n",
    "logit_model=LogisticRegression(random_state=42)\n",
    "rf_model=RandomForestClassifier(random_state=42)\n",
    "svm=SVC(random_state=42)\n",
    "\n",
    "voting_hard=VotingClassifier(estimators=[('lr',logit_model),\n",
    "                                          ('rf',rf_model),\n",
    "                                          ('svc',svm)],\n",
    "                            voting='hard')\n",
    "voting_hard.fit(mm_X_train, y_train)\n",
    "\n",
    "for al in (logit_model, rf_model, svm, voting_hard):\n",
    "    al.fit(mm_X_train, y_train)\n",
    "    y_pred=al.predict(mm_X_test)\n",
    "    print(al.__class__.__name__, accuracy_score(y_test,y_pred))"
   ]
  },
  {
   "cell_type": "code",
   "execution_count": 5,
   "id": "84eec51f",
   "metadata": {
    "execution": {
     "iopub.execute_input": "2022-06-27T14:08:45.247816Z",
     "iopub.status.busy": "2022-06-27T14:08:45.247490Z",
     "iopub.status.idle": "2022-06-27T14:08:45.310482Z",
     "shell.execute_reply": "2022-06-27T14:08:45.309628Z"
    },
    "papermill": {
     "duration": 0.08204,
     "end_time": "2022-06-27T14:08:45.312719",
     "exception": false,
     "start_time": "2022-06-27T14:08:45.230679",
     "status": "completed"
    },
    "tags": []
   },
   "outputs": [
    {
     "name": "stdout",
     "output_type": "stream",
     "text": [
      "LogisticRegression 혼동행렬 :\n",
      " [[106   5]\n",
      " [  2  58]] \n",
      " LogisticRegression 분류예측 보고서 :\n",
      "               precision    recall  f1-score   support\n",
      "\n",
      "           0       0.98      0.95      0.97       111\n",
      "           1       0.92      0.97      0.94        60\n",
      "\n",
      "    accuracy                           0.96       171\n",
      "   macro avg       0.95      0.96      0.96       171\n",
      "weighted avg       0.96      0.96      0.96       171\n",
      " \n",
      "\n",
      "\n",
      "RandomForestClassifier 혼동행렬 :\n",
      " [[106   5]\n",
      " [  1  59]] \n",
      " RandomForestClassifier 분류예측 보고서 :\n",
      "               precision    recall  f1-score   support\n",
      "\n",
      "           0       0.99      0.95      0.97       111\n",
      "           1       0.92      0.98      0.95        60\n",
      "\n",
      "    accuracy                           0.96       171\n",
      "   macro avg       0.96      0.97      0.96       171\n",
      "weighted avg       0.97      0.96      0.97       171\n",
      " \n",
      "\n",
      "\n",
      "SVC 혼동행렬 :\n",
      " [[106   5]\n",
      " [  1  59]] \n",
      " SVC 분류예측 보고서 :\n",
      "               precision    recall  f1-score   support\n",
      "\n",
      "           0       0.99      0.95      0.97       111\n",
      "           1       0.92      0.98      0.95        60\n",
      "\n",
      "    accuracy                           0.96       171\n",
      "   macro avg       0.96      0.97      0.96       171\n",
      "weighted avg       0.97      0.96      0.97       171\n",
      " \n",
      "\n",
      "\n",
      "VotingClassifier 혼동행렬 :\n",
      " [[106   5]\n",
      " [  1  59]] \n",
      " VotingClassifier 분류예측 보고서 :\n",
      "               precision    recall  f1-score   support\n",
      "\n",
      "           0       0.99      0.95      0.97       111\n",
      "           1       0.92      0.98      0.95        60\n",
      "\n",
      "    accuracy                           0.96       171\n",
      "   macro avg       0.96      0.97      0.96       171\n",
      "weighted avg       0.97      0.96      0.97       171\n",
      " \n",
      "\n",
      "\n"
     ]
    }
   ],
   "source": [
    "# 혼동행렬, 분류예측 보고서\n",
    "for al in (logit_model, rf_model, svm, voting_hard):\n",
    "    y_pred=al.predict(mm_X_test)\n",
    "    cm_train=confusion_matrix(y_test,y_pred)\n",
    "    cfr_train=classification_report(y_test,y_pred)\n",
    "    print(al.__class__.__name__,'혼동행렬 :\\n',cm_train,'\\n',\n",
    "          al.__class__.__name__,'분류예측 보고서 :\\n',cfr_train,'\\n\\n')"
   ]
  },
  {
   "cell_type": "markdown",
   "id": "23f41f7e",
   "metadata": {
    "papermill": {
     "duration": 0.016804,
     "end_time": "2022-06-27T14:08:45.346679",
     "exception": false,
     "start_time": "2022-06-27T14:08:45.329875",
     "status": "completed"
    },
    "tags": []
   },
   "source": [
    "# 분석 코드 - Regression"
   ]
  },
  {
   "cell_type": "code",
   "execution_count": 6,
   "id": "2c513e6a",
   "metadata": {
    "execution": {
     "iopub.execute_input": "2022-06-27T14:08:45.380107Z",
     "iopub.status.busy": "2022-06-27T14:08:45.379788Z",
     "iopub.status.idle": "2022-06-27T14:08:45.437375Z",
     "shell.execute_reply": "2022-06-27T14:08:45.436752Z"
    },
    "papermill": {
     "duration": 0.076745,
     "end_time": "2022-06-27T14:08:45.439413",
     "exception": false,
     "start_time": "2022-06-27T14:08:45.362668",
     "status": "completed"
    },
    "tags": []
   },
   "outputs": [
    {
     "data": {
      "text/html": [
       "<div>\n",
       "<style scoped>\n",
       "    .dataframe tbody tr th:only-of-type {\n",
       "        vertical-align: middle;\n",
       "    }\n",
       "\n",
       "    .dataframe tbody tr th {\n",
       "        vertical-align: top;\n",
       "    }\n",
       "\n",
       "    .dataframe thead th {\n",
       "        text-align: right;\n",
       "    }\n",
       "</style>\n",
       "<table border=\"1\" class=\"dataframe\">\n",
       "  <thead>\n",
       "    <tr style=\"text-align: right;\">\n",
       "      <th></th>\n",
       "      <th>housing_age</th>\n",
       "      <th>income</th>\n",
       "      <th>bedrooms</th>\n",
       "      <th>households</th>\n",
       "      <th>rooms</th>\n",
       "      <th>house_value</th>\n",
       "    </tr>\n",
       "  </thead>\n",
       "  <tbody>\n",
       "    <tr>\n",
       "      <th>0</th>\n",
       "      <td>23</td>\n",
       "      <td>6.7770</td>\n",
       "      <td>0.141112</td>\n",
       "      <td>2.442244</td>\n",
       "      <td>8.103960</td>\n",
       "      <td>500000</td>\n",
       "    </tr>\n",
       "    <tr>\n",
       "      <th>1</th>\n",
       "      <td>49</td>\n",
       "      <td>6.0199</td>\n",
       "      <td>0.160984</td>\n",
       "      <td>2.726688</td>\n",
       "      <td>5.752412</td>\n",
       "      <td>500000</td>\n",
       "    </tr>\n",
       "    <tr>\n",
       "      <th>2</th>\n",
       "      <td>35</td>\n",
       "      <td>5.1155</td>\n",
       "      <td>0.249061</td>\n",
       "      <td>1.902676</td>\n",
       "      <td>3.888078</td>\n",
       "      <td>500000</td>\n",
       "    </tr>\n",
       "    <tr>\n",
       "      <th>3</th>\n",
       "      <td>32</td>\n",
       "      <td>4.7109</td>\n",
       "      <td>0.231383</td>\n",
       "      <td>1.913669</td>\n",
       "      <td>4.508393</td>\n",
       "      <td>500000</td>\n",
       "    </tr>\n",
       "    <tr>\n",
       "      <th>4</th>\n",
       "      <td>21</td>\n",
       "      <td>4.5625</td>\n",
       "      <td>0.255583</td>\n",
       "      <td>3.092664</td>\n",
       "      <td>4.667954</td>\n",
       "      <td>500000</td>\n",
       "    </tr>\n",
       "  </tbody>\n",
       "</table>\n",
       "</div>"
      ],
      "text/plain": [
       "   housing_age  income  bedrooms  households     rooms  house_value\n",
       "0           23  6.7770  0.141112    2.442244  8.103960       500000\n",
       "1           49  6.0199  0.160984    2.726688  5.752412       500000\n",
       "2           35  5.1155  0.249061    1.902676  3.888078       500000\n",
       "3           32  4.7109  0.231383    1.913669  4.508393       500000\n",
       "4           21  4.5625  0.255583    3.092664  4.667954       500000"
      ]
     },
     "execution_count": 6,
     "metadata": {},
     "output_type": "execute_result"
    }
   ],
   "source": [
    "df2=pd.read_csv('../input/big-data-certification-study/house_price.csv', encoding='utf-8')\n",
    "df2.head()"
   ]
  },
  {
   "cell_type": "code",
   "execution_count": 7,
   "id": "09fc5d96",
   "metadata": {
    "execution": {
     "iopub.execute_input": "2022-06-27T14:08:45.474702Z",
     "iopub.status.busy": "2022-06-27T14:08:45.474397Z",
     "iopub.status.idle": "2022-06-27T14:08:45.485761Z",
     "shell.execute_reply": "2022-06-27T14:08:45.484881Z"
    },
    "papermill": {
     "duration": 0.032142,
     "end_time": "2022-06-27T14:08:45.488105",
     "exception": false,
     "start_time": "2022-06-27T14:08:45.455963",
     "status": "completed"
    },
    "tags": []
   },
   "outputs": [],
   "source": [
    "# 데이터 분리\n",
    "X=df2.drop(columns=['house_value'])\n",
    "y=df2[['house_value']]\n",
    "X_train, X_test, y_train, y_test=train_test_split(X,y,random_state=42)"
   ]
  },
  {
   "cell_type": "code",
   "execution_count": 8,
   "id": "5c3b931e",
   "metadata": {
    "execution": {
     "iopub.execute_input": "2022-06-27T14:08:45.523993Z",
     "iopub.status.busy": "2022-06-27T14:08:45.523529Z",
     "iopub.status.idle": "2022-06-27T14:08:45.533943Z",
     "shell.execute_reply": "2022-06-27T14:08:45.533122Z"
    },
    "papermill": {
     "duration": 0.031565,
     "end_time": "2022-06-27T14:08:45.536392",
     "exception": false,
     "start_time": "2022-06-27T14:08:45.504827",
     "status": "completed"
    },
    "tags": []
   },
   "outputs": [],
   "source": [
    "# 정규화\n",
    "scale=MinMaxScaler()\n",
    "scale.fit(X_train)\n",
    "ms_X_train=scale.transform(X_train)\n",
    "ms_x_test=scale.transform(X_test)"
   ]
  },
  {
   "cell_type": "code",
   "execution_count": 9,
   "id": "ab02dcfe",
   "metadata": {
    "execution": {
     "iopub.execute_input": "2022-06-27T14:08:45.571704Z",
     "iopub.status.busy": "2022-06-27T14:08:45.571346Z",
     "iopub.status.idle": "2022-06-27T14:08:52.275407Z",
     "shell.execute_reply": "2022-06-27T14:08:52.274756Z"
    },
    "papermill": {
     "duration": 6.724328,
     "end_time": "2022-06-27T14:08:52.277432",
     "exception": false,
     "start_time": "2022-06-27T14:08:45.553104",
     "status": "completed"
    },
    "tags": []
   },
   "outputs": [
    {
     "data": {
      "text/plain": [
       "0.8128809262725605"
      ]
     },
     "execution_count": 9,
     "metadata": {},
     "output_type": "execute_result"
    }
   ],
   "source": [
    "# 모델 적용\n",
    "lr_model=LinearRegression()\n",
    "rfr_model=RandomForestRegressor(random_state=42)\n",
    "\n",
    "voting_regressor=VotingRegressor(estimators=[('lr',lr_model),('rf',rfr_model)])\n",
    "voting_regressor.fit(ms_X_train, y_train)\n",
    "pred_x=voting_regressor.predict(ms_X_train)\n",
    "voting_regressor.score(ms_X_train, y_train)"
   ]
  },
  {
   "cell_type": "code",
   "execution_count": 10,
   "id": "76bfdb7d",
   "metadata": {
    "execution": {
     "iopub.execute_input": "2022-06-27T14:08:52.313680Z",
     "iopub.status.busy": "2022-06-27T14:08:52.313329Z",
     "iopub.status.idle": "2022-06-27T14:08:52.709958Z",
     "shell.execute_reply": "2022-06-27T14:08:52.709078Z"
    },
    "papermill": {
     "duration": 0.417432,
     "end_time": "2022-06-27T14:08:52.712270",
     "exception": false,
     "start_time": "2022-06-27T14:08:52.294838",
     "status": "completed"
    },
    "tags": []
   },
   "outputs": [
    {
     "data": {
      "text/plain": [
       "0.6269061036317223"
      ]
     },
     "execution_count": 10,
     "metadata": {},
     "output_type": "execute_result"
    }
   ],
   "source": [
    "pred_y=voting_regressor.predict(ms_x_test)\n",
    "voting_regressor.score(ms_x_test,y_test)"
   ]
  },
  {
   "cell_type": "code",
   "execution_count": 11,
   "id": "f8a462d6",
   "metadata": {
    "execution": {
     "iopub.execute_input": "2022-06-27T14:08:52.750197Z",
     "iopub.status.busy": "2022-06-27T14:08:52.749866Z",
     "iopub.status.idle": "2022-06-27T14:08:52.760595Z",
     "shell.execute_reply": "2022-06-27T14:08:52.759273Z"
    },
    "papermill": {
     "duration": 0.033094,
     "end_time": "2022-06-27T14:08:52.762887",
     "exception": false,
     "start_time": "2022-06-27T14:08:52.729793",
     "status": "completed"
    },
    "tags": []
   },
   "outputs": [
    {
     "name": "stdout",
     "output_type": "stream",
     "text": [
      "Train RMSE : 41287 \n",
      "Test RMSE : 58394\n"
     ]
    }
   ],
   "source": [
    "# RMSE\n",
    "rmse_train=np.sqrt(mean_squared_error(y_train,pred_x))\n",
    "rmse_test=np.sqrt(mean_squared_error(y_test,pred_y))\n",
    "print('Train RMSE :', round(rmse_train),\n",
    "      '\\nTest RMSE :', round(rmse_test))"
   ]
  }
 ],
 "metadata": {
  "kernelspec": {
   "display_name": "Python 3",
   "language": "python",
   "name": "python3"
  },
  "language_info": {
   "codemirror_mode": {
    "name": "ipython",
    "version": 3
   },
   "file_extension": ".py",
   "mimetype": "text/x-python",
   "name": "python",
   "nbconvert_exporter": "python",
   "pygments_lexer": "ipython3",
   "version": "3.7.12"
  },
  "papermill": {
   "default_parameters": {},
   "duration": 21.242855,
   "end_time": "2022-06-27T14:08:53.602221",
   "environment_variables": {},
   "exception": null,
   "input_path": "__notebook__.ipynb",
   "output_path": "__notebook__.ipynb",
   "parameters": {},
   "start_time": "2022-06-27T14:08:32.359366",
   "version": "2.3.4"
  }
 },
 "nbformat": 4,
 "nbformat_minor": 5
}
