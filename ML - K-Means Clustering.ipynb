{
 "cells": [
  {
   "cell_type": "markdown",
   "id": "45fe5cc3",
   "metadata": {
    "papermill": {
     "duration": 0.033518,
     "end_time": "2022-06-30T19:27:53.526393",
     "exception": false,
     "start_time": "2022-06-30T19:27:53.492875",
     "status": "completed"
    },
    "tags": []
   },
   "source": [
    "### sklearn.cluster.KMeans\n",
    "#### 개체의 특성을 대표하는 몇 개의 변수를 기준으로 몇 개의 군집으로 세분화하는 방법\n",
    "- 개체 간 유사성은 개체 간 거리(행렬을 이용하는데, 대표적으로 유클리디안 거리)를 사용하여 상대적으로 가까운 개체를 동일 군집으로 분류\n",
    "- 유클리디안 거리 : np.sqrt((X1-X2)^2+(Y1-Y2)^2)\n",
    "\n",
    "#### 주요 Hyperparameter\n",
    "- n_cluster : 군집의 수로, 분석자의 경험과 주관으로 결정하거나 통계적 기준에 따라 최적 군집수를 결정\n",
    "\n",
    "##### KMeans(n_clusters=8, *, init='k-means++', n_init=10, max_iter=300, tol=0.0001, precompute_distances='deprecated', verbose=0, random_state=None, copy_x=True, n_jobs='deprecated', algorithm='auto')"
   ]
  },
  {
   "cell_type": "markdown",
   "id": "ccd157ae",
   "metadata": {
    "papermill": {
     "duration": 0.031765,
     "end_time": "2022-06-30T19:27:53.590210",
     "exception": false,
     "start_time": "2022-06-30T19:27:53.558445",
     "status": "completed"
    },
    "tags": []
   },
   "source": [
    "# 분석 코드"
   ]
  },
  {
   "cell_type": "code",
   "execution_count": 1,
   "id": "ad7f1db4",
   "metadata": {
    "execution": {
     "iopub.execute_input": "2022-06-30T19:27:53.655584Z",
     "iopub.status.busy": "2022-06-30T19:27:53.655164Z",
     "iopub.status.idle": "2022-06-30T19:27:55.100580Z",
     "shell.execute_reply": "2022-06-30T19:27:55.099663Z"
    },
    "papermill": {
     "duration": 1.481085,
     "end_time": "2022-06-30T19:27:55.102927",
     "exception": false,
     "start_time": "2022-06-30T19:27:53.621842",
     "status": "completed"
    },
    "tags": []
   },
   "outputs": [
    {
     "data": {
      "text/html": [
       "<div>\n",
       "<style scoped>\n",
       "    .dataframe tbody tr th:only-of-type {\n",
       "        vertical-align: middle;\n",
       "    }\n",
       "\n",
       "    .dataframe tbody tr th {\n",
       "        vertical-align: top;\n",
       "    }\n",
       "\n",
       "    .dataframe thead th {\n",
       "        text-align: right;\n",
       "    }\n",
       "</style>\n",
       "<table border=\"1\" class=\"dataframe\">\n",
       "  <thead>\n",
       "    <tr style=\"text-align: right;\">\n",
       "      <th></th>\n",
       "      <th>ID</th>\n",
       "      <th>Gender</th>\n",
       "      <th>Age</th>\n",
       "      <th>Income</th>\n",
       "      <th>Spend</th>\n",
       "    </tr>\n",
       "  </thead>\n",
       "  <tbody>\n",
       "    <tr>\n",
       "      <th>0</th>\n",
       "      <td>1</td>\n",
       "      <td>Male</td>\n",
       "      <td>19</td>\n",
       "      <td>15</td>\n",
       "      <td>39</td>\n",
       "    </tr>\n",
       "    <tr>\n",
       "      <th>1</th>\n",
       "      <td>2</td>\n",
       "      <td>Male</td>\n",
       "      <td>21</td>\n",
       "      <td>15</td>\n",
       "      <td>81</td>\n",
       "    </tr>\n",
       "    <tr>\n",
       "      <th>2</th>\n",
       "      <td>3</td>\n",
       "      <td>Female</td>\n",
       "      <td>20</td>\n",
       "      <td>16</td>\n",
       "      <td>6</td>\n",
       "    </tr>\n",
       "    <tr>\n",
       "      <th>3</th>\n",
       "      <td>4</td>\n",
       "      <td>Female</td>\n",
       "      <td>23</td>\n",
       "      <td>16</td>\n",
       "      <td>77</td>\n",
       "    </tr>\n",
       "    <tr>\n",
       "      <th>4</th>\n",
       "      <td>5</td>\n",
       "      <td>Female</td>\n",
       "      <td>31</td>\n",
       "      <td>17</td>\n",
       "      <td>40</td>\n",
       "    </tr>\n",
       "  </tbody>\n",
       "</table>\n",
       "</div>"
      ],
      "text/plain": [
       "   ID  Gender  Age  Income  Spend\n",
       "0   1    Male   19      15     39\n",
       "1   2    Male   21      15     81\n",
       "2   3  Female   20      16      6\n",
       "3   4  Female   23      16     77\n",
       "4   5  Female   31      17     40"
      ]
     },
     "execution_count": 1,
     "metadata": {},
     "output_type": "execute_result"
    }
   ],
   "source": [
    "# 라이브러리 및 데이터 로드\n",
    "import warnings\n",
    "warnings.filterwarnings('ignore')\n",
    "import pandas as pd\n",
    "import numpy as np\n",
    "import matplotlib.pyplot as plt\n",
    "plt.style.use('seaborn-deep')\n",
    "import matplotlib.cm\n",
    "cmap=matplotlib.cm.get_cmap('plasma')\n",
    "from scipy.stats import randint\n",
    "from sklearn.model_selection import train_test_split, GridSearchCV, RandomizedSearchCV\n",
    "from sklearn.preprocessing import MinMaxScaler, StandardScaler\n",
    "from sklearn.cluster import KMeans\n",
    "from sklearn.metrics import confusion_matrix, classification_report\n",
    "\n",
    "df = pd.read_csv('../input/big-data-certification-study/Mall_Customers.csv', encoding='utf-8')\n",
    "df.head()"
   ]
  },
  {
   "cell_type": "code",
   "execution_count": 2,
   "id": "00b1a2f8",
   "metadata": {
    "execution": {
     "iopub.execute_input": "2022-06-30T19:27:55.169502Z",
     "iopub.status.busy": "2022-06-30T19:27:55.169216Z",
     "iopub.status.idle": "2022-06-30T19:27:55.182693Z",
     "shell.execute_reply": "2022-06-30T19:27:55.181599Z"
    },
    "papermill": {
     "duration": 0.049363,
     "end_time": "2022-06-30T19:27:55.184986",
     "exception": false,
     "start_time": "2022-06-30T19:27:55.135623",
     "status": "completed"
    },
    "tags": []
   },
   "outputs": [
    {
     "name": "stdout",
     "output_type": "stream",
     "text": [
      "(200, 5) (200, 2) \n",
      "\n",
      "\n"
     ]
    },
    {
     "data": {
      "text/html": [
       "<div>\n",
       "<style scoped>\n",
       "    .dataframe tbody tr th:only-of-type {\n",
       "        vertical-align: middle;\n",
       "    }\n",
       "\n",
       "    .dataframe tbody tr th {\n",
       "        vertical-align: top;\n",
       "    }\n",
       "\n",
       "    .dataframe thead th {\n",
       "        text-align: right;\n",
       "    }\n",
       "</style>\n",
       "<table border=\"1\" class=\"dataframe\">\n",
       "  <thead>\n",
       "    <tr style=\"text-align: right;\">\n",
       "      <th></th>\n",
       "      <th>Income</th>\n",
       "      <th>Spend</th>\n",
       "    </tr>\n",
       "  </thead>\n",
       "  <tbody>\n",
       "    <tr>\n",
       "      <th>0</th>\n",
       "      <td>15</td>\n",
       "      <td>39</td>\n",
       "    </tr>\n",
       "    <tr>\n",
       "      <th>1</th>\n",
       "      <td>15</td>\n",
       "      <td>81</td>\n",
       "    </tr>\n",
       "    <tr>\n",
       "      <th>2</th>\n",
       "      <td>16</td>\n",
       "      <td>6</td>\n",
       "    </tr>\n",
       "    <tr>\n",
       "      <th>3</th>\n",
       "      <td>16</td>\n",
       "      <td>77</td>\n",
       "    </tr>\n",
       "    <tr>\n",
       "      <th>4</th>\n",
       "      <td>17</td>\n",
       "      <td>40</td>\n",
       "    </tr>\n",
       "  </tbody>\n",
       "</table>\n",
       "</div>"
      ],
      "text/plain": [
       "   Income  Spend\n",
       "0      15     39\n",
       "1      15     81\n",
       "2      16      6\n",
       "3      16     77\n",
       "4      17     40"
      ]
     },
     "execution_count": 2,
     "metadata": {},
     "output_type": "execute_result"
    }
   ],
   "source": [
    "# 데이터셋 분리\n",
    "X = df.iloc[:,[3,4]]\n",
    "print(df.shape, X.shape,'\\n\\n')\n",
    "X.head()"
   ]
  },
  {
   "cell_type": "markdown",
   "id": "d827ace6",
   "metadata": {
    "papermill": {
     "duration": 0.033347,
     "end_time": "2022-06-30T19:27:55.252886",
     "exception": false,
     "start_time": "2022-06-30T19:27:55.219539",
     "status": "completed"
    },
    "tags": []
   },
   "source": [
    "### 통계적 군집수 확인\n",
    "- KMeans.inertia_ : 군집의 중심과 각 개체(케이스) 간 거리를 계산\n",
    "- 중심과 개체 간 거리가 작을수록 잘 형성된 군집이지만 크게 감소하다가 변화가 없는 지점으로 군집수 결정\n",
    "- 꺾은 선 도표 확인"
   ]
  },
  {
   "cell_type": "code",
   "execution_count": 3,
   "id": "3be3b103",
   "metadata": {
    "execution": {
     "iopub.execute_input": "2022-06-30T19:27:55.322457Z",
     "iopub.status.busy": "2022-06-30T19:27:55.321689Z",
     "iopub.status.idle": "2022-06-30T19:27:56.272629Z",
     "shell.execute_reply": "2022-06-30T19:27:56.271478Z"
    },
    "papermill": {
     "duration": 0.988067,
     "end_time": "2022-06-30T19:27:56.274883",
     "exception": false,
     "start_time": "2022-06-30T19:27:55.286816",
     "status": "completed"
    },
    "tags": []
   },
   "outputs": [
    {
     "data": {
      "text/plain": [
       "[269981.2800000001,\n",
       " 181363.59595959607,\n",
       " 106348.37306211119,\n",
       " 73679.78903948837,\n",
       " 44448.45544793369,\n",
       " 37233.81451071002,\n",
       " 30273.394312070028,\n",
       " 25018.576334776328,\n",
       " 21818.11458845217,\n",
       " 19721.54752731274,\n",
       " 17549.699291912577,\n",
       " 15926.627039985113,\n",
       " 14359.24434932742,\n",
       " 13312.748102207388,\n",
       " 11910.28028024607,\n",
       " 10797.189381932407,\n",
       " 9962.800457875457,\n",
       " 9277.832127594624,\n",
       " 8934.607359307354,\n",
       " 8385.220180309887]"
      ]
     },
     "execution_count": 3,
     "metadata": {},
     "output_type": "execute_result"
    }
   ],
   "source": [
    "# 거리 계산\n",
    "dist=[]\n",
    "\n",
    "for i in range(1,21):\n",
    "    kmeans=KMeans(n_clusters=i)\n",
    "    kmeans.fit_transform(X)\n",
    "    dist.append(kmeans.inertia_)\n",
    "\n",
    "dist"
   ]
  },
  {
   "cell_type": "code",
   "execution_count": 4,
   "id": "4b6935af",
   "metadata": {
    "execution": {
     "iopub.execute_input": "2022-06-30T19:27:56.344922Z",
     "iopub.status.busy": "2022-06-30T19:27:56.344639Z",
     "iopub.status.idle": "2022-06-30T19:27:56.615172Z",
     "shell.execute_reply": "2022-06-30T19:27:56.614363Z"
    },
    "papermill": {
     "duration": 0.307383,
     "end_time": "2022-06-30T19:27:56.617592",
     "exception": false,
     "start_time": "2022-06-30T19:27:56.310209",
     "status": "completed"
    },
    "tags": []
   },
   "outputs": [
    {
     "data": {
      "image/png": "[encoded data removed]",
      "text/plain": [
       "<Figure size 720x576 with 1 Axes>"
      ]
     },
     "metadata": {
      "needs_background": "light"
     },
     "output_type": "display_data"
    }
   ],
   "source": [
    "# 그래프 확인(꺾은 선) : 엘보우 기법\n",
    "plt.figure(figsize=(10,8))\n",
    "plt.plot(range(1,21),dist)\n",
    "plt.title('The Elbow Method')\n",
    "plt.xlabel('Number of Clusters')\n",
    "plt.ylabel('Distance')\n",
    "plt.show();\n",
    "\n",
    "# K=5 까지 급격한 감소 후\n",
    "# 그 이후부터 변화가 거의 없으므로 K=5로 결정"
   ]
  },
  {
   "cell_type": "code",
   "execution_count": 5,
   "id": "5e241b55",
   "metadata": {
    "execution": {
     "iopub.execute_input": "2022-06-30T19:27:56.688020Z",
     "iopub.status.busy": "2022-06-30T19:27:56.687748Z",
     "iopub.status.idle": "2022-06-30T19:27:56.720924Z",
     "shell.execute_reply": "2022-06-30T19:27:56.720060Z"
    },
    "papermill": {
     "duration": 0.07088,
     "end_time": "2022-06-30T19:27:56.722960",
     "exception": false,
     "start_time": "2022-06-30T19:27:56.652080",
     "status": "completed"
    },
    "tags": []
   },
   "outputs": [
    {
     "data": {
      "text/plain": [
       "array([4, 0, 4, 0, 4, 0, 4, 0, 4, 0, 4, 0, 4, 0, 4, 0, 4, 0, 4, 0, 4, 0,\n",
       "       4, 0, 4, 0, 4, 0, 4, 0, 4, 0, 4, 0, 4, 0, 4, 0, 4, 0, 4, 0, 4, 2,\n",
       "       4, 0, 2, 2, 2, 2, 2, 2, 2, 2, 2, 2, 2, 2, 2, 2, 2, 2, 2, 2, 2, 2,\n",
       "       2, 2, 2, 2, 2, 2, 2, 2, 2, 2, 2, 2, 2, 2, 2, 2, 2, 2, 2, 2, 2, 2,\n",
       "       2, 2, 2, 2, 2, 2, 2, 2, 2, 2, 2, 2, 2, 2, 2, 2, 2, 2, 2, 2, 2, 2,\n",
       "       2, 2, 2, 2, 2, 2, 2, 2, 2, 2, 2, 2, 2, 3, 1, 3, 2, 3, 1, 3, 1, 3,\n",
       "       2, 3, 1, 3, 1, 3, 1, 3, 1, 3, 2, 3, 1, 3, 1, 3, 1, 3, 1, 3, 1, 3,\n",
       "       1, 3, 1, 3, 1, 3, 1, 3, 1, 3, 1, 3, 1, 3, 1, 3, 1, 3, 1, 3, 1, 3,\n",
       "       1, 3, 1, 3, 1, 3, 1, 3, 1, 3, 1, 3, 1, 3, 1, 3, 1, 3, 1, 3, 1, 3,\n",
       "       1, 3], dtype=int32)"
      ]
     },
     "execution_count": 5,
     "metadata": {},
     "output_type": "execute_result"
    }
   ],
   "source": [
    "# 학습 및 예측(분류)\n",
    "k=5\n",
    "kmeans=KMeans(n_clusters=k)\n",
    "y_kmeans=kmeans.fit_predict(X)\n",
    "y_kmeans"
   ]
  },
  {
   "cell_type": "code",
   "execution_count": 6,
   "id": "ea455d5b",
   "metadata": {
    "execution": {
     "iopub.execute_input": "2022-06-30T19:27:56.795030Z",
     "iopub.status.busy": "2022-06-30T19:27:56.794743Z",
     "iopub.status.idle": "2022-06-30T19:27:56.814949Z",
     "shell.execute_reply": "2022-06-30T19:27:56.814210Z"
    },
    "papermill": {
     "duration": 0.058305,
     "end_time": "2022-06-30T19:27:56.816926",
     "exception": false,
     "start_time": "2022-06-30T19:27:56.758621",
     "status": "completed"
    },
    "tags": []
   },
   "outputs": [
    {
     "data": {
      "text/html": [
       "<div>\n",
       "<style scoped>\n",
       "    .dataframe tbody tr th:only-of-type {\n",
       "        vertical-align: middle;\n",
       "    }\n",
       "\n",
       "    .dataframe tbody tr th {\n",
       "        vertical-align: top;\n",
       "    }\n",
       "\n",
       "    .dataframe thead th {\n",
       "        text-align: right;\n",
       "    }\n",
       "</style>\n",
       "<table border=\"1\" class=\"dataframe\">\n",
       "  <thead>\n",
       "    <tr style=\"text-align: right;\">\n",
       "      <th></th>\n",
       "      <th>ID</th>\n",
       "      <th>Gender</th>\n",
       "      <th>Age</th>\n",
       "      <th>Income</th>\n",
       "      <th>Spend</th>\n",
       "      <th>Group</th>\n",
       "    </tr>\n",
       "  </thead>\n",
       "  <tbody>\n",
       "    <tr>\n",
       "      <th>0</th>\n",
       "      <td>1</td>\n",
       "      <td>Male</td>\n",
       "      <td>19</td>\n",
       "      <td>15</td>\n",
       "      <td>39</td>\n",
       "      <td>4</td>\n",
       "    </tr>\n",
       "    <tr>\n",
       "      <th>1</th>\n",
       "      <td>2</td>\n",
       "      <td>Male</td>\n",
       "      <td>21</td>\n",
       "      <td>15</td>\n",
       "      <td>81</td>\n",
       "      <td>0</td>\n",
       "    </tr>\n",
       "    <tr>\n",
       "      <th>2</th>\n",
       "      <td>3</td>\n",
       "      <td>Female</td>\n",
       "      <td>20</td>\n",
       "      <td>16</td>\n",
       "      <td>6</td>\n",
       "      <td>4</td>\n",
       "    </tr>\n",
       "    <tr>\n",
       "      <th>3</th>\n",
       "      <td>4</td>\n",
       "      <td>Female</td>\n",
       "      <td>23</td>\n",
       "      <td>16</td>\n",
       "      <td>77</td>\n",
       "      <td>0</td>\n",
       "    </tr>\n",
       "    <tr>\n",
       "      <th>4</th>\n",
       "      <td>5</td>\n",
       "      <td>Female</td>\n",
       "      <td>31</td>\n",
       "      <td>17</td>\n",
       "      <td>40</td>\n",
       "      <td>4</td>\n",
       "    </tr>\n",
       "    <tr>\n",
       "      <th>...</th>\n",
       "      <td>...</td>\n",
       "      <td>...</td>\n",
       "      <td>...</td>\n",
       "      <td>...</td>\n",
       "      <td>...</td>\n",
       "      <td>...</td>\n",
       "    </tr>\n",
       "    <tr>\n",
       "      <th>195</th>\n",
       "      <td>196</td>\n",
       "      <td>Female</td>\n",
       "      <td>35</td>\n",
       "      <td>120</td>\n",
       "      <td>79</td>\n",
       "      <td>3</td>\n",
       "    </tr>\n",
       "    <tr>\n",
       "      <th>196</th>\n",
       "      <td>197</td>\n",
       "      <td>Female</td>\n",
       "      <td>45</td>\n",
       "      <td>126</td>\n",
       "      <td>28</td>\n",
       "      <td>1</td>\n",
       "    </tr>\n",
       "    <tr>\n",
       "      <th>197</th>\n",
       "      <td>198</td>\n",
       "      <td>Male</td>\n",
       "      <td>32</td>\n",
       "      <td>126</td>\n",
       "      <td>74</td>\n",
       "      <td>3</td>\n",
       "    </tr>\n",
       "    <tr>\n",
       "      <th>198</th>\n",
       "      <td>199</td>\n",
       "      <td>Male</td>\n",
       "      <td>32</td>\n",
       "      <td>137</td>\n",
       "      <td>18</td>\n",
       "      <td>1</td>\n",
       "    </tr>\n",
       "    <tr>\n",
       "      <th>199</th>\n",
       "      <td>200</td>\n",
       "      <td>Male</td>\n",
       "      <td>30</td>\n",
       "      <td>137</td>\n",
       "      <td>83</td>\n",
       "      <td>3</td>\n",
       "    </tr>\n",
       "  </tbody>\n",
       "</table>\n",
       "<p>200 rows × 6 columns</p>\n",
       "</div>"
      ],
      "text/plain": [
       "      ID  Gender  Age  Income  Spend  Group\n",
       "0      1    Male   19      15     39      4\n",
       "1      2    Male   21      15     81      0\n",
       "2      3  Female   20      16      6      4\n",
       "3      4  Female   23      16     77      0\n",
       "4      5  Female   31      17     40      4\n",
       "..   ...     ...  ...     ...    ...    ...\n",
       "195  196  Female   35     120     79      3\n",
       "196  197  Female   45     126     28      1\n",
       "197  198    Male   32     126     74      3\n",
       "198  199    Male   32     137     18      1\n",
       "199  200    Male   30     137     83      3\n",
       "\n",
       "[200 rows x 6 columns]"
      ]
     },
     "execution_count": 6,
     "metadata": {},
     "output_type": "execute_result"
    }
   ],
   "source": [
    "# 군집 분류 병합\n",
    "group=pd.DataFrame(y_kmeans)\n",
    "group.columns=['Group']\n",
    "data=pd.concat([df,group],axis=1)\n",
    "data"
   ]
  },
  {
   "cell_type": "code",
   "execution_count": 7,
   "id": "2fd8a2ef",
   "metadata": {
    "execution": {
     "iopub.execute_input": "2022-06-30T19:27:56.889955Z",
     "iopub.status.busy": "2022-06-30T19:27:56.889423Z",
     "iopub.status.idle": "2022-06-30T19:27:56.920249Z",
     "shell.execute_reply": "2022-06-30T19:27:56.919672Z"
    },
    "papermill": {
     "duration": 0.069377,
     "end_time": "2022-06-30T19:27:56.922162",
     "exception": false,
     "start_time": "2022-06-30T19:27:56.852785",
     "status": "completed"
    },
    "tags": []
   },
   "outputs": [
    {
     "data": {
      "text/plain": [
       "array([[55.2962963 , 49.51851852],\n",
       "       [88.2       , 17.11428571],\n",
       "       [26.30434783, 20.91304348],\n",
       "       [25.72727273, 79.36363636],\n",
       "       [86.53846154, 82.12820513]])"
      ]
     },
     "execution_count": 7,
     "metadata": {},
     "output_type": "execute_result"
    }
   ],
   "source": [
    "# 중심죄표를 통해 군집의 특성 파악 및 해석\n",
    "kmeans_pred=KMeans(n_clusters=k,\n",
    "                   random_state=42).fit(X)\n",
    "# 학습만 진행한 다음 중심좌표 확인 : cluster_centers_\n",
    "kmeans_pred.cluster_centers_"
   ]
  },
  {
   "cell_type": "code",
   "execution_count": 8,
   "id": "f38fc6ed",
   "metadata": {
    "execution": {
     "iopub.execute_input": "2022-06-30T19:27:56.996166Z",
     "iopub.status.busy": "2022-06-30T19:27:56.995650Z",
     "iopub.status.idle": "2022-06-30T19:27:57.001348Z",
     "shell.execute_reply": "2022-06-30T19:27:57.000815Z"
    },
    "papermill": {
     "duration": 0.044379,
     "end_time": "2022-06-30T19:27:57.003110",
     "exception": false,
     "start_time": "2022-06-30T19:27:56.958731",
     "status": "completed"
    },
    "tags": []
   },
   "outputs": [
    {
     "data": {
      "text/plain": [
       "array([4, 3], dtype=int32)"
      ]
     },
     "execution_count": 8,
     "metadata": {},
     "output_type": "execute_result"
    }
   ],
   "source": [
    "# 새로운 데이터 예측\n",
    "kmeans_pred.predict([[100,50],[30,80]])\n",
    "# 각각 군집 4와 군집 3으로 분류"
   ]
  },
  {
   "cell_type": "code",
   "execution_count": 9,
   "id": "b38bb9db",
   "metadata": {
    "execution": {
     "iopub.execute_input": "2022-06-30T19:27:57.080184Z",
     "iopub.status.busy": "2022-06-30T19:27:57.079630Z",
     "iopub.status.idle": "2022-06-30T19:27:57.085083Z",
     "shell.execute_reply": "2022-06-30T19:27:57.084508Z"
    },
    "papermill": {
     "duration": 0.047478,
     "end_time": "2022-06-30T19:27:57.086942",
     "exception": false,
     "start_time": "2022-06-30T19:27:57.039464",
     "status": "completed"
    },
    "tags": []
   },
   "outputs": [
    {
     "data": {
      "text/plain": [
       "['Cluster 1', 'Cluster 2', 'Cluster 3', 'Cluster 4', 'Cluster 5']"
      ]
     },
     "execution_count": 9,
     "metadata": {},
     "output_type": "execute_result"
    }
   ],
   "source": [
    "cls=[('Cluster '+str(i+1)) for i in range(k)]\n",
    "cls"
   ]
  },
  {
   "cell_type": "code",
   "execution_count": 10,
   "id": "29839411",
   "metadata": {
    "execution": {
     "iopub.execute_input": "2022-06-30T19:27:57.164380Z",
     "iopub.status.busy": "2022-06-30T19:27:57.163835Z",
     "iopub.status.idle": "2022-06-30T19:27:57.418962Z",
     "shell.execute_reply": "2022-06-30T19:27:57.418369Z"
    },
    "papermill": {
     "duration": 0.295451,
     "end_time": "2022-06-30T19:27:57.420892",
     "exception": false,
     "start_time": "2022-06-30T19:27:57.125441",
     "status": "completed"
    },
    "tags": []
   },
   "outputs": [
    {
     "data": {
      "image/png": "[encoded data removed]",
      "text/plain": [
       "<Figure size 432x288 with 1 Axes>"
      ]
     },
     "metadata": {
      "needs_background": "light"
     },
     "output_type": "display_data"
    }
   ],
   "source": [
    "# 산점도\n",
    "a_X=np.array(X)\n",
    "plt.figure()\n",
    "for i in range(k):\n",
    "    plt.scatter(a_X[y_kmeans==i,0],\n",
    "                a_X[y_kmeans==i,1],\n",
    "                s=20, c=cmap(i/k),\n",
    "                label=cls[i]);"
   ]
  },
  {
   "cell_type": "code",
   "execution_count": 11,
   "id": "cd7c9d8d",
   "metadata": {
    "execution": {
     "iopub.execute_input": "2022-06-30T19:27:57.499992Z",
     "iopub.status.busy": "2022-06-30T19:27:57.499478Z",
     "iopub.status.idle": "2022-06-30T19:27:57.737948Z",
     "shell.execute_reply": "2022-06-30T19:27:57.737291Z"
    },
    "papermill": {
     "duration": 0.279568,
     "end_time": "2022-06-30T19:27:57.739830",
     "exception": false,
     "start_time": "2022-06-30T19:27:57.460262",
     "status": "completed"
    },
    "tags": []
   },
   "outputs": [
    {
     "data": {
      "image/png": "[encoded data removed]",
      "text/plain": [
       "<Figure size 432x288 with 1 Axes>"
      ]
     },
     "metadata": {
      "needs_background": "light"
     },
     "output_type": "display_data"
    }
   ],
   "source": [
    "# 군집의 중심좌표\n",
    "plt.scatter(kmeans.cluster_centers_[:,0],\n",
    "            kmeans.cluster_centers_[:,1],\n",
    "            s=100,c='black',\n",
    "            label='Centroids',marker='X')\n",
    "plt.xlabel('Income')\n",
    "plt.ylabel('Spend')\n",
    "plt.title('K-Means Cluster Plot')\n",
    "plt.legend()\n",
    "plt.show();"
   ]
  },
  {
   "cell_type": "code",
   "execution_count": 12,
   "id": "9781acae",
   "metadata": {
    "execution": {
     "iopub.execute_input": "2022-06-30T19:27:57.820305Z",
     "iopub.status.busy": "2022-06-30T19:27:57.819810Z",
     "iopub.status.idle": "2022-06-30T19:27:58.180997Z",
     "shell.execute_reply": "2022-06-30T19:27:58.180385Z"
    },
    "papermill": {
     "duration": 0.403041,
     "end_time": "2022-06-30T19:27:58.182874",
     "exception": false,
     "start_time": "2022-06-30T19:27:57.779833",
     "status": "completed"
    },
    "tags": []
   },
   "outputs": [
    {
     "data": {
      "image/png": "[encoded data removed]",
      "text/plain": [
       "<Figure size 432x288 with 1 Axes>"
      ]
     },
     "metadata": {
      "needs_background": "light"
     },
     "output_type": "display_data"
    }
   ],
   "source": [
    "plt.figure()\n",
    "for i in range(k):\n",
    "    plt.scatter(a_X[y_kmeans==i,0],\n",
    "                a_X[y_kmeans==i,1],\n",
    "                s=20, c=cmap(i/k),\n",
    "                label=cls[i]);\n",
    "    \n",
    "plt.scatter(kmeans.cluster_centers_[:,0],\n",
    "            kmeans.cluster_centers_[:,1],\n",
    "            s=100,c='black',\n",
    "            label='Centroids',marker='X')\n",
    "plt.xlabel('Income')\n",
    "plt.ylabel('Spend')\n",
    "plt.title('K-Means Cluster Plot')\n",
    "plt.legend()\n",
    "plt.show();"
   ]
  },
  {
   "cell_type": "markdown",
   "id": "b8c80b26",
   "metadata": {
    "papermill": {
     "duration": 0.039723,
     "end_time": "2022-06-30T19:27:58.262453",
     "exception": false,
     "start_time": "2022-06-30T19:27:58.222730",
     "status": "completed"
    },
    "tags": []
   },
   "source": [
    "### 군집분석 계산"
   ]
  },
  {
   "cell_type": "code",
   "execution_count": 13,
   "id": "732b3c28",
   "metadata": {
    "execution": {
     "iopub.execute_input": "2022-06-30T19:27:58.344821Z",
     "iopub.status.busy": "2022-06-30T19:27:58.344253Z",
     "iopub.status.idle": "2022-06-30T19:27:58.369445Z",
     "shell.execute_reply": "2022-06-30T19:27:58.368780Z"
    },
    "papermill": {
     "duration": 0.068826,
     "end_time": "2022-06-30T19:27:58.371491",
     "exception": false,
     "start_time": "2022-06-30T19:27:58.302665",
     "status": "completed"
    },
    "tags": []
   },
   "outputs": [
    {
     "data": {
      "text/html": [
       "<div>\n",
       "<style scoped>\n",
       "    .dataframe tbody tr th:only-of-type {\n",
       "        vertical-align: middle;\n",
       "    }\n",
       "\n",
       "    .dataframe tbody tr th {\n",
       "        vertical-align: top;\n",
       "    }\n",
       "\n",
       "    .dataframe thead th {\n",
       "        text-align: right;\n",
       "    }\n",
       "</style>\n",
       "<table border=\"1\" class=\"dataframe\">\n",
       "  <thead>\n",
       "    <tr style=\"text-align: right;\">\n",
       "      <th></th>\n",
       "      <th>sepal_length</th>\n",
       "      <th>sepal_width</th>\n",
       "      <th>petal_length</th>\n",
       "      <th>petal_width</th>\n",
       "      <th>class</th>\n",
       "    </tr>\n",
       "  </thead>\n",
       "  <tbody>\n",
       "    <tr>\n",
       "      <th>0</th>\n",
       "      <td>5.1</td>\n",
       "      <td>3.5</td>\n",
       "      <td>1.4</td>\n",
       "      <td>0.2</td>\n",
       "      <td>Iris-setosa</td>\n",
       "    </tr>\n",
       "    <tr>\n",
       "      <th>1</th>\n",
       "      <td>4.9</td>\n",
       "      <td>3.0</td>\n",
       "      <td>1.4</td>\n",
       "      <td>0.2</td>\n",
       "      <td>Iris-setosa</td>\n",
       "    </tr>\n",
       "    <tr>\n",
       "      <th>2</th>\n",
       "      <td>4.7</td>\n",
       "      <td>3.2</td>\n",
       "      <td>1.3</td>\n",
       "      <td>0.2</td>\n",
       "      <td>Iris-setosa</td>\n",
       "    </tr>\n",
       "    <tr>\n",
       "      <th>3</th>\n",
       "      <td>4.6</td>\n",
       "      <td>3.1</td>\n",
       "      <td>1.5</td>\n",
       "      <td>0.2</td>\n",
       "      <td>Iris-setosa</td>\n",
       "    </tr>\n",
       "    <tr>\n",
       "      <th>4</th>\n",
       "      <td>5.0</td>\n",
       "      <td>3.6</td>\n",
       "      <td>1.4</td>\n",
       "      <td>0.2</td>\n",
       "      <td>Iris-setosa</td>\n",
       "    </tr>\n",
       "  </tbody>\n",
       "</table>\n",
       "</div>"
      ],
      "text/plain": [
       "   sepal_length  sepal_width  petal_length  petal_width        class\n",
       "0           5.1          3.5           1.4          0.2  Iris-setosa\n",
       "1           4.9          3.0           1.4          0.2  Iris-setosa\n",
       "2           4.7          3.2           1.3          0.2  Iris-setosa\n",
       "3           4.6          3.1           1.5          0.2  Iris-setosa\n",
       "4           5.0          3.6           1.4          0.2  Iris-setosa"
      ]
     },
     "execution_count": 13,
     "metadata": {},
     "output_type": "execute_result"
    }
   ],
   "source": [
    "from scipy.spatial.distance import cdist, pdist\n",
    "from sklearn.cluster import KMeans\n",
    "from sklearn.metrics import silhouette_score\n",
    "iris=pd.read_csv('../input/big-data-certification-study/iris.csv', encoding='utf-8')\n",
    "iris.head()"
   ]
  },
  {
   "cell_type": "code",
   "execution_count": 14,
   "id": "48c33367",
   "metadata": {
    "execution": {
     "iopub.execute_input": "2022-06-30T19:27:58.453920Z",
     "iopub.status.busy": "2022-06-30T19:27:58.453386Z",
     "iopub.status.idle": "2022-06-30T19:27:58.470235Z",
     "shell.execute_reply": "2022-06-30T19:27:58.469663Z"
    },
    "papermill": {
     "duration": 0.060426,
     "end_time": "2022-06-30T19:27:58.472355",
     "exception": false,
     "start_time": "2022-06-30T19:27:58.411929",
     "status": "completed"
    },
    "tags": []
   },
   "outputs": [
    {
     "data": {
      "text/html": [
       "<div>\n",
       "<style scoped>\n",
       "    .dataframe tbody tr th:only-of-type {\n",
       "        vertical-align: middle;\n",
       "    }\n",
       "\n",
       "    .dataframe tbody tr th {\n",
       "        vertical-align: top;\n",
       "    }\n",
       "\n",
       "    .dataframe thead th {\n",
       "        text-align: right;\n",
       "    }\n",
       "</style>\n",
       "<table border=\"1\" class=\"dataframe\">\n",
       "  <thead>\n",
       "    <tr style=\"text-align: right;\">\n",
       "      <th></th>\n",
       "      <th>sepal_length</th>\n",
       "      <th>sepal_width</th>\n",
       "      <th>petal_length</th>\n",
       "      <th>petal_width</th>\n",
       "    </tr>\n",
       "  </thead>\n",
       "  <tbody>\n",
       "    <tr>\n",
       "      <th>0</th>\n",
       "      <td>5.1</td>\n",
       "      <td>3.5</td>\n",
       "      <td>1.4</td>\n",
       "      <td>0.2</td>\n",
       "    </tr>\n",
       "    <tr>\n",
       "      <th>1</th>\n",
       "      <td>4.9</td>\n",
       "      <td>3.0</td>\n",
       "      <td>1.4</td>\n",
       "      <td>0.2</td>\n",
       "    </tr>\n",
       "    <tr>\n",
       "      <th>2</th>\n",
       "      <td>4.7</td>\n",
       "      <td>3.2</td>\n",
       "      <td>1.3</td>\n",
       "      <td>0.2</td>\n",
       "    </tr>\n",
       "    <tr>\n",
       "      <th>3</th>\n",
       "      <td>4.6</td>\n",
       "      <td>3.1</td>\n",
       "      <td>1.5</td>\n",
       "      <td>0.2</td>\n",
       "    </tr>\n",
       "    <tr>\n",
       "      <th>4</th>\n",
       "      <td>5.0</td>\n",
       "      <td>3.6</td>\n",
       "      <td>1.4</td>\n",
       "      <td>0.2</td>\n",
       "    </tr>\n",
       "  </tbody>\n",
       "</table>\n",
       "</div>"
      ],
      "text/plain": [
       "   sepal_length  sepal_width  petal_length  petal_width\n",
       "0           5.1          3.5           1.4          0.2\n",
       "1           4.9          3.0           1.4          0.2\n",
       "2           4.7          3.2           1.3          0.2\n",
       "3           4.6          3.1           1.5          0.2\n",
       "4           5.0          3.6           1.4          0.2"
      ]
     },
     "execution_count": 14,
     "metadata": {},
     "output_type": "execute_result"
    }
   ],
   "source": [
    "# 군집분석은 레이블이 없어야 가능\n",
    "x_iris=iris.drop(columns=['class'])\n",
    "y_iris=iris['class']\n",
    "x_iris.head()"
   ]
  },
  {
   "cell_type": "code",
   "execution_count": 15,
   "id": "07a55c83",
   "metadata": {
    "execution": {
     "iopub.execute_input": "2022-06-30T19:27:58.557431Z",
     "iopub.status.busy": "2022-06-30T19:27:58.557149Z",
     "iopub.status.idle": "2022-06-30T19:27:58.584506Z",
     "shell.execute_reply": "2022-06-30T19:27:58.583604Z"
    },
    "papermill": {
     "duration": 0.072733,
     "end_time": "2022-06-30T19:27:58.586514",
     "exception": false,
     "start_time": "2022-06-30T19:27:58.513781",
     "status": "completed"
    },
    "tags": []
   },
   "outputs": [
    {
     "data": {
      "text/html": [
       "<div>\n",
       "<style scoped>\n",
       "    .dataframe tbody tr th:only-of-type {\n",
       "        vertical-align: middle;\n",
       "    }\n",
       "\n",
       "    .dataframe tbody tr th {\n",
       "        vertical-align: top;\n",
       "    }\n",
       "\n",
       "    .dataframe thead th {\n",
       "        text-align: right;\n",
       "    }\n",
       "</style>\n",
       "<table border=\"1\" class=\"dataframe\">\n",
       "  <thead>\n",
       "    <tr style=\"text-align: right;\">\n",
       "      <th></th>\n",
       "      <th>sepal_length</th>\n",
       "      <th>sepal_width</th>\n",
       "      <th>petal_length</th>\n",
       "      <th>petal_width</th>\n",
       "    </tr>\n",
       "  </thead>\n",
       "  <tbody>\n",
       "    <tr>\n",
       "      <th>count</th>\n",
       "      <td>150.000000</td>\n",
       "      <td>150.000000</td>\n",
       "      <td>150.000000</td>\n",
       "      <td>150.000000</td>\n",
       "    </tr>\n",
       "    <tr>\n",
       "      <th>mean</th>\n",
       "      <td>5.843333</td>\n",
       "      <td>3.054000</td>\n",
       "      <td>3.758667</td>\n",
       "      <td>1.198667</td>\n",
       "    </tr>\n",
       "    <tr>\n",
       "      <th>std</th>\n",
       "      <td>0.828066</td>\n",
       "      <td>0.433594</td>\n",
       "      <td>1.764420</td>\n",
       "      <td>0.763161</td>\n",
       "    </tr>\n",
       "    <tr>\n",
       "      <th>min</th>\n",
       "      <td>4.300000</td>\n",
       "      <td>2.000000</td>\n",
       "      <td>1.000000</td>\n",
       "      <td>0.100000</td>\n",
       "    </tr>\n",
       "    <tr>\n",
       "      <th>25%</th>\n",
       "      <td>5.100000</td>\n",
       "      <td>2.800000</td>\n",
       "      <td>1.600000</td>\n",
       "      <td>0.300000</td>\n",
       "    </tr>\n",
       "    <tr>\n",
       "      <th>50%</th>\n",
       "      <td>5.800000</td>\n",
       "      <td>3.000000</td>\n",
       "      <td>4.350000</td>\n",
       "      <td>1.300000</td>\n",
       "    </tr>\n",
       "    <tr>\n",
       "      <th>75%</th>\n",
       "      <td>6.400000</td>\n",
       "      <td>3.300000</td>\n",
       "      <td>5.100000</td>\n",
       "      <td>1.800000</td>\n",
       "    </tr>\n",
       "    <tr>\n",
       "      <th>max</th>\n",
       "      <td>7.900000</td>\n",
       "      <td>4.400000</td>\n",
       "      <td>6.900000</td>\n",
       "      <td>2.500000</td>\n",
       "    </tr>\n",
       "  </tbody>\n",
       "</table>\n",
       "</div>"
      ],
      "text/plain": [
       "       sepal_length  sepal_width  petal_length  petal_width\n",
       "count    150.000000   150.000000    150.000000   150.000000\n",
       "mean       5.843333     3.054000      3.758667     1.198667\n",
       "std        0.828066     0.433594      1.764420     0.763161\n",
       "min        4.300000     2.000000      1.000000     0.100000\n",
       "25%        5.100000     2.800000      1.600000     0.300000\n",
       "50%        5.800000     3.000000      4.350000     1.300000\n",
       "75%        6.400000     3.300000      5.100000     1.800000\n",
       "max        7.900000     4.400000      6.900000     2.500000"
      ]
     },
     "execution_count": 15,
     "metadata": {},
     "output_type": "execute_result"
    }
   ],
   "source": [
    "# 변수별 단위가 다르기 때문에 거리계산이 정확하지 않으므로\n",
    "# 데이터 정규화 필요\n",
    "x_iris.describe()"
   ]
  },
  {
   "cell_type": "code",
   "execution_count": 16,
   "id": "21884e43",
   "metadata": {
    "execution": {
     "iopub.execute_input": "2022-06-30T19:27:58.670708Z",
     "iopub.status.busy": "2022-06-30T19:27:58.670429Z",
     "iopub.status.idle": "2022-06-30T19:27:58.685289Z",
     "shell.execute_reply": "2022-06-30T19:27:58.684433Z"
    },
    "papermill": {
     "duration": 0.059438,
     "end_time": "2022-06-30T19:27:58.687321",
     "exception": false,
     "start_time": "2022-06-30T19:27:58.627883",
     "status": "completed"
    },
    "tags": []
   },
   "outputs": [
    {
     "data": {
      "text/html": [
       "<div>\n",
       "<style scoped>\n",
       "    .dataframe tbody tr th:only-of-type {\n",
       "        vertical-align: middle;\n",
       "    }\n",
       "\n",
       "    .dataframe tbody tr th {\n",
       "        vertical-align: top;\n",
       "    }\n",
       "\n",
       "    .dataframe thead th {\n",
       "        text-align: right;\n",
       "    }\n",
       "</style>\n",
       "<table border=\"1\" class=\"dataframe\">\n",
       "  <thead>\n",
       "    <tr style=\"text-align: right;\">\n",
       "      <th></th>\n",
       "      <th>0</th>\n",
       "      <th>1</th>\n",
       "      <th>2</th>\n",
       "      <th>3</th>\n",
       "    </tr>\n",
       "  </thead>\n",
       "  <tbody>\n",
       "    <tr>\n",
       "      <th>0</th>\n",
       "      <td>-0.900681</td>\n",
       "      <td>1.032057</td>\n",
       "      <td>-1.341272</td>\n",
       "      <td>-1.312977</td>\n",
       "    </tr>\n",
       "    <tr>\n",
       "      <th>1</th>\n",
       "      <td>-1.143017</td>\n",
       "      <td>-0.124958</td>\n",
       "      <td>-1.341272</td>\n",
       "      <td>-1.312977</td>\n",
       "    </tr>\n",
       "    <tr>\n",
       "      <th>2</th>\n",
       "      <td>-1.385353</td>\n",
       "      <td>0.337848</td>\n",
       "      <td>-1.398138</td>\n",
       "      <td>-1.312977</td>\n",
       "    </tr>\n",
       "    <tr>\n",
       "      <th>3</th>\n",
       "      <td>-1.506521</td>\n",
       "      <td>0.106445</td>\n",
       "      <td>-1.284407</td>\n",
       "      <td>-1.312977</td>\n",
       "    </tr>\n",
       "    <tr>\n",
       "      <th>4</th>\n",
       "      <td>-1.021849</td>\n",
       "      <td>1.263460</td>\n",
       "      <td>-1.341272</td>\n",
       "      <td>-1.312977</td>\n",
       "    </tr>\n",
       "  </tbody>\n",
       "</table>\n",
       "</div>"
      ],
      "text/plain": [
       "          0         1         2         3\n",
       "0 -0.900681  1.032057 -1.341272 -1.312977\n",
       "1 -1.143017 -0.124958 -1.341272 -1.312977\n",
       "2 -1.385353  0.337848 -1.398138 -1.312977\n",
       "3 -1.506521  0.106445 -1.284407 -1.312977\n",
       "4 -1.021849  1.263460 -1.341272 -1.312977"
      ]
     },
     "execution_count": 16,
     "metadata": {},
     "output_type": "execute_result"
    }
   ],
   "source": [
    "from sklearn.preprocessing import StandardScaler\n",
    "scale=StandardScaler()\n",
    "x_scale=scale.fit_transform(x_iris)\n",
    "pd.DataFrame(x_scale).head()"
   ]
  },
  {
   "cell_type": "code",
   "execution_count": 17,
   "id": "0263e103",
   "metadata": {
    "execution": {
     "iopub.execute_input": "2022-06-30T19:27:58.772769Z",
     "iopub.status.busy": "2022-06-30T19:27:58.772443Z",
     "iopub.status.idle": "2022-06-30T19:27:58.996640Z",
     "shell.execute_reply": "2022-06-30T19:27:58.995746Z"
    },
    "papermill": {
     "duration": 0.269788,
     "end_time": "2022-06-30T19:27:58.999010",
     "exception": false,
     "start_time": "2022-06-30T19:27:58.729222",
     "status": "completed"
    },
    "tags": []
   },
   "outputs": [],
   "source": [
    "# 군집수 학습결과 및 중심좌표\n",
    "K=range(1,10)\n",
    "km=[KMeans(n_clusters=k).fit(x_scale) for k in K]\n",
    "cen=[k.cluster_centers_ for k in km]"
   ]
  },
  {
   "cell_type": "code",
   "execution_count": 18,
   "id": "3a10eddf",
   "metadata": {
    "execution": {
     "iopub.execute_input": "2022-06-30T19:27:59.087728Z",
     "iopub.status.busy": "2022-06-30T19:27:59.087447Z",
     "iopub.status.idle": "2022-06-30T19:27:59.092429Z",
     "shell.execute_reply": "2022-06-30T19:27:59.091520Z"
    },
    "papermill": {
     "duration": 0.053316,
     "end_time": "2022-06-30T19:27:59.094510",
     "exception": false,
     "start_time": "2022-06-30T19:27:59.041194",
     "status": "completed"
    },
    "tags": []
   },
   "outputs": [],
   "source": [
    "# 유클리디안 거리 계산\n",
    "d_k=[cdist(x_iris, cents,'euclidean') for cents in cen]"
   ]
  },
  {
   "cell_type": "code",
   "execution_count": 19,
   "id": "6be95490",
   "metadata": {
    "execution": {
     "iopub.execute_input": "2022-06-30T19:27:59.179928Z",
     "iopub.status.busy": "2022-06-30T19:27:59.179657Z",
     "iopub.status.idle": "2022-06-30T19:27:59.185517Z",
     "shell.execute_reply": "2022-06-30T19:27:59.184769Z"
    },
    "papermill": {
     "duration": 0.051011,
     "end_time": "2022-06-30T19:27:59.187412",
     "exception": false,
     "start_time": "2022-06-30T19:27:59.136401",
     "status": "completed"
    },
    "tags": []
   },
   "outputs": [],
   "source": [
    "cIdx=[np.argmin(D,axis=1) for D in d_k]\n",
    "dist=[np.min(D, axis=1) for D in d_k]\n",
    "avgWithinSS=[sum(d)/x_scale.shape[0] for d in dist]\n",
    "# avgWithinSS : 군집의 중심과 각 개체간 최소 거리의 평균"
   ]
  },
  {
   "cell_type": "code",
   "execution_count": 20,
   "id": "b3eb69b1",
   "metadata": {
    "execution": {
     "iopub.execute_input": "2022-06-30T19:27:59.273133Z",
     "iopub.status.busy": "2022-06-30T19:27:59.272837Z",
     "iopub.status.idle": "2022-06-30T19:27:59.283431Z",
     "shell.execute_reply": "2022-06-30T19:27:59.282463Z"
    },
    "papermill": {
     "duration": 0.056107,
     "end_time": "2022-06-30T19:27:59.285508",
     "exception": false,
     "start_time": "2022-06-30T19:27:59.229401",
     "status": "completed"
    },
    "tags": []
   },
   "outputs": [
    {
     "data": {
      "text/plain": [
       "array([-8936.2       , -7659.55373108, -5866.21358604, -5866.21358604,\n",
       "       -5244.2583964 , -4379.39946164, -4379.39946164, -3248.04689512,\n",
       "       -3248.04689512])"
      ]
     },
     "execution_count": 20,
     "metadata": {},
     "output_type": "execute_result"
    }
   ],
   "source": [
    "wcss=[sum(d**2) for d in dist]\n",
    "# wcss : 군집 내 각 개체간 거리의 제곱합\n",
    "tss=sum(pdist(x_scale)**2)/x_scale.shape[0]\n",
    "# tss : 전체 개체간 거리의 제곱합을 개체수로 나눈 값\n",
    "bss=tss-wcss\n",
    "bss"
   ]
  },
  {
   "cell_type": "code",
   "execution_count": 21,
   "id": "4da5e3fa",
   "metadata": {
    "execution": {
     "iopub.execute_input": "2022-06-30T19:27:59.373376Z",
     "iopub.status.busy": "2022-06-30T19:27:59.373027Z",
     "iopub.status.idle": "2022-06-30T19:27:59.611768Z",
     "shell.execute_reply": "2022-06-30T19:27:59.610992Z"
    },
    "papermill": {
     "duration": 0.285297,
     "end_time": "2022-06-30T19:27:59.614009",
     "exception": false,
     "start_time": "2022-06-30T19:27:59.328712",
     "status": "completed"
    },
    "tags": []
   },
   "outputs": [
    {
     "data": {
      "image/png": "[encoded data removed]",
      "text/plain": [
       "<Figure size 432x288 with 1 Axes>"
      ]
     },
     "metadata": {
      "needs_background": "light"
     },
     "output_type": "display_data"
    }
   ],
   "source": [
    "# Elbow Curve - Average Within Cluster Sum of Squares\n",
    "fig = plt.figure()\n",
    "ax=fig.add_subplot(111)\n",
    "ax.plot(K, avgWithinSS, 'b*-')\n",
    "plt.grid(True)\n",
    "plt.xlabel('Number of Clsters')\n",
    "plt.ylabel('Average Within Cluster Sum of Squares')\n",
    "plt.title('Elbow for KMeans Clustering');\n",
    "\n",
    "# 군집수는 4 또는 6이 적절"
   ]
  },
  {
   "cell_type": "code",
   "execution_count": 22,
   "id": "25668075",
   "metadata": {
    "execution": {
     "iopub.execute_input": "2022-06-30T19:27:59.704236Z",
     "iopub.status.busy": "2022-06-30T19:27:59.703686Z",
     "iopub.status.idle": "2022-06-30T19:27:59.944135Z",
     "shell.execute_reply": "2022-06-30T19:27:59.942879Z"
    },
    "papermill": {
     "duration": 0.287301,
     "end_time": "2022-06-30T19:27:59.946299",
     "exception": false,
     "start_time": "2022-06-30T19:27:59.658998",
     "status": "completed"
    },
    "tags": []
   },
   "outputs": [
    {
     "data": {
      "image/png": "[encoded data removed]",
      "text/plain": [
       "<Figure size 432x288 with 1 Axes>"
      ]
     },
     "metadata": {
      "needs_background": "light"
     },
     "output_type": "display_data"
    }
   ],
   "source": [
    "# Elbow Curve - Percentage of Variance Explained\n",
    "fig = plt.figure()\n",
    "ax=fig.add_subplot(111)\n",
    "ax.plot(K, bss/tss*100, 'b*-')\n",
    "plt.grid(True)\n",
    "plt.xlabel('Number of Clsters')\n",
    "plt.ylabel('Percentage of Variance Explained')\n",
    "plt.title('Elbow for KMeans Clustering');"
   ]
  },
  {
   "cell_type": "code",
   "execution_count": 23,
   "id": "031d3b05",
   "metadata": {
    "execution": {
     "iopub.execute_input": "2022-06-30T19:28:00.039133Z",
     "iopub.status.busy": "2022-06-30T19:28:00.038824Z",
     "iopub.status.idle": "2022-06-30T19:28:00.047587Z",
     "shell.execute_reply": "2022-06-30T19:28:00.046682Z"
    },
    "papermill": {
     "duration": 0.058789,
     "end_time": "2022-06-30T19:28:00.050764",
     "exception": false,
     "start_time": "2022-06-30T19:27:59.991975",
     "status": "completed"
    },
    "tags": []
   },
   "outputs": [
    {
     "name": "stdout",
     "output_type": "stream",
     "text": [
      "\n",
      "Eigen-Values\n",
      " [1.57253666 0.03783334]\n",
      "\n",
      "Eigen-Vectors\n",
      " [[ 0.75530088 -0.6553782 ]\n",
      " [ 0.6553782   0.75530088]]\n"
     ]
    }
   ],
   "source": [
    "# Calculation of Eigen-Vectors & Eigen-Values\n",
    "w, v=np.linalg.eig(np.array([[0.91335,0.75969],[0.75969,0.69702]]))\n",
    "print('\\nEigen-Values\\n',w)\n",
    "print('\\nEigen-Vectors\\n',v)\n",
    "\n",
    "# 고유값 계산 시 특정데이터의 군집에서의 위치를 파악 가능"
   ]
  },
  {
   "cell_type": "code",
   "execution_count": 24,
   "id": "a5d7cab5",
   "metadata": {
    "execution": {
     "iopub.execute_input": "2022-06-30T19:28:00.144814Z",
     "iopub.status.busy": "2022-06-30T19:28:00.144545Z",
     "iopub.status.idle": "2022-06-30T19:28:00.177503Z",
     "shell.execute_reply": "2022-06-30T19:28:00.176658Z"
    },
    "papermill": {
     "duration": 0.08161,
     "end_time": "2022-06-30T19:28:00.179865",
     "exception": false,
     "start_time": "2022-06-30T19:28:00.098255",
     "status": "completed"
    },
    "tags": []
   },
   "outputs": [
    {
     "data": {
      "text/plain": [
       "KMeans(n_clusters=4)"
      ]
     },
     "execution_count": 24,
     "metadata": {},
     "output_type": "execute_result"
    }
   ],
   "source": [
    "# 군집수 4로 결정\n",
    "k_fit=KMeans(n_clusters=4,max_iter=300)\n",
    "k_fit.fit(x_scale)"
   ]
  },
  {
   "cell_type": "code",
   "execution_count": 25,
   "id": "040200f1",
   "metadata": {
    "execution": {
     "iopub.execute_input": "2022-06-30T19:28:00.271719Z",
     "iopub.status.busy": "2022-06-30T19:28:00.271440Z",
     "iopub.status.idle": "2022-06-30T19:28:00.276971Z",
     "shell.execute_reply": "2022-06-30T19:28:00.276191Z"
    },
    "papermill": {
     "duration": 0.054619,
     "end_time": "2022-06-30T19:28:00.279648",
     "exception": false,
     "start_time": "2022-06-30T19:28:00.225029",
     "status": "completed"
    },
    "tags": []
   },
   "outputs": [
    {
     "data": {
      "text/plain": [
       "array([[-0.01139555, -0.87288504,  0.37688422,  0.31165355],\n",
       "       [-1.28213558,  0.22643209, -1.30968035, -1.29836862],\n",
       "       [-0.70049078,  1.56529014, -1.29924123, -1.20436862],\n",
       "       [ 1.16743407,  0.15377779,  1.00314548,  1.02963256]])"
      ]
     },
     "execution_count": 25,
     "metadata": {},
     "output_type": "execute_result"
    }
   ],
   "source": [
    "k_fit.cluster_centers_\n",
    "# 세 번째 군집이 꽃 받침의 길이 및 너비가 가장 큰 꽃의 군집"
   ]
  },
  {
   "cell_type": "code",
   "execution_count": 26,
   "id": "1f962470",
   "metadata": {
    "execution": {
     "iopub.execute_input": "2022-06-30T19:28:00.374872Z",
     "iopub.status.busy": "2022-06-30T19:28:00.374602Z",
     "iopub.status.idle": "2022-06-30T19:28:00.399116Z",
     "shell.execute_reply": "2022-06-30T19:28:00.397860Z"
    },
    "papermill": {
     "duration": 0.076391,
     "end_time": "2022-06-30T19:28:00.402169",
     "exception": false,
     "start_time": "2022-06-30T19:28:00.325778",
     "status": "completed"
    },
    "tags": []
   },
   "outputs": [
    {
     "name": "stdout",
     "output_type": "stream",
     "text": [
      "\n",
      "K-Means Clustering - Confusion Matrix\n",
      "\n",
      " Predicted         0   1   2   3\n",
      "Actuall                        \n",
      "Iris-setosa       0  27  23   0\n",
      "Iris-versicolor  39   0   0  11\n",
      "Iris-virginica   17   0   0  33\n"
     ]
    }
   ],
   "source": [
    "# 세 종류의 꽃과 나누어진 네 개의 군집간 일치 정도를 교차표로 확인\n",
    "print('\\nK-Means Clustering - Confusion Matrix\\n\\n',\n",
    "pd.crosstab(y_iris,k_fit.labels_,\n",
    "                rownames=['Actuall'],\n",
    "                colnames=['Predicted']))"
   ]
  },
  {
   "cell_type": "markdown",
   "id": "fe7fac93",
   "metadata": {
    "papermill": {
     "duration": 0.04657,
     "end_time": "2022-06-30T19:28:00.495284",
     "exception": false,
     "start_time": "2022-06-30T19:28:00.448714",
     "status": "completed"
    },
    "tags": []
   },
   "source": [
    "### Silhouette Score"
   ]
  },
  {
   "cell_type": "code",
   "execution_count": 27,
   "id": "db212222",
   "metadata": {
    "execution": {
     "iopub.execute_input": "2022-06-30T19:28:00.588471Z",
     "iopub.status.busy": "2022-06-30T19:28:00.588190Z",
     "iopub.status.idle": "2022-06-30T19:28:00.628211Z",
     "shell.execute_reply": "2022-06-30T19:28:00.626383Z"
    },
    "papermill": {
     "duration": 0.089437,
     "end_time": "2022-06-30T19:28:00.630526",
     "exception": false,
     "start_time": "2022-06-30T19:28:00.541089",
     "status": "completed"
    },
    "tags": []
   },
   "outputs": [
    {
     "name": "stdout",
     "output_type": "stream",
     "text": [
      "Silhouette Score: 0.350\n"
     ]
    }
   ],
   "source": [
    "print('Silhouette Score: %0.3f' %\n",
    "      silhouette_score(x_iris,\n",
    "                       k_fit.labels_,\n",
    "                       metric='euclidean'))"
   ]
  },
  {
   "cell_type": "code",
   "execution_count": 28,
   "id": "79187829",
   "metadata": {
    "execution": {
     "iopub.execute_input": "2022-06-30T19:28:00.724916Z",
     "iopub.status.busy": "2022-06-30T19:28:00.724556Z",
     "iopub.status.idle": "2022-06-30T19:28:01.926376Z",
     "shell.execute_reply": "2022-06-30T19:28:01.924271Z"
    },
    "papermill": {
     "duration": 1.252032,
     "end_time": "2022-06-30T19:28:01.929305",
     "exception": false,
     "start_time": "2022-06-30T19:28:00.677273",
     "status": "completed"
    },
    "tags": []
   },
   "outputs": [
    {
     "name": "stdout",
     "output_type": "stream",
     "text": [
      "For K Value 2 Silhouette Score : 0.681\n",
      "For K Value 3 Silhouette Score : 0.553\n",
      "For K Value 4 Silhouette Score : 0.498\n",
      "For K Value 5 Silhouette Score : 0.489\n",
      "For K Value 6 Silhouette Score : 0.367\n",
      "For K Value 7 Silhouette Score : 0.360\n",
      "For K Value 8 Silhouette Score : 0.339\n",
      "For K Value 9 Silhouette Score : 0.352\n",
      "For K Value 10 Silhouette Score : 0.319\n"
     ]
    }
   ],
   "source": [
    "for k in range(2,11):\n",
    "    kmeans=KMeans(n_clusters=k,max_iter=300)\n",
    "    kmeans.fit(x_iris)\n",
    "    print('For K Value',k,'Silhouette Score : %0.3f' %\n",
    "          silhouette_score(x_iris,kmeans.labels_,\n",
    "                           metric='euclidean'))"
   ]
  }
 ],
 "metadata": {
  "kernelspec": {
   "display_name": "Python 3",
   "language": "python",
   "name": "python3"
  },
  "language_info": {
   "codemirror_mode": {
    "name": "ipython",
    "version": 3
   },
   "file_extension": ".py",
   "mimetype": "text/x-python",
   "name": "python",
   "nbconvert_exporter": "python",
   "pygments_lexer": "ipython3",
   "version": "3.7.12"
  },
  "papermill": {
   "default_parameters": {},
   "duration": 19.441555,
   "end_time": "2022-06-30T19:28:02.804201",
   "environment_variables": {},
   "exception": null,
   "input_path": "__notebook__.ipynb",
   "output_path": "__notebook__.ipynb",
   "parameters": {},
   "start_time": "2022-06-30T19:27:43.362646",
   "version": "2.3.4"
  }
 },
 "nbformat": 4,
 "nbformat_minor": 5
}
