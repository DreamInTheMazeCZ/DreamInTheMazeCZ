{
 "cells": [
  {
   "cell_type": "markdown",
   "id": "ea9f7578",
   "metadata": {
    "papermill": {
     "duration": 0.019294,
     "end_time": "2022-06-27T16:33:31.117524",
     "exception": false,
     "start_time": "2022-06-27T16:33:31.098230",
     "status": "completed"
    },
    "tags": []
   },
   "source": [
    "### sklearn.ensemble.AdaBoostClassifier\n",
    "### sklearn.ensemble.AdaBoostRegressor\n",
    "### sklearn.ensemble.GradientBoostingClassifier\n",
    "### sklearn.ensemble.GradientBoostingRegressor\n",
    "\n",
    "- 여러 약한 학습기를 순차적(직렬식)으로 학습시켜 예측하면서 잘못 예측한 데이터에 가중치를 부여하여 오류를 개선해 나가며 학습하는 앙상블 모델\n",
    "\n",
    "#### 주요 Hyperparameter\n",
    "- base_estimator : 기저 모델\n",
    "- n_estimators : 부트스트랩 데이터셋 수\n",
    "\n",
    "##### AdaBoostClassifier(base_estimator=None, *, n_estimators=10, learning_rate=1.0, algorithm='SAMME.R', random_state=None)\n",
    "##### AdaBoostRegressor(base_estimator=None, *, n_estimators=10, learning_rate=1.0, loss='linear', random_state=None)\n",
    "\n",
    "##### GradientBoostingClassifier(*, loss='deviance', learning_rate=0.1, n_estimators=100, subsample=1.0, criterion='friedman_mse', min_samples_split=2, min_samples_leaf=1, min_weight_fraction_leaf=0.0, max_depth=3, min_impurity_decrease=0.0, min_impurity_split=None, init=None, random_state=None, max_features=None, verbose=0, max_leaf_nodes=None, warm_start=False, validation_fraction=0.1, n_iter_no_change=None, tol=0.0001, ccp_alpha=0.0)\n",
    "##### GradientBoostingRegressor(*, loss='ls', learning_rate=0.1, n_estimators=100, subsample=1.0, criterion='friedman_mse', min_samples_split=2, min_samples_leaf=1, min_weight_fraction_leaf=0.0, max_depth=3, min_impurity_decrease=0.0, min_impurity_split=None, init=None, random_state=None, max_features=None, alpha=0.9, verbose=0, max_leaf_nodes=None, warm_start=False, validation_fraction=0.1, n_iter_no_change=None, tol=0.0001, ccp_alpha=0.0)"
   ]
  },
  {
   "cell_type": "markdown",
   "id": "757cd1b0",
   "metadata": {
    "papermill": {
     "duration": 0.017659,
     "end_time": "2022-06-27T16:33:31.154544",
     "exception": false,
     "start_time": "2022-06-27T16:33:31.136885",
     "status": "completed"
    },
    "tags": []
   },
   "source": [
    "# 분석 코드 - Classification\n",
    "### AdaBoost"
   ]
  },
  {
   "cell_type": "code",
   "execution_count": 1,
   "id": "25b4afed",
   "metadata": {
    "execution": {
     "iopub.execute_input": "2022-06-27T16:33:31.193085Z",
     "iopub.status.busy": "2022-06-27T16:33:31.192314Z",
     "iopub.status.idle": "2022-06-27T16:33:32.496199Z",
     "shell.execute_reply": "2022-06-27T16:33:32.495623Z"
    },
    "papermill": {
     "duration": 1.325732,
     "end_time": "2022-06-27T16:33:32.498309",
     "exception": false,
     "start_time": "2022-06-27T16:33:31.172577",
     "status": "completed"
    },
    "tags": []
   },
   "outputs": [
    {
     "data": {
      "text/html": [
       "<div>\n",
       "<style scoped>\n",
       "    .dataframe tbody tr th:only-of-type {\n",
       "        vertical-align: middle;\n",
       "    }\n",
       "\n",
       "    .dataframe tbody tr th {\n",
       "        vertical-align: top;\n",
       "    }\n",
       "\n",
       "    .dataframe thead th {\n",
       "        text-align: right;\n",
       "    }\n",
       "</style>\n",
       "<table border=\"1\" class=\"dataframe\">\n",
       "  <thead>\n",
       "    <tr style=\"text-align: right;\">\n",
       "      <th></th>\n",
       "      <th>code</th>\n",
       "      <th>Clump_Thickness</th>\n",
       "      <th>Cell_Size</th>\n",
       "      <th>Cell_Shape</th>\n",
       "      <th>Marginal_Adhesion</th>\n",
       "      <th>Single_Epithelial_Cell_Size</th>\n",
       "      <th>Bare_Nuclei</th>\n",
       "      <th>Bland_Chromatin</th>\n",
       "      <th>Normal_Nucleoli</th>\n",
       "      <th>Mitoses</th>\n",
       "      <th>Class</th>\n",
       "    </tr>\n",
       "  </thead>\n",
       "  <tbody>\n",
       "    <tr>\n",
       "      <th>0</th>\n",
       "      <td>1000025</td>\n",
       "      <td>5</td>\n",
       "      <td>1</td>\n",
       "      <td>1</td>\n",
       "      <td>1</td>\n",
       "      <td>2</td>\n",
       "      <td>1</td>\n",
       "      <td>3</td>\n",
       "      <td>1</td>\n",
       "      <td>1</td>\n",
       "      <td>0</td>\n",
       "    </tr>\n",
       "    <tr>\n",
       "      <th>1</th>\n",
       "      <td>1002945</td>\n",
       "      <td>5</td>\n",
       "      <td>4</td>\n",
       "      <td>4</td>\n",
       "      <td>5</td>\n",
       "      <td>7</td>\n",
       "      <td>10</td>\n",
       "      <td>3</td>\n",
       "      <td>2</td>\n",
       "      <td>1</td>\n",
       "      <td>0</td>\n",
       "    </tr>\n",
       "    <tr>\n",
       "      <th>2</th>\n",
       "      <td>1015425</td>\n",
       "      <td>3</td>\n",
       "      <td>1</td>\n",
       "      <td>1</td>\n",
       "      <td>1</td>\n",
       "      <td>2</td>\n",
       "      <td>2</td>\n",
       "      <td>3</td>\n",
       "      <td>1</td>\n",
       "      <td>1</td>\n",
       "      <td>0</td>\n",
       "    </tr>\n",
       "    <tr>\n",
       "      <th>3</th>\n",
       "      <td>1016277</td>\n",
       "      <td>6</td>\n",
       "      <td>8</td>\n",
       "      <td>8</td>\n",
       "      <td>1</td>\n",
       "      <td>3</td>\n",
       "      <td>4</td>\n",
       "      <td>3</td>\n",
       "      <td>7</td>\n",
       "      <td>1</td>\n",
       "      <td>0</td>\n",
       "    </tr>\n",
       "    <tr>\n",
       "      <th>4</th>\n",
       "      <td>1017023</td>\n",
       "      <td>4</td>\n",
       "      <td>1</td>\n",
       "      <td>1</td>\n",
       "      <td>3</td>\n",
       "      <td>2</td>\n",
       "      <td>1</td>\n",
       "      <td>3</td>\n",
       "      <td>1</td>\n",
       "      <td>1</td>\n",
       "      <td>0</td>\n",
       "    </tr>\n",
       "  </tbody>\n",
       "</table>\n",
       "</div>"
      ],
      "text/plain": [
       "      code  Clump_Thickness  Cell_Size  Cell_Shape  Marginal_Adhesion  \\\n",
       "0  1000025                5          1           1                  1   \n",
       "1  1002945                5          4           4                  5   \n",
       "2  1015425                3          1           1                  1   \n",
       "3  1016277                6          8           8                  1   \n",
       "4  1017023                4          1           1                  3   \n",
       "\n",
       "   Single_Epithelial_Cell_Size  Bare_Nuclei  Bland_Chromatin  Normal_Nucleoli  \\\n",
       "0                            2            1                3                1   \n",
       "1                            7           10                3                2   \n",
       "2                            2            2                3                1   \n",
       "3                            3            4                3                7   \n",
       "4                            2            1                3                1   \n",
       "\n",
       "   Mitoses  Class  \n",
       "0        1      0  \n",
       "1        1      0  \n",
       "2        1      0  \n",
       "3        1      0  \n",
       "4        1      0  "
      ]
     },
     "execution_count": 1,
     "metadata": {},
     "output_type": "execute_result"
    }
   ],
   "source": [
    "# 라이브러리 및 데이터 로드\n",
    "import warnings\n",
    "warnings.filterwarnings('ignore')\n",
    "import pandas as pd\n",
    "import numpy as np\n",
    "import matplotlib.pyplot as plt\n",
    "from scipy.stats import randint\n",
    "from sklearn.model_selection import train_test_split, GridSearchCV, RandomizedSearchCV\n",
    "from sklearn.preprocessing import MinMaxScaler, StandardScaler, LabelEncoder\n",
    "from sklearn.ensemble import AdaBoostClassifier, AdaBoostRegressor, GradientBoostingClassifier, GradientBoostingRegressor\n",
    "from sklearn.metrics import classification_report, confusion_matrix, mean_squared_error, accuracy_score\n",
    "\n",
    "df = pd.read_csv('../input/big-data-certification-study/breast-cancer-wisconsin.csv', encoding='utf-8')\n",
    "df.head()"
   ]
  },
  {
   "cell_type": "code",
   "execution_count": 2,
   "id": "8afea5b5",
   "metadata": {
    "execution": {
     "iopub.execute_input": "2022-06-27T16:33:32.539245Z",
     "iopub.status.busy": "2022-06-27T16:33:32.538749Z",
     "iopub.status.idle": "2022-06-27T16:33:32.557033Z",
     "shell.execute_reply": "2022-06-27T16:33:32.556388Z"
    },
    "papermill": {
     "duration": 0.04078,
     "end_time": "2022-06-27T16:33:32.559056",
     "exception": false,
     "start_time": "2022-06-27T16:33:32.518276",
     "status": "completed"
    },
    "tags": []
   },
   "outputs": [],
   "source": [
    "# 데이터 분리\n",
    "X=df.drop(columns=['code','Class'])\n",
    "y=df[['Class']]\n",
    "X_train,X_test,y_train,y_test=train_test_split(X,y,stratify=y,random_state=42)"
   ]
  },
  {
   "cell_type": "code",
   "execution_count": 3,
   "id": "d6293bba",
   "metadata": {
    "execution": {
     "iopub.execute_input": "2022-06-27T16:33:32.598176Z",
     "iopub.status.busy": "2022-06-27T16:33:32.597720Z",
     "iopub.status.idle": "2022-06-27T16:33:32.605843Z",
     "shell.execute_reply": "2022-06-27T16:33:32.605237Z"
    },
    "papermill": {
     "duration": 0.02992,
     "end_time": "2022-06-27T16:33:32.607651",
     "exception": false,
     "start_time": "2022-06-27T16:33:32.577731",
     "status": "completed"
    },
    "tags": []
   },
   "outputs": [],
   "source": [
    "# 정규화\n",
    "scaler=MinMaxScaler()\n",
    "scaler.fit(X_train)\n",
    "mm_X_train=scaler.transform(X_train)\n",
    "mm_X_test=scaler.transform(X_test)"
   ]
  },
  {
   "cell_type": "code",
   "execution_count": 4,
   "id": "de430009",
   "metadata": {
    "execution": {
     "iopub.execute_input": "2022-06-27T16:33:32.647371Z",
     "iopub.status.busy": "2022-06-27T16:33:32.646871Z",
     "iopub.status.idle": "2022-06-27T16:33:32.833644Z",
     "shell.execute_reply": "2022-06-27T16:33:32.832891Z"
    },
    "papermill": {
     "duration": 0.208695,
     "end_time": "2022-06-27T16:33:32.835565",
     "exception": false,
     "start_time": "2022-06-27T16:33:32.626870",
     "status": "completed"
    },
    "tags": []
   },
   "outputs": [
    {
     "data": {
      "text/plain": [
       "1.0"
      ]
     },
     "execution_count": 4,
     "metadata": {},
     "output_type": "execute_result"
    }
   ],
   "source": [
    "# 모델 적용\n",
    "model=AdaBoostClassifier(n_estimators=100, random_state=0)\n",
    "model.fit(mm_X_train, y_train)\n",
    "x_pred=model.predict(mm_X_train)\n",
    "model.score(mm_X_train, y_train)\n",
    "\n",
    "# 훈련데이터의 오류를 해결하는 방식이므로 과대적합 가능성 높음"
   ]
  },
  {
   "cell_type": "code",
   "execution_count": 5,
   "id": "468cd9ac",
   "metadata": {
    "execution": {
     "iopub.execute_input": "2022-06-27T16:33:32.875269Z",
     "iopub.status.busy": "2022-06-27T16:33:32.874798Z",
     "iopub.status.idle": "2022-06-27T16:33:32.886740Z",
     "shell.execute_reply": "2022-06-27T16:33:32.886149Z"
    },
    "papermill": {
     "duration": 0.03462,
     "end_time": "2022-06-27T16:33:32.889211",
     "exception": false,
     "start_time": "2022-06-27T16:33:32.854591",
     "status": "completed"
    },
    "tags": []
   },
   "outputs": [
    {
     "name": "stdout",
     "output_type": "stream",
     "text": [
      "혼동행렬 :\n",
      " [[333   0]\n",
      " [  0 179]] \n",
      " 분류예측 보고서 :\n",
      "               precision    recall  f1-score   support\n",
      "\n",
      "           0       1.00      1.00      1.00       333\n",
      "           1       1.00      1.00      1.00       179\n",
      "\n",
      "    accuracy                           1.00       512\n",
      "   macro avg       1.00      1.00      1.00       512\n",
      "weighted avg       1.00      1.00      1.00       512\n",
      " \n",
      "\n",
      "\n"
     ]
    }
   ],
   "source": [
    "# 혼동행렬, 분류예측 보고서\n",
    "cm_train=confusion_matrix(y_train,x_pred)\n",
    "cfr_train=classification_report(y_train,x_pred)\n",
    "print('혼동행렬 :\\n',cm_train,'\\n',\n",
    "      '분류예측 보고서 :\\n',cfr_train,'\\n\\n')"
   ]
  },
  {
   "cell_type": "code",
   "execution_count": 6,
   "id": "d1dd0381",
   "metadata": {
    "execution": {
     "iopub.execute_input": "2022-06-27T16:33:32.933217Z",
     "iopub.status.busy": "2022-06-27T16:33:32.932650Z",
     "iopub.status.idle": "2022-06-27T16:33:32.953094Z",
     "shell.execute_reply": "2022-06-27T16:33:32.952400Z"
    },
    "papermill": {
     "duration": 0.043104,
     "end_time": "2022-06-27T16:33:32.954832",
     "exception": false,
     "start_time": "2022-06-27T16:33:32.911728",
     "status": "completed"
    },
    "tags": []
   },
   "outputs": [
    {
     "data": {
      "text/plain": [
       "0.9532163742690059"
      ]
     },
     "execution_count": 6,
     "metadata": {},
     "output_type": "execute_result"
    }
   ],
   "source": [
    "y_pred=model.predict(mm_X_test)\n",
    "accuracy_score(y_test,y_pred)"
   ]
  },
  {
   "cell_type": "code",
   "execution_count": 7,
   "id": "895cf144",
   "metadata": {
    "execution": {
     "iopub.execute_input": "2022-06-27T16:33:32.995406Z",
     "iopub.status.busy": "2022-06-27T16:33:32.994845Z",
     "iopub.status.idle": "2022-06-27T16:33:33.004685Z",
     "shell.execute_reply": "2022-06-27T16:33:33.004097Z"
    },
    "papermill": {
     "duration": 0.032983,
     "end_time": "2022-06-27T16:33:33.007144",
     "exception": false,
     "start_time": "2022-06-27T16:33:32.974161",
     "status": "completed"
    },
    "tags": []
   },
   "outputs": [
    {
     "name": "stdout",
     "output_type": "stream",
     "text": [
      "혼동행렬 :\n",
      " [[106   5]\n",
      " [  3  57]] \n",
      " 분류예측 보고서 :\n",
      "               precision    recall  f1-score   support\n",
      "\n",
      "           0       0.97      0.95      0.96       111\n",
      "           1       0.92      0.95      0.93        60\n",
      "\n",
      "    accuracy                           0.95       171\n",
      "   macro avg       0.95      0.95      0.95       171\n",
      "weighted avg       0.95      0.95      0.95       171\n",
      " \n",
      "\n",
      "\n"
     ]
    }
   ],
   "source": [
    "# 혼동행렬, 분류예측 보고서\n",
    "cm_train=confusion_matrix(y_test,y_pred)\n",
    "cfr_train=classification_report(y_test,y_pred)\n",
    "print('혼동행렬 :\\n',cm_train,'\\n',\n",
    "      '분류예측 보고서 :\\n',cfr_train,'\\n\\n')"
   ]
  },
  {
   "cell_type": "markdown",
   "id": "8c4c358b",
   "metadata": {
    "papermill": {
     "duration": 0.02014,
     "end_time": "2022-06-27T16:33:33.048580",
     "exception": false,
     "start_time": "2022-06-27T16:33:33.028440",
     "status": "completed"
    },
    "tags": []
   },
   "source": [
    "### GradientBoosting"
   ]
  },
  {
   "cell_type": "code",
   "execution_count": 8,
   "id": "59306747",
   "metadata": {
    "execution": {
     "iopub.execute_input": "2022-06-27T16:33:33.089951Z",
     "iopub.status.busy": "2022-06-27T16:33:33.089420Z",
     "iopub.status.idle": "2022-06-27T16:33:33.145832Z",
     "shell.execute_reply": "2022-06-27T16:33:33.144828Z"
    },
    "papermill": {
     "duration": 0.079539,
     "end_time": "2022-06-27T16:33:33.147928",
     "exception": false,
     "start_time": "2022-06-27T16:33:33.068389",
     "status": "completed"
    },
    "tags": []
   },
   "outputs": [
    {
     "data": {
      "text/plain": [
       "0.984375"
      ]
     },
     "execution_count": 8,
     "metadata": {},
     "output_type": "execute_result"
    }
   ],
   "source": [
    "# 모델 적용\n",
    "model=GradientBoostingClassifier(n_estimators=100,\n",
    "                                 learning_rate=0.1,\n",
    "                                 max_depth=1, random_state=0)\n",
    "model.fit(mm_X_train, y_train)\n",
    "x_pred=model.predict(mm_X_train)\n",
    "model.score(mm_X_train, y_train)\n",
    "\n",
    "# 훈련데이터의 오류를 해결하는 방식이므로 과대적합 가능성 높음"
   ]
  },
  {
   "cell_type": "code",
   "execution_count": 9,
   "id": "3a4ae962",
   "metadata": {
    "execution": {
     "iopub.execute_input": "2022-06-27T16:33:33.192691Z",
     "iopub.status.busy": "2022-06-27T16:33:33.191884Z",
     "iopub.status.idle": "2022-06-27T16:33:33.205294Z",
     "shell.execute_reply": "2022-06-27T16:33:33.204203Z"
    },
    "papermill": {
     "duration": 0.038885,
     "end_time": "2022-06-27T16:33:33.207405",
     "exception": false,
     "start_time": "2022-06-27T16:33:33.168520",
     "status": "completed"
    },
    "tags": []
   },
   "outputs": [
    {
     "name": "stdout",
     "output_type": "stream",
     "text": [
      "혼동행렬 :\n",
      " [[329   4]\n",
      " [  4 175]] \n",
      " 분류예측 보고서 :\n",
      "               precision    recall  f1-score   support\n",
      "\n",
      "           0       0.99      0.99      0.99       333\n",
      "           1       0.98      0.98      0.98       179\n",
      "\n",
      "    accuracy                           0.98       512\n",
      "   macro avg       0.98      0.98      0.98       512\n",
      "weighted avg       0.98      0.98      0.98       512\n",
      " \n",
      "\n",
      "\n"
     ]
    }
   ],
   "source": [
    "# 혼동행렬, 분류예측 보고서\n",
    "cm_train=confusion_matrix(y_train,x_pred)\n",
    "cfr_train=classification_report(y_train,x_pred)\n",
    "print('혼동행렬 :\\n',cm_train,'\\n',\n",
    "      '분류예측 보고서 :\\n',cfr_train,'\\n\\n')"
   ]
  },
  {
   "cell_type": "code",
   "execution_count": 10,
   "id": "cde91863",
   "metadata": {
    "execution": {
     "iopub.execute_input": "2022-06-27T16:33:33.249883Z",
     "iopub.status.busy": "2022-06-27T16:33:33.249382Z",
     "iopub.status.idle": "2022-06-27T16:33:33.256043Z",
     "shell.execute_reply": "2022-06-27T16:33:33.255481Z"
    },
    "papermill": {
     "duration": 0.029832,
     "end_time": "2022-06-27T16:33:33.257658",
     "exception": false,
     "start_time": "2022-06-27T16:33:33.227826",
     "status": "completed"
    },
    "tags": []
   },
   "outputs": [
    {
     "data": {
      "text/plain": [
       "0.9649122807017544"
      ]
     },
     "execution_count": 10,
     "metadata": {},
     "output_type": "execute_result"
    }
   ],
   "source": [
    "y_pred=model.predict(mm_X_test)\n",
    "accuracy_score(y_test,y_pred)"
   ]
  },
  {
   "cell_type": "code",
   "execution_count": 11,
   "id": "d4698e35",
   "metadata": {
    "execution": {
     "iopub.execute_input": "2022-06-27T16:33:33.301177Z",
     "iopub.status.busy": "2022-06-27T16:33:33.300660Z",
     "iopub.status.idle": "2022-06-27T16:33:33.312211Z",
     "shell.execute_reply": "2022-06-27T16:33:33.311344Z"
    },
    "papermill": {
     "duration": 0.035793,
     "end_time": "2022-06-27T16:33:33.314283",
     "exception": false,
     "start_time": "2022-06-27T16:33:33.278490",
     "status": "completed"
    },
    "tags": []
   },
   "outputs": [
    {
     "name": "stdout",
     "output_type": "stream",
     "text": [
      "혼동행렬 :\n",
      " [[106   5]\n",
      " [  1  59]] \n",
      " 분류예측 보고서 :\n",
      "               precision    recall  f1-score   support\n",
      "\n",
      "           0       0.99      0.95      0.97       111\n",
      "           1       0.92      0.98      0.95        60\n",
      "\n",
      "    accuracy                           0.96       171\n",
      "   macro avg       0.96      0.97      0.96       171\n",
      "weighted avg       0.97      0.96      0.97       171\n",
      " \n",
      "\n",
      "\n"
     ]
    }
   ],
   "source": [
    "# 혼동행렬, 분류예측 보고서\n",
    "cm_train=confusion_matrix(y_test,y_pred)\n",
    "cfr_train=classification_report(y_test,y_pred)\n",
    "print('혼동행렬 :\\n',cm_train,'\\n',\n",
    "      '분류예측 보고서 :\\n',cfr_train,'\\n\\n')"
   ]
  },
  {
   "cell_type": "markdown",
   "id": "60ad188a",
   "metadata": {
    "papermill": {
     "duration": 0.020392,
     "end_time": "2022-06-27T16:33:33.355572",
     "exception": false,
     "start_time": "2022-06-27T16:33:33.335180",
     "status": "completed"
    },
    "tags": []
   },
   "source": [
    "# 분석 코드 - Regression\n",
    "### AdaBoost"
   ]
  },
  {
   "cell_type": "code",
   "execution_count": 12,
   "id": "4b3ccec7",
   "metadata": {
    "execution": {
     "iopub.execute_input": "2022-06-27T16:33:33.398806Z",
     "iopub.status.busy": "2022-06-27T16:33:33.398238Z",
     "iopub.status.idle": "2022-06-27T16:33:33.445559Z",
     "shell.execute_reply": "2022-06-27T16:33:33.444669Z"
    },
    "papermill": {
     "duration": 0.071146,
     "end_time": "2022-06-27T16:33:33.447477",
     "exception": false,
     "start_time": "2022-06-27T16:33:33.376331",
     "status": "completed"
    },
    "tags": []
   },
   "outputs": [
    {
     "data": {
      "text/html": [
       "<div>\n",
       "<style scoped>\n",
       "    .dataframe tbody tr th:only-of-type {\n",
       "        vertical-align: middle;\n",
       "    }\n",
       "\n",
       "    .dataframe tbody tr th {\n",
       "        vertical-align: top;\n",
       "    }\n",
       "\n",
       "    .dataframe thead th {\n",
       "        text-align: right;\n",
       "    }\n",
       "</style>\n",
       "<table border=\"1\" class=\"dataframe\">\n",
       "  <thead>\n",
       "    <tr style=\"text-align: right;\">\n",
       "      <th></th>\n",
       "      <th>housing_age</th>\n",
       "      <th>income</th>\n",
       "      <th>bedrooms</th>\n",
       "      <th>households</th>\n",
       "      <th>rooms</th>\n",
       "      <th>house_value</th>\n",
       "    </tr>\n",
       "  </thead>\n",
       "  <tbody>\n",
       "    <tr>\n",
       "      <th>0</th>\n",
       "      <td>23</td>\n",
       "      <td>6.7770</td>\n",
       "      <td>0.141112</td>\n",
       "      <td>2.442244</td>\n",
       "      <td>8.103960</td>\n",
       "      <td>500000</td>\n",
       "    </tr>\n",
       "    <tr>\n",
       "      <th>1</th>\n",
       "      <td>49</td>\n",
       "      <td>6.0199</td>\n",
       "      <td>0.160984</td>\n",
       "      <td>2.726688</td>\n",
       "      <td>5.752412</td>\n",
       "      <td>500000</td>\n",
       "    </tr>\n",
       "    <tr>\n",
       "      <th>2</th>\n",
       "      <td>35</td>\n",
       "      <td>5.1155</td>\n",
       "      <td>0.249061</td>\n",
       "      <td>1.902676</td>\n",
       "      <td>3.888078</td>\n",
       "      <td>500000</td>\n",
       "    </tr>\n",
       "    <tr>\n",
       "      <th>3</th>\n",
       "      <td>32</td>\n",
       "      <td>4.7109</td>\n",
       "      <td>0.231383</td>\n",
       "      <td>1.913669</td>\n",
       "      <td>4.508393</td>\n",
       "      <td>500000</td>\n",
       "    </tr>\n",
       "    <tr>\n",
       "      <th>4</th>\n",
       "      <td>21</td>\n",
       "      <td>4.5625</td>\n",
       "      <td>0.255583</td>\n",
       "      <td>3.092664</td>\n",
       "      <td>4.667954</td>\n",
       "      <td>500000</td>\n",
       "    </tr>\n",
       "  </tbody>\n",
       "</table>\n",
       "</div>"
      ],
      "text/plain": [
       "   housing_age  income  bedrooms  households     rooms  house_value\n",
       "0           23  6.7770  0.141112    2.442244  8.103960       500000\n",
       "1           49  6.0199  0.160984    2.726688  5.752412       500000\n",
       "2           35  5.1155  0.249061    1.902676  3.888078       500000\n",
       "3           32  4.7109  0.231383    1.913669  4.508393       500000\n",
       "4           21  4.5625  0.255583    3.092664  4.667954       500000"
      ]
     },
     "execution_count": 12,
     "metadata": {},
     "output_type": "execute_result"
    }
   ],
   "source": [
    "df2=pd.read_csv('../input/big-data-certification-study/house_price.csv', encoding='utf-8')\n",
    "df2.head()"
   ]
  },
  {
   "cell_type": "code",
   "execution_count": 13,
   "id": "29429b74",
   "metadata": {
    "execution": {
     "iopub.execute_input": "2022-06-27T16:33:33.492560Z",
     "iopub.status.busy": "2022-06-27T16:33:33.492011Z",
     "iopub.status.idle": "2022-06-27T16:33:33.503042Z",
     "shell.execute_reply": "2022-06-27T16:33:33.502401Z"
    },
    "papermill": {
     "duration": 0.036141,
     "end_time": "2022-06-27T16:33:33.505088",
     "exception": false,
     "start_time": "2022-06-27T16:33:33.468947",
     "status": "completed"
    },
    "tags": []
   },
   "outputs": [],
   "source": [
    "# 데이터 분리\n",
    "X=df2.drop(columns=['house_value'])\n",
    "y=df2[['house_value']]\n",
    "X_train, X_test, y_train, y_test=train_test_split(X,y,random_state=42)"
   ]
  },
  {
   "cell_type": "code",
   "execution_count": 14,
   "id": "ceadb51d",
   "metadata": {
    "execution": {
     "iopub.execute_input": "2022-06-27T16:33:33.550335Z",
     "iopub.status.busy": "2022-06-27T16:33:33.549799Z",
     "iopub.status.idle": "2022-06-27T16:33:33.560143Z",
     "shell.execute_reply": "2022-06-27T16:33:33.559561Z"
    },
    "papermill": {
     "duration": 0.034925,
     "end_time": "2022-06-27T16:33:33.562110",
     "exception": false,
     "start_time": "2022-06-27T16:33:33.527185",
     "status": "completed"
    },
    "tags": []
   },
   "outputs": [],
   "source": [
    "# 정규화\n",
    "scale=MinMaxScaler()\n",
    "scale.fit(X_train)\n",
    "ms_X_train=scale.transform(X_train)\n",
    "ms_X_test=scale.transform(X_test)"
   ]
  },
  {
   "cell_type": "code",
   "execution_count": 15,
   "id": "364099b3",
   "metadata": {
    "execution": {
     "iopub.execute_input": "2022-06-27T16:33:33.606507Z",
     "iopub.status.busy": "2022-06-27T16:33:33.606022Z",
     "iopub.status.idle": "2022-06-27T16:33:34.083827Z",
     "shell.execute_reply": "2022-06-27T16:33:34.083018Z"
    },
    "papermill": {
     "duration": 0.50273,
     "end_time": "2022-06-27T16:33:34.086072",
     "exception": false,
     "start_time": "2022-06-27T16:33:33.583342",
     "status": "completed"
    },
    "tags": []
   },
   "outputs": [
    {
     "data": {
      "text/plain": [
       "0.44121772746215804"
      ]
     },
     "execution_count": 15,
     "metadata": {},
     "output_type": "execute_result"
    }
   ],
   "source": [
    "# 모델 적용\n",
    "model=AdaBoostRegressor(n_estimators=100,random_state=0)\n",
    "model.fit(ms_X_train, y_train)\n",
    "\n",
    "pred_x=model.predict(ms_X_train)\n",
    "model.score(ms_X_train, y_train)"
   ]
  },
  {
   "cell_type": "code",
   "execution_count": 16,
   "id": "1995ff39",
   "metadata": {
    "execution": {
     "iopub.execute_input": "2022-06-27T16:33:34.133136Z",
     "iopub.status.busy": "2022-06-27T16:33:34.132246Z",
     "iopub.status.idle": "2022-06-27T16:33:34.155547Z",
     "shell.execute_reply": "2022-06-27T16:33:34.154699Z"
    },
    "papermill": {
     "duration": 0.048798,
     "end_time": "2022-06-27T16:33:34.157443",
     "exception": false,
     "start_time": "2022-06-27T16:33:34.108645",
     "status": "completed"
    },
    "tags": []
   },
   "outputs": [
    {
     "data": {
      "text/plain": [
       "0.44209369928960385"
      ]
     },
     "execution_count": 16,
     "metadata": {},
     "output_type": "execute_result"
    }
   ],
   "source": [
    "pred_y=model.predict(ms_X_test)\n",
    "model.score(ms_X_test, y_test)"
   ]
  },
  {
   "cell_type": "code",
   "execution_count": 17,
   "id": "c96bd10e",
   "metadata": {
    "execution": {
     "iopub.execute_input": "2022-06-27T16:33:34.202856Z",
     "iopub.status.busy": "2022-06-27T16:33:34.202286Z",
     "iopub.status.idle": "2022-06-27T16:33:34.211329Z",
     "shell.execute_reply": "2022-06-27T16:33:34.210435Z"
    },
    "papermill": {
     "duration": 0.034032,
     "end_time": "2022-06-27T16:33:34.213158",
     "exception": false,
     "start_time": "2022-06-27T16:33:34.179126",
     "status": "completed"
    },
    "tags": []
   },
   "outputs": [
    {
     "name": "stdout",
     "output_type": "stream",
     "text": [
      "Train RMSE : 71346 \n",
      "Test RMSE : 71407\n"
     ]
    }
   ],
   "source": [
    "# RMSE\n",
    "rmse_train=np.sqrt(mean_squared_error(y_train,pred_x))\n",
    "rmse_test=np.sqrt(mean_squared_error(y_test,pred_y))\n",
    "print('Train RMSE :', round(rmse_train),\n",
    "      '\\nTest RMSE :', round(rmse_test))"
   ]
  },
  {
   "cell_type": "markdown",
   "id": "08c89b0d",
   "metadata": {
    "papermill": {
     "duration": 0.021961,
     "end_time": "2022-06-27T16:33:34.259244",
     "exception": false,
     "start_time": "2022-06-27T16:33:34.237283",
     "status": "completed"
    },
    "tags": []
   },
   "source": [
    "### GradientBoosting"
   ]
  },
  {
   "cell_type": "code",
   "execution_count": 18,
   "id": "36f1c9f8",
   "metadata": {
    "execution": {
     "iopub.execute_input": "2022-06-27T16:33:34.304842Z",
     "iopub.status.busy": "2022-06-27T16:33:34.304563Z",
     "iopub.status.idle": "2022-06-27T16:33:36.442409Z",
     "shell.execute_reply": "2022-06-27T16:33:36.441563Z"
    },
    "papermill": {
     "duration": 2.163008,
     "end_time": "2022-06-27T16:33:36.444427",
     "exception": false,
     "start_time": "2022-06-27T16:33:34.281419",
     "status": "completed"
    },
    "tags": []
   },
   "outputs": [
    {
     "data": {
      "text/plain": [
       "0.6528129290117282"
      ]
     },
     "execution_count": 18,
     "metadata": {},
     "output_type": "execute_result"
    }
   ],
   "source": [
    "# 모델 적용\n",
    "model=GradientBoostingRegressor(random_state=0)\n",
    "model.fit(ms_X_train, y_train)\n",
    "\n",
    "pred_x=model.predict(ms_X_train)\n",
    "model.score(ms_X_train, y_train)"
   ]
  },
  {
   "cell_type": "code",
   "execution_count": 19,
   "id": "4c5e5041",
   "metadata": {
    "execution": {
     "iopub.execute_input": "2022-06-27T16:33:36.492535Z",
     "iopub.status.busy": "2022-06-27T16:33:36.492224Z",
     "iopub.status.idle": "2022-06-27T16:33:36.516193Z",
     "shell.execute_reply": "2022-06-27T16:33:36.515333Z"
    },
    "papermill": {
     "duration": 0.051233,
     "end_time": "2022-06-27T16:33:36.518255",
     "exception": false,
     "start_time": "2022-06-27T16:33:36.467022",
     "status": "completed"
    },
    "tags": []
   },
   "outputs": [
    {
     "data": {
      "text/plain": [
       "0.6255002049129976"
      ]
     },
     "execution_count": 19,
     "metadata": {},
     "output_type": "execute_result"
    }
   ],
   "source": [
    "pred_y=model.predict(ms_X_test)\n",
    "model.score(ms_X_test, y_test)"
   ]
  },
  {
   "cell_type": "code",
   "execution_count": 20,
   "id": "ac896817",
   "metadata": {
    "execution": {
     "iopub.execute_input": "2022-06-27T16:33:36.566069Z",
     "iopub.status.busy": "2022-06-27T16:33:36.565757Z",
     "iopub.status.idle": "2022-06-27T16:33:36.576533Z",
     "shell.execute_reply": "2022-06-27T16:33:36.575431Z"
    },
    "papermill": {
     "duration": 0.037629,
     "end_time": "2022-06-27T16:33:36.579267",
     "exception": false,
     "start_time": "2022-06-27T16:33:36.541638",
     "status": "completed"
    },
    "tags": []
   },
   "outputs": [
    {
     "name": "stdout",
     "output_type": "stream",
     "text": [
      "Train RMSE : 56238 \n",
      "Test RMSE : 58504\n"
     ]
    }
   ],
   "source": [
    "# RMSE\n",
    "rmse_train=np.sqrt(mean_squared_error(y_train,pred_x))\n",
    "rmse_test=np.sqrt(mean_squared_error(y_test,pred_y))\n",
    "print('Train RMSE :', round(rmse_train),\n",
    "      '\\nTest RMSE :', round(rmse_test))"
   ]
  },
  {
   "cell_type": "markdown",
   "id": "a5123c8a",
   "metadata": {
    "papermill": {
     "duration": 0.022891,
     "end_time": "2022-06-27T16:33:36.626077",
     "exception": false,
     "start_time": "2022-06-27T16:33:36.603186",
     "status": "completed"
    },
    "tags": []
   },
   "source": [
    "- GradientBoosting 또는 AdaBoost 모델 모두 튜닝을 통해 성능을 올릴 수 있고, 두 모델 중 어느 모델이 더 좋다고는 할 수 없음을 참고"
   ]
  }
 ],
 "metadata": {
  "kernelspec": {
   "display_name": "Python 3",
   "language": "python",
   "name": "python3"
  },
  "language_info": {
   "codemirror_mode": {
    "name": "ipython",
    "version": 3
   },
   "file_extension": ".py",
   "mimetype": "text/x-python",
   "name": "python",
   "nbconvert_exporter": "python",
   "pygments_lexer": "ipython3",
   "version": "3.7.12"
  },
  "papermill": {
   "default_parameters": {},
   "duration": 14.978712,
   "end_time": "2022-06-27T16:33:37.369464",
   "environment_variables": {},
   "exception": null,
   "input_path": "__notebook__.ipynb",
   "output_path": "__notebook__.ipynb",
   "parameters": {},
   "start_time": "2022-06-27T16:33:22.390752",
   "version": "2.3.4"
  }
 },
 "nbformat": 4,
 "nbformat_minor": 5
}
