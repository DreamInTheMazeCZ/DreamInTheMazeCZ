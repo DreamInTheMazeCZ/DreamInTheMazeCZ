{
 "cells": [
  {
   "cell_type": "code",
   "execution_count": 1,
   "id": "3bccef6a",
   "metadata": {
    "_cell_guid": "b1076dfc-b9ad-4769-8c92-a6c4dae69d19",
    "_uuid": "8f2839f25d086af736a60e9eeb907d3b93b6e0e5",
    "execution": {
     "iopub.execute_input": "2022-05-19T15:02:14.483664Z",
     "iopub.status.busy": "2022-05-19T15:02:14.482980Z",
     "iopub.status.idle": "2022-05-19T15:02:15.833079Z",
     "shell.execute_reply": "2022-05-19T15:02:15.832155Z"
    },
    "papermill": {
     "duration": 1.367529,
     "end_time": "2022-05-19T15:02:15.837243",
     "exception": false,
     "start_time": "2022-05-19T15:02:14.469714",
     "status": "completed"
    },
    "tags": []
   },
   "outputs": [
    {
     "data": {
      "text/html": [
       "<div>\n",
       "<style scoped>\n",
       "    .dataframe tbody tr th:only-of-type {\n",
       "        vertical-align: middle;\n",
       "    }\n",
       "\n",
       "    .dataframe tbody tr th {\n",
       "        vertical-align: top;\n",
       "    }\n",
       "\n",
       "    .dataframe thead th {\n",
       "        text-align: right;\n",
       "    }\n",
       "</style>\n",
       "<table border=\"1\" class=\"dataframe\">\n",
       "  <thead>\n",
       "    <tr style=\"text-align: right;\">\n",
       "      <th></th>\n",
       "      <th>gender_female</th>\n",
       "      <th>gender_male</th>\n",
       "      <th>region_Chungcheung</th>\n",
       "      <th>region_Honam</th>\n",
       "      <th>region_Others</th>\n",
       "      <th>region_Sudo</th>\n",
       "      <th>region_Youngnam</th>\n",
       "      <th>edu</th>\n",
       "      <th>income</th>\n",
       "      <th>age</th>\n",
       "      <th>score_gov</th>\n",
       "      <th>score_progress</th>\n",
       "      <th>score_intention</th>\n",
       "      <th>vote</th>\n",
       "      <th>parties</th>\n",
       "    </tr>\n",
       "  </thead>\n",
       "  <tbody>\n",
       "    <tr>\n",
       "      <th>0</th>\n",
       "      <td>0</td>\n",
       "      <td>1</td>\n",
       "      <td>0</td>\n",
       "      <td>0</td>\n",
       "      <td>0</td>\n",
       "      <td>0</td>\n",
       "      <td>1</td>\n",
       "      <td>3</td>\n",
       "      <td>3</td>\n",
       "      <td>3</td>\n",
       "      <td>2</td>\n",
       "      <td>2</td>\n",
       "      <td>4.0</td>\n",
       "      <td>1</td>\n",
       "      <td>2</td>\n",
       "    </tr>\n",
       "    <tr>\n",
       "      <th>1</th>\n",
       "      <td>0</td>\n",
       "      <td>1</td>\n",
       "      <td>0</td>\n",
       "      <td>0</td>\n",
       "      <td>1</td>\n",
       "      <td>0</td>\n",
       "      <td>0</td>\n",
       "      <td>2</td>\n",
       "      <td>3</td>\n",
       "      <td>3</td>\n",
       "      <td>2</td>\n",
       "      <td>4</td>\n",
       "      <td>3.0</td>\n",
       "      <td>0</td>\n",
       "      <td>3</td>\n",
       "    </tr>\n",
       "    <tr>\n",
       "      <th>2</th>\n",
       "      <td>0</td>\n",
       "      <td>1</td>\n",
       "      <td>0</td>\n",
       "      <td>1</td>\n",
       "      <td>0</td>\n",
       "      <td>0</td>\n",
       "      <td>0</td>\n",
       "      <td>1</td>\n",
       "      <td>2</td>\n",
       "      <td>4</td>\n",
       "      <td>1</td>\n",
       "      <td>3</td>\n",
       "      <td>2.8</td>\n",
       "      <td>1</td>\n",
       "      <td>4</td>\n",
       "    </tr>\n",
       "    <tr>\n",
       "      <th>3</th>\n",
       "      <td>1</td>\n",
       "      <td>0</td>\n",
       "      <td>0</td>\n",
       "      <td>0</td>\n",
       "      <td>0</td>\n",
       "      <td>1</td>\n",
       "      <td>0</td>\n",
       "      <td>2</td>\n",
       "      <td>1</td>\n",
       "      <td>3</td>\n",
       "      <td>5</td>\n",
       "      <td>4</td>\n",
       "      <td>2.6</td>\n",
       "      <td>1</td>\n",
       "      <td>1</td>\n",
       "    </tr>\n",
       "    <tr>\n",
       "      <th>4</th>\n",
       "      <td>0</td>\n",
       "      <td>1</td>\n",
       "      <td>0</td>\n",
       "      <td>0</td>\n",
       "      <td>0</td>\n",
       "      <td>1</td>\n",
       "      <td>0</td>\n",
       "      <td>1</td>\n",
       "      <td>2</td>\n",
       "      <td>4</td>\n",
       "      <td>4</td>\n",
       "      <td>3</td>\n",
       "      <td>2.4</td>\n",
       "      <td>1</td>\n",
       "      <td>1</td>\n",
       "    </tr>\n",
       "  </tbody>\n",
       "</table>\n",
       "</div>"
      ],
      "text/plain": [
       "   gender_female  gender_male  region_Chungcheung  region_Honam  \\\n",
       "0              0            1                   0             0   \n",
       "1              0            1                   0             0   \n",
       "2              0            1                   0             1   \n",
       "3              1            0                   0             0   \n",
       "4              0            1                   0             0   \n",
       "\n",
       "   region_Others  region_Sudo  region_Youngnam  edu  income  age  score_gov  \\\n",
       "0              0            0                1    3       3    3          2   \n",
       "1              1            0                0    2       3    3          2   \n",
       "2              0            0                0    1       2    4          1   \n",
       "3              0            1                0    2       1    3          5   \n",
       "4              0            1                0    1       2    4          4   \n",
       "\n",
       "   score_progress  score_intention  vote  parties  \n",
       "0               2              4.0     1        2  \n",
       "1               4              3.0     0        3  \n",
       "2               3              2.8     1        4  \n",
       "3               4              2.6     1        1  \n",
       "4               3              2.4     1        1  "
      ]
     },
     "execution_count": 1,
     "metadata": {},
     "output_type": "execute_result"
    }
   ],
   "source": [
    "# 데이터 및 라이브러리 로드\n",
    "import warnings\n",
    "warnings.filterwarnings('ignore')\n",
    "import pandas as pd\n",
    "import numpy as np\n",
    "from scipy.stats import randint\n",
    "from sklearn.model_selection import train_test_split, GridSearchCV, RandomizedSearchCV\n",
    "from sklearn.preprocessing import MinMaxScaler, StandardScaler\n",
    "from sklearn.linear_model import LinearRegression, LogisticRegression\n",
    "from sklearn.metrics import classification_report, confusion_matrix\n",
    "\n",
    "df = pd.read_csv('../input/big-data-certification-study/Fvote.csv', encoding='utf-8')\n",
    "df.head()"
   ]
  },
  {
   "cell_type": "code",
   "execution_count": 2,
   "id": "134e1b27",
   "metadata": {
    "execution": {
     "iopub.execute_input": "2022-05-19T15:02:15.862473Z",
     "iopub.status.busy": "2022-05-19T15:02:15.862175Z",
     "iopub.status.idle": "2022-05-19T15:02:15.883715Z",
     "shell.execute_reply": "2022-05-19T15:02:15.882976Z"
    },
    "papermill": {
     "duration": 0.036641,
     "end_time": "2022-05-19T15:02:15.885983",
     "exception": false,
     "start_time": "2022-05-19T15:02:15.849342",
     "status": "completed"
    },
    "tags": []
   },
   "outputs": [],
   "source": [
    "# 데이터셋 분할\n",
    "X = df.drop(columns=['vote', 'parties'])\n",
    "y = df[['parties']]\n",
    "df.shape, X.shape, y.shape\n",
    "\n",
    "X_train, X_test, y_train, y_test = train_test_split(X, y, stratify=y, random_state=42)"
   ]
  },
  {
   "cell_type": "code",
   "execution_count": 3,
   "id": "69f90366",
   "metadata": {
    "execution": {
     "iopub.execute_input": "2022-05-19T15:02:15.910913Z",
     "iopub.status.busy": "2022-05-19T15:02:15.910467Z",
     "iopub.status.idle": "2022-05-19T15:02:15.964308Z",
     "shell.execute_reply": "2022-05-19T15:02:15.963254Z"
    },
    "papermill": {
     "duration": 0.069375,
     "end_time": "2022-05-19T15:02:15.966629",
     "exception": false,
     "start_time": "2022-05-19T15:02:15.897254",
     "status": "completed"
    },
    "tags": []
   },
   "outputs": [
    {
     "data": {
      "text/plain": [
       "LogisticRegression(C=35)"
      ]
     },
     "execution_count": 3,
     "metadata": {},
     "output_type": "execute_result"
    }
   ],
   "source": [
    "# 모델 훈련 (로지스틱 회귀)\n",
    "model = LogisticRegression(C=35)\n",
    "model.fit(X_train, y_train)"
   ]
  },
  {
   "cell_type": "code",
   "execution_count": 4,
   "id": "389ce64d",
   "metadata": {
    "execution": {
     "iopub.execute_input": "2022-05-19T15:02:15.992334Z",
     "iopub.status.busy": "2022-05-19T15:02:15.992021Z",
     "iopub.status.idle": "2022-05-19T15:02:16.003527Z",
     "shell.execute_reply": "2022-05-19T15:02:16.002644Z"
    },
    "papermill": {
     "duration": 0.027213,
     "end_time": "2022-05-19T15:02:16.005716",
     "exception": false,
     "start_time": "2022-05-19T15:02:15.978503",
     "status": "completed"
    },
    "tags": []
   },
   "outputs": [
    {
     "data": {
      "text/plain": [
       "0.6265822784810127"
      ]
     },
     "execution_count": 4,
     "metadata": {},
     "output_type": "execute_result"
    }
   ],
   "source": [
    "# 훈련데이터 예측범주 저장 및 정확도 확인\n",
    "pred_train=model.predict(X_train)\n",
    "model.score(X_train, y_train)"
   ]
  },
  {
   "cell_type": "code",
   "execution_count": 5,
   "id": "6fdadf9c",
   "metadata": {
    "execution": {
     "iopub.execute_input": "2022-05-19T15:02:16.032058Z",
     "iopub.status.busy": "2022-05-19T15:02:16.031728Z",
     "iopub.status.idle": "2022-05-19T15:02:16.043137Z",
     "shell.execute_reply": "2022-05-19T15:02:16.042385Z"
    },
    "papermill": {
     "duration": 0.027774,
     "end_time": "2022-05-19T15:02:16.045897",
     "exception": false,
     "start_time": "2022-05-19T15:02:16.018123",
     "status": "completed"
    },
    "tags": []
   },
   "outputs": [
    {
     "data": {
      "text/plain": [
       "0.5094339622641509"
      ]
     },
     "execution_count": 5,
     "metadata": {},
     "output_type": "execute_result"
    }
   ],
   "source": [
    "# 테스트데이터 예측범주 저장 및 정확도 확인\n",
    "pred_test=model.predict(X_test)\n",
    "model.score(X_test, y_test)"
   ]
  },
  {
   "cell_type": "code",
   "execution_count": 6,
   "id": "acdbf9c0",
   "metadata": {
    "execution": {
     "iopub.execute_input": "2022-05-19T15:02:16.074867Z",
     "iopub.status.busy": "2022-05-19T15:02:16.074343Z",
     "iopub.status.idle": "2022-05-19T15:02:16.084860Z",
     "shell.execute_reply": "2022-05-19T15:02:16.083706Z"
    },
    "papermill": {
     "duration": 0.027849,
     "end_time": "2022-05-19T15:02:16.087318",
     "exception": false,
     "start_time": "2022-05-19T15:02:16.059469",
     "status": "completed"
    },
    "tags": []
   },
   "outputs": [
    {
     "name": "stdout",
     "output_type": "stream",
     "text": [
      " 훈련데이터 혼동행렬 :\n",
      " [[20  2  3 12]\n",
      " [ 1 26  2 11]\n",
      " [ 4  2  7  6]\n",
      " [ 7  7  2 46]]\n",
      "\n",
      "\n",
      " 테스트데이터 혼동행렬 :\n",
      " [[ 6  2  1  4]\n",
      " [ 1  9  0  3]\n",
      " [ 1  3  0  2]\n",
      " [ 2  5  2 12]]\n"
     ]
    }
   ],
   "source": [
    "# 혼동행렬 확인\n",
    "confusion_train=confusion_matrix(y_train, pred_train)\n",
    "confusion_test=confusion_matrix(y_test, pred_test)\n",
    "print(' 훈련데이터 혼동행렬 :\\n', confusion_train)\n",
    "print('\\n\\n','테스트데이터 혼동행렬 :\\n', confusion_test)"
   ]
  },
  {
   "cell_type": "code",
   "execution_count": 7,
   "id": "6cda1ae5",
   "metadata": {
    "execution": {
     "iopub.execute_input": "2022-05-19T15:02:16.117163Z",
     "iopub.status.busy": "2022-05-19T15:02:16.116676Z",
     "iopub.status.idle": "2022-05-19T15:02:17.180508Z",
     "shell.execute_reply": "2022-05-19T15:02:17.179082Z"
    },
    "papermill": {
     "duration": 1.081363,
     "end_time": "2022-05-19T15:02:17.183633",
     "exception": false,
     "start_time": "2022-05-19T15:02:16.102270",
     "status": "completed"
    },
    "tags": []
   },
   "outputs": [
    {
     "name": "stdout",
     "output_type": "stream",
     "text": [
      "Best Parameter : {'C': 0.1}\n",
      "Best Score : 0.556\n"
     ]
    }
   ],
   "source": [
    "# Hyperparameter Tuning - Grid\n",
    "param_grid={'C':[0.0001,0.001,0.01,0.1,1,10,100]}\n",
    "grid_search=GridSearchCV(LogisticRegression(),\n",
    "                         param_grid, cv=5,\n",
    "                         return_train_score=True)\n",
    "grid_search.fit(X_train, y_train)\n",
    "\n",
    "print('Best Parameter :', grid_search.best_params_)\n",
    "print('Best Score :',round(grid_search.best_score_,3))"
   ]
  },
  {
   "cell_type": "code",
   "execution_count": 8,
   "id": "56e629dd",
   "metadata": {
    "execution": {
     "iopub.execute_input": "2022-05-19T15:02:17.212982Z",
     "iopub.status.busy": "2022-05-19T15:02:17.212695Z",
     "iopub.status.idle": "2022-05-19T15:02:17.221479Z",
     "shell.execute_reply": "2022-05-19T15:02:17.220453Z"
    },
    "papermill": {
     "duration": 0.02731,
     "end_time": "2022-05-19T15:02:17.224642",
     "exception": false,
     "start_time": "2022-05-19T15:02:17.197332",
     "status": "completed"
    },
    "tags": []
   },
   "outputs": [
    {
     "name": "stdout",
     "output_type": "stream",
     "text": [
      "Test Set Score: 0.547\n"
     ]
    }
   ],
   "source": [
    "print('Test Set Score:', round(grid_search.score(X_test, y_test), 3))"
   ]
  },
  {
   "cell_type": "code",
   "execution_count": 9,
   "id": "b72fbab6",
   "metadata": {
    "execution": {
     "iopub.execute_input": "2022-05-19T15:02:17.253811Z",
     "iopub.status.busy": "2022-05-19T15:02:17.253533Z",
     "iopub.status.idle": "2022-05-19T15:02:54.568181Z",
     "shell.execute_reply": "2022-05-19T15:02:54.567457Z"
    },
    "papermill": {
     "duration": 37.345741,
     "end_time": "2022-05-19T15:02:54.584048",
     "exception": false,
     "start_time": "2022-05-19T15:02:17.238307",
     "status": "completed"
    },
    "tags": []
   },
   "outputs": [
    {
     "name": "stdout",
     "output_type": "stream",
     "text": [
      "Best Parameter : {'C': 2}\n",
      "Best Score : 0.544\n"
     ]
    }
   ],
   "source": [
    "# Hyperparameter Tuning - Randomized\n",
    "param_distribs = {'C': randint(low=0.001, high=100)}\n",
    "random_search=RandomizedSearchCV(LogisticRegression(),\n",
    "                                 param_distributions=param_distribs,\n",
    "                                 cv=5, n_iter=200,\n",
    "                                 return_train_score=True)\n",
    "random_search.fit(X_train, y_train)\n",
    "\n",
    "print('Best Parameter :', random_search.best_params_)\n",
    "print('Best Score :',round(random_search.best_score_, 3))"
   ]
  }
 ],
 "metadata": {
  "kernelspec": {
   "display_name": "Python 3",
   "language": "python",
   "name": "python3"
  },
  "language_info": {
   "codemirror_mode": {
    "name": "ipython",
    "version": 3
   },
   "file_extension": ".py",
   "mimetype": "text/x-python",
   "name": "python",
   "nbconvert_exporter": "python",
   "pygments_lexer": "ipython3",
   "version": "3.7.12"
  },
  "papermill": {
   "default_parameters": {},
   "duration": 51.752763,
   "end_time": "2022-05-19T15:02:55.318739",
   "environment_variables": {},
   "exception": null,
   "input_path": "__notebook__.ipynb",
   "output_path": "__notebook__.ipynb",
   "parameters": {},
   "start_time": "2022-05-19T15:02:03.565976",
   "version": "2.3.4"
  }
 },
 "nbformat": 4,
 "nbformat_minor": 5
}
