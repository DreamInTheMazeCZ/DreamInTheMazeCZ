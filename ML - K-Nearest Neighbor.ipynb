{
 "cells": [
  {
   "cell_type": "markdown",
   "id": "0849b8e9",
   "metadata": {
    "papermill": {
     "duration": 0.029155,
     "end_time": "2022-05-20T13:25:19.587543",
     "exception": false,
     "start_time": "2022-05-20T13:25:19.558388",
     "status": "completed"
    },
    "tags": []
   },
   "source": [
    "### sklearn.neighbors.KNeighborsClassifier : 레이블(y) 범주형, 분류\n",
    "### sklear.neighbors.KNeighborsRegressor : 레이블(y) 숫자, 회귀\n",
    "#### 각 데이터간 거리를 측정하여 가까운 K개의 다른 데이터 레이블을 참조하여 분류\n",
    "##### 최적의 K : 3 ~ 10 (일반적)\n",
    "##### 데이터 수의 제곱근 값을 K로 정하는 방법도 존재\n",
    "#### 주요 Hyperparameter\n",
    "- n_neighbors : 기본값 5로, 1에 가까울수록 과대적합, 클수록 과소적합\n",
    "\n",
    "##### KNeighborsClassifier / KNeighborsRegressor(n_neighbors=5, *, weights='uniform', algorithm='auto', leaf_size=30, p=2, metric='minkowski', metric_params=None, n_jobs=None, **kwargs)"
   ]
  },
  {
   "cell_type": "markdown",
   "id": "50bea1a1",
   "metadata": {
    "papermill": {
     "duration": 0.028059,
     "end_time": "2022-05-20T13:25:19.646875",
     "exception": false,
     "start_time": "2022-05-20T13:25:19.618816",
     "status": "completed"
    },
    "tags": []
   },
   "source": [
    "# 분석 코드 - Classification"
   ]
  },
  {
   "cell_type": "code",
   "execution_count": 1,
   "id": "68a7d888",
   "metadata": {
    "execution": {
     "iopub.execute_input": "2022-05-20T13:25:19.712133Z",
     "iopub.status.busy": "2022-05-20T13:25:19.711608Z",
     "iopub.status.idle": "2022-05-20T13:25:21.317306Z",
     "shell.execute_reply": "2022-05-20T13:25:21.316253Z"
    },
    "papermill": {
     "duration": 1.642864,
     "end_time": "2022-05-20T13:25:21.321221",
     "exception": false,
     "start_time": "2022-05-20T13:25:19.678357",
     "status": "completed"
    },
    "tags": []
   },
   "outputs": [
    {
     "name": "stdout",
     "output_type": "stream",
     "text": [
      "<class 'pandas.core.frame.DataFrame'>\n",
      "RangeIndex: 683 entries, 0 to 682\n",
      "Data columns (total 11 columns):\n",
      " #   Column                       Non-Null Count  Dtype\n",
      "---  ------                       --------------  -----\n",
      " 0   code                         683 non-null    int64\n",
      " 1   Clump_Thickness              683 non-null    int64\n",
      " 2   Cell_Size                    683 non-null    int64\n",
      " 3   Cell_Shape                   683 non-null    int64\n",
      " 4   Marginal_Adhesion            683 non-null    int64\n",
      " 5   Single_Epithelial_Cell_Size  683 non-null    int64\n",
      " 6   Bare_Nuclei                  683 non-null    int64\n",
      " 7   Bland_Chromatin              683 non-null    int64\n",
      " 8   Normal_Nucleoli              683 non-null    int64\n",
      " 9   Mitoses                      683 non-null    int64\n",
      " 10  Class                        683 non-null    int64\n",
      "dtypes: int64(11)\n",
      "memory usage: 58.8 KB\n"
     ]
    },
    {
     "data": {
      "text/plain": [
       "(      code  Clump_Thickness  Cell_Size  Cell_Shape  Marginal_Adhesion  \\\n",
       " 0  1000025                5          1           1                  1   \n",
       " 1  1002945                5          4           4                  5   \n",
       " 2  1015425                3          1           1                  1   \n",
       " 3  1016277                6          8           8                  1   \n",
       " 4  1017023                4          1           1                  3   \n",
       " \n",
       "    Single_Epithelial_Cell_Size  Bare_Nuclei  Bland_Chromatin  Normal_Nucleoli  \\\n",
       " 0                            2            1                3                1   \n",
       " 1                            7           10                3                2   \n",
       " 2                            2            2                3                1   \n",
       " 3                            3            4                3                7   \n",
       " 4                            2            1                3                1   \n",
       " \n",
       "    Mitoses  Class  \n",
       " 0        1      0  \n",
       " 1        1      0  \n",
       " 2        1      0  \n",
       " 3        1      0  \n",
       " 4        1      0  ,\n",
       " None,\n",
       " (683, 11))"
      ]
     },
     "execution_count": 1,
     "metadata": {},
     "output_type": "execute_result"
    }
   ],
   "source": [
    "# 라이브러리 및 데이터 로드\n",
    "import warnings\n",
    "warnings.filterwarnings('ignore')\n",
    "import pandas as pd\n",
    "import numpy as np\n",
    "import matplotlib.pyplot as plt\n",
    "from scipy.stats import randint\n",
    "from sklearn.model_selection import train_test_split, GridSearchCV, RandomizedSearchCV\n",
    "from sklearn.preprocessing import MinMaxScaler, StandardScaler\n",
    "from sklearn.neighbors import KNeighborsClassifier, KNeighborsRegressor\n",
    "from sklearn.metrics import classification_report, confusion_matrix\n",
    "df = pd.read_csv('../input/big-data-certification-study/breast-cancer-wisconsin.csv', encoding='utf-8')\n",
    "df.head(), df.info(), df.shape"
   ]
  },
  {
   "cell_type": "code",
   "execution_count": 2,
   "id": "aef46c6d",
   "metadata": {
    "execution": {
     "iopub.execute_input": "2022-05-20T13:25:21.389061Z",
     "iopub.status.busy": "2022-05-20T13:25:21.388760Z",
     "iopub.status.idle": "2022-05-20T13:25:21.401469Z",
     "shell.execute_reply": "2022-05-20T13:25:21.400432Z"
    },
    "papermill": {
     "duration": 0.048809,
     "end_time": "2022-05-20T13:25:21.403567",
     "exception": false,
     "start_time": "2022-05-20T13:25:21.354758",
     "status": "completed"
    },
    "tags": []
   },
   "outputs": [
    {
     "data": {
      "text/plain": [
       "((683, 9), (683, 1))"
      ]
     },
     "execution_count": 2,
     "metadata": {},
     "output_type": "execute_result"
    }
   ],
   "source": [
    "# 데이터 분할\n",
    "X = df.drop(columns=['code', 'Class'])\n",
    "y = df[['Class']]\n",
    "X.shape, y.shape"
   ]
  },
  {
   "cell_type": "code",
   "execution_count": 3,
   "id": "878392e5",
   "metadata": {
    "execution": {
     "iopub.execute_input": "2022-05-20T13:25:21.477192Z",
     "iopub.status.busy": "2022-05-20T13:25:21.476301Z",
     "iopub.status.idle": "2022-05-20T13:25:21.492942Z",
     "shell.execute_reply": "2022-05-20T13:25:21.492216Z"
    },
    "papermill": {
     "duration": 0.05296,
     "end_time": "2022-05-20T13:25:21.495288",
     "exception": false,
     "start_time": "2022-05-20T13:25:21.442328",
     "status": "completed"
    },
    "tags": []
   },
   "outputs": [],
   "source": [
    "X_train, X_test, y_train, y_test=train_test_split(X,y,stratify=y,random_state=42)"
   ]
  },
  {
   "cell_type": "code",
   "execution_count": 4,
   "id": "b587a43f",
   "metadata": {
    "execution": {
     "iopub.execute_input": "2022-05-20T13:25:21.561070Z",
     "iopub.status.busy": "2022-05-20T13:25:21.560638Z",
     "iopub.status.idle": "2022-05-20T13:25:21.570030Z",
     "shell.execute_reply": "2022-05-20T13:25:21.569241Z"
    },
    "papermill": {
     "duration": 0.043852,
     "end_time": "2022-05-20T13:25:21.572400",
     "exception": false,
     "start_time": "2022-05-20T13:25:21.528548",
     "status": "completed"
    },
    "tags": []
   },
   "outputs": [],
   "source": [
    "# 정규화\n",
    "scaler = MinMaxScaler()\n",
    "scaler.fit(X_train)\n",
    "mm_X_train=scaler.transform(X_train)\n",
    "mm_X_test=scaler.transform(X_test)"
   ]
  },
  {
   "cell_type": "code",
   "execution_count": 5,
   "id": "b029ae05",
   "metadata": {
    "execution": {
     "iopub.execute_input": "2022-05-20T13:25:21.640977Z",
     "iopub.status.busy": "2022-05-20T13:25:21.640499Z",
     "iopub.status.idle": "2022-05-20T13:25:21.693726Z",
     "shell.execute_reply": "2022-05-20T13:25:21.692559Z"
    },
    "papermill": {
     "duration": 0.092716,
     "end_time": "2022-05-20T13:25:21.696240",
     "exception": false,
     "start_time": "2022-05-20T13:25:21.603524",
     "status": "completed"
    },
    "tags": []
   },
   "outputs": [
    {
     "name": "stdout",
     "output_type": "stream",
     "text": [
      "0.984375\n"
     ]
    }
   ],
   "source": [
    "# 모델 적용\n",
    "model = KNeighborsClassifier()\n",
    "model.fit(mm_X_train, y_train)\n",
    "pred_train=model.predict(mm_X_train)\n",
    "print(model.score(mm_X_train, y_train))"
   ]
  },
  {
   "cell_type": "code",
   "execution_count": 6,
   "id": "fa2e8bae",
   "metadata": {
    "execution": {
     "iopub.execute_input": "2022-05-20T13:25:21.765473Z",
     "iopub.status.busy": "2022-05-20T13:25:21.764644Z",
     "iopub.status.idle": "2022-05-20T13:25:21.774166Z",
     "shell.execute_reply": "2022-05-20T13:25:21.772955Z"
    },
    "papermill": {
     "duration": 0.045757,
     "end_time": "2022-05-20T13:25:21.776335",
     "exception": false,
     "start_time": "2022-05-20T13:25:21.730578",
     "status": "completed"
    },
    "tags": []
   },
   "outputs": [
    {
     "name": "stdout",
     "output_type": "stream",
     "text": [
      "Train Data C.M. :\n",
      " [[331   2]\n",
      " [  6 173]]\n"
     ]
    }
   ],
   "source": [
    "# 혼동행렬 확인\n",
    "cm_train=confusion_matrix(y_train, pred_train)\n",
    "print('Train Data C.M. :\\n', cm_train)\n",
    "\n",
    "# 정상(0) 중 2명 오분류, 환자(1) 중 6명 오분류"
   ]
  },
  {
   "cell_type": "code",
   "execution_count": 7,
   "id": "9c3895ce",
   "metadata": {
    "execution": {
     "iopub.execute_input": "2022-05-20T13:25:21.846929Z",
     "iopub.status.busy": "2022-05-20T13:25:21.846406Z",
     "iopub.status.idle": "2022-05-20T13:25:21.858235Z",
     "shell.execute_reply": "2022-05-20T13:25:21.857290Z"
    },
    "papermill": {
     "duration": 0.051859,
     "end_time": "2022-05-20T13:25:21.860750",
     "exception": false,
     "start_time": "2022-05-20T13:25:21.808891",
     "status": "completed"
    },
    "tags": []
   },
   "outputs": [
    {
     "name": "stdout",
     "output_type": "stream",
     "text": [
      "Train Data C.F.R. :\n",
      "               precision    recall  f1-score   support\n",
      "\n",
      "           0       0.98      0.99      0.99       333\n",
      "           1       0.99      0.97      0.98       179\n",
      "\n",
      "    accuracy                           0.98       512\n",
      "   macro avg       0.99      0.98      0.98       512\n",
      "weighted avg       0.98      0.98      0.98       512\n",
      "\n"
     ]
    }
   ],
   "source": [
    "# 분류예측 보고서\n",
    "cfr_train=classification_report(y_train,pred_train)\n",
    "print('Train Data C.F.R. :\\n', cfr_train)"
   ]
  },
  {
   "cell_type": "code",
   "execution_count": 8,
   "id": "b6d30a6a",
   "metadata": {
    "execution": {
     "iopub.execute_input": "2022-05-20T13:25:21.925571Z",
     "iopub.status.busy": "2022-05-20T13:25:21.925249Z",
     "iopub.status.idle": "2022-05-20T13:25:21.948841Z",
     "shell.execute_reply": "2022-05-20T13:25:21.947583Z"
    },
    "papermill": {
     "duration": 0.058532,
     "end_time": "2022-05-20T13:25:21.951321",
     "exception": false,
     "start_time": "2022-05-20T13:25:21.892789",
     "status": "completed"
    },
    "tags": []
   },
   "outputs": [
    {
     "name": "stdout",
     "output_type": "stream",
     "text": [
      "0.9532163742690059\n"
     ]
    }
   ],
   "source": [
    "# Test Data 적용\n",
    "pred_test = model.predict(mm_X_test)\n",
    "print(model.score(mm_X_test, y_test))"
   ]
  },
  {
   "cell_type": "code",
   "execution_count": 9,
   "id": "5b9066d2",
   "metadata": {
    "execution": {
     "iopub.execute_input": "2022-05-20T13:25:22.020850Z",
     "iopub.status.busy": "2022-05-20T13:25:22.020204Z",
     "iopub.status.idle": "2022-05-20T13:25:22.027435Z",
     "shell.execute_reply": "2022-05-20T13:25:22.026317Z"
    },
    "papermill": {
     "duration": 0.045334,
     "end_time": "2022-05-20T13:25:22.029819",
     "exception": false,
     "start_time": "2022-05-20T13:25:21.984485",
     "status": "completed"
    },
    "tags": []
   },
   "outputs": [
    {
     "name": "stdout",
     "output_type": "stream",
     "text": [
      "Test Data C.M. :\n",
      " [[106   5]\n",
      " [  3  57]]\n"
     ]
    }
   ],
   "source": [
    "# 혼동행렬 확인\n",
    "cm_test = confusion_matrix(y_test, pred_test)\n",
    "print(\"Test Data C.M. :\\n\", cm_test)\n",
    "\n",
    "# 정상 중 5명 오분류, 환자 중 3명 오분류"
   ]
  },
  {
   "cell_type": "code",
   "execution_count": 10,
   "id": "5134aee4",
   "metadata": {
    "execution": {
     "iopub.execute_input": "2022-05-20T13:25:22.102987Z",
     "iopub.status.busy": "2022-05-20T13:25:22.102399Z",
     "iopub.status.idle": "2022-05-20T13:25:22.112782Z",
     "shell.execute_reply": "2022-05-20T13:25:22.112040Z"
    },
    "papermill": {
     "duration": 0.051683,
     "end_time": "2022-05-20T13:25:22.115845",
     "exception": false,
     "start_time": "2022-05-20T13:25:22.064162",
     "status": "completed"
    },
    "tags": []
   },
   "outputs": [
    {
     "name": "stdout",
     "output_type": "stream",
     "text": [
      "Test Data C.F.R. :\n",
      "               precision    recall  f1-score   support\n",
      "\n",
      "           0       0.97      0.95      0.96       111\n",
      "           1       0.92      0.95      0.93        60\n",
      "\n",
      "    accuracy                           0.95       171\n",
      "   macro avg       0.95      0.95      0.95       171\n",
      "weighted avg       0.95      0.95      0.95       171\n",
      "\n"
     ]
    }
   ],
   "source": [
    "# 분류예측 보고서 확인\n",
    "cfr_test=classification_report(y_test, pred_test)\n",
    "print('Test Data C.F.R. :\\n', cfr_test)"
   ]
  },
  {
   "cell_type": "code",
   "execution_count": 11,
   "id": "fbbb9c7a",
   "metadata": {
    "execution": {
     "iopub.execute_input": "2022-05-20T13:25:22.189596Z",
     "iopub.status.busy": "2022-05-20T13:25:22.189276Z",
     "iopub.status.idle": "2022-05-20T13:25:22.975707Z",
     "shell.execute_reply": "2022-05-20T13:25:22.975134Z"
    },
    "papermill": {
     "duration": 0.825033,
     "end_time": "2022-05-20T13:25:22.977895",
     "exception": false,
     "start_time": "2022-05-20T13:25:22.152862",
     "status": "completed"
    },
    "tags": []
   },
   "outputs": [
    {
     "data": {
      "text/plain": [
       "GridSearchCV(cv=5, estimator=KNeighborsClassifier(),\n",
       "             param_grid={'n_neighbors': [1, 3, 5, 7, 9, 11]},\n",
       "             return_train_score=True)"
      ]
     },
     "execution_count": 11,
     "metadata": {},
     "output_type": "execute_result"
    }
   ],
   "source": [
    "# Hyperparameter Tuning\n",
    "# Grid Search\n",
    "param_g={'n_neighbors': [x for x in range(1, 12, 2)]}\n",
    "g_search=GridSearchCV(KNeighborsClassifier(),\n",
    "                      param_g, cv=5,\n",
    "                      return_train_score=True)\n",
    "g_search.fit(mm_X_train, y_train)"
   ]
  },
  {
   "cell_type": "code",
   "execution_count": 12,
   "id": "11b0f292",
   "metadata": {
    "execution": {
     "iopub.execute_input": "2022-05-20T13:25:23.045853Z",
     "iopub.status.busy": "2022-05-20T13:25:23.045204Z",
     "iopub.status.idle": "2022-05-20T13:25:23.060573Z",
     "shell.execute_reply": "2022-05-20T13:25:23.059450Z"
    },
    "papermill": {
     "duration": 0.052984,
     "end_time": "2022-05-20T13:25:23.062887",
     "exception": false,
     "start_time": "2022-05-20T13:25:23.009903",
     "status": "completed"
    },
    "tags": []
   },
   "outputs": [
    {
     "name": "stdout",
     "output_type": "stream",
     "text": [
      "Best Parameter : {'n_neighbors': 3}\n",
      "Best Score : 0.9824\n",
      "Test Set Score : 0.9532\n"
     ]
    }
   ],
   "source": [
    "print('Best Parameter :', g_search.best_params_)\n",
    "print('Best Score :', round(g_search.best_score_, 4))\n",
    "print('Test Set Score :', round(g_search.score(mm_X_test, y_test), 4))"
   ]
  },
  {
   "cell_type": "code",
   "execution_count": 13,
   "id": "1f18bc83",
   "metadata": {
    "execution": {
     "iopub.execute_input": "2022-05-20T13:25:23.134041Z",
     "iopub.status.busy": "2022-05-20T13:25:23.133593Z",
     "iopub.status.idle": "2022-05-20T13:25:25.717677Z",
     "shell.execute_reply": "2022-05-20T13:25:25.716791Z"
    },
    "papermill": {
     "duration": 2.624779,
     "end_time": "2022-05-20T13:25:25.720320",
     "exception": false,
     "start_time": "2022-05-20T13:25:23.095541",
     "status": "completed"
    },
    "tags": []
   },
   "outputs": [
    {
     "data": {
      "text/plain": [
       "RandomizedSearchCV(cv=5, estimator=KNeighborsClassifier(), n_iter=20,\n",
       "                   param_distributions={'n_neighbors': <scipy.stats._distn_infrastructure.rv_frozen object at 0x7fa1a1a12190>},\n",
       "                   return_train_score=True)"
      ]
     },
     "execution_count": 13,
     "metadata": {},
     "output_type": "execute_result"
    }
   ],
   "source": [
    "# Randomized Search\n",
    "param_r={'n_neighbors':randint(low=1, high=20)}\n",
    "r_search=RandomizedSearchCV(KNeighborsClassifier(),\n",
    "                            param_distributions=param_r,\n",
    "                            cv=5, n_iter=20,\n",
    "                            return_train_score=True)\n",
    "r_search.fit(mm_X_train, y_train)"
   ]
  },
  {
   "cell_type": "code",
   "execution_count": 14,
   "id": "09af5851",
   "metadata": {
    "execution": {
     "iopub.execute_input": "2022-05-20T13:25:25.804544Z",
     "iopub.status.busy": "2022-05-20T13:25:25.803619Z",
     "iopub.status.idle": "2022-05-20T13:25:25.819905Z",
     "shell.execute_reply": "2022-05-20T13:25:25.818874Z"
    },
    "papermill": {
     "duration": 0.059844,
     "end_time": "2022-05-20T13:25:25.822324",
     "exception": false,
     "start_time": "2022-05-20T13:25:25.762480",
     "status": "completed"
    },
    "tags": []
   },
   "outputs": [
    {
     "name": "stdout",
     "output_type": "stream",
     "text": [
      "Best Parameter : {'n_neighbors': 9}\n",
      "Best Score : 0.9726\n",
      "Test Set Score : 0.9532\n"
     ]
    }
   ],
   "source": [
    "print('Best Parameter :', r_search.best_params_)\n",
    "print('Best Score :', round(r_search.best_score_, 4))\n",
    "print('Test Set Score :', round(r_search.score(mm_X_test, y_test), 4))"
   ]
  },
  {
   "cell_type": "markdown",
   "id": "762a79d3",
   "metadata": {
    "papermill": {
     "duration": 0.034523,
     "end_time": "2022-05-20T13:25:25.891977",
     "exception": false,
     "start_time": "2022-05-20T13:25:25.857454",
     "status": "completed"
    },
    "tags": []
   },
   "source": [
    "# 분석 코드 - Regression"
   ]
  },
  {
   "cell_type": "code",
   "execution_count": 15,
   "id": "69aca6ab",
   "metadata": {
    "execution": {
     "iopub.execute_input": "2022-05-20T13:25:25.963207Z",
     "iopub.status.busy": "2022-05-20T13:25:25.962931Z",
     "iopub.status.idle": "2022-05-20T13:25:26.023623Z",
     "shell.execute_reply": "2022-05-20T13:25:26.022635Z"
    },
    "papermill": {
     "duration": 0.098343,
     "end_time": "2022-05-20T13:25:26.026244",
     "exception": false,
     "start_time": "2022-05-20T13:25:25.927901",
     "status": "completed"
    },
    "tags": []
   },
   "outputs": [
    {
     "data": {
      "text/html": [
       "<div>\n",
       "<style scoped>\n",
       "    .dataframe tbody tr th:only-of-type {\n",
       "        vertical-align: middle;\n",
       "    }\n",
       "\n",
       "    .dataframe tbody tr th {\n",
       "        vertical-align: top;\n",
       "    }\n",
       "\n",
       "    .dataframe thead th {\n",
       "        text-align: right;\n",
       "    }\n",
       "</style>\n",
       "<table border=\"1\" class=\"dataframe\">\n",
       "  <thead>\n",
       "    <tr style=\"text-align: right;\">\n",
       "      <th></th>\n",
       "      <th>housing_age</th>\n",
       "      <th>income</th>\n",
       "      <th>bedrooms</th>\n",
       "      <th>households</th>\n",
       "      <th>rooms</th>\n",
       "      <th>house_value</th>\n",
       "    </tr>\n",
       "  </thead>\n",
       "  <tbody>\n",
       "    <tr>\n",
       "      <th>0</th>\n",
       "      <td>23</td>\n",
       "      <td>6.7770</td>\n",
       "      <td>0.141112</td>\n",
       "      <td>2.442244</td>\n",
       "      <td>8.103960</td>\n",
       "      <td>500000</td>\n",
       "    </tr>\n",
       "    <tr>\n",
       "      <th>1</th>\n",
       "      <td>49</td>\n",
       "      <td>6.0199</td>\n",
       "      <td>0.160984</td>\n",
       "      <td>2.726688</td>\n",
       "      <td>5.752412</td>\n",
       "      <td>500000</td>\n",
       "    </tr>\n",
       "    <tr>\n",
       "      <th>2</th>\n",
       "      <td>35</td>\n",
       "      <td>5.1155</td>\n",
       "      <td>0.249061</td>\n",
       "      <td>1.902676</td>\n",
       "      <td>3.888078</td>\n",
       "      <td>500000</td>\n",
       "    </tr>\n",
       "    <tr>\n",
       "      <th>3</th>\n",
       "      <td>32</td>\n",
       "      <td>4.7109</td>\n",
       "      <td>0.231383</td>\n",
       "      <td>1.913669</td>\n",
       "      <td>4.508393</td>\n",
       "      <td>500000</td>\n",
       "    </tr>\n",
       "    <tr>\n",
       "      <th>4</th>\n",
       "      <td>21</td>\n",
       "      <td>4.5625</td>\n",
       "      <td>0.255583</td>\n",
       "      <td>3.092664</td>\n",
       "      <td>4.667954</td>\n",
       "      <td>500000</td>\n",
       "    </tr>\n",
       "  </tbody>\n",
       "</table>\n",
       "</div>"
      ],
      "text/plain": [
       "   housing_age  income  bedrooms  households     rooms  house_value\n",
       "0           23  6.7770  0.141112    2.442244  8.103960       500000\n",
       "1           49  6.0199  0.160984    2.726688  5.752412       500000\n",
       "2           35  5.1155  0.249061    1.902676  3.888078       500000\n",
       "3           32  4.7109  0.231383    1.913669  4.508393       500000\n",
       "4           21  4.5625  0.255583    3.092664  4.667954       500000"
      ]
     },
     "execution_count": 15,
     "metadata": {},
     "output_type": "execute_result"
    }
   ],
   "source": [
    "# 데이터 로드\n",
    "df2 = pd.read_csv('../input/big-data-certification-study/house_price.csv', encoding='utf-8')\n",
    "df2.head()"
   ]
  },
  {
   "cell_type": "code",
   "execution_count": 16,
   "id": "086c6907",
   "metadata": {
    "execution": {
     "iopub.execute_input": "2022-05-20T13:25:26.099664Z",
     "iopub.status.busy": "2022-05-20T13:25:26.098926Z",
     "iopub.status.idle": "2022-05-20T13:25:26.106845Z",
     "shell.execute_reply": "2022-05-20T13:25:26.106151Z"
    },
    "papermill": {
     "duration": 0.047394,
     "end_time": "2022-05-20T13:25:26.108989",
     "exception": false,
     "start_time": "2022-05-20T13:25:26.061595",
     "status": "completed"
    },
    "tags": []
   },
   "outputs": [
    {
     "data": {
      "text/plain": [
       "((17689, 5), (17689, 1))"
      ]
     },
     "execution_count": 16,
     "metadata": {},
     "output_type": "execute_result"
    }
   ],
   "source": [
    "# 데이터 분류\n",
    "X=df2.drop(columns=['house_value'])\n",
    "y=df2[['house_value']]\n",
    "X.shape, y.shape"
   ]
  },
  {
   "cell_type": "code",
   "execution_count": 17,
   "id": "da2d9e24",
   "metadata": {
    "execution": {
     "iopub.execute_input": "2022-05-20T13:25:26.181843Z",
     "iopub.status.busy": "2022-05-20T13:25:26.181395Z",
     "iopub.status.idle": "2022-05-20T13:25:26.190621Z",
     "shell.execute_reply": "2022-05-20T13:25:26.189678Z"
    },
    "papermill": {
     "duration": 0.049324,
     "end_time": "2022-05-20T13:25:26.193098",
     "exception": false,
     "start_time": "2022-05-20T13:25:26.143774",
     "status": "completed"
    },
    "tags": []
   },
   "outputs": [],
   "source": [
    "X_train, X_test, y_train, y_test = train_test_split(X,y,random_state=42)"
   ]
  },
  {
   "cell_type": "code",
   "execution_count": 18,
   "id": "e8e90c71",
   "metadata": {
    "execution": {
     "iopub.execute_input": "2022-05-20T13:25:26.271502Z",
     "iopub.status.busy": "2022-05-20T13:25:26.270710Z",
     "iopub.status.idle": "2022-05-20T13:25:26.283570Z",
     "shell.execute_reply": "2022-05-20T13:25:26.282457Z"
    },
    "papermill": {
     "duration": 0.059145,
     "end_time": "2022-05-20T13:25:26.288394",
     "exception": false,
     "start_time": "2022-05-20T13:25:26.229249",
     "status": "completed"
    },
    "tags": []
   },
   "outputs": [],
   "source": [
    "# 정규화 - Min Max Scaling\n",
    "scaler.fit(X_train)\n",
    "ms_X_train = scaler.transform(X_train)\n",
    "ms_X_test = scaler.transform(X_test)"
   ]
  },
  {
   "cell_type": "code",
   "execution_count": 19,
   "id": "52865335",
   "metadata": {
    "execution": {
     "iopub.execute_input": "2022-05-20T13:25:26.372790Z",
     "iopub.status.busy": "2022-05-20T13:25:26.371953Z",
     "iopub.status.idle": "2022-05-20T13:25:26.756852Z",
     "shell.execute_reply": "2022-05-20T13:25:26.756187Z"
    },
    "papermill": {
     "duration": 0.426027,
     "end_time": "2022-05-20T13:25:26.759347",
     "exception": false,
     "start_time": "2022-05-20T13:25:26.333320",
     "status": "completed"
    },
    "tags": []
   },
   "outputs": [
    {
     "data": {
      "text/plain": [
       "0.7227068233803273"
      ]
     },
     "execution_count": 19,
     "metadata": {},
     "output_type": "execute_result"
    }
   ],
   "source": [
    "# 모델 적용\n",
    "model = KNeighborsRegressor()\n",
    "model.fit(ms_X_train, y_train)\n",
    "pred_train=model.predict(ms_X_train)\n",
    "model.score(ms_X_train, y_train)"
   ]
  },
  {
   "cell_type": "code",
   "execution_count": 20,
   "id": "febf426e",
   "metadata": {
    "execution": {
     "iopub.execute_input": "2022-05-20T13:25:26.838435Z",
     "iopub.status.busy": "2022-05-20T13:25:26.837652Z",
     "iopub.status.idle": "2022-05-20T13:25:26.956628Z",
     "shell.execute_reply": "2022-05-20T13:25:26.955750Z"
    },
    "papermill": {
     "duration": 0.160276,
     "end_time": "2022-05-20T13:25:26.959305",
     "exception": false,
     "start_time": "2022-05-20T13:25:26.799029",
     "status": "completed"
    },
    "tags": []
   },
   "outputs": [
    {
     "data": {
      "text/plain": [
       "0.5910613917846521"
      ]
     },
     "execution_count": 20,
     "metadata": {},
     "output_type": "execute_result"
    }
   ],
   "source": [
    "pred_test=model.predict(ms_X_test)\n",
    "model.score(ms_X_test, y_test)"
   ]
  },
  {
   "cell_type": "code",
   "execution_count": 21,
   "id": "47f899a7",
   "metadata": {
    "execution": {
     "iopub.execute_input": "2022-05-20T13:25:27.038954Z",
     "iopub.status.busy": "2022-05-20T13:25:27.038206Z",
     "iopub.status.idle": "2022-05-20T13:25:27.051952Z",
     "shell.execute_reply": "2022-05-20T13:25:27.050820Z"
    },
    "papermill": {
     "duration": 0.056308,
     "end_time": "2022-05-20T13:25:27.054720",
     "exception": false,
     "start_time": "2022-05-20T13:25:26.998412",
     "status": "completed"
    },
    "tags": []
   },
   "outputs": [
    {
     "name": "stdout",
     "output_type": "stream",
     "text": [
      "Train Data RMSE : 50259.78603945866\n",
      "Test  Data RMSE : 61135.22729166754\n"
     ]
    }
   ],
   "source": [
    "# RMSE (Root Mean Squared Error)\n",
    "# 회귀모델 평가지표\n",
    "from sklearn.metrics import mean_squared_error\n",
    "mse_train=mean_squared_error(y_train, pred_train)\n",
    "mse_test=mean_squared_error(y_test, pred_test)\n",
    "print('Train Data RMSE :', np.sqrt(mse_train))\n",
    "print('Test  Data RMSE :', np.sqrt(mse_test))"
   ]
  },
  {
   "cell_type": "code",
   "execution_count": 22,
   "id": "92cd757f",
   "metadata": {
    "execution": {
     "iopub.execute_input": "2022-05-20T13:25:27.131369Z",
     "iopub.status.busy": "2022-05-20T13:25:27.130732Z",
     "iopub.status.idle": "2022-05-20T13:25:31.801839Z",
     "shell.execute_reply": "2022-05-20T13:25:31.800878Z"
    },
    "papermill": {
     "duration": 4.712688,
     "end_time": "2022-05-20T13:25:31.803982",
     "exception": false,
     "start_time": "2022-05-20T13:25:27.091294",
     "status": "completed"
    },
    "tags": []
   },
   "outputs": [
    {
     "data": {
      "text/plain": [
       "GridSearchCV(cv=5, estimator=KNeighborsRegressor(),\n",
       "             param_grid={'n_neighbors': [1, 3, 5, 7, 9, 11]},\n",
       "             return_train_score=True)"
      ]
     },
     "execution_count": 22,
     "metadata": {},
     "output_type": "execute_result"
    }
   ],
   "source": [
    "# Hyperparameter Tuning\n",
    "# Grid Search\n",
    "param_grid ={'n_neighbors':[x for x in range(1, 12, 2)]}\n",
    "grid_search=GridSearchCV(KNeighborsRegressor(),\n",
    "                         param_grid, cv=5,\n",
    "                         return_train_score=True)\n",
    "grid_search.fit(ms_X_train, y_train)"
   ]
  },
  {
   "cell_type": "code",
   "execution_count": 23,
   "id": "8d581ee7",
   "metadata": {
    "execution": {
     "iopub.execute_input": "2022-05-20T13:25:31.878478Z",
     "iopub.status.busy": "2022-05-20T13:25:31.878154Z",
     "iopub.status.idle": "2022-05-20T13:25:31.956786Z",
     "shell.execute_reply": "2022-05-20T13:25:31.955882Z"
    },
    "papermill": {
     "duration": 0.118589,
     "end_time": "2022-05-20T13:25:31.959047",
     "exception": false,
     "start_time": "2022-05-20T13:25:31.840458",
     "status": "completed"
    },
    "tags": []
   },
   "outputs": [
    {
     "name": "stdout",
     "output_type": "stream",
     "text": [
      "Best Parameter : {'n_neighbors': 11}\n",
      "Best Score : 0.6137\n",
      "Test Set Score : 0.6195\n"
     ]
    }
   ],
   "source": [
    "print('Best Parameter :', grid_search.best_params_)\n",
    "print('Best Score :', round(grid_search.best_score_, 4))\n",
    "print('Test Set Score :', round(grid_search.score(ms_X_test, y_test), 4))"
   ]
  },
  {
   "cell_type": "code",
   "execution_count": 24,
   "id": "ed53f043",
   "metadata": {
    "collapsed": true,
    "execution": {
     "iopub.execute_input": "2022-05-20T13:25:32.032600Z",
     "iopub.status.busy": "2022-05-20T13:25:32.031783Z",
     "iopub.status.idle": "2022-05-20T13:25:54.479237Z",
     "shell.execute_reply": "2022-05-20T13:25:54.478322Z"
    },
    "jupyter": {
     "outputs_hidden": true
    },
    "papermill": {
     "duration": 22.486659,
     "end_time": "2022-05-20T13:25:54.481399",
     "exception": false,
     "start_time": "2022-05-20T13:25:31.994740",
     "status": "completed"
    },
    "tags": []
   },
   "outputs": [
    {
     "data": {
      "text/plain": [
       "RandomizedSearchCV(cv=5, estimator=KNeighborsRegressor(), n_iter=20,\n",
       "                   param_distributions={'n_neighbors': <scipy.stats._distn_infrastructure.rv_frozen object at 0x7fa1a197d710>},\n",
       "                   return_train_score=True)"
      ]
     },
     "execution_count": 24,
     "metadata": {},
     "output_type": "execute_result"
    }
   ],
   "source": [
    "# Randomized Search\n",
    "r_param={'n_neighbors':randint(low=1, high=20)}\n",
    "search_r=RandomizedSearchCV(KNeighborsRegressor(),\n",
    "                            param_distributions=r_param,\n",
    "                            cv=5, n_iter=20,\n",
    "                            return_train_score=True)\n",
    "search_r.fit(ms_X_train, y_train)"
   ]
  },
  {
   "cell_type": "code",
   "execution_count": 25,
   "id": "b670f7bf",
   "metadata": {
    "execution": {
     "iopub.execute_input": "2022-05-20T13:25:54.555220Z",
     "iopub.status.busy": "2022-05-20T13:25:54.554933Z",
     "iopub.status.idle": "2022-05-20T13:25:54.652151Z",
     "shell.execute_reply": "2022-05-20T13:25:54.651053Z"
    },
    "papermill": {
     "duration": 0.136766,
     "end_time": "2022-05-20T13:25:54.654322",
     "exception": false,
     "start_time": "2022-05-20T13:25:54.517556",
     "status": "completed"
    },
    "tags": []
   },
   "outputs": [
    {
     "name": "stdout",
     "output_type": "stream",
     "text": [
      "Best Parameter : {'n_neighbors': 19}\n",
      "Best Score : 0.6191\n",
      "Test Set Score : 0.6275\n"
     ]
    }
   ],
   "source": [
    "print('Best Parameter :', search_r.best_params_)\n",
    "print('Best Score :', round(search_r.best_score_, 4))\n",
    "print('Test Set Score :', round(search_r.score(ms_X_test, y_test), 4))"
   ]
  }
 ],
 "metadata": {
  "kernelspec": {
   "display_name": "Python 3",
   "language": "python",
   "name": "python3"
  },
  "language_info": {
   "codemirror_mode": {
    "name": "ipython",
    "version": 3
   },
   "file_extension": ".py",
   "mimetype": "text/x-python",
   "name": "python",
   "nbconvert_exporter": "python",
   "pygments_lexer": "ipython3",
   "version": "3.7.12"
  },
  "papermill": {
   "default_parameters": {},
   "duration": 47.458122,
   "end_time": "2022-05-20T13:25:55.411619",
   "environment_variables": {},
   "exception": null,
   "input_path": "__notebook__.ipynb",
   "output_path": "__notebook__.ipynb",
   "parameters": {},
   "start_time": "2022-05-20T13:25:07.953497",
   "version": "2.3.4"
  }
 },
 "nbformat": 4,
 "nbformat_minor": 5
}
