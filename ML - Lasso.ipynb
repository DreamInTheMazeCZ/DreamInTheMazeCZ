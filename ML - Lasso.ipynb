{
 "cells": [
  {
   "cell_type": "markdown",
   "id": "2527a78a",
   "metadata": {
    "papermill": {
     "duration": 0.011198,
     "end_time": "2022-06-28T16:31:45.993296",
     "exception": false,
     "start_time": "2022-06-28T16:31:45.982098",
     "status": "completed"
    },
    "tags": []
   },
   "source": [
    "### sklearn.linear_model.Lasso\n",
    "\n",
    "#### 릿지회귀모델과 유사하게 가중치(회귀계수) 값을 최대한 작게하지만(0에 가깝게) 실제 중요하지 않은 변수의 계수를 0으로 만들어 불필요한 변수를 제거하는 회귀모델\n",
    "\n",
    "#### 주요 Hyperparameter\n",
    "- alpha : 기본값 1로, 0에 가까울수록 규제가 없고(선형회귀와 유사한 결과) 값이 커질수록 규제가 강해져 회귀계수가 0에 근접\n",
    "\n",
    "##### Lasso(alpha=1.0, fit_intercept=True, normalize=False, precompute=False, copy_X=True, max_iter=1000, tol=0.0001, warm_start=False, positive=False, random_state=None, selection='cyclic')"
   ]
  },
  {
   "cell_type": "markdown",
   "id": "b31ece2a",
   "metadata": {
    "papermill": {
     "duration": 0.010184,
     "end_time": "2022-06-28T16:31:46.014086",
     "exception": false,
     "start_time": "2022-06-28T16:31:46.003902",
     "status": "completed"
    },
    "tags": []
   },
   "source": [
    "# 분석 코드"
   ]
  },
  {
   "cell_type": "code",
   "execution_count": 1,
   "id": "2315df72",
   "metadata": {
    "execution": {
     "iopub.execute_input": "2022-06-28T16:31:46.036716Z",
     "iopub.status.busy": "2022-06-28T16:31:46.036248Z",
     "iopub.status.idle": "2022-06-28T16:31:47.352567Z",
     "shell.execute_reply": "2022-06-28T16:31:47.351726Z"
    },
    "papermill": {
     "duration": 1.330778,
     "end_time": "2022-06-28T16:31:47.355151",
     "exception": false,
     "start_time": "2022-06-28T16:31:46.024373",
     "status": "completed"
    },
    "tags": []
   },
   "outputs": [
    {
     "data": {
      "text/html": [
       "<div>\n",
       "<style scoped>\n",
       "    .dataframe tbody tr th:only-of-type {\n",
       "        vertical-align: middle;\n",
       "    }\n",
       "\n",
       "    .dataframe tbody tr th {\n",
       "        vertical-align: top;\n",
       "    }\n",
       "\n",
       "    .dataframe thead th {\n",
       "        text-align: right;\n",
       "    }\n",
       "</style>\n",
       "<table border=\"1\" class=\"dataframe\">\n",
       "  <thead>\n",
       "    <tr style=\"text-align: right;\">\n",
       "      <th></th>\n",
       "      <th>housing_age</th>\n",
       "      <th>income</th>\n",
       "      <th>bedrooms</th>\n",
       "      <th>households</th>\n",
       "      <th>rooms</th>\n",
       "      <th>house_value</th>\n",
       "    </tr>\n",
       "  </thead>\n",
       "  <tbody>\n",
       "    <tr>\n",
       "      <th>0</th>\n",
       "      <td>23</td>\n",
       "      <td>6.7770</td>\n",
       "      <td>0.141112</td>\n",
       "      <td>2.442244</td>\n",
       "      <td>8.103960</td>\n",
       "      <td>500000</td>\n",
       "    </tr>\n",
       "    <tr>\n",
       "      <th>1</th>\n",
       "      <td>49</td>\n",
       "      <td>6.0199</td>\n",
       "      <td>0.160984</td>\n",
       "      <td>2.726688</td>\n",
       "      <td>5.752412</td>\n",
       "      <td>500000</td>\n",
       "    </tr>\n",
       "    <tr>\n",
       "      <th>2</th>\n",
       "      <td>35</td>\n",
       "      <td>5.1155</td>\n",
       "      <td>0.249061</td>\n",
       "      <td>1.902676</td>\n",
       "      <td>3.888078</td>\n",
       "      <td>500000</td>\n",
       "    </tr>\n",
       "    <tr>\n",
       "      <th>3</th>\n",
       "      <td>32</td>\n",
       "      <td>4.7109</td>\n",
       "      <td>0.231383</td>\n",
       "      <td>1.913669</td>\n",
       "      <td>4.508393</td>\n",
       "      <td>500000</td>\n",
       "    </tr>\n",
       "    <tr>\n",
       "      <th>4</th>\n",
       "      <td>21</td>\n",
       "      <td>4.5625</td>\n",
       "      <td>0.255583</td>\n",
       "      <td>3.092664</td>\n",
       "      <td>4.667954</td>\n",
       "      <td>500000</td>\n",
       "    </tr>\n",
       "  </tbody>\n",
       "</table>\n",
       "</div>"
      ],
      "text/plain": [
       "   housing_age  income  bedrooms  households     rooms  house_value\n",
       "0           23  6.7770  0.141112    2.442244  8.103960       500000\n",
       "1           49  6.0199  0.160984    2.726688  5.752412       500000\n",
       "2           35  5.1155  0.249061    1.902676  3.888078       500000\n",
       "3           32  4.7109  0.231383    1.913669  4.508393       500000\n",
       "4           21  4.5625  0.255583    3.092664  4.667954       500000"
      ]
     },
     "execution_count": 1,
     "metadata": {},
     "output_type": "execute_result"
    }
   ],
   "source": [
    "# 라이브러리 및 데이터 로드\n",
    "import warnings\n",
    "warnings.filterwarnings('ignore')\n",
    "import pandas as pd\n",
    "import numpy as np\n",
    "import matplotlib.pyplot as plt\n",
    "from scipy.stats import randint\n",
    "from sklearn.model_selection import train_test_split, GridSearchCV, RandomizedSearchCV\n",
    "from sklearn.preprocessing import MinMaxScaler, StandardScaler\n",
    "from sklearn.linear_model import Lasso\n",
    "from sklearn.metrics import mean_squared_error\n",
    "\n",
    "df = pd.read_csv('../input/big-data-certification-study/house_price.csv', encoding='utf-8')\n",
    "df.head()"
   ]
  },
  {
   "cell_type": "code",
   "execution_count": 2,
   "id": "e374230c",
   "metadata": {
    "execution": {
     "iopub.execute_input": "2022-06-28T16:31:47.378605Z",
     "iopub.status.busy": "2022-06-28T16:31:47.378191Z",
     "iopub.status.idle": "2022-06-28T16:31:47.393315Z",
     "shell.execute_reply": "2022-06-28T16:31:47.392381Z"
    },
    "papermill": {
     "duration": 0.029259,
     "end_time": "2022-06-28T16:31:47.395501",
     "exception": false,
     "start_time": "2022-06-28T16:31:47.366242",
     "status": "completed"
    },
    "tags": []
   },
   "outputs": [
    {
     "data": {
      "text/plain": [
       "((17689, 6), (17689, 5), (17689, 1))"
      ]
     },
     "execution_count": 2,
     "metadata": {},
     "output_type": "execute_result"
    }
   ],
   "source": [
    "# 데이터셋 분리\n",
    "X = df.drop(columns=['house_value'])\n",
    "y = df[['house_value']]\n",
    "\n",
    "df.shape, X.shape, y.shape"
   ]
  },
  {
   "cell_type": "code",
   "execution_count": 3,
   "id": "cb067612",
   "metadata": {
    "execution": {
     "iopub.execute_input": "2022-06-28T16:31:47.419585Z",
     "iopub.status.busy": "2022-06-28T16:31:47.419300Z",
     "iopub.status.idle": "2022-06-28T16:31:47.426753Z",
     "shell.execute_reply": "2022-06-28T16:31:47.426073Z"
    },
    "papermill": {
     "duration": 0.021948,
     "end_time": "2022-06-28T16:31:47.429132",
     "exception": false,
     "start_time": "2022-06-28T16:31:47.407184",
     "status": "completed"
    },
    "tags": []
   },
   "outputs": [],
   "source": [
    "X_train, X_test, y_train, y_test = train_test_split(X, y, random_state=42)\n",
    "# stratify : y 범주의 비율에 따라 데이터 분리"
   ]
  },
  {
   "cell_type": "code",
   "execution_count": 4,
   "id": "a28418ac",
   "metadata": {
    "execution": {
     "iopub.execute_input": "2022-06-28T16:31:47.454957Z",
     "iopub.status.busy": "2022-06-28T16:31:47.454370Z",
     "iopub.status.idle": "2022-06-28T16:31:47.464399Z",
     "shell.execute_reply": "2022-06-28T16:31:47.463827Z"
    },
    "papermill": {
     "duration": 0.025595,
     "end_time": "2022-06-28T16:31:47.466687",
     "exception": false,
     "start_time": "2022-06-28T16:31:47.441092",
     "status": "completed"
    },
    "tags": []
   },
   "outputs": [],
   "source": [
    "# 정규화 - Min-Max Scaling\n",
    "scaler=MinMaxScaler()\n",
    "scaler.fit(X_train) # feature data의 train data만 fit\n",
    "scaled_X_train = scaler.transform(X_train)\n",
    "scaled_X_test = scaler.transform(X_test)"
   ]
  },
  {
   "cell_type": "code",
   "execution_count": 5,
   "id": "76728475",
   "metadata": {
    "execution": {
     "iopub.execute_input": "2022-06-28T16:31:47.490902Z",
     "iopub.status.busy": "2022-06-28T16:31:47.489942Z",
     "iopub.status.idle": "2022-06-28T16:31:47.520926Z",
     "shell.execute_reply": "2022-06-28T16:31:47.519793Z"
    },
    "papermill": {
     "duration": 0.04717,
     "end_time": "2022-06-28T16:31:47.524779",
     "exception": false,
     "start_time": "2022-06-28T16:31:47.477609",
     "status": "completed"
    },
    "tags": []
   },
   "outputs": [
    {
     "data": {
      "text/plain": [
       "0.5706920866967898"
      ]
     },
     "execution_count": 5,
     "metadata": {},
     "output_type": "execute_result"
    }
   ],
   "source": [
    "# 모델 적용/예측 및 정확도\n",
    "model=Lasso()\n",
    "model.fit(scaled_X_train, y_train)\n",
    "pred_x = model.predict(scaled_X_train)\n",
    "model.score(scaled_X_train, y_train)"
   ]
  },
  {
   "cell_type": "code",
   "execution_count": 6,
   "id": "f8b64516",
   "metadata": {
    "execution": {
     "iopub.execute_input": "2022-06-28T16:31:47.629829Z",
     "iopub.status.busy": "2022-06-28T16:31:47.629447Z",
     "iopub.status.idle": "2022-06-28T16:31:47.643993Z",
     "shell.execute_reply": "2022-06-28T16:31:47.643006Z"
    },
    "papermill": {
     "duration": 0.056045,
     "end_time": "2022-06-28T16:31:47.647160",
     "exception": false,
     "start_time": "2022-06-28T16:31:47.591115",
     "status": "completed"
    },
    "tags": []
   },
   "outputs": [
    {
     "data": {
      "text/plain": [
       "0.5826093207813087"
      ]
     },
     "execution_count": 6,
     "metadata": {},
     "output_type": "execute_result"
    }
   ],
   "source": [
    "pred_y = model.predict(scaled_X_test)\n",
    "model.score(scaled_X_test, y_test)"
   ]
  },
  {
   "cell_type": "code",
   "execution_count": 7,
   "id": "3d36e4ea",
   "metadata": {
    "execution": {
     "iopub.execute_input": "2022-06-28T16:31:47.692531Z",
     "iopub.status.busy": "2022-06-28T16:31:47.692131Z",
     "iopub.status.idle": "2022-06-28T16:31:47.710970Z",
     "shell.execute_reply": "2022-06-28T16:31:47.709853Z"
    },
    "papermill": {
     "duration": 0.045249,
     "end_time": "2022-06-28T16:31:47.714287",
     "exception": false,
     "start_time": "2022-06-28T16:31:47.669038",
     "status": "completed"
    },
    "tags": []
   },
   "outputs": [
    {
     "name": "stdout",
     "output_type": "stream",
     "text": [
      "Train RMSE : 62537 \n",
      "Test  RMSE : 61764\n"
     ]
    }
   ],
   "source": [
    "# RMSE(Root Mean Squared Error)\n",
    "rmse_train=np.sqrt(mean_squared_error(y_train,pred_x)) \n",
    "rmse_test=np.sqrt(mean_squared_error(y_test,pred_y)) \n",
    "print('Train RMSE :', round(rmse_train), '\\nTest  RMSE :', round(rmse_test))"
   ]
  },
  {
   "cell_type": "code",
   "execution_count": 8,
   "id": "b685af38",
   "metadata": {
    "execution": {
     "iopub.execute_input": "2022-06-28T16:31:47.758448Z",
     "iopub.status.busy": "2022-06-28T16:31:47.758167Z",
     "iopub.status.idle": "2022-06-28T16:31:49.760297Z",
     "shell.execute_reply": "2022-06-28T16:31:49.759410Z"
    },
    "papermill": {
     "duration": 2.026751,
     "end_time": "2022-06-28T16:31:49.763391",
     "exception": false,
     "start_time": "2022-06-28T16:31:47.736640",
     "status": "completed"
    },
    "tags": []
   },
   "outputs": [
    {
     "data": {
      "text/plain": [
       "GridSearchCV(cv=5, estimator=Lasso(),\n",
       "             param_grid={'alpha': [0.0, 1e-06, 1e-05, 0.0001, 0.001, 0.01, 0.1,\n",
       "                                   0.5, 1.0, 2.0, 3.0]},\n",
       "             return_train_score=True)"
      ]
     },
     "execution_count": 8,
     "metadata": {},
     "output_type": "execute_result"
    }
   ],
   "source": [
    "# Hyperparameter Tuning\n",
    "# Grid Search\n",
    "g_param = {'alpha':[0.0,1e-6,1e-5,1e-4,1e-3,1e-2,0.1,0.5,1.0,2.0,3.0]} \n",
    "g_search= GridSearchCV(Lasso(), g_param, cv=5, return_train_score=True) \n",
    "g_search.fit(scaled_X_train, y_train)"
   ]
  },
  {
   "cell_type": "code",
   "execution_count": 9,
   "id": "28783bed",
   "metadata": {
    "execution": {
     "iopub.execute_input": "2022-06-28T16:31:49.852658Z",
     "iopub.status.busy": "2022-06-28T16:31:49.852227Z",
     "iopub.status.idle": "2022-06-28T16:31:49.876256Z",
     "shell.execute_reply": "2022-06-28T16:31:49.875206Z"
    },
    "papermill": {
     "duration": 0.068765,
     "end_time": "2022-06-28T16:31:49.880249",
     "exception": false,
     "start_time": "2022-06-28T16:31:49.811484",
     "status": "completed"
    },
    "tags": []
   },
   "outputs": [
    {
     "name": "stdout",
     "output_type": "stream",
     "text": [
      "Best Parameter : {'alpha': 1.0}\n",
      "Best Score : 0.5703\n",
      "Test Score : 0.5826\n"
     ]
    }
   ],
   "source": [
    "print('Best Parameter :', g_search.best_params_) \n",
    "print('Best Score :',round(g_search.best_score_,4)) \n",
    "print('Test Score :',round(g_search.score(scaled_X_test, y_test),4))"
   ]
  },
  {
   "cell_type": "code",
   "execution_count": 10,
   "id": "860dc154",
   "metadata": {
    "execution": {
     "iopub.execute_input": "2022-06-28T16:31:49.930662Z",
     "iopub.status.busy": "2022-06-28T16:31:49.930263Z",
     "iopub.status.idle": "2022-06-28T16:32:10.953208Z",
     "shell.execute_reply": "2022-06-28T16:32:10.952041Z"
    },
    "papermill": {
     "duration": 21.052279,
     "end_time": "2022-06-28T16:32:10.956573",
     "exception": false,
     "start_time": "2022-06-28T16:31:49.904294",
     "status": "completed"
    },
    "tags": []
   },
   "outputs": [
    {
     "data": {
      "text/plain": [
       "RandomizedSearchCV(cv=5, estimator=Lasso(), n_iter=100,\n",
       "                   param_distributions={'alpha': <scipy.stats._distn_infrastructure.rv_frozen object at 0x7f82273cc290>},\n",
       "                   return_train_score=True)"
      ]
     },
     "execution_count": 10,
     "metadata": {},
     "output_type": "execute_result"
    }
   ],
   "source": [
    "# Randomized Search \n",
    "r_param={'alpha':randint(low=1e-5, high=10)} \n",
    "r_search=RandomizedSearchCV(Lasso(), param_distributions=r_param, cv=5, n_iter=100, return_train_score=True) \n",
    "r_search.fit(scaled_X_train, y_train)"
   ]
  },
  {
   "cell_type": "code",
   "execution_count": 11,
   "id": "5aefbe64",
   "metadata": {
    "execution": {
     "iopub.execute_input": "2022-06-28T16:32:11.044818Z",
     "iopub.status.busy": "2022-06-28T16:32:11.044342Z",
     "iopub.status.idle": "2022-06-28T16:32:11.064779Z",
     "shell.execute_reply": "2022-06-28T16:32:11.062795Z"
    },
    "papermill": {
     "duration": 0.067728,
     "end_time": "2022-06-28T16:32:11.069264",
     "exception": false,
     "start_time": "2022-06-28T16:32:11.001536",
     "status": "completed"
    },
    "tags": []
   },
   "outputs": [
    {
     "name": "stdout",
     "output_type": "stream",
     "text": [
      "Best Parameter : {'alpha': 1}\n",
      "Best Score : 0.5703\n",
      "Test Score : 0.5826\n"
     ]
    }
   ],
   "source": [
    "print('Best Parameter :', r_search.best_params_) \n",
    "print('Best Score :',round(r_search.best_score_,4)) \n",
    "print('Test Score :',round(r_search.score(scaled_X_test, y_test),4))"
   ]
  }
 ],
 "metadata": {
  "kernelspec": {
   "display_name": "Python 3",
   "language": "python",
   "name": "python3"
  },
  "language_info": {
   "codemirror_mode": {
    "name": "ipython",
    "version": 3
   },
   "file_extension": ".py",
   "mimetype": "text/x-python",
   "name": "python",
   "nbconvert_exporter": "python",
   "pygments_lexer": "ipython3",
   "version": "3.7.12"
  },
  "papermill": {
   "default_parameters": {},
   "duration": 34.956868,
   "end_time": "2022-06-28T16:32:11.919929",
   "environment_variables": {},
   "exception": null,
   "input_path": "__notebook__.ipynb",
   "output_path": "__notebook__.ipynb",
   "parameters": {},
   "start_time": "2022-06-28T16:31:36.963061",
   "version": "2.3.4"
  }
 },
 "nbformat": 4,
 "nbformat_minor": 5
}
