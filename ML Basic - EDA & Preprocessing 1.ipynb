{
 "cells": [
  {
   "cell_type": "markdown",
   "id": "196487a0",
   "metadata": {},
   "source": [
    "# 단변량 데이터 탐색"
   ]
  },
  {
   "cell_type": "code",
   "execution_count": 1,
   "id": "1c7d77d5",
   "metadata": {},
   "outputs": [
    {
     "name": "stdout",
     "output_type": "stream",
     "text": [
      "<class 'pandas.core.frame.DataFrame'>\n",
      "RangeIndex: 209 entries, 0 to 208\n",
      "Data columns (total 4 columns):\n",
      " #   Column    Non-Null Count  Dtype  \n",
      "---  ------    --------------  -----  \n",
      " 0   salary    209 non-null    int64  \n",
      " 1   sales     209 non-null    float64\n",
      " 2   roe       209 non-null    float64\n",
      " 3   industry  209 non-null    int64  \n",
      "dtypes: float64(2), int64(2)\n",
      "memory usage: 6.7 KB\n"
     ]
    }
   ],
   "source": [
    "import pandas as pd\n",
    "import numpy as np\n",
    "data = pd.read_csv(\"../BigData_data/Ex_CEOSalary.csv\", encoding = 'utf-8')\n",
    "data.info()"
   ]
  },
  {
   "cell_type": "code",
   "execution_count": 2,
   "id": "aa51ed7e",
   "metadata": {},
   "outputs": [
    {
     "data": {
      "text/html": [
       "<div>\n",
       "<style scoped>\n",
       "    .dataframe tbody tr th:only-of-type {\n",
       "        vertical-align: middle;\n",
       "    }\n",
       "\n",
       "    .dataframe tbody tr th {\n",
       "        vertical-align: top;\n",
       "    }\n",
       "\n",
       "    .dataframe thead th {\n",
       "        text-align: right;\n",
       "    }\n",
       "</style>\n",
       "<table border=\"1\" class=\"dataframe\">\n",
       "  <thead>\n",
       "    <tr style=\"text-align: right;\">\n",
       "      <th></th>\n",
       "      <th>salary</th>\n",
       "      <th>sales</th>\n",
       "      <th>roe</th>\n",
       "      <th>industry</th>\n",
       "    </tr>\n",
       "  </thead>\n",
       "  <tbody>\n",
       "    <tr>\n",
       "      <th>0</th>\n",
       "      <td>1095</td>\n",
       "      <td>27595.000000</td>\n",
       "      <td>14.1</td>\n",
       "      <td>1</td>\n",
       "    </tr>\n",
       "    <tr>\n",
       "      <th>1</th>\n",
       "      <td>1001</td>\n",
       "      <td>9958.000000</td>\n",
       "      <td>10.9</td>\n",
       "      <td>1</td>\n",
       "    </tr>\n",
       "    <tr>\n",
       "      <th>2</th>\n",
       "      <td>1122</td>\n",
       "      <td>6125.899902</td>\n",
       "      <td>23.5</td>\n",
       "      <td>1</td>\n",
       "    </tr>\n",
       "    <tr>\n",
       "      <th>3</th>\n",
       "      <td>578</td>\n",
       "      <td>16246.000000</td>\n",
       "      <td>5.9</td>\n",
       "      <td>1</td>\n",
       "    </tr>\n",
       "    <tr>\n",
       "      <th>4</th>\n",
       "      <td>1368</td>\n",
       "      <td>21783.199219</td>\n",
       "      <td>13.8</td>\n",
       "      <td>1</td>\n",
       "    </tr>\n",
       "  </tbody>\n",
       "</table>\n",
       "</div>"
      ],
      "text/plain": [
       "   salary         sales   roe  industry\n",
       "0    1095  27595.000000  14.1         1\n",
       "1    1001   9958.000000  10.9         1\n",
       "2    1122   6125.899902  23.5         1\n",
       "3     578  16246.000000   5.9         1\n",
       "4    1368  21783.199219  13.8         1"
      ]
     },
     "execution_count": 2,
     "metadata": {},
     "output_type": "execute_result"
    }
   ],
   "source": [
    "data.head()"
   ]
  },
  {
   "cell_type": "code",
   "execution_count": 3,
   "id": "13308f7a",
   "metadata": {},
   "outputs": [
    {
     "data": {
      "text/plain": [
       "1    72\n",
       "3    60\n",
       "2    46\n",
       "4    31\n",
       "Name: industry, dtype: int64"
      ]
     },
     "execution_count": 3,
     "metadata": {},
     "output_type": "execute_result"
    }
   ],
   "source": [
    "# 범주형 자료 탐색\n",
    "data['industry'].value_counts()"
   ]
  },
  {
   "cell_type": "code",
   "execution_count": 4,
   "id": "d8094698",
   "metadata": {},
   "outputs": [
    {
     "data": {
      "text/plain": [
       "Service    72\n",
       "Finance    60\n",
       "IT         46\n",
       "Others     31\n",
       "Name: industry, dtype: int64"
      ]
     },
     "execution_count": 4,
     "metadata": {},
     "output_type": "execute_result"
    }
   ],
   "source": [
    "# 범주형 자료 이름 변환 : replace\n",
    "data['industry'] = data['industry'].replace([1,2,3,4], [\"Service\", \"IT\", \"Finance\", \"Others\"])\n",
    "data['industry'].value_counts()"
   ]
  },
  {
   "cell_type": "code",
   "execution_count": 5,
   "id": "cc943a69",
   "metadata": {},
   "outputs": [
    {
     "data": {
      "image/png": "[encoded data removed]",
      "text/plain": [
       "<Figure size 432x288 with 1 Axes>"
      ]
     },
     "metadata": {},
     "output_type": "display_data"
    }
   ],
   "source": [
    "# 시각화 : value_counts()\n",
    "import matplotlib.pyplot as plt\n",
    "import matplotlib as mpl\n",
    "data['industry'].value_counts().plot(kind='pie');"
   ]
  },
  {
   "cell_type": "code",
   "execution_count": 6,
   "id": "16fd3775",
   "metadata": {},
   "outputs": [
    {
     "data": {
      "image/png": "[encoded data removed]",
      "text/plain": [
       "<Figure size 432x288 with 1 Axes>"
      ]
     },
     "metadata": {
      "needs_background": "light"
     },
     "output_type": "display_data"
    }
   ],
   "source": [
    "data['industry'].value_counts().plot(kind='bar');"
   ]
  },
  {
   "cell_type": "code",
   "execution_count": 7,
   "id": "11f632ea",
   "metadata": {},
   "outputs": [
    {
     "data": {
      "text/html": [
       "<div>\n",
       "<style scoped>\n",
       "    .dataframe tbody tr th:only-of-type {\n",
       "        vertical-align: middle;\n",
       "    }\n",
       "\n",
       "    .dataframe tbody tr th {\n",
       "        vertical-align: top;\n",
       "    }\n",
       "\n",
       "    .dataframe thead th {\n",
       "        text-align: right;\n",
       "    }\n",
       "</style>\n",
       "<table border=\"1\" class=\"dataframe\">\n",
       "  <thead>\n",
       "    <tr style=\"text-align: right;\">\n",
       "      <th></th>\n",
       "      <th>salary</th>\n",
       "      <th>sales</th>\n",
       "      <th>roe</th>\n",
       "    </tr>\n",
       "  </thead>\n",
       "  <tbody>\n",
       "    <tr>\n",
       "      <th>count</th>\n",
       "      <td>209.000000</td>\n",
       "      <td>209.000000</td>\n",
       "      <td>209.000000</td>\n",
       "    </tr>\n",
       "    <tr>\n",
       "      <th>mean</th>\n",
       "      <td>1281.119617</td>\n",
       "      <td>6923.793282</td>\n",
       "      <td>17.184211</td>\n",
       "    </tr>\n",
       "    <tr>\n",
       "      <th>std</th>\n",
       "      <td>1372.345308</td>\n",
       "      <td>10633.271088</td>\n",
       "      <td>8.518509</td>\n",
       "    </tr>\n",
       "    <tr>\n",
       "      <th>min</th>\n",
       "      <td>223.000000</td>\n",
       "      <td>175.199997</td>\n",
       "      <td>0.500000</td>\n",
       "    </tr>\n",
       "    <tr>\n",
       "      <th>25%</th>\n",
       "      <td>736.000000</td>\n",
       "      <td>2210.300049</td>\n",
       "      <td>12.400000</td>\n",
       "    </tr>\n",
       "    <tr>\n",
       "      <th>50%</th>\n",
       "      <td>1039.000000</td>\n",
       "      <td>3705.199951</td>\n",
       "      <td>15.500000</td>\n",
       "    </tr>\n",
       "    <tr>\n",
       "      <th>75%</th>\n",
       "      <td>1407.000000</td>\n",
       "      <td>7177.000000</td>\n",
       "      <td>20.000000</td>\n",
       "    </tr>\n",
       "    <tr>\n",
       "      <th>max</th>\n",
       "      <td>14822.000000</td>\n",
       "      <td>97649.898438</td>\n",
       "      <td>56.299999</td>\n",
       "    </tr>\n",
       "  </tbody>\n",
       "</table>\n",
       "</div>"
      ],
      "text/plain": [
       "             salary         sales         roe\n",
       "count    209.000000    209.000000  209.000000\n",
       "mean    1281.119617   6923.793282   17.184211\n",
       "std     1372.345308  10633.271088    8.518509\n",
       "min      223.000000    175.199997    0.500000\n",
       "25%      736.000000   2210.300049   12.400000\n",
       "50%     1039.000000   3705.199951   15.500000\n",
       "75%     1407.000000   7177.000000   20.000000\n",
       "max    14822.000000  97649.898438   56.299999"
      ]
     },
     "execution_count": 7,
     "metadata": {},
     "output_type": "execute_result"
    }
   ],
   "source": [
    "# 연속형 자료 탐색\n",
    "data.describe()   # 기술통계 확인 : describe()"
   ]
  },
  {
   "cell_type": "code",
   "execution_count": 8,
   "id": "37a475e3",
   "metadata": {},
   "outputs": [
    {
     "data": {
      "text/plain": [
       "salary    6.904577\n",
       "sales     5.035336\n",
       "roe       1.572126\n",
       "dtype: float64"
      ]
     },
     "execution_count": 8,
     "metadata": {},
     "output_type": "execute_result"
    }
   ],
   "source": [
    "# 왜도 확인\n",
    "data.skew()\n",
    "\n",
    "# salary, sales > 2 이므로 우측 편포 (평균 > 중앙값 > 최빈값)\n",
    "# 왜도 = 0 일 경우 좌우대칭"
   ]
  },
  {
   "cell_type": "code",
   "execution_count": 9,
   "id": "b42da06b",
   "metadata": {},
   "outputs": [
    {
     "data": {
      "text/plain": [
       "salary    58.971229\n",
       "sales     33.115193\n",
       "roe        3.797366\n",
       "dtype: float64"
      ]
     },
     "execution_count": 9,
     "metadata": {},
     "output_type": "execute_result"
    }
   ],
   "source": [
    "# 첨도 확인\n",
    "data.kurtosis()\n",
    "\n",
    "# 첨도 = 0 일 경우 정규분포의 높이와 동일\n",
    "# 첨도 > 0 일 경우 중심에 자료 집중"
   ]
  },
  {
   "cell_type": "code",
   "execution_count": 10,
   "id": "2db7f0bc",
   "metadata": {},
   "outputs": [
    {
     "data": {
      "image/png": "[encoded data removed]",
      "text/plain": [
       "<Figure size 1440x1440 with 4 Axes>"
      ]
     },
     "metadata": {
      "needs_background": "light"
     },
     "output_type": "display_data"
    }
   ],
   "source": [
    "# Histogram 확인 (전체)\n",
    "data.hist(bins=50, figsize=(20,20));"
   ]
  },
  {
   "cell_type": "code",
   "execution_count": 11,
   "id": "fac03a68",
   "metadata": {},
   "outputs": [
    {
     "data": {
      "image/png": "[encoded data removed]",
      "text/plain": [
       "<Figure size 1440x720 with 1 Axes>"
      ]
     },
     "metadata": {
      "needs_background": "light"
     },
     "output_type": "display_data"
    }
   ],
   "source": [
    "# Histogram 확인 (개별 : Salary)\n",
    "data['salary'].hist(bins=50, figsize=(20,10));"
   ]
  },
  {
   "cell_type": "code",
   "execution_count": 12,
   "id": "91bdcaf2",
   "metadata": {},
   "outputs": [
    {
     "data": {
      "image/png": "[encoded data removed]",
      "text/plain": [
       "<Figure size 1440x720 with 1 Axes>"
      ]
     },
     "metadata": {
      "needs_background": "light"
     },
     "output_type": "display_data"
    }
   ],
   "source": [
    "# Histogram 확인 (개별 : Sales)\n",
    "data['sales'].hist(bins=50, figsize=(20,10));"
   ]
  },
  {
   "cell_type": "markdown",
   "id": "773ba40b",
   "metadata": {},
   "source": [
    "# 이변량 데이터 검색"
   ]
  },
  {
   "cell_type": "code",
   "execution_count": 13,
   "id": "1eb4d4d4",
   "metadata": {},
   "outputs": [
    {
     "data": {
      "text/html": [
       "<div>\n",
       "<style scoped>\n",
       "    .dataframe tbody tr th:only-of-type {\n",
       "        vertical-align: middle;\n",
       "    }\n",
       "\n",
       "    .dataframe tbody tr th {\n",
       "        vertical-align: top;\n",
       "    }\n",
       "\n",
       "    .dataframe thead th {\n",
       "        text-align: right;\n",
       "    }\n",
       "</style>\n",
       "<table border=\"1\" class=\"dataframe\">\n",
       "  <thead>\n",
       "    <tr style=\"text-align: right;\">\n",
       "      <th></th>\n",
       "      <th>salary</th>\n",
       "      <th>sales</th>\n",
       "      <th>roe</th>\n",
       "    </tr>\n",
       "  </thead>\n",
       "  <tbody>\n",
       "    <tr>\n",
       "      <th>salary</th>\n",
       "      <td>1.000000</td>\n",
       "      <td>0.119869</td>\n",
       "      <td>0.114842</td>\n",
       "    </tr>\n",
       "    <tr>\n",
       "      <th>sales</th>\n",
       "      <td>0.119869</td>\n",
       "      <td>1.000000</td>\n",
       "      <td>-0.055386</td>\n",
       "    </tr>\n",
       "    <tr>\n",
       "      <th>roe</th>\n",
       "      <td>0.114842</td>\n",
       "      <td>-0.055386</td>\n",
       "      <td>1.000000</td>\n",
       "    </tr>\n",
       "  </tbody>\n",
       "</table>\n",
       "</div>"
      ],
      "text/plain": [
       "          salary     sales       roe\n",
       "salary  1.000000  0.119869  0.114842\n",
       "sales   0.119869  1.000000 -0.055386\n",
       "roe     0.114842 -0.055386  1.000000"
      ]
     },
     "execution_count": 13,
     "metadata": {},
     "output_type": "execute_result"
    }
   ],
   "source": [
    "# 상관계수 파악\n",
    "data.corr()\n",
    "\n",
    "# 이상값의 존재로 인해 상관관계가 약한 수준"
   ]
  },
  {
   "cell_type": "code",
   "execution_count": 14,
   "id": "6c725f83",
   "metadata": {},
   "outputs": [
    {
     "name": "stdout",
     "output_type": "stream",
     "text": [
      "          salary     sales       roe\n",
      "salary  1.000000  0.119869  0.114842\n",
      "sales   0.119869  1.000000 -0.055386\n",
      "roe     0.114842 -0.055386  1.000000\n",
      "\n",
      "           salary     sales       roe\n",
      "salary  1.000000  0.528016  0.205984\n",
      "sales   0.528016  1.000000 -0.170548\n",
      "roe     0.205984 -0.170548  1.000000\n",
      "\n",
      "           salary     sales       roe\n",
      "salary  1.000000  0.363921  0.143672\n",
      "sales   0.363921  1.000000 -0.123844\n",
      "roe     0.143672 -0.123844  1.000000\n"
     ]
    }
   ],
   "source": [
    "# 상관계수 method = spearman, pearson, kendall\n",
    "print(data.corr(method='pearson'))\n",
    "print('\\n', data.corr(method='spearman'))\n",
    "print('\\n', data.corr(method='kendall'))"
   ]
  },
  {
   "cell_type": "code",
   "execution_count": 15,
   "id": "98adb30b",
   "metadata": {},
   "outputs": [
    {
     "data": {
      "image/png": "[encoded data removed]",
      "text/plain": [
       "<Figure size 432x288 with 1 Axes>"
      ]
     },
     "metadata": {
      "needs_background": "light"
     },
     "output_type": "display_data"
    }
   ],
   "source": [
    "# 산점도 확인\n",
    "plt.scatter(data['sales'], data['salary'], alpha=0.5)\n",
    "plt.show();\n",
    "\n",
    "# 이상값 존재로 인한 그래프 왜곡"
   ]
  },
  {
   "cell_type": "code",
   "execution_count": 16,
   "id": "8d31b93d",
   "metadata": {},
   "outputs": [
    {
     "data": {
      "image/png": "[encoded data removed]",
      "text/plain": [
       "<Figure size 432x288 with 1 Axes>"
      ]
     },
     "metadata": {
      "needs_background": "light"
     },
     "output_type": "display_data"
    }
   ],
   "source": [
    "plt.scatter(data['roe'], data['salary'], alpha=0.5)\n",
    "plt.show();"
   ]
  },
  {
   "cell_type": "code",
   "execution_count": 17,
   "id": "e6cf7496",
   "metadata": {},
   "outputs": [
    {
     "data": {
      "text/html": [
       "<div>\n",
       "<style scoped>\n",
       "    .dataframe tbody tr th:only-of-type {\n",
       "        vertical-align: middle;\n",
       "    }\n",
       "\n",
       "    .dataframe tbody tr th {\n",
       "        vertical-align: top;\n",
       "    }\n",
       "\n",
       "    .dataframe thead tr th {\n",
       "        text-align: left;\n",
       "    }\n",
       "\n",
       "    .dataframe thead tr:last-of-type th {\n",
       "        text-align: right;\n",
       "    }\n",
       "</style>\n",
       "<table border=\"1\" class=\"dataframe\">\n",
       "  <thead>\n",
       "    <tr>\n",
       "      <th></th>\n",
       "      <th colspan=\"8\" halign=\"left\">salary</th>\n",
       "    </tr>\n",
       "    <tr>\n",
       "      <th></th>\n",
       "      <th>count</th>\n",
       "      <th>mean</th>\n",
       "      <th>std</th>\n",
       "      <th>min</th>\n",
       "      <th>25%</th>\n",
       "      <th>50%</th>\n",
       "      <th>75%</th>\n",
       "      <th>max</th>\n",
       "    </tr>\n",
       "    <tr>\n",
       "      <th>industry</th>\n",
       "      <th></th>\n",
       "      <th></th>\n",
       "      <th></th>\n",
       "      <th></th>\n",
       "      <th></th>\n",
       "      <th></th>\n",
       "      <th></th>\n",
       "      <th></th>\n",
       "    </tr>\n",
       "  </thead>\n",
       "  <tbody>\n",
       "    <tr>\n",
       "      <th>Finance</th>\n",
       "      <td>60.0</td>\n",
       "      <td>1722.416667</td>\n",
       "      <td>2242.687041</td>\n",
       "      <td>223.0</td>\n",
       "      <td>911.00</td>\n",
       "      <td>1246.0</td>\n",
       "      <td>1643.75</td>\n",
       "      <td>14822.0</td>\n",
       "    </tr>\n",
       "    <tr>\n",
       "      <th>IT</th>\n",
       "      <td>46.0</td>\n",
       "      <td>1344.913043</td>\n",
       "      <td>1002.813128</td>\n",
       "      <td>441.0</td>\n",
       "      <td>884.00</td>\n",
       "      <td>1119.5</td>\n",
       "      <td>1406.00</td>\n",
       "      <td>6640.0</td>\n",
       "    </tr>\n",
       "    <tr>\n",
       "      <th>Others</th>\n",
       "      <td>31.0</td>\n",
       "      <td>627.870968</td>\n",
       "      <td>175.264323</td>\n",
       "      <td>333.0</td>\n",
       "      <td>501.50</td>\n",
       "      <td>607.0</td>\n",
       "      <td>726.00</td>\n",
       "      <td>1100.0</td>\n",
       "    </tr>\n",
       "    <tr>\n",
       "      <th>Service</th>\n",
       "      <td>72.0</td>\n",
       "      <td>1153.875000</td>\n",
       "      <td>563.472032</td>\n",
       "      <td>256.0</td>\n",
       "      <td>811.25</td>\n",
       "      <td>1064.0</td>\n",
       "      <td>1348.50</td>\n",
       "      <td>3844.0</td>\n",
       "    </tr>\n",
       "  </tbody>\n",
       "</table>\n",
       "</div>"
      ],
      "text/plain": [
       "         salary                                                            \\\n",
       "          count         mean          std    min     25%     50%      75%   \n",
       "industry                                                                    \n",
       "Finance    60.0  1722.416667  2242.687041  223.0  911.00  1246.0  1643.75   \n",
       "IT         46.0  1344.913043  1002.813128  441.0  884.00  1119.5  1406.00   \n",
       "Others     31.0   627.870968   175.264323  333.0  501.50   607.0   726.00   \n",
       "Service    72.0  1153.875000   563.472032  256.0  811.25  1064.0  1348.50   \n",
       "\n",
       "                   \n",
       "              max  \n",
       "industry           \n",
       "Finance   14822.0  \n",
       "IT         6640.0  \n",
       "Others     1100.0  \n",
       "Service    3844.0  "
      ]
     },
     "execution_count": 17,
     "metadata": {},
     "output_type": "execute_result"
    }
   ],
   "source": [
    "# 산업 범주별 기술통계 파악 : groupby('기준 column')\n",
    "data.groupby('industry')[['salary']].describe()\n",
    "\n",
    "# Finance의 평균 연봉이 가장 높고, Others의 평균 연봉이 가장 낮음을 확인 가능"
   ]
  },
  {
   "cell_type": "markdown",
   "id": "ce4af6e4",
   "metadata": {},
   "source": [
    "# 이상값 처리"
   ]
  },
  {
   "cell_type": "code",
   "execution_count": 18,
   "id": "d1ca2308",
   "metadata": {},
   "outputs": [
    {
     "data": {
      "image/png": "[encoded data removed]",
      "text/plain": [
       "<Figure size 1440x720 with 1 Axes>"
      ]
     },
     "metadata": {
      "needs_background": "light"
     },
     "output_type": "display_data"
    }
   ],
   "source": [
    "# 박스 플롯 활용\n",
    "data.boxplot(column='salary', return_type='both', figsize=(20,10));"
   ]
  },
  {
   "cell_type": "code",
   "execution_count": 19,
   "id": "f9b1412d",
   "metadata": {},
   "outputs": [
    {
     "data": {
      "image/png": "[encoded data removed]",
      "text/plain": [
       "<Figure size 1440x720 with 1 Axes>"
      ]
     },
     "metadata": {
      "needs_background": "light"
     },
     "output_type": "display_data"
    }
   ],
   "source": [
    "data.boxplot(column='sales', return_type='both', figsize=(20,10));"
   ]
  },
  {
   "cell_type": "code",
   "execution_count": 20,
   "id": "c3db5661",
   "metadata": {},
   "outputs": [
    {
     "data": {
      "image/png": "[encoded data removed]",
      "text/plain": [
       "<Figure size 1440x720 with 1 Axes>"
      ]
     },
     "metadata": {
      "needs_background": "light"
     },
     "output_type": "display_data"
    }
   ],
   "source": [
    "data.boxplot(column='roe', return_type='both', figsize=(20,10));"
   ]
  },
  {
   "cell_type": "markdown",
   "id": "e77972fc",
   "metadata": {},
   "source": [
    "## IQR 활용 이상값 처리"
   ]
  },
  {
   "cell_type": "code",
   "execution_count": 21,
   "id": "9398f400",
   "metadata": {},
   "outputs": [
    {
     "data": {
      "text/plain": [
       "671.0"
      ]
     },
     "execution_count": 21,
     "metadata": {},
     "output_type": "execute_result"
    }
   ],
   "source": [
    "# Salary 변수 이상값을 IQR을 활용하여 처리\n",
    "# IQR = (Q3 - Q1)\n",
    "# IQR을 활용한 이상값 식별 : Q3 + IQR * 1.5 보다 크고 Q1 - IQR * 1.5 보다 작은 값이 이상값\n",
    "\n",
    "Q1_salary = data['salary'].quantile(q=0.25)\n",
    "Q3_salary = data['salary'].quantile(q=0.75)\n",
    "IQR_salary = Q3_salary - Q1_salary\n",
    "IQR_salary"
   ]
  },
  {
   "cell_type": "code",
   "execution_count": 22,
   "id": "c5f46814",
   "metadata": {},
   "outputs": [
    {
     "data": {
      "image/png": "[encoded data removed]",
      "text/plain": [
       "<Figure size 1080x720 with 1 Axes>"
      ]
     },
     "metadata": {
      "needs_background": "light"
     },
     "output_type": "display_data"
    }
   ],
   "source": [
    "data_IQR = data[(data['salary']<Q3_salary + IQR_salary * 1.5) &\n",
    "                (data['salary']>Q1_salary - IQR_salary * 1.5)]\n",
    "data_IQR['salary'].hist(bins=50, figsize=(15,10));"
   ]
  },
  {
   "cell_type": "code",
   "execution_count": 23,
   "id": "f8733534",
   "metadata": {},
   "outputs": [
    {
     "data": {
      "image/png": "[encoded data removed]",
      "text/plain": [
       "<Figure size 1440x1080 with 4 Axes>"
      ]
     },
     "metadata": {
      "needs_background": "light"
     },
     "output_type": "display_data"
    }
   ],
   "source": [
    "data_IQR.hist(bins=50, figsize=(20,15));"
   ]
  },
  {
   "cell_type": "code",
   "execution_count": 24,
   "id": "0f357c2f",
   "metadata": {},
   "outputs": [
    {
     "data": {
      "text/html": [
       "<div>\n",
       "<style scoped>\n",
       "    .dataframe tbody tr th:only-of-type {\n",
       "        vertical-align: middle;\n",
       "    }\n",
       "\n",
       "    .dataframe tbody tr th {\n",
       "        vertical-align: top;\n",
       "    }\n",
       "\n",
       "    .dataframe thead th {\n",
       "        text-align: right;\n",
       "    }\n",
       "</style>\n",
       "<table border=\"1\" class=\"dataframe\">\n",
       "  <thead>\n",
       "    <tr style=\"text-align: right;\">\n",
       "      <th></th>\n",
       "      <th>salary</th>\n",
       "      <th>sales</th>\n",
       "      <th>roe</th>\n",
       "    </tr>\n",
       "  </thead>\n",
       "  <tbody>\n",
       "    <tr>\n",
       "      <th>salary</th>\n",
       "      <td>1.000000</td>\n",
       "      <td>0.335446</td>\n",
       "      <td>0.289704</td>\n",
       "    </tr>\n",
       "    <tr>\n",
       "      <th>sales</th>\n",
       "      <td>0.335446</td>\n",
       "      <td>1.000000</td>\n",
       "      <td>-0.065034</td>\n",
       "    </tr>\n",
       "    <tr>\n",
       "      <th>roe</th>\n",
       "      <td>0.289704</td>\n",
       "      <td>-0.065034</td>\n",
       "      <td>1.000000</td>\n",
       "    </tr>\n",
       "  </tbody>\n",
       "</table>\n",
       "</div>"
      ],
      "text/plain": [
       "          salary     sales       roe\n",
       "salary  1.000000  0.335446  0.289704\n",
       "sales   0.335446  1.000000 -0.065034\n",
       "roe     0.289704 -0.065034  1.000000"
      ]
     },
     "execution_count": 24,
     "metadata": {},
     "output_type": "execute_result"
    }
   ],
   "source": [
    "# data_IQR의 상관계수 확인\n",
    "data_IQR.corr()"
   ]
  },
  {
   "cell_type": "code",
   "execution_count": 25,
   "id": "29d83aca",
   "metadata": {},
   "outputs": [
    {
     "data": {
      "image/png": "[encoded data removed]",
      "text/plain": [
       "<Figure size 432x288 with 1 Axes>"
      ]
     },
     "metadata": {
      "needs_background": "light"
     },
     "output_type": "display_data"
    }
   ],
   "source": [
    "plt.scatter(data_IQR['sales'], data_IQR['salary'], alpha=0.5);\n",
    "plt.show()"
   ]
  },
  {
   "cell_type": "code",
   "execution_count": 26,
   "id": "bae4bee0",
   "metadata": {},
   "outputs": [
    {
     "data": {
      "image/png": "[encoded data removed]",
      "text/plain": [
       "<Figure size 432x288 with 1 Axes>"
      ]
     },
     "metadata": {
      "needs_background": "light"
     },
     "output_type": "display_data"
    }
   ],
   "source": [
    "plt.scatter(data_IQR['roe'], data_IQR['salary'], alpha=0.5);\n",
    "plt.show()"
   ]
  },
  {
   "cell_type": "code",
   "execution_count": 27,
   "id": "56cd7ed9",
   "metadata": {},
   "outputs": [
    {
     "data": {
      "text/plain": [
       "4966.6999511718695"
      ]
     },
     "execution_count": 27,
     "metadata": {},
     "output_type": "execute_result"
    }
   ],
   "source": [
    "# Sales 변수 이상값 처리\n",
    "Q1_sales = data['sales'].quantile(q=0.25)\n",
    "Q3_sales = data['sales'].quantile(q=0.75)\n",
    "IQR_sales = Q3_sales - Q1_sales\n",
    "IQR_sales"
   ]
  },
  {
   "cell_type": "code",
   "execution_count": 30,
   "id": "8102aac2",
   "metadata": {},
   "outputs": [
    {
     "data": {
      "image/png": "[encoded data removed]",
      "text/plain": [
       "<Figure size 1080x720 with 1 Axes>"
      ]
     },
     "metadata": {
      "needs_background": "light"
     },
     "output_type": "display_data"
    }
   ],
   "source": [
    "data_IQR = data[(data['sales']<Q3_sales + IQR_sales * 1.5) &\n",
    "                (data['sales']>Q1_sales - IQR_sales * 1.5) &\n",
    "                (data['salary']<Q3_salary + IQR_salary * 1.5) &\n",
    "                (data['salary']>Q1_salary - IQR_salary * 1.5)]\n",
    "data_IQR['sales'].hist(bins=50, figsize=(15,10));"
   ]
  },
  {
   "cell_type": "code",
   "execution_count": 31,
   "id": "af137278",
   "metadata": {},
   "outputs": [
    {
     "data": {
      "image/png": "[encoded data removed]",
      "text/plain": [
       "<Figure size 1440x1080 with 4 Axes>"
      ]
     },
     "metadata": {
      "needs_background": "light"
     },
     "output_type": "display_data"
    }
   ],
   "source": [
    "# 이상값 처리 후 히스토그램 확인\n",
    "data_IQR.hist(bins=50, figsize=(20,15));"
   ]
  },
  {
   "cell_type": "code",
   "execution_count": 32,
   "id": "0345d6d3",
   "metadata": {},
   "outputs": [
    {
     "data": {
      "text/html": [
       "<div>\n",
       "<style scoped>\n",
       "    .dataframe tbody tr th:only-of-type {\n",
       "        vertical-align: middle;\n",
       "    }\n",
       "\n",
       "    .dataframe tbody tr th {\n",
       "        vertical-align: top;\n",
       "    }\n",
       "\n",
       "    .dataframe thead th {\n",
       "        text-align: right;\n",
       "    }\n",
       "</style>\n",
       "<table border=\"1\" class=\"dataframe\">\n",
       "  <thead>\n",
       "    <tr style=\"text-align: right;\">\n",
       "      <th></th>\n",
       "      <th>salary</th>\n",
       "      <th>sales</th>\n",
       "      <th>roe</th>\n",
       "    </tr>\n",
       "  </thead>\n",
       "  <tbody>\n",
       "    <tr>\n",
       "      <th>salary</th>\n",
       "      <td>1.000000</td>\n",
       "      <td>0.471278</td>\n",
       "      <td>0.299153</td>\n",
       "    </tr>\n",
       "    <tr>\n",
       "      <th>sales</th>\n",
       "      <td>0.471278</td>\n",
       "      <td>1.000000</td>\n",
       "      <td>-0.076046</td>\n",
       "    </tr>\n",
       "    <tr>\n",
       "      <th>roe</th>\n",
       "      <td>0.299153</td>\n",
       "      <td>-0.076046</td>\n",
       "      <td>1.000000</td>\n",
       "    </tr>\n",
       "  </tbody>\n",
       "</table>\n",
       "</div>"
      ],
      "text/plain": [
       "          salary     sales       roe\n",
       "salary  1.000000  0.471278  0.299153\n",
       "sales   0.471278  1.000000 -0.076046\n",
       "roe     0.299153 -0.076046  1.000000"
      ]
     },
     "execution_count": 32,
     "metadata": {},
     "output_type": "execute_result"
    }
   ],
   "source": [
    "# 상관계수 확인\n",
    "data_IQR.corr()"
   ]
  },
  {
   "cell_type": "markdown",
   "id": "53ece555",
   "metadata": {},
   "source": [
    "# 변수변환"
   ]
  },
  {
   "cell_type": "markdown",
   "id": "9f0da8d9",
   "metadata": {},
   "source": [
    "## Log 변환"
   ]
  },
  {
   "cell_type": "code",
   "execution_count": 33,
   "id": "14ce05ed",
   "metadata": {},
   "outputs": [
    {
     "data": {
      "text/html": [
       "<div>\n",
       "<style scoped>\n",
       "    .dataframe tbody tr th:only-of-type {\n",
       "        vertical-align: middle;\n",
       "    }\n",
       "\n",
       "    .dataframe tbody tr th {\n",
       "        vertical-align: top;\n",
       "    }\n",
       "\n",
       "    .dataframe thead th {\n",
       "        text-align: right;\n",
       "    }\n",
       "</style>\n",
       "<table border=\"1\" class=\"dataframe\">\n",
       "  <thead>\n",
       "    <tr style=\"text-align: right;\">\n",
       "      <th></th>\n",
       "      <th>salary</th>\n",
       "      <th>sales</th>\n",
       "      <th>roe</th>\n",
       "      <th>industry</th>\n",
       "      <th>log_salary</th>\n",
       "      <th>log_sales</th>\n",
       "      <th>log_roe</th>\n",
       "    </tr>\n",
       "  </thead>\n",
       "  <tbody>\n",
       "    <tr>\n",
       "      <th>0</th>\n",
       "      <td>1095</td>\n",
       "      <td>27595.000000</td>\n",
       "      <td>14.1</td>\n",
       "      <td>Service</td>\n",
       "      <td>6.998510</td>\n",
       "      <td>10.225390</td>\n",
       "      <td>2.646175</td>\n",
       "    </tr>\n",
       "    <tr>\n",
       "      <th>1</th>\n",
       "      <td>1001</td>\n",
       "      <td>9958.000000</td>\n",
       "      <td>10.9</td>\n",
       "      <td>Service</td>\n",
       "      <td>6.908755</td>\n",
       "      <td>9.206132</td>\n",
       "      <td>2.388763</td>\n",
       "    </tr>\n",
       "    <tr>\n",
       "      <th>2</th>\n",
       "      <td>1122</td>\n",
       "      <td>6125.899902</td>\n",
       "      <td>23.5</td>\n",
       "      <td>Service</td>\n",
       "      <td>7.022868</td>\n",
       "      <td>8.720281</td>\n",
       "      <td>3.157000</td>\n",
       "    </tr>\n",
       "    <tr>\n",
       "      <th>3</th>\n",
       "      <td>578</td>\n",
       "      <td>16246.000000</td>\n",
       "      <td>5.9</td>\n",
       "      <td>Service</td>\n",
       "      <td>6.359574</td>\n",
       "      <td>9.695602</td>\n",
       "      <td>1.774952</td>\n",
       "    </tr>\n",
       "    <tr>\n",
       "      <th>4</th>\n",
       "      <td>1368</td>\n",
       "      <td>21783.199219</td>\n",
       "      <td>13.8</td>\n",
       "      <td>Service</td>\n",
       "      <td>7.221105</td>\n",
       "      <td>9.988894</td>\n",
       "      <td>2.624669</td>\n",
       "    </tr>\n",
       "  </tbody>\n",
       "</table>\n",
       "</div>"
      ],
      "text/plain": [
       "   salary         sales   roe industry  log_salary  log_sales   log_roe\n",
       "0    1095  27595.000000  14.1  Service    6.998510  10.225390  2.646175\n",
       "1    1001   9958.000000  10.9  Service    6.908755   9.206132  2.388763\n",
       "2    1122   6125.899902  23.5  Service    7.022868   8.720281  3.157000\n",
       "3     578  16246.000000   5.9  Service    6.359574   9.695602  1.774952\n",
       "4    1368  21783.199219  13.8  Service    7.221105   9.988894  2.624669"
      ]
     },
     "execution_count": 33,
     "metadata": {},
     "output_type": "execute_result"
    }
   ],
   "source": [
    "# Numpy의 Log 함수를 이용하여 변환\n",
    "data['log_salary'] = np.log(data['salary'])\n",
    "data['log_sales']=np.log(data['sales'])\n",
    "data['log_roe']=np.log(data['roe'])\n",
    "data.head()"
   ]
  },
  {
   "cell_type": "code",
   "execution_count": 34,
   "id": "fe129ddd",
   "metadata": {},
   "outputs": [
    {
     "data": {
      "image/png": "[encoded data removed]",
      "text/plain": [
       "<Figure size 1440x1080 with 6 Axes>"
      ]
     },
     "metadata": {
      "needs_background": "light"
     },
     "output_type": "display_data"
    }
   ],
   "source": [
    "data.hist(bins=50, figsize=(20,15));\n",
    "\n",
    "# 히스토그램 상으로 이상값의 영향이 제거됐음을 확인 가능"
   ]
  },
  {
   "cell_type": "code",
   "execution_count": 35,
   "id": "197d424e",
   "metadata": {},
   "outputs": [
    {
     "data": {
      "text/html": [
       "<div>\n",
       "<style scoped>\n",
       "    .dataframe tbody tr th:only-of-type {\n",
       "        vertical-align: middle;\n",
       "    }\n",
       "\n",
       "    .dataframe tbody tr th {\n",
       "        vertical-align: top;\n",
       "    }\n",
       "\n",
       "    .dataframe thead th {\n",
       "        text-align: right;\n",
       "    }\n",
       "</style>\n",
       "<table border=\"1\" class=\"dataframe\">\n",
       "  <thead>\n",
       "    <tr style=\"text-align: right;\">\n",
       "      <th></th>\n",
       "      <th>salary</th>\n",
       "      <th>sales</th>\n",
       "      <th>roe</th>\n",
       "      <th>log_salary</th>\n",
       "      <th>log_sales</th>\n",
       "      <th>log_roe</th>\n",
       "    </tr>\n",
       "  </thead>\n",
       "  <tbody>\n",
       "    <tr>\n",
       "      <th>salary</th>\n",
       "      <td>1.000000</td>\n",
       "      <td>0.119869</td>\n",
       "      <td>0.114842</td>\n",
       "      <td>0.794208</td>\n",
       "      <td>0.194092</td>\n",
       "      <td>0.101526</td>\n",
       "    </tr>\n",
       "    <tr>\n",
       "      <th>sales</th>\n",
       "      <td>0.119869</td>\n",
       "      <td>1.000000</td>\n",
       "      <td>-0.055386</td>\n",
       "      <td>0.281286</td>\n",
       "      <td>0.742921</td>\n",
       "      <td>-0.041004</td>\n",
       "    </tr>\n",
       "    <tr>\n",
       "      <th>roe</th>\n",
       "      <td>0.114842</td>\n",
       "      <td>-0.055386</td>\n",
       "      <td>1.000000</td>\n",
       "      <td>0.208499</td>\n",
       "      <td>-0.122553</td>\n",
       "      <td>0.873419</td>\n",
       "    </tr>\n",
       "    <tr>\n",
       "      <th>log_salary</th>\n",
       "      <td>0.794208</td>\n",
       "      <td>0.281286</td>\n",
       "      <td>0.208499</td>\n",
       "      <td>1.000000</td>\n",
       "      <td>0.459148</td>\n",
       "      <td>0.163548</td>\n",
       "    </tr>\n",
       "    <tr>\n",
       "      <th>log_sales</th>\n",
       "      <td>0.194092</td>\n",
       "      <td>0.742921</td>\n",
       "      <td>-0.122553</td>\n",
       "      <td>0.459148</td>\n",
       "      <td>1.000000</td>\n",
       "      <td>-0.120642</td>\n",
       "    </tr>\n",
       "    <tr>\n",
       "      <th>log_roe</th>\n",
       "      <td>0.101526</td>\n",
       "      <td>-0.041004</td>\n",
       "      <td>0.873419</td>\n",
       "      <td>0.163548</td>\n",
       "      <td>-0.120642</td>\n",
       "      <td>1.000000</td>\n",
       "    </tr>\n",
       "  </tbody>\n",
       "</table>\n",
       "</div>"
      ],
      "text/plain": [
       "              salary     sales       roe  log_salary  log_sales   log_roe\n",
       "salary      1.000000  0.119869  0.114842    0.794208   0.194092  0.101526\n",
       "sales       0.119869  1.000000 -0.055386    0.281286   0.742921 -0.041004\n",
       "roe         0.114842 -0.055386  1.000000    0.208499  -0.122553  0.873419\n",
       "log_salary  0.794208  0.281286  0.208499    1.000000   0.459148  0.163548\n",
       "log_sales   0.194092  0.742921 -0.122553    0.459148   1.000000 -0.120642\n",
       "log_roe     0.101526 -0.041004  0.873419    0.163548  -0.120642  1.000000"
      ]
     },
     "execution_count": 35,
     "metadata": {},
     "output_type": "execute_result"
    }
   ],
   "source": [
    "# 상관계수 확인\n",
    "data.corr()\n",
    "\n",
    "# Log 변환 후의 상관계수가 높아진 것으로 왜곡된 관계가 해결됨을 확인 가능"
   ]
  },
  {
   "cell_type": "markdown",
   "id": "ab82ba64",
   "metadata": {},
   "source": [
    "## 제곱근 변환"
   ]
  },
  {
   "cell_type": "code",
   "execution_count": 36,
   "id": "05ba823d",
   "metadata": {},
   "outputs": [
    {
     "data": {
      "text/html": [
       "<div>\n",
       "<style scoped>\n",
       "    .dataframe tbody tr th:only-of-type {\n",
       "        vertical-align: middle;\n",
       "    }\n",
       "\n",
       "    .dataframe tbody tr th {\n",
       "        vertical-align: top;\n",
       "    }\n",
       "\n",
       "    .dataframe thead th {\n",
       "        text-align: right;\n",
       "    }\n",
       "</style>\n",
       "<table border=\"1\" class=\"dataframe\">\n",
       "  <thead>\n",
       "    <tr style=\"text-align: right;\">\n",
       "      <th></th>\n",
       "      <th>salary</th>\n",
       "      <th>sales</th>\n",
       "      <th>roe</th>\n",
       "      <th>industry</th>\n",
       "      <th>log_salary</th>\n",
       "      <th>log_sales</th>\n",
       "      <th>log_roe</th>\n",
       "      <th>sqrt_salary</th>\n",
       "      <th>sqrt_sales</th>\n",
       "      <th>sqrt_roe</th>\n",
       "    </tr>\n",
       "  </thead>\n",
       "  <tbody>\n",
       "    <tr>\n",
       "      <th>0</th>\n",
       "      <td>1095</td>\n",
       "      <td>27595.000000</td>\n",
       "      <td>14.1</td>\n",
       "      <td>Service</td>\n",
       "      <td>6.998510</td>\n",
       "      <td>10.225390</td>\n",
       "      <td>2.646175</td>\n",
       "      <td>33.090784</td>\n",
       "      <td>166.117428</td>\n",
       "      <td>3.754997</td>\n",
       "    </tr>\n",
       "    <tr>\n",
       "      <th>1</th>\n",
       "      <td>1001</td>\n",
       "      <td>9958.000000</td>\n",
       "      <td>10.9</td>\n",
       "      <td>Service</td>\n",
       "      <td>6.908755</td>\n",
       "      <td>9.206132</td>\n",
       "      <td>2.388763</td>\n",
       "      <td>31.638584</td>\n",
       "      <td>99.789779</td>\n",
       "      <td>3.301515</td>\n",
       "    </tr>\n",
       "    <tr>\n",
       "      <th>2</th>\n",
       "      <td>1122</td>\n",
       "      <td>6125.899902</td>\n",
       "      <td>23.5</td>\n",
       "      <td>Service</td>\n",
       "      <td>7.022868</td>\n",
       "      <td>8.720281</td>\n",
       "      <td>3.157000</td>\n",
       "      <td>33.496268</td>\n",
       "      <td>78.268128</td>\n",
       "      <td>4.847680</td>\n",
       "    </tr>\n",
       "    <tr>\n",
       "      <th>3</th>\n",
       "      <td>578</td>\n",
       "      <td>16246.000000</td>\n",
       "      <td>5.9</td>\n",
       "      <td>Service</td>\n",
       "      <td>6.359574</td>\n",
       "      <td>9.695602</td>\n",
       "      <td>1.774952</td>\n",
       "      <td>24.041631</td>\n",
       "      <td>127.459798</td>\n",
       "      <td>2.428992</td>\n",
       "    </tr>\n",
       "    <tr>\n",
       "      <th>4</th>\n",
       "      <td>1368</td>\n",
       "      <td>21783.199219</td>\n",
       "      <td>13.8</td>\n",
       "      <td>Service</td>\n",
       "      <td>7.221105</td>\n",
       "      <td>9.988894</td>\n",
       "      <td>2.624669</td>\n",
       "      <td>36.986484</td>\n",
       "      <td>147.591325</td>\n",
       "      <td>3.714835</td>\n",
       "    </tr>\n",
       "  </tbody>\n",
       "</table>\n",
       "</div>"
      ],
      "text/plain": [
       "   salary         sales   roe industry  log_salary  log_sales   log_roe  \\\n",
       "0    1095  27595.000000  14.1  Service    6.998510  10.225390  2.646175   \n",
       "1    1001   9958.000000  10.9  Service    6.908755   9.206132  2.388763   \n",
       "2    1122   6125.899902  23.5  Service    7.022868   8.720281  3.157000   \n",
       "3     578  16246.000000   5.9  Service    6.359574   9.695602  1.774952   \n",
       "4    1368  21783.199219  13.8  Service    7.221105   9.988894  2.624669   \n",
       "\n",
       "   sqrt_salary  sqrt_sales  sqrt_roe  \n",
       "0    33.090784  166.117428  3.754997  \n",
       "1    31.638584   99.789779  3.301515  \n",
       "2    33.496268   78.268128  4.847680  \n",
       "3    24.041631  127.459798  2.428992  \n",
       "4    36.986484  147.591325  3.714835  "
      ]
     },
     "execution_count": 36,
     "metadata": {},
     "output_type": "execute_result"
    }
   ],
   "source": [
    "data['sqrt_salary']=np.sqrt(data['salary'])\n",
    "data['sqrt_sales']=np.sqrt(data['sales'])\n",
    "data['sqrt_roe']=np.sqrt(data['roe'])\n",
    "data.head()"
   ]
  },
  {
   "cell_type": "code",
   "execution_count": 37,
   "id": "d9b5e9b3",
   "metadata": {},
   "outputs": [
    {
     "data": {
      "image/png": "[encoded data removed]",
      "text/plain": [
       "<Figure size 1440x1080 with 9 Axes>"
      ]
     },
     "metadata": {
      "needs_background": "light"
     },
     "output_type": "display_data"
    }
   ],
   "source": [
    "data.hist(bins=50, figsize=(20,15));\n",
    "\n",
    "# 정규분포에 근접해짐을 확인 가능"
   ]
  },
  {
   "cell_type": "code",
   "execution_count": 38,
   "id": "dcbfc421",
   "metadata": {},
   "outputs": [
    {
     "data": {
      "text/html": [
       "<div>\n",
       "<style scoped>\n",
       "    .dataframe tbody tr th:only-of-type {\n",
       "        vertical-align: middle;\n",
       "    }\n",
       "\n",
       "    .dataframe tbody tr th {\n",
       "        vertical-align: top;\n",
       "    }\n",
       "\n",
       "    .dataframe thead th {\n",
       "        text-align: right;\n",
       "    }\n",
       "</style>\n",
       "<table border=\"1\" class=\"dataframe\">\n",
       "  <thead>\n",
       "    <tr style=\"text-align: right;\">\n",
       "      <th></th>\n",
       "      <th>salary</th>\n",
       "      <th>sales</th>\n",
       "      <th>roe</th>\n",
       "      <th>log_salary</th>\n",
       "      <th>log_sales</th>\n",
       "      <th>log_roe</th>\n",
       "      <th>sqrt_salary</th>\n",
       "      <th>sqrt_sales</th>\n",
       "      <th>sqrt_roe</th>\n",
       "    </tr>\n",
       "  </thead>\n",
       "  <tbody>\n",
       "    <tr>\n",
       "      <th>salary</th>\n",
       "      <td>1.000000</td>\n",
       "      <td>0.119869</td>\n",
       "      <td>0.114842</td>\n",
       "      <td>0.794208</td>\n",
       "      <td>0.194092</td>\n",
       "      <td>0.101526</td>\n",
       "      <td>0.945732</td>\n",
       "      <td>0.164340</td>\n",
       "      <td>0.115219</td>\n",
       "    </tr>\n",
       "    <tr>\n",
       "      <th>sales</th>\n",
       "      <td>0.119869</td>\n",
       "      <td>1.000000</td>\n",
       "      <td>-0.055386</td>\n",
       "      <td>0.281286</td>\n",
       "      <td>0.742921</td>\n",
       "      <td>-0.041004</td>\n",
       "      <td>0.215716</td>\n",
       "      <td>0.936282</td>\n",
       "      <td>-0.050538</td>\n",
       "    </tr>\n",
       "    <tr>\n",
       "      <th>roe</th>\n",
       "      <td>0.114842</td>\n",
       "      <td>-0.055386</td>\n",
       "      <td>1.000000</td>\n",
       "      <td>0.208499</td>\n",
       "      <td>-0.122553</td>\n",
       "      <td>0.873419</td>\n",
       "      <td>0.172327</td>\n",
       "      <td>-0.087687</td>\n",
       "      <td>0.977012</td>\n",
       "    </tr>\n",
       "    <tr>\n",
       "      <th>log_salary</th>\n",
       "      <td>0.794208</td>\n",
       "      <td>0.281286</td>\n",
       "      <td>0.208499</td>\n",
       "      <td>1.000000</td>\n",
       "      <td>0.459148</td>\n",
       "      <td>0.163548</td>\n",
       "      <td>0.946014</td>\n",
       "      <td>0.386456</td>\n",
       "      <td>0.197914</td>\n",
       "    </tr>\n",
       "    <tr>\n",
       "      <th>log_sales</th>\n",
       "      <td>0.194092</td>\n",
       "      <td>0.742921</td>\n",
       "      <td>-0.122553</td>\n",
       "      <td>0.459148</td>\n",
       "      <td>1.000000</td>\n",
       "      <td>-0.120642</td>\n",
       "      <td>0.342422</td>\n",
       "      <td>0.920797</td>\n",
       "      <td>-0.129020</td>\n",
       "    </tr>\n",
       "    <tr>\n",
       "      <th>log_roe</th>\n",
       "      <td>0.101526</td>\n",
       "      <td>-0.041004</td>\n",
       "      <td>0.873419</td>\n",
       "      <td>0.163548</td>\n",
       "      <td>-0.120642</td>\n",
       "      <td>1.000000</td>\n",
       "      <td>0.139470</td>\n",
       "      <td>-0.083308</td>\n",
       "      <td>0.953806</td>\n",
       "    </tr>\n",
       "    <tr>\n",
       "      <th>sqrt_salary</th>\n",
       "      <td>0.945732</td>\n",
       "      <td>0.215716</td>\n",
       "      <td>0.172327</td>\n",
       "      <td>0.946014</td>\n",
       "      <td>0.342422</td>\n",
       "      <td>0.139470</td>\n",
       "      <td>1.000000</td>\n",
       "      <td>0.293173</td>\n",
       "      <td>0.165932</td>\n",
       "    </tr>\n",
       "    <tr>\n",
       "      <th>sqrt_sales</th>\n",
       "      <td>0.164340</td>\n",
       "      <td>0.936282</td>\n",
       "      <td>-0.087687</td>\n",
       "      <td>0.386456</td>\n",
       "      <td>0.920797</td>\n",
       "      <td>-0.083308</td>\n",
       "      <td>0.293173</td>\n",
       "      <td>1.000000</td>\n",
       "      <td>-0.089501</td>\n",
       "    </tr>\n",
       "    <tr>\n",
       "      <th>sqrt_roe</th>\n",
       "      <td>0.115219</td>\n",
       "      <td>-0.050538</td>\n",
       "      <td>0.977012</td>\n",
       "      <td>0.197914</td>\n",
       "      <td>-0.129020</td>\n",
       "      <td>0.953806</td>\n",
       "      <td>0.165932</td>\n",
       "      <td>-0.089501</td>\n",
       "      <td>1.000000</td>\n",
       "    </tr>\n",
       "  </tbody>\n",
       "</table>\n",
       "</div>"
      ],
      "text/plain": [
       "               salary     sales       roe  log_salary  log_sales   log_roe  \\\n",
       "salary       1.000000  0.119869  0.114842    0.794208   0.194092  0.101526   \n",
       "sales        0.119869  1.000000 -0.055386    0.281286   0.742921 -0.041004   \n",
       "roe          0.114842 -0.055386  1.000000    0.208499  -0.122553  0.873419   \n",
       "log_salary   0.794208  0.281286  0.208499    1.000000   0.459148  0.163548   \n",
       "log_sales    0.194092  0.742921 -0.122553    0.459148   1.000000 -0.120642   \n",
       "log_roe      0.101526 -0.041004  0.873419    0.163548  -0.120642  1.000000   \n",
       "sqrt_salary  0.945732  0.215716  0.172327    0.946014   0.342422  0.139470   \n",
       "sqrt_sales   0.164340  0.936282 -0.087687    0.386456   0.920797 -0.083308   \n",
       "sqrt_roe     0.115219 -0.050538  0.977012    0.197914  -0.129020  0.953806   \n",
       "\n",
       "             sqrt_salary  sqrt_sales  sqrt_roe  \n",
       "salary          0.945732    0.164340  0.115219  \n",
       "sales           0.215716    0.936282 -0.050538  \n",
       "roe             0.172327   -0.087687  0.977012  \n",
       "log_salary      0.946014    0.386456  0.197914  \n",
       "log_sales       0.342422    0.920797 -0.129020  \n",
       "log_roe         0.139470   -0.083308  0.953806  \n",
       "sqrt_salary     1.000000    0.293173  0.165932  \n",
       "sqrt_sales      0.293173    1.000000 -0.089501  \n",
       "sqrt_roe        0.165932   -0.089501  1.000000  "
      ]
     },
     "execution_count": 38,
     "metadata": {},
     "output_type": "execute_result"
    }
   ],
   "source": [
    "# 상관계수 확인\n",
    "\n",
    "data.corr()"
   ]
  },
  {
   "cell_type": "code",
   "execution_count": null,
   "id": "3e67e082",
   "metadata": {},
   "outputs": [],
   "source": []
  }
 ],
 "metadata": {
  "kernelspec": {
   "display_name": "Python 3",
   "language": "python",
   "name": "python3"
  },
  "language_info": {
   "codemirror_mode": {
    "name": "ipython",
    "version": 3
   },
   "file_extension": ".py",
   "mimetype": "text/x-python",
   "name": "python",
   "nbconvert_exporter": "python",
   "pygments_lexer": "ipython3",
   "version": "3.8.8"
  }
 },
 "nbformat": 4,
 "nbformat_minor": 5
}
