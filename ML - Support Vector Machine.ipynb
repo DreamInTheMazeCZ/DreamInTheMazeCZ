{
 "cells": [
  {
   "cell_type": "markdown",
   "id": "0aa122a7",
   "metadata": {
    "papermill": {
     "duration": 0.025859,
     "end_time": "2022-06-11T21:31:15.520884",
     "exception": false,
     "start_time": "2022-06-11T21:31:15.495025",
     "status": "completed"
    },
    "tags": []
   },
   "source": [
    "### sklearn.svm.SVC\n",
    "### sklearn.svm.SVR\n",
    "- 마진 : 두 집단의 떨어짐 정도로, 데이터가 포함되지 않은 영역을 최대화해 카테고리를 분리할 수 있도록 하는 공간\n",
    "- 서포트 벡터 : 결정경계선에 가장 가까이 있는 카테고리의 데이터\n",
    "\n",
    "#### 주요 Hyperparameter\n",
    "- C : 분류에만 존재, 기본값 1로, 작을수록 단순, 클수록 복잡. C는 Logscale(0.01,0.1, 1, 10, 100 등) 단위로 최적값 탐색 권고\n",
    "- kernel : rbf(기본), linear, poly, sigmoid, precomputed 등\n",
    "\n",
    "##### SVC(*, C=1.0, kernel='rbf', degree=3, gamma='scale', coef0=0.0, shrinking=True, probability=False, tol=0.001, cache_size=200, class_weight=None, verbose=False, max_iter=-1, decision_function_shape='ovr', break_ties=False, random_state=None)\n",
    "##### SVR(*, kernel='rbf', degree=3, gamma='scale', coef0=0.0, tol=0.001, C=1.0, epsilon=0.1, shrinking=True, cache_size=200, verbose=False, max_iter=-1)"
   ]
  },
  {
   "cell_type": "markdown",
   "id": "03ce1912",
   "metadata": {
    "papermill": {
     "duration": 0.023858,
     "end_time": "2022-06-11T21:31:15.569272",
     "exception": false,
     "start_time": "2022-06-11T21:31:15.545414",
     "status": "completed"
    },
    "tags": []
   },
   "source": [
    "# 분석 코드 - Classification"
   ]
  },
  {
   "cell_type": "code",
   "execution_count": 1,
   "id": "ba7a55d6",
   "metadata": {
    "execution": {
     "iopub.execute_input": "2022-06-11T21:31:15.620202Z",
     "iopub.status.busy": "2022-06-11T21:31:15.619335Z",
     "iopub.status.idle": "2022-06-11T21:31:17.085114Z",
     "shell.execute_reply": "2022-06-11T21:31:17.084112Z"
    },
    "papermill": {
     "duration": 1.496317,
     "end_time": "2022-06-11T21:31:17.089689",
     "exception": false,
     "start_time": "2022-06-11T21:31:15.593372",
     "status": "completed"
    },
    "tags": []
   },
   "outputs": [
    {
     "data": {
      "text/html": [
       "<div>\n",
       "<style scoped>\n",
       "    .dataframe tbody tr th:only-of-type {\n",
       "        vertical-align: middle;\n",
       "    }\n",
       "\n",
       "    .dataframe tbody tr th {\n",
       "        vertical-align: top;\n",
       "    }\n",
       "\n",
       "    .dataframe thead th {\n",
       "        text-align: right;\n",
       "    }\n",
       "</style>\n",
       "<table border=\"1\" class=\"dataframe\">\n",
       "  <thead>\n",
       "    <tr style=\"text-align: right;\">\n",
       "      <th></th>\n",
       "      <th>code</th>\n",
       "      <th>Clump_Thickness</th>\n",
       "      <th>Cell_Size</th>\n",
       "      <th>Cell_Shape</th>\n",
       "      <th>Marginal_Adhesion</th>\n",
       "      <th>Single_Epithelial_Cell_Size</th>\n",
       "      <th>Bare_Nuclei</th>\n",
       "      <th>Bland_Chromatin</th>\n",
       "      <th>Normal_Nucleoli</th>\n",
       "      <th>Mitoses</th>\n",
       "      <th>Class</th>\n",
       "    </tr>\n",
       "  </thead>\n",
       "  <tbody>\n",
       "    <tr>\n",
       "      <th>0</th>\n",
       "      <td>1000025</td>\n",
       "      <td>5</td>\n",
       "      <td>1</td>\n",
       "      <td>1</td>\n",
       "      <td>1</td>\n",
       "      <td>2</td>\n",
       "      <td>1</td>\n",
       "      <td>3</td>\n",
       "      <td>1</td>\n",
       "      <td>1</td>\n",
       "      <td>0</td>\n",
       "    </tr>\n",
       "    <tr>\n",
       "      <th>1</th>\n",
       "      <td>1002945</td>\n",
       "      <td>5</td>\n",
       "      <td>4</td>\n",
       "      <td>4</td>\n",
       "      <td>5</td>\n",
       "      <td>7</td>\n",
       "      <td>10</td>\n",
       "      <td>3</td>\n",
       "      <td>2</td>\n",
       "      <td>1</td>\n",
       "      <td>0</td>\n",
       "    </tr>\n",
       "    <tr>\n",
       "      <th>2</th>\n",
       "      <td>1015425</td>\n",
       "      <td>3</td>\n",
       "      <td>1</td>\n",
       "      <td>1</td>\n",
       "      <td>1</td>\n",
       "      <td>2</td>\n",
       "      <td>2</td>\n",
       "      <td>3</td>\n",
       "      <td>1</td>\n",
       "      <td>1</td>\n",
       "      <td>0</td>\n",
       "    </tr>\n",
       "    <tr>\n",
       "      <th>3</th>\n",
       "      <td>1016277</td>\n",
       "      <td>6</td>\n",
       "      <td>8</td>\n",
       "      <td>8</td>\n",
       "      <td>1</td>\n",
       "      <td>3</td>\n",
       "      <td>4</td>\n",
       "      <td>3</td>\n",
       "      <td>7</td>\n",
       "      <td>1</td>\n",
       "      <td>0</td>\n",
       "    </tr>\n",
       "    <tr>\n",
       "      <th>4</th>\n",
       "      <td>1017023</td>\n",
       "      <td>4</td>\n",
       "      <td>1</td>\n",
       "      <td>1</td>\n",
       "      <td>3</td>\n",
       "      <td>2</td>\n",
       "      <td>1</td>\n",
       "      <td>3</td>\n",
       "      <td>1</td>\n",
       "      <td>1</td>\n",
       "      <td>0</td>\n",
       "    </tr>\n",
       "  </tbody>\n",
       "</table>\n",
       "</div>"
      ],
      "text/plain": [
       "      code  Clump_Thickness  Cell_Size  Cell_Shape  Marginal_Adhesion  \\\n",
       "0  1000025                5          1           1                  1   \n",
       "1  1002945                5          4           4                  5   \n",
       "2  1015425                3          1           1                  1   \n",
       "3  1016277                6          8           8                  1   \n",
       "4  1017023                4          1           1                  3   \n",
       "\n",
       "   Single_Epithelial_Cell_Size  Bare_Nuclei  Bland_Chromatin  Normal_Nucleoli  \\\n",
       "0                            2            1                3                1   \n",
       "1                            7           10                3                2   \n",
       "2                            2            2                3                1   \n",
       "3                            3            4                3                7   \n",
       "4                            2            1                3                1   \n",
       "\n",
       "   Mitoses  Class  \n",
       "0        1      0  \n",
       "1        1      0  \n",
       "2        1      0  \n",
       "3        1      0  \n",
       "4        1      0  "
      ]
     },
     "execution_count": 1,
     "metadata": {},
     "output_type": "execute_result"
    }
   ],
   "source": [
    "# 라이브러리 및 데이터 로드\n",
    "import warnings\n",
    "warnings.filterwarnings('ignore')\n",
    "import pandas as pd\n",
    "import numpy as np\n",
    "import matplotlib.pyplot as plt\n",
    "from scipy.stats import randint\n",
    "from sklearn.model_selection import train_test_split, GridSearchCV, RandomizedSearchCV\n",
    "from sklearn.preprocessing import MinMaxScaler, StandardScaler\n",
    "from sklearn.svm import SVC, SVR\n",
    "from sklearn.metrics import classification_report, confusion_matrix\n",
    "\n",
    "df = pd.read_csv('../input/big-data-certification-study/breast-cancer-wisconsin.csv', encoding='utf-8')\n",
    "df.head()"
   ]
  },
  {
   "cell_type": "code",
   "execution_count": 2,
   "id": "e3dfd61e",
   "metadata": {
    "execution": {
     "iopub.execute_input": "2022-06-11T21:31:17.144213Z",
     "iopub.status.busy": "2022-06-11T21:31:17.141757Z",
     "iopub.status.idle": "2022-06-11T21:31:17.170547Z",
     "shell.execute_reply": "2022-06-11T21:31:17.169405Z"
    },
    "papermill": {
     "duration": 0.058035,
     "end_time": "2022-06-11T21:31:17.173416",
     "exception": false,
     "start_time": "2022-06-11T21:31:17.115381",
     "status": "completed"
    },
    "tags": []
   },
   "outputs": [],
   "source": [
    "# 데이터 분리\n",
    "X = df.drop(columns=['code','Class'])\n",
    "y=df[['Class']]\n",
    "\n",
    "X_train, X_test, y_train, y_test=train_test_split(X,y,stratify=y,random_state=42)"
   ]
  },
  {
   "cell_type": "code",
   "execution_count": 3,
   "id": "054b03e4",
   "metadata": {
    "execution": {
     "iopub.execute_input": "2022-06-11T21:31:17.227065Z",
     "iopub.status.busy": "2022-06-11T21:31:17.226504Z",
     "iopub.status.idle": "2022-06-11T21:31:17.237487Z",
     "shell.execute_reply": "2022-06-11T21:31:17.236710Z"
    },
    "papermill": {
     "duration": 0.041911,
     "end_time": "2022-06-11T21:31:17.240087",
     "exception": false,
     "start_time": "2022-06-11T21:31:17.198176",
     "status": "completed"
    },
    "tags": []
   },
   "outputs": [],
   "source": [
    "# 정규화 - Min Max\n",
    "scaler=MinMaxScaler()\n",
    "scaler.fit(X_train)\n",
    "mm_X_train=scaler.transform(X_train)\n",
    "mm_X_test=scaler.transform(X_test)"
   ]
  },
  {
   "cell_type": "code",
   "execution_count": 4,
   "id": "b9ad996c",
   "metadata": {
    "execution": {
     "iopub.execute_input": "2022-06-11T21:31:17.293682Z",
     "iopub.status.busy": "2022-06-11T21:31:17.292968Z",
     "iopub.status.idle": "2022-06-11T21:31:17.309359Z",
     "shell.execute_reply": "2022-06-11T21:31:17.308651Z"
    },
    "papermill": {
     "duration": 0.046537,
     "end_time": "2022-06-11T21:31:17.311461",
     "exception": false,
     "start_time": "2022-06-11T21:31:17.264924",
     "status": "completed"
    },
    "tags": []
   },
   "outputs": [
    {
     "data": {
      "text/plain": [
       "0.984375"
      ]
     },
     "execution_count": 4,
     "metadata": {},
     "output_type": "execute_result"
    }
   ],
   "source": [
    "# 모델 적용\n",
    "model=SVC()\n",
    "model.fit(mm_X_train, y_train)\n",
    "pred_train=model.predict(mm_X_train)\n",
    "model.score(mm_X_train, y_train)"
   ]
  },
  {
   "cell_type": "code",
   "execution_count": 5,
   "id": "b7f328a9",
   "metadata": {
    "execution": {
     "iopub.execute_input": "2022-06-11T21:31:17.364045Z",
     "iopub.status.busy": "2022-06-11T21:31:17.363338Z",
     "iopub.status.idle": "2022-06-11T21:31:17.379609Z",
     "shell.execute_reply": "2022-06-11T21:31:17.377725Z"
    },
    "papermill": {
     "duration": 0.045517,
     "end_time": "2022-06-11T21:31:17.382139",
     "exception": false,
     "start_time": "2022-06-11T21:31:17.336622",
     "status": "completed"
    },
    "tags": []
   },
   "outputs": [
    {
     "name": "stdout",
     "output_type": "stream",
     "text": [
      "혼동행렬 :\n",
      " [[329   4]\n",
      " [  4 175]] \n",
      "\n",
      "\n",
      "분류예측 보고서 :\n",
      "               precision    recall  f1-score   support\n",
      "\n",
      "           0       0.99      0.99      0.99       333\n",
      "           1       0.98      0.98      0.98       179\n",
      "\n",
      "    accuracy                           0.98       512\n",
      "   macro avg       0.98      0.98      0.98       512\n",
      "weighted avg       0.98      0.98      0.98       512\n",
      "\n"
     ]
    }
   ],
   "source": [
    "# 혼동행렬, 분류예측 보고서\n",
    "cm_train=confusion_matrix(y_train, pred_train)\n",
    "cfr_train=classification_report(y_train, pred_train)\n",
    "print('혼동행렬 :\\n', cm_train,'\\n\\n\\n분류예측 보고서 :\\n', cfr_train)"
   ]
  },
  {
   "cell_type": "code",
   "execution_count": 6,
   "id": "a11b4d28",
   "metadata": {
    "execution": {
     "iopub.execute_input": "2022-06-11T21:31:17.437865Z",
     "iopub.status.busy": "2022-06-11T21:31:17.436972Z",
     "iopub.status.idle": "2022-06-11T21:31:17.447358Z",
     "shell.execute_reply": "2022-06-11T21:31:17.446440Z"
    },
    "papermill": {
     "duration": 0.042044,
     "end_time": "2022-06-11T21:31:17.449709",
     "exception": false,
     "start_time": "2022-06-11T21:31:17.407665",
     "status": "completed"
    },
    "tags": []
   },
   "outputs": [
    {
     "data": {
      "text/plain": [
       "0.9649122807017544"
      ]
     },
     "execution_count": 6,
     "metadata": {},
     "output_type": "execute_result"
    }
   ],
   "source": [
    "# 모델 적용\n",
    "pred_test=model.predict(mm_X_test)\n",
    "model.score(mm_X_test, y_test)"
   ]
  },
  {
   "cell_type": "code",
   "execution_count": 7,
   "id": "f9f34367",
   "metadata": {
    "execution": {
     "iopub.execute_input": "2022-06-11T21:31:17.509576Z",
     "iopub.status.busy": "2022-06-11T21:31:17.508964Z",
     "iopub.status.idle": "2022-06-11T21:31:17.519298Z",
     "shell.execute_reply": "2022-06-11T21:31:17.518719Z"
    },
    "papermill": {
     "duration": 0.046235,
     "end_time": "2022-06-11T21:31:17.522505",
     "exception": false,
     "start_time": "2022-06-11T21:31:17.476270",
     "status": "completed"
    },
    "tags": []
   },
   "outputs": [
    {
     "name": "stdout",
     "output_type": "stream",
     "text": [
      "혼동행렬 :\n",
      " [[106   5]\n",
      " [  1  59]] \n",
      "\n",
      "\n",
      "분류예측 보고서 :\n",
      "               precision    recall  f1-score   support\n",
      "\n",
      "           0       0.99      0.95      0.97       111\n",
      "           1       0.92      0.98      0.95        60\n",
      "\n",
      "    accuracy                           0.96       171\n",
      "   macro avg       0.96      0.97      0.96       171\n",
      "weighted avg       0.97      0.96      0.97       171\n",
      "\n"
     ]
    }
   ],
   "source": [
    "# 혼동행렬, 분류예측 보고서\n",
    "cm_test=confusion_matrix(y_test,pred_test)\n",
    "cfr_test=classification_report(y_test,pred_test)\n",
    "print('혼동행렬 :\\n', cm_test,'\\n\\n\\n분류예측 보고서 :\\n', cfr_test)"
   ]
  },
  {
   "cell_type": "code",
   "execution_count": 8,
   "id": "99538c3a",
   "metadata": {
    "execution": {
     "iopub.execute_input": "2022-06-11T21:31:17.576513Z",
     "iopub.status.busy": "2022-06-11T21:31:17.575926Z",
     "iopub.status.idle": "2022-06-11T21:31:22.750276Z",
     "shell.execute_reply": "2022-06-11T21:31:22.749252Z"
    },
    "papermill": {
     "duration": 5.204481,
     "end_time": "2022-06-11T21:31:22.752907",
     "exception": false,
     "start_time": "2022-06-11T21:31:17.548426",
     "status": "completed"
    },
    "tags": []
   },
   "outputs": [
    {
     "data": {
      "text/plain": [
       "GridSearchCV(cv=5, estimator=SVC(),\n",
       "             param_grid=[{'C': [0.0001, 0.001, 0.01, 0.1, 1, 10, 100],\n",
       "                          'gamma': [0.0001, 0.001, 0.01, 0.1, 1, 10, 100],\n",
       "                          'kernel': ['rbf']},\n",
       "                         {'C': [0.0001, 0.001, 0.01, 0.1, 1, 10, 100],\n",
       "                          'gamma': [0.0001, 0.001, 0.01, 0.1, 1, 10, 100],\n",
       "                          'kernel': ['linear']}],\n",
       "             return_train_score=True)"
      ]
     },
     "execution_count": 8,
     "metadata": {},
     "output_type": "execute_result"
    }
   ],
   "source": [
    "# Hyperparameter Tuning\n",
    "# Grid Search\n",
    "param_g=[{'C':[0.0001,0.001,0.01,0.1,1,10,100],\n",
    "          'kernel':['rbf'],\n",
    "          'gamma':[0.0001,0.001,0.01,0.1,1,10,100]},\n",
    "         {'C':[0.0001,0.001,0.01,0.1,1,10,100],\n",
    "          'kernel':['linear'],\n",
    "          'gamma':[0.0001,0.001,0.01,0.1,1,10,100]}]\n",
    "search_g=GridSearchCV(SVC(), param_g, cv=5,\n",
    "                      return_train_score=True)\n",
    "search_g.fit(mm_X_train, y_train)"
   ]
  },
  {
   "cell_type": "code",
   "execution_count": 9,
   "id": "20c85206",
   "metadata": {
    "execution": {
     "iopub.execute_input": "2022-06-11T21:31:22.808639Z",
     "iopub.status.busy": "2022-06-11T21:31:22.807764Z",
     "iopub.status.idle": "2022-06-11T21:31:22.816554Z",
     "shell.execute_reply": "2022-06-11T21:31:22.815591Z"
    },
    "papermill": {
     "duration": 0.039036,
     "end_time": "2022-06-11T21:31:22.818813",
     "exception": false,
     "start_time": "2022-06-11T21:31:22.779777",
     "status": "completed"
    },
    "tags": []
   },
   "outputs": [
    {
     "name": "stdout",
     "output_type": "stream",
     "text": [
      "Best Parameter : {'C': 100, 'gamma': 0.01, 'kernel': 'rbf'}\n",
      "Best Score : 0.9746\n",
      "Test Score : 0.9591\n"
     ]
    }
   ],
   "source": [
    "print('Best Parameter :', search_g.best_params_)\n",
    "print('Best Score :', round(search_g.best_score_, 4))\n",
    "print('Test Score :', round(search_g.score(mm_X_test, y_test), 4))"
   ]
  },
  {
   "cell_type": "code",
   "execution_count": 10,
   "id": "e4123e98",
   "metadata": {
    "execution": {
     "iopub.execute_input": "2022-06-11T21:31:22.875488Z",
     "iopub.status.busy": "2022-06-11T21:31:22.874627Z",
     "iopub.status.idle": "2022-06-11T21:31:31.331990Z",
     "shell.execute_reply": "2022-06-11T21:31:31.331042Z"
    },
    "papermill": {
     "duration": 8.488541,
     "end_time": "2022-06-11T21:31:31.334408",
     "exception": false,
     "start_time": "2022-06-11T21:31:22.845867",
     "status": "completed"
    },
    "tags": []
   },
   "outputs": [
    {
     "data": {
      "text/plain": [
       "RandomizedSearchCV(cv=5, estimator=SVC(), n_iter=100,\n",
       "                   param_distributions={'C': <scipy.stats._distn_infrastructure.rv_frozen object at 0x7f87daf08c10>,\n",
       "                                        'gamma': <scipy.stats._distn_infrastructure.rv_frozen object at 0x7f87b8f1dc10>,\n",
       "                                        'kernel': ['rbf']},\n",
       "                   return_train_score=True)"
      ]
     },
     "execution_count": 10,
     "metadata": {},
     "output_type": "execute_result"
    }
   ],
   "source": [
    "# Randomized Search\n",
    "param_r={'C':randint(low=0.001, high=100),\n",
    "         'kernel':['rbf'],\n",
    "         'gamma':randint(low=0.001, high=100)}\n",
    "search_r=RandomizedSearchCV(SVC(), param_distributions=param_r,\n",
    "                            cv=5, n_iter=100,\n",
    "                            return_train_score=True)\n",
    "search_r.fit(mm_X_train, y_train)"
   ]
  },
  {
   "cell_type": "code",
   "execution_count": 11,
   "id": "1e3a32bd",
   "metadata": {
    "execution": {
     "iopub.execute_input": "2022-06-11T21:31:31.391276Z",
     "iopub.status.busy": "2022-06-11T21:31:31.390752Z",
     "iopub.status.idle": "2022-06-11T21:31:31.398779Z",
     "shell.execute_reply": "2022-06-11T21:31:31.398109Z"
    },
    "papermill": {
     "duration": 0.039053,
     "end_time": "2022-06-11T21:31:31.401293",
     "exception": false,
     "start_time": "2022-06-11T21:31:31.362240",
     "status": "completed"
    },
    "tags": []
   },
   "outputs": [
    {
     "name": "stdout",
     "output_type": "stream",
     "text": [
      "Best Parameter : {'C': 2, 'gamma': 3, 'kernel': 'rbf'}\n",
      "Best Score : 0.9648\n",
      "Test Score : 0.9591\n"
     ]
    }
   ],
   "source": [
    "print('Best Parameter :', search_r.best_params_)\n",
    "print('Best Score :', round(search_r.best_score_, 4))\n",
    "print('Test Score :', round(search_r.score(mm_X_test, y_test), 4))"
   ]
  },
  {
   "cell_type": "markdown",
   "id": "8d6500d2",
   "metadata": {
    "papermill": {
     "duration": 0.027021,
     "end_time": "2022-06-11T21:31:31.456732",
     "exception": false,
     "start_time": "2022-06-11T21:31:31.429711",
     "status": "completed"
    },
    "tags": []
   },
   "source": [
    "# 분석 코드 - Regression"
   ]
  },
  {
   "cell_type": "code",
   "execution_count": 12,
   "id": "d6e7a3fb",
   "metadata": {
    "execution": {
     "iopub.execute_input": "2022-06-11T21:31:31.513901Z",
     "iopub.status.busy": "2022-06-11T21:31:31.513350Z",
     "iopub.status.idle": "2022-06-11T21:31:31.568202Z",
     "shell.execute_reply": "2022-06-11T21:31:31.567207Z"
    },
    "papermill": {
     "duration": 0.085906,
     "end_time": "2022-06-11T21:31:31.570602",
     "exception": false,
     "start_time": "2022-06-11T21:31:31.484696",
     "status": "completed"
    },
    "tags": []
   },
   "outputs": [
    {
     "data": {
      "text/html": [
       "<div>\n",
       "<style scoped>\n",
       "    .dataframe tbody tr th:only-of-type {\n",
       "        vertical-align: middle;\n",
       "    }\n",
       "\n",
       "    .dataframe tbody tr th {\n",
       "        vertical-align: top;\n",
       "    }\n",
       "\n",
       "    .dataframe thead th {\n",
       "        text-align: right;\n",
       "    }\n",
       "</style>\n",
       "<table border=\"1\" class=\"dataframe\">\n",
       "  <thead>\n",
       "    <tr style=\"text-align: right;\">\n",
       "      <th></th>\n",
       "      <th>housing_age</th>\n",
       "      <th>income</th>\n",
       "      <th>bedrooms</th>\n",
       "      <th>households</th>\n",
       "      <th>rooms</th>\n",
       "      <th>house_value</th>\n",
       "    </tr>\n",
       "  </thead>\n",
       "  <tbody>\n",
       "    <tr>\n",
       "      <th>0</th>\n",
       "      <td>23</td>\n",
       "      <td>6.7770</td>\n",
       "      <td>0.141112</td>\n",
       "      <td>2.442244</td>\n",
       "      <td>8.103960</td>\n",
       "      <td>500000</td>\n",
       "    </tr>\n",
       "    <tr>\n",
       "      <th>1</th>\n",
       "      <td>49</td>\n",
       "      <td>6.0199</td>\n",
       "      <td>0.160984</td>\n",
       "      <td>2.726688</td>\n",
       "      <td>5.752412</td>\n",
       "      <td>500000</td>\n",
       "    </tr>\n",
       "    <tr>\n",
       "      <th>2</th>\n",
       "      <td>35</td>\n",
       "      <td>5.1155</td>\n",
       "      <td>0.249061</td>\n",
       "      <td>1.902676</td>\n",
       "      <td>3.888078</td>\n",
       "      <td>500000</td>\n",
       "    </tr>\n",
       "    <tr>\n",
       "      <th>3</th>\n",
       "      <td>32</td>\n",
       "      <td>4.7109</td>\n",
       "      <td>0.231383</td>\n",
       "      <td>1.913669</td>\n",
       "      <td>4.508393</td>\n",
       "      <td>500000</td>\n",
       "    </tr>\n",
       "    <tr>\n",
       "      <th>4</th>\n",
       "      <td>21</td>\n",
       "      <td>4.5625</td>\n",
       "      <td>0.255583</td>\n",
       "      <td>3.092664</td>\n",
       "      <td>4.667954</td>\n",
       "      <td>500000</td>\n",
       "    </tr>\n",
       "  </tbody>\n",
       "</table>\n",
       "</div>"
      ],
      "text/plain": [
       "   housing_age  income  bedrooms  households     rooms  house_value\n",
       "0           23  6.7770  0.141112    2.442244  8.103960       500000\n",
       "1           49  6.0199  0.160984    2.726688  5.752412       500000\n",
       "2           35  5.1155  0.249061    1.902676  3.888078       500000\n",
       "3           32  4.7109  0.231383    1.913669  4.508393       500000\n",
       "4           21  4.5625  0.255583    3.092664  4.667954       500000"
      ]
     },
     "execution_count": 12,
     "metadata": {},
     "output_type": "execute_result"
    }
   ],
   "source": [
    "df2 = pd.read_csv('../input/big-data-certification-study/house_price.csv', encoding='utf-8')\n",
    "df2.head()"
   ]
  },
  {
   "cell_type": "code",
   "execution_count": 13,
   "id": "8f05390d",
   "metadata": {
    "execution": {
     "iopub.execute_input": "2022-06-11T21:31:31.627916Z",
     "iopub.status.busy": "2022-06-11T21:31:31.627604Z",
     "iopub.status.idle": "2022-06-11T21:31:31.641695Z",
     "shell.execute_reply": "2022-06-11T21:31:31.640792Z"
    },
    "papermill": {
     "duration": 0.04555,
     "end_time": "2022-06-11T21:31:31.644178",
     "exception": false,
     "start_time": "2022-06-11T21:31:31.598628",
     "status": "completed"
    },
    "tags": []
   },
   "outputs": [],
   "source": [
    "X=df2.drop(columns=['house_value'])\n",
    "y=df2[['house_value']]\n",
    "\n",
    "X_train, X_test, y_train, y_test=train_test_split(X,y,random_state=42)"
   ]
  },
  {
   "cell_type": "code",
   "execution_count": 14,
   "id": "2262b7cc",
   "metadata": {
    "execution": {
     "iopub.execute_input": "2022-06-11T21:31:31.703995Z",
     "iopub.status.busy": "2022-06-11T21:31:31.703701Z",
     "iopub.status.idle": "2022-06-11T21:31:31.713902Z",
     "shell.execute_reply": "2022-06-11T21:31:31.713059Z"
    },
    "papermill": {
     "duration": 0.041381,
     "end_time": "2022-06-11T21:31:31.715954",
     "exception": false,
     "start_time": "2022-06-11T21:31:31.674573",
     "status": "completed"
    },
    "tags": []
   },
   "outputs": [],
   "source": [
    "# 정규화\n",
    "scaler.fit(X_train)\n",
    "ms_X_train = scaler.transform(X_train)\n",
    "ms_X_test=scaler.transform(X_test)"
   ]
  },
  {
   "cell_type": "code",
   "execution_count": 15,
   "id": "4903ee50",
   "metadata": {
    "execution": {
     "iopub.execute_input": "2022-06-11T21:31:31.773556Z",
     "iopub.status.busy": "2022-06-11T21:31:31.773275Z",
     "iopub.status.idle": "2022-06-11T21:31:49.223776Z",
     "shell.execute_reply": "2022-06-11T21:31:49.223049Z"
    },
    "papermill": {
     "duration": 17.48181,
     "end_time": "2022-06-11T21:31:49.226102",
     "exception": false,
     "start_time": "2022-06-11T21:31:31.744292",
     "status": "completed"
    },
    "tags": []
   },
   "outputs": [
    {
     "data": {
      "text/plain": [
       "0.4411532001585847"
      ]
     },
     "execution_count": 15,
     "metadata": {},
     "output_type": "execute_result"
    }
   ],
   "source": [
    "# 모델 적용\n",
    "model=SVR(kernel='poly')\n",
    "model.fit(ms_X_train, y_train)\n",
    "pre_train=model.predict(ms_X_train)\n",
    "model.score(ms_X_train, y_train)"
   ]
  },
  {
   "cell_type": "code",
   "execution_count": 16,
   "id": "69a6cb27",
   "metadata": {
    "execution": {
     "iopub.execute_input": "2022-06-11T21:31:49.286192Z",
     "iopub.status.busy": "2022-06-11T21:31:49.285623Z",
     "iopub.status.idle": "2022-06-11T21:31:52.438510Z",
     "shell.execute_reply": "2022-06-11T21:31:52.437553Z"
    },
    "papermill": {
     "duration": 3.18512,
     "end_time": "2022-06-11T21:31:52.440496",
     "exception": false,
     "start_time": "2022-06-11T21:31:49.255376",
     "status": "completed"
    },
    "tags": []
   },
   "outputs": [
    {
     "data": {
      "text/plain": [
       "0.45698485085656304"
      ]
     },
     "execution_count": 16,
     "metadata": {},
     "output_type": "execute_result"
    }
   ],
   "source": [
    "pre_test=model.predict(ms_X_test)\n",
    "model.score(ms_X_test,y_test)"
   ]
  },
  {
   "cell_type": "code",
   "execution_count": 17,
   "id": "57f68688",
   "metadata": {
    "execution": {
     "iopub.execute_input": "2022-06-11T21:31:52.501152Z",
     "iopub.status.busy": "2022-06-11T21:31:52.500553Z",
     "iopub.status.idle": "2022-06-11T21:31:52.510678Z",
     "shell.execute_reply": "2022-06-11T21:31:52.509633Z"
    },
    "papermill": {
     "duration": 0.043268,
     "end_time": "2022-06-11T21:31:52.512616",
     "exception": false,
     "start_time": "2022-06-11T21:31:52.469348",
     "status": "completed"
    },
    "tags": []
   },
   "outputs": [
    {
     "name": "stdout",
     "output_type": "stream",
     "text": [
      "Train RMSE : 71350.56690936947\n",
      "Test  RMSE : 70447.96409927838\n"
     ]
    }
   ],
   "source": [
    "# RMSE 확인\n",
    "from sklearn.metrics import mean_squared_error\n",
    "mse_train=mean_squared_error(y_train,pre_train)\n",
    "mse_test=mean_squared_error(y_test,pre_test)\n",
    "print('Train RMSE :', np.sqrt(mse_train))\n",
    "print('Test  RMSE :', np.sqrt(mse_test))"
   ]
  },
  {
   "cell_type": "code",
   "execution_count": 18,
   "id": "4b7b1cee",
   "metadata": {
    "execution": {
     "iopub.execute_input": "2022-06-11T21:31:52.571698Z",
     "iopub.status.busy": "2022-06-11T21:31:52.571262Z",
     "iopub.status.idle": "2022-06-11T22:23:41.669662Z",
     "shell.execute_reply": "2022-06-11T22:23:41.668712Z"
    },
    "papermill": {
     "duration": 3109.161321,
     "end_time": "2022-06-11T22:23:41.702660",
     "exception": false,
     "start_time": "2022-06-11T21:31:52.541339",
     "status": "completed"
    },
    "tags": []
   },
   "outputs": [
    {
     "data": {
      "text/plain": [
       "GridSearchCV(cv=5, estimator=SVR(),\n",
       "             param_grid={'C': [0.001, 0.01, 0.1, 1, 10, 100],\n",
       "                         'gamma': [0.001, 0.01, 0.1, 1, 10, 100],\n",
       "                         'kernel': ['poly']},\n",
       "             return_train_score=True)"
      ]
     },
     "execution_count": 18,
     "metadata": {},
     "output_type": "execute_result"
    }
   ],
   "source": [
    "# Hyperparameter Tuning\n",
    "# Grid Search\n",
    "param_g={'C':[0.001,0.01,0.1,1,10,100],\n",
    "         'kernel':['poly'],\n",
    "         'gamma':[0.001,0.01,0.1,1,10,100]}\n",
    "search_g=GridSearchCV(SVR(), param_g, cv=5,\n",
    "                      return_train_score=True)\n",
    "search_g.fit(ms_X_train, y_train)"
   ]
  },
  {
   "cell_type": "code",
   "execution_count": 19,
   "id": "201e8675",
   "metadata": {
    "execution": {
     "iopub.execute_input": "2022-06-11T22:23:41.764591Z",
     "iopub.status.busy": "2022-06-11T22:23:41.763908Z",
     "iopub.status.idle": "2022-06-11T22:23:43.343848Z",
     "shell.execute_reply": "2022-06-11T22:23:43.342976Z"
    },
    "papermill": {
     "duration": 1.613987,
     "end_time": "2022-06-11T22:23:43.346005",
     "exception": false,
     "start_time": "2022-06-11T22:23:41.732018",
     "status": "completed"
    },
    "tags": []
   },
   "outputs": [
    {
     "name": "stdout",
     "output_type": "stream",
     "text": [
      "Best Parameter : {'C': 10, 'gamma': 100, 'kernel': 'poly'}\n",
      "Best Score : 0.5944\n",
      "Test Score : 0.609\n"
     ]
    }
   ],
   "source": [
    "print('Best Parameter :', search_g.best_params_)\n",
    "print('Best Score :', round(search_g.best_score_, 4))\n",
    "print('Test Score :', round(search_g.score(ms_X_test, y_test), 4))"
   ]
  },
  {
   "cell_type": "code",
   "execution_count": 20,
   "id": "8d0ee43b",
   "metadata": {
    "execution": {
     "iopub.execute_input": "2022-06-11T22:23:43.411296Z",
     "iopub.status.busy": "2022-06-11T22:23:43.410614Z",
     "iopub.status.idle": "2022-06-12T04:00:36.514957Z",
     "shell.execute_reply": "2022-06-12T04:00:36.513971Z"
    },
    "papermill": {
     "duration": 20213.171385,
     "end_time": "2022-06-12T04:00:36.548219",
     "exception": false,
     "start_time": "2022-06-11T22:23:43.376834",
     "status": "completed"
    },
    "tags": []
   },
   "outputs": [
    {
     "data": {
      "text/plain": [
       "RandomizedSearchCV(cv=5, estimator=SVR(), n_iter=100,\n",
       "                   param_distributions={'C': <scipy.stats._distn_infrastructure.rv_frozen object at 0x7f87b81d8790>,\n",
       "                                        'gamma': <scipy.stats._distn_infrastructure.rv_frozen object at 0x7f87b81d88d0>,\n",
       "                                        'kernel': ['poly']},\n",
       "                   return_train_score=True)"
      ]
     },
     "execution_count": 20,
     "metadata": {},
     "output_type": "execute_result"
    }
   ],
   "source": [
    "# Randomized Search\n",
    "param_r={'C':randint(low=0.001, high=100),\n",
    "         'kernel':['poly'],\n",
    "         'gamma':randint(low=0.001, high=100)}\n",
    "search_r=RandomizedSearchCV(SVR(), param_distributions=param_r,\n",
    "                            cv=5, n_iter=100,\n",
    "                            return_train_score=True)\n",
    "search_r.fit(ms_X_train, y_train)"
   ]
  },
  {
   "cell_type": "code",
   "execution_count": 21,
   "id": "edf8b324",
   "metadata": {
    "execution": {
     "iopub.execute_input": "2022-06-12T04:00:36.611124Z",
     "iopub.status.busy": "2022-06-12T04:00:36.610732Z",
     "iopub.status.idle": "2022-06-12T04:00:38.248093Z",
     "shell.execute_reply": "2022-06-12T04:00:38.246922Z"
    },
    "papermill": {
     "duration": 1.671343,
     "end_time": "2022-06-12T04:00:38.250477",
     "exception": false,
     "start_time": "2022-06-12T04:00:36.579134",
     "status": "completed"
    },
    "tags": []
   },
   "outputs": [
    {
     "name": "stdout",
     "output_type": "stream",
     "text": [
      "Best Parameter : {'C': 66, 'gamma': 36, 'kernel': 'poly'}\n",
      "Best Score : 0.5953\n",
      "Test Score : 0.6105\n"
     ]
    }
   ],
   "source": [
    "print('Best Parameter :', search_r.best_params_)\n",
    "print('Best Score :', round(search_r.best_score_, 4))\n",
    "print('Test Score :', round(search_r.score(ms_X_test, y_test), 4))"
   ]
  }
 ],
 "metadata": {
  "kernelspec": {
   "display_name": "Python 3",
   "language": "python",
   "name": "python3"
  },
  "language_info": {
   "codemirror_mode": {
    "name": "ipython",
    "version": 3
   },
   "file_extension": ".py",
   "mimetype": "text/x-python",
   "name": "python",
   "nbconvert_exporter": "python",
   "pygments_lexer": "ipython3",
   "version": "3.7.12"
  },
  "papermill": {
   "default_parameters": {},
   "duration": 23374.332758,
   "end_time": "2022-06-12T04:00:39.156932",
   "environment_variables": {},
   "exception": null,
   "input_path": "__notebook__.ipynb",
   "output_path": "__notebook__.ipynb",
   "parameters": {},
   "start_time": "2022-06-11T21:31:04.824174",
   "version": "2.3.4"
  }
 },
 "nbformat": 4,
 "nbformat_minor": 5
}
