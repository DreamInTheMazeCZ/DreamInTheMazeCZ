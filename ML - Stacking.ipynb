{
 "cells": [
  {
   "cell_type": "markdown",
   "id": "fe06ca90",
   "metadata": {
    "papermill": {
     "duration": 0.016671,
     "end_time": "2022-06-27T17:19:55.401353",
     "exception": false,
     "start_time": "2022-06-27T17:19:55.384682",
     "status": "completed"
    },
    "tags": []
   },
   "source": [
    "### sklearn.ensemble.StackingClassifier\n",
    "### sklearn.ensemble.StackingRegressor\n",
    "- 여러 학습기에서 예측한 예측값으로 다시 학습데이터를 만들어 일반화된 최종 모델을 구성하는 방법\n",
    "- 데이터셋이 아닌 예측값으로 예측을 한다는 아이디어가 핵심적인 차이\n",
    "\n",
    "#### 주요 Hyperparameter\n",
    "- n_estimators : 부트스트랩 데이터셋 수\n",
    "\n",
    "##### BaggingClassifier(estimators, final_estimator=None, *, cv=None, stack_method='auto', n_jobs=None, passthrough=False, verbose=0)\n",
    "##### BaggingRegressor(estimators, final_estimator=None, *, cv=None, n_jobs=None, passthrough=False, verbose=0)\n",
    "\n",
    "- Voting 방법과 유사하게 여러 개별 알고리즘으로 estimators 설정"
   ]
  },
  {
   "cell_type": "markdown",
   "id": "f1d85422",
   "metadata": {
    "papermill": {
     "duration": 0.014764,
     "end_time": "2022-06-27T17:19:55.431718",
     "exception": false,
     "start_time": "2022-06-27T17:19:55.416954",
     "status": "completed"
    },
    "tags": []
   },
   "source": [
    "# 분석 코드 - Classification"
   ]
  },
  {
   "cell_type": "code",
   "execution_count": 1,
   "id": "5a1620ea",
   "metadata": {
    "execution": {
     "iopub.execute_input": "2022-06-27T17:19:55.464295Z",
     "iopub.status.busy": "2022-06-27T17:19:55.463748Z",
     "iopub.status.idle": "2022-06-27T17:19:57.005993Z",
     "shell.execute_reply": "2022-06-27T17:19:57.004770Z"
    },
    "papermill": {
     "duration": 1.563659,
     "end_time": "2022-06-27T17:19:57.010471",
     "exception": false,
     "start_time": "2022-06-27T17:19:55.446812",
     "status": "completed"
    },
    "tags": []
   },
   "outputs": [
    {
     "data": {
      "text/html": [
       "<div>\n",
       "<style scoped>\n",
       "    .dataframe tbody tr th:only-of-type {\n",
       "        vertical-align: middle;\n",
       "    }\n",
       "\n",
       "    .dataframe tbody tr th {\n",
       "        vertical-align: top;\n",
       "    }\n",
       "\n",
       "    .dataframe thead th {\n",
       "        text-align: right;\n",
       "    }\n",
       "</style>\n",
       "<table border=\"1\" class=\"dataframe\">\n",
       "  <thead>\n",
       "    <tr style=\"text-align: right;\">\n",
       "      <th></th>\n",
       "      <th>code</th>\n",
       "      <th>Clump_Thickness</th>\n",
       "      <th>Cell_Size</th>\n",
       "      <th>Cell_Shape</th>\n",
       "      <th>Marginal_Adhesion</th>\n",
       "      <th>Single_Epithelial_Cell_Size</th>\n",
       "      <th>Bare_Nuclei</th>\n",
       "      <th>Bland_Chromatin</th>\n",
       "      <th>Normal_Nucleoli</th>\n",
       "      <th>Mitoses</th>\n",
       "      <th>Class</th>\n",
       "    </tr>\n",
       "  </thead>\n",
       "  <tbody>\n",
       "    <tr>\n",
       "      <th>0</th>\n",
       "      <td>1000025</td>\n",
       "      <td>5</td>\n",
       "      <td>1</td>\n",
       "      <td>1</td>\n",
       "      <td>1</td>\n",
       "      <td>2</td>\n",
       "      <td>1</td>\n",
       "      <td>3</td>\n",
       "      <td>1</td>\n",
       "      <td>1</td>\n",
       "      <td>0</td>\n",
       "    </tr>\n",
       "    <tr>\n",
       "      <th>1</th>\n",
       "      <td>1002945</td>\n",
       "      <td>5</td>\n",
       "      <td>4</td>\n",
       "      <td>4</td>\n",
       "      <td>5</td>\n",
       "      <td>7</td>\n",
       "      <td>10</td>\n",
       "      <td>3</td>\n",
       "      <td>2</td>\n",
       "      <td>1</td>\n",
       "      <td>0</td>\n",
       "    </tr>\n",
       "    <tr>\n",
       "      <th>2</th>\n",
       "      <td>1015425</td>\n",
       "      <td>3</td>\n",
       "      <td>1</td>\n",
       "      <td>1</td>\n",
       "      <td>1</td>\n",
       "      <td>2</td>\n",
       "      <td>2</td>\n",
       "      <td>3</td>\n",
       "      <td>1</td>\n",
       "      <td>1</td>\n",
       "      <td>0</td>\n",
       "    </tr>\n",
       "    <tr>\n",
       "      <th>3</th>\n",
       "      <td>1016277</td>\n",
       "      <td>6</td>\n",
       "      <td>8</td>\n",
       "      <td>8</td>\n",
       "      <td>1</td>\n",
       "      <td>3</td>\n",
       "      <td>4</td>\n",
       "      <td>3</td>\n",
       "      <td>7</td>\n",
       "      <td>1</td>\n",
       "      <td>0</td>\n",
       "    </tr>\n",
       "    <tr>\n",
       "      <th>4</th>\n",
       "      <td>1017023</td>\n",
       "      <td>4</td>\n",
       "      <td>1</td>\n",
       "      <td>1</td>\n",
       "      <td>3</td>\n",
       "      <td>2</td>\n",
       "      <td>1</td>\n",
       "      <td>3</td>\n",
       "      <td>1</td>\n",
       "      <td>1</td>\n",
       "      <td>0</td>\n",
       "    </tr>\n",
       "  </tbody>\n",
       "</table>\n",
       "</div>"
      ],
      "text/plain": [
       "      code  Clump_Thickness  Cell_Size  Cell_Shape  Marginal_Adhesion  \\\n",
       "0  1000025                5          1           1                  1   \n",
       "1  1002945                5          4           4                  5   \n",
       "2  1015425                3          1           1                  1   \n",
       "3  1016277                6          8           8                  1   \n",
       "4  1017023                4          1           1                  3   \n",
       "\n",
       "   Single_Epithelial_Cell_Size  Bare_Nuclei  Bland_Chromatin  Normal_Nucleoli  \\\n",
       "0                            2            1                3                1   \n",
       "1                            7           10                3                2   \n",
       "2                            2            2                3                1   \n",
       "3                            3            4                3                7   \n",
       "4                            2            1                3                1   \n",
       "\n",
       "   Mitoses  Class  \n",
       "0        1      0  \n",
       "1        1      0  \n",
       "2        1      0  \n",
       "3        1      0  \n",
       "4        1      0  "
      ]
     },
     "execution_count": 1,
     "metadata": {},
     "output_type": "execute_result"
    }
   ],
   "source": [
    "# 라이브러리 및 데이터 로드\n",
    "import warnings\n",
    "warnings.filterwarnings('ignore')\n",
    "import pandas as pd\n",
    "import numpy as np\n",
    "import matplotlib.pyplot as plt\n",
    "from scipy.stats import randint\n",
    "from sklearn.model_selection import train_test_split, GridSearchCV, RandomizedSearchCV\n",
    "from sklearn.preprocessing import MinMaxScaler, StandardScaler, LabelEncoder\n",
    "from sklearn.linear_model import LogisticRegression, LinearRegression\n",
    "from sklearn.svm import SVC, SVR\n",
    "from sklearn.neighbors import KNeighborsRegressor\n",
    "from sklearn.ensemble import RandomForestClassifier, RandomForestRegressor, StackingClassifier, StackingRegressor\n",
    "from sklearn.metrics import classification_report, confusion_matrix, mean_squared_error, accuracy_score\n",
    "\n",
    "df = pd.read_csv('../input/big-data-certification-study/breast-cancer-wisconsin.csv', encoding='utf-8')\n",
    "df.head()"
   ]
  },
  {
   "cell_type": "code",
   "execution_count": 2,
   "id": "b6089a0f",
   "metadata": {
    "execution": {
     "iopub.execute_input": "2022-06-27T17:19:57.046626Z",
     "iopub.status.busy": "2022-06-27T17:19:57.045686Z",
     "iopub.status.idle": "2022-06-27T17:19:57.070912Z",
     "shell.execute_reply": "2022-06-27T17:19:57.070183Z"
    },
    "papermill": {
     "duration": 0.044446,
     "end_time": "2022-06-27T17:19:57.073212",
     "exception": false,
     "start_time": "2022-06-27T17:19:57.028766",
     "status": "completed"
    },
    "tags": []
   },
   "outputs": [],
   "source": [
    "# 데이터 분리\n",
    "X=df.drop(columns=['code','Class'])\n",
    "y=df[['Class']]\n",
    "X_train,X_test,y_train,y_test=train_test_split(X,y,stratify=y,random_state=42)"
   ]
  },
  {
   "cell_type": "code",
   "execution_count": 3,
   "id": "9fe547ae",
   "metadata": {
    "execution": {
     "iopub.execute_input": "2022-06-27T17:19:57.105974Z",
     "iopub.status.busy": "2022-06-27T17:19:57.105643Z",
     "iopub.status.idle": "2022-06-27T17:19:57.116682Z",
     "shell.execute_reply": "2022-06-27T17:19:57.115614Z"
    },
    "papermill": {
     "duration": 0.030402,
     "end_time": "2022-06-27T17:19:57.118955",
     "exception": false,
     "start_time": "2022-06-27T17:19:57.088553",
     "status": "completed"
    },
    "tags": []
   },
   "outputs": [],
   "source": [
    "# 정규화\n",
    "scaler=MinMaxScaler()\n",
    "scaler.fit(X_train)\n",
    "mm_X_train=scaler.transform(X_train)\n",
    "mm_X_test=scaler.transform(X_test)"
   ]
  },
  {
   "cell_type": "code",
   "execution_count": 4,
   "id": "f279d94e",
   "metadata": {
    "execution": {
     "iopub.execute_input": "2022-06-27T17:19:57.152488Z",
     "iopub.status.busy": "2022-06-27T17:19:57.152138Z",
     "iopub.status.idle": "2022-06-27T17:19:57.336181Z",
     "shell.execute_reply": "2022-06-27T17:19:57.335195Z"
    },
    "papermill": {
     "duration": 0.203845,
     "end_time": "2022-06-27T17:19:57.338650",
     "exception": false,
     "start_time": "2022-06-27T17:19:57.134805",
     "status": "completed"
    },
    "tags": []
   },
   "outputs": [
    {
     "data": {
      "text/plain": [
       "0.9649122807017544"
      ]
     },
     "execution_count": 4,
     "metadata": {},
     "output_type": "execute_result"
    }
   ],
   "source": [
    "# 모델 적용\n",
    "em=[('rf', RandomForestClassifier(n_estimators=10,random_state=42)),\n",
    "    ('svm',SVC(random_state=42))]\n",
    "model=StackingClassifier(estimators=em, final_estimator=LogisticRegression())\n",
    "model.fit(mm_X_train, y_train)\n",
    "y_pred=model.predict(mm_X_test)\n",
    "accuracy_score(y_test,y_pred)"
   ]
  },
  {
   "cell_type": "code",
   "execution_count": 5,
   "id": "244fdb8e",
   "metadata": {
    "execution": {
     "iopub.execute_input": "2022-06-27T17:19:57.373110Z",
     "iopub.status.busy": "2022-06-27T17:19:57.372791Z",
     "iopub.status.idle": "2022-06-27T17:19:57.386977Z",
     "shell.execute_reply": "2022-06-27T17:19:57.385248Z"
    },
    "papermill": {
     "duration": 0.034985,
     "end_time": "2022-06-27T17:19:57.390349",
     "exception": false,
     "start_time": "2022-06-27T17:19:57.355364",
     "status": "completed"
    },
    "tags": []
   },
   "outputs": [
    {
     "name": "stdout",
     "output_type": "stream",
     "text": [
      "혼동행렬 :\n",
      " [[106   5]\n",
      " [  1  59]] \n",
      " 분류예측 보고서 :\n",
      "               precision    recall  f1-score   support\n",
      "\n",
      "           0       0.99      0.95      0.97       111\n",
      "           1       0.92      0.98      0.95        60\n",
      "\n",
      "    accuracy                           0.96       171\n",
      "   macro avg       0.96      0.97      0.96       171\n",
      "weighted avg       0.97      0.96      0.97       171\n",
      " \n",
      "\n",
      "\n"
     ]
    }
   ],
   "source": [
    "# 혼동행렬, 분류예측 보고서\n",
    "cm_train=confusion_matrix(y_test,y_pred)\n",
    "cfr_train=classification_report(y_test,y_pred)\n",
    "print('혼동행렬 :\\n',cm_train,'\\n',\n",
    "      '분류예측 보고서 :\\n',cfr_train,'\\n\\n')"
   ]
  },
  {
   "cell_type": "markdown",
   "id": "c21be09b",
   "metadata": {
    "papermill": {
     "duration": 0.016184,
     "end_time": "2022-06-27T17:19:57.423378",
     "exception": false,
     "start_time": "2022-06-27T17:19:57.407194",
     "status": "completed"
    },
    "tags": []
   },
   "source": [
    "# 분석 코드 - Regression"
   ]
  },
  {
   "cell_type": "code",
   "execution_count": 6,
   "id": "7426a0be",
   "metadata": {
    "execution": {
     "iopub.execute_input": "2022-06-27T17:19:57.458263Z",
     "iopub.status.busy": "2022-06-27T17:19:57.457572Z",
     "iopub.status.idle": "2022-06-27T17:19:57.523107Z",
     "shell.execute_reply": "2022-06-27T17:19:57.522316Z"
    },
    "papermill": {
     "duration": 0.085099,
     "end_time": "2022-06-27T17:19:57.525011",
     "exception": false,
     "start_time": "2022-06-27T17:19:57.439912",
     "status": "completed"
    },
    "tags": []
   },
   "outputs": [
    {
     "data": {
      "text/html": [
       "<div>\n",
       "<style scoped>\n",
       "    .dataframe tbody tr th:only-of-type {\n",
       "        vertical-align: middle;\n",
       "    }\n",
       "\n",
       "    .dataframe tbody tr th {\n",
       "        vertical-align: top;\n",
       "    }\n",
       "\n",
       "    .dataframe thead th {\n",
       "        text-align: right;\n",
       "    }\n",
       "</style>\n",
       "<table border=\"1\" class=\"dataframe\">\n",
       "  <thead>\n",
       "    <tr style=\"text-align: right;\">\n",
       "      <th></th>\n",
       "      <th>housing_age</th>\n",
       "      <th>income</th>\n",
       "      <th>bedrooms</th>\n",
       "      <th>households</th>\n",
       "      <th>rooms</th>\n",
       "      <th>house_value</th>\n",
       "    </tr>\n",
       "  </thead>\n",
       "  <tbody>\n",
       "    <tr>\n",
       "      <th>0</th>\n",
       "      <td>23</td>\n",
       "      <td>6.7770</td>\n",
       "      <td>0.141112</td>\n",
       "      <td>2.442244</td>\n",
       "      <td>8.103960</td>\n",
       "      <td>500000</td>\n",
       "    </tr>\n",
       "    <tr>\n",
       "      <th>1</th>\n",
       "      <td>49</td>\n",
       "      <td>6.0199</td>\n",
       "      <td>0.160984</td>\n",
       "      <td>2.726688</td>\n",
       "      <td>5.752412</td>\n",
       "      <td>500000</td>\n",
       "    </tr>\n",
       "    <tr>\n",
       "      <th>2</th>\n",
       "      <td>35</td>\n",
       "      <td>5.1155</td>\n",
       "      <td>0.249061</td>\n",
       "      <td>1.902676</td>\n",
       "      <td>3.888078</td>\n",
       "      <td>500000</td>\n",
       "    </tr>\n",
       "    <tr>\n",
       "      <th>3</th>\n",
       "      <td>32</td>\n",
       "      <td>4.7109</td>\n",
       "      <td>0.231383</td>\n",
       "      <td>1.913669</td>\n",
       "      <td>4.508393</td>\n",
       "      <td>500000</td>\n",
       "    </tr>\n",
       "    <tr>\n",
       "      <th>4</th>\n",
       "      <td>21</td>\n",
       "      <td>4.5625</td>\n",
       "      <td>0.255583</td>\n",
       "      <td>3.092664</td>\n",
       "      <td>4.667954</td>\n",
       "      <td>500000</td>\n",
       "    </tr>\n",
       "  </tbody>\n",
       "</table>\n",
       "</div>"
      ],
      "text/plain": [
       "   housing_age  income  bedrooms  households     rooms  house_value\n",
       "0           23  6.7770  0.141112    2.442244  8.103960       500000\n",
       "1           49  6.0199  0.160984    2.726688  5.752412       500000\n",
       "2           35  5.1155  0.249061    1.902676  3.888078       500000\n",
       "3           32  4.7109  0.231383    1.913669  4.508393       500000\n",
       "4           21  4.5625  0.255583    3.092664  4.667954       500000"
      ]
     },
     "execution_count": 6,
     "metadata": {},
     "output_type": "execute_result"
    }
   ],
   "source": [
    "df2=pd.read_csv('../input/big-data-certification-study/house_price.csv', encoding='utf-8')\n",
    "df2.head()"
   ]
  },
  {
   "cell_type": "code",
   "execution_count": 7,
   "id": "68250484",
   "metadata": {
    "execution": {
     "iopub.execute_input": "2022-06-27T17:19:57.561406Z",
     "iopub.status.busy": "2022-06-27T17:19:57.560808Z",
     "iopub.status.idle": "2022-06-27T17:19:57.573171Z",
     "shell.execute_reply": "2022-06-27T17:19:57.572151Z"
    },
    "papermill": {
     "duration": 0.033252,
     "end_time": "2022-06-27T17:19:57.575795",
     "exception": false,
     "start_time": "2022-06-27T17:19:57.542543",
     "status": "completed"
    },
    "tags": []
   },
   "outputs": [],
   "source": [
    "# 데이터 분리\n",
    "X=df2.drop(columns=['house_value'])\n",
    "y=df2[['house_value']]\n",
    "X_train, X_test, y_train, y_test=train_test_split(X,y,random_state=42)"
   ]
  },
  {
   "cell_type": "code",
   "execution_count": 8,
   "id": "e28f4059",
   "metadata": {
    "execution": {
     "iopub.execute_input": "2022-06-27T17:19:57.611265Z",
     "iopub.status.busy": "2022-06-27T17:19:57.610983Z",
     "iopub.status.idle": "2022-06-27T17:19:57.624415Z",
     "shell.execute_reply": "2022-06-27T17:19:57.623223Z"
    },
    "papermill": {
     "duration": 0.034034,
     "end_time": "2022-06-27T17:19:57.626947",
     "exception": false,
     "start_time": "2022-06-27T17:19:57.592913",
     "status": "completed"
    },
    "tags": []
   },
   "outputs": [],
   "source": [
    "# 정규화\n",
    "scale=MinMaxScaler()\n",
    "scale.fit(X_train)\n",
    "ms_X_train=scale.transform(X_train)\n",
    "ms_X_test=scale.transform(X_test)"
   ]
  },
  {
   "cell_type": "code",
   "execution_count": 9,
   "id": "c2edab5b",
   "metadata": {
    "execution": {
     "iopub.execute_input": "2022-06-27T17:19:57.664374Z",
     "iopub.status.busy": "2022-06-27T17:19:57.663818Z",
     "iopub.status.idle": "2022-06-27T17:19:58.813836Z",
     "shell.execute_reply": "2022-06-27T17:19:58.812670Z"
    },
    "papermill": {
     "duration": 1.171271,
     "end_time": "2022-06-27T17:19:58.816504",
     "exception": false,
     "start_time": "2022-06-27T17:19:57.645233",
     "status": "completed"
    },
    "tags": []
   },
   "outputs": [
    {
     "data": {
      "text/plain": [
       "0.6024482972648368"
      ]
     },
     "execution_count": 9,
     "metadata": {},
     "output_type": "execute_result"
    }
   ],
   "source": [
    "# 모델 적용\n",
    "ems=[('lr', LinearRegression()),\n",
    "     ('knn',KNeighborsRegressor())]\n",
    "model=StackingRegressor(estimators=ems,\n",
    "                        final_estimator=RandomForestRegressor(n_estimators=10,\n",
    "                                                               random_state=42))\n",
    "model.fit(ms_X_train, y_train)\n",
    "\n",
    "pred_x=model.predict(ms_X_train)\n",
    "model.score(ms_X_train, y_train)"
   ]
  },
  {
   "cell_type": "code",
   "execution_count": 10,
   "id": "67f5b84d",
   "metadata": {
    "execution": {
     "iopub.execute_input": "2022-06-27T17:19:58.853258Z",
     "iopub.status.busy": "2022-06-27T17:19:58.852974Z",
     "iopub.status.idle": "2022-06-27T17:19:59.122966Z",
     "shell.execute_reply": "2022-06-27T17:19:59.121967Z"
    },
    "papermill": {
     "duration": 0.291501,
     "end_time": "2022-06-27T17:19:59.125512",
     "exception": false,
     "start_time": "2022-06-27T17:19:58.834011",
     "status": "completed"
    },
    "tags": []
   },
   "outputs": [
    {
     "data": {
      "text/plain": [
       "0.5311259081832682"
      ]
     },
     "execution_count": 10,
     "metadata": {},
     "output_type": "execute_result"
    }
   ],
   "source": [
    "pred_y=model.predict(ms_X_test)\n",
    "model.score(ms_X_test, y_test)"
   ]
  },
  {
   "cell_type": "code",
   "execution_count": 11,
   "id": "439c3820",
   "metadata": {
    "execution": {
     "iopub.execute_input": "2022-06-27T17:19:59.162755Z",
     "iopub.status.busy": "2022-06-27T17:19:59.161791Z",
     "iopub.status.idle": "2022-06-27T17:19:59.173113Z",
     "shell.execute_reply": "2022-06-27T17:19:59.172172Z"
    },
    "papermill": {
     "duration": 0.032383,
     "end_time": "2022-06-27T17:19:59.175569",
     "exception": false,
     "start_time": "2022-06-27T17:19:59.143186",
     "status": "completed"
    },
    "tags": []
   },
   "outputs": [
    {
     "name": "stdout",
     "output_type": "stream",
     "text": [
      "Train RMSE : 60179 \n",
      "Test RMSE : 65462\n"
     ]
    }
   ],
   "source": [
    "# RMSE\n",
    "rmse_train=np.sqrt(mean_squared_error(y_train,pred_x))\n",
    "rmse_test=np.sqrt(mean_squared_error(y_test,pred_y))\n",
    "print('Train RMSE :', round(rmse_train),\n",
    "      '\\nTest RMSE :', round(rmse_test))"
   ]
  },
  {
   "cell_type": "markdown",
   "id": "ed847fa3",
   "metadata": {
    "papermill": {
     "duration": 0.018563,
     "end_time": "2022-06-27T17:19:59.213179",
     "exception": false,
     "start_time": "2022-06-27T17:19:59.194616",
     "status": "completed"
    },
    "tags": []
   },
   "source": [
    "- 스태킹 모델은 각 알고리즘을 수행한 후 좋은 결과를 보이는 알고리즘 및 하이퍼파라미터로 쌓아야 좋은 모델을 만들 수 있는데, 이런 과정이 없다면 현 실습과 같이 개별 알고리즘 실행결과보다 저조한 성능을 보일 수 있음\n",
    "- 스태킹 모델을 구성하는 개별 알고리즘의 최적화 및 모델의 순서는 스태킹 모델에 중요한 요소"
   ]
  }
 ],
 "metadata": {
  "kernelspec": {
   "display_name": "Python 3",
   "language": "python",
   "name": "python3"
  },
  "language_info": {
   "codemirror_mode": {
    "name": "ipython",
    "version": 3
   },
   "file_extension": ".py",
   "mimetype": "text/x-python",
   "name": "python",
   "nbconvert_exporter": "python",
   "pygments_lexer": "ipython3",
   "version": "3.7.12"
  },
  "papermill": {
   "default_parameters": {},
   "duration": 15.875868,
   "end_time": "2022-06-27T17:20:00.055984",
   "environment_variables": {},
   "exception": null,
   "input_path": "__notebook__.ipynb",
   "output_path": "__notebook__.ipynb",
   "parameters": {},
   "start_time": "2022-06-27T17:19:44.180116",
   "version": "2.3.4"
  }
 },
 "nbformat": 4,
 "nbformat_minor": 5
}
