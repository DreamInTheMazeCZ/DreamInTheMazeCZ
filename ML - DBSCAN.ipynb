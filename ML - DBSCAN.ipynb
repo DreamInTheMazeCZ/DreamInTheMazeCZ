{
 "cells": [
  {
   "cell_type": "markdown",
   "id": "6926a5be",
   "metadata": {
    "papermill": {
     "duration": 0.011246,
     "end_time": "2022-06-30T20:06:30.171908",
     "exception": false,
     "start_time": "2022-06-30T20:06:30.160662",
     "status": "completed"
    },
    "tags": []
   },
   "source": [
    "### sklearn.cluster.DBSCAN\n",
    "#### Density Based Spatial Clustering of Applications with Noise\n",
    "#### 밀도기반 클러스터링 기법으로, 케이스가 집중되어 있는 밀도에 초점을 두고, 밀도가 높은 그룹을 클러스터링하는 방식인데 중심점을 기준으로 특정 반경 이내에 케이스가 n개 이상 있을 경우 하나의 군집을 형성\n",
    "- 멀리 떨어진 데이터, 즉 이상값을 탐지하는 용도로 많이 활용\n",
    "\n",
    "#### 주요 Hyperparameter\n",
    "- eps(epsilon) : 근접 이웃접을 찾기 위해 정의내려야 하는 반경 거리\n",
    "- min_samples(minPts) : 하나의 군집을 형성하기 위해 필요한 최소 케이스 수\n",
    "\n",
    "- 데이터의 케이스 분류\n",
    "- - Core Point : 엡실론(eps) 반경 내 최소점(min_samples) 이상을 갖는 점\n",
    "- - Border Point : Core Point의 엡실론 반경 내에 존재하지만, 그 자체로는 최소점을 갖지 못하는 점\n",
    "- - Noise Point : Core/Border Point가 아닌 점\n",
    "\n",
    "##### KMeans(eps=0.5, *, min_samples=5, metric='euclidean', metric_params=None, algorithm='auto', leaf_size=30, p=None, n_jobs=None)"
   ]
  },
  {
   "cell_type": "markdown",
   "id": "5509f73a",
   "metadata": {
    "papermill": {
     "duration": 0.008983,
     "end_time": "2022-06-30T20:06:30.190008",
     "exception": false,
     "start_time": "2022-06-30T20:06:30.181025",
     "status": "completed"
    },
    "tags": []
   },
   "source": [
    "# 분석 코드"
   ]
  },
  {
   "cell_type": "code",
   "execution_count": 1,
   "id": "8f04a24a",
   "metadata": {
    "execution": {
     "iopub.execute_input": "2022-06-30T20:06:30.210083Z",
     "iopub.status.busy": "2022-06-30T20:06:30.209509Z",
     "iopub.status.idle": "2022-06-30T20:06:31.705834Z",
     "shell.execute_reply": "2022-06-30T20:06:31.704711Z"
    },
    "papermill": {
     "duration": 1.509516,
     "end_time": "2022-06-30T20:06:31.708503",
     "exception": false,
     "start_time": "2022-06-30T20:06:30.198987",
     "status": "completed"
    },
    "tags": []
   },
   "outputs": [
    {
     "data": {
      "text/html": [
       "<div>\n",
       "<style scoped>\n",
       "    .dataframe tbody tr th:only-of-type {\n",
       "        vertical-align: middle;\n",
       "    }\n",
       "\n",
       "    .dataframe tbody tr th {\n",
       "        vertical-align: top;\n",
       "    }\n",
       "\n",
       "    .dataframe thead th {\n",
       "        text-align: right;\n",
       "    }\n",
       "</style>\n",
       "<table border=\"1\" class=\"dataframe\">\n",
       "  <thead>\n",
       "    <tr style=\"text-align: right;\">\n",
       "      <th></th>\n",
       "      <th>sepal_length</th>\n",
       "      <th>sepal_width</th>\n",
       "      <th>petal_length</th>\n",
       "      <th>petal_width</th>\n",
       "      <th>class</th>\n",
       "    </tr>\n",
       "  </thead>\n",
       "  <tbody>\n",
       "    <tr>\n",
       "      <th>0</th>\n",
       "      <td>5.1</td>\n",
       "      <td>3.5</td>\n",
       "      <td>1.4</td>\n",
       "      <td>0.2</td>\n",
       "      <td>Iris-setosa</td>\n",
       "    </tr>\n",
       "    <tr>\n",
       "      <th>1</th>\n",
       "      <td>4.9</td>\n",
       "      <td>3.0</td>\n",
       "      <td>1.4</td>\n",
       "      <td>0.2</td>\n",
       "      <td>Iris-setosa</td>\n",
       "    </tr>\n",
       "    <tr>\n",
       "      <th>2</th>\n",
       "      <td>4.7</td>\n",
       "      <td>3.2</td>\n",
       "      <td>1.3</td>\n",
       "      <td>0.2</td>\n",
       "      <td>Iris-setosa</td>\n",
       "    </tr>\n",
       "    <tr>\n",
       "      <th>3</th>\n",
       "      <td>4.6</td>\n",
       "      <td>3.1</td>\n",
       "      <td>1.5</td>\n",
       "      <td>0.2</td>\n",
       "      <td>Iris-setosa</td>\n",
       "    </tr>\n",
       "    <tr>\n",
       "      <th>4</th>\n",
       "      <td>5.0</td>\n",
       "      <td>3.6</td>\n",
       "      <td>1.4</td>\n",
       "      <td>0.2</td>\n",
       "      <td>Iris-setosa</td>\n",
       "    </tr>\n",
       "  </tbody>\n",
       "</table>\n",
       "</div>"
      ],
      "text/plain": [
       "   sepal_length  sepal_width  petal_length  petal_width        class\n",
       "0           5.1          3.5           1.4          0.2  Iris-setosa\n",
       "1           4.9          3.0           1.4          0.2  Iris-setosa\n",
       "2           4.7          3.2           1.3          0.2  Iris-setosa\n",
       "3           4.6          3.1           1.5          0.2  Iris-setosa\n",
       "4           5.0          3.6           1.4          0.2  Iris-setosa"
      ]
     },
     "execution_count": 1,
     "metadata": {},
     "output_type": "execute_result"
    }
   ],
   "source": [
    "# 라이브러리 및 데이터 로드\n",
    "import warnings\n",
    "warnings.filterwarnings('ignore')\n",
    "import pandas as pd\n",
    "import numpy as np\n",
    "import matplotlib.pyplot as plt\n",
    "plt.style.use('seaborn-deep')\n",
    "import matplotlib.cm\n",
    "cmap=matplotlib.cm.get_cmap('plasma')\n",
    "from scipy.stats import randint\n",
    "from sklearn.model_selection import train_test_split, GridSearchCV, RandomizedSearchCV\n",
    "from sklearn.preprocessing import MinMaxScaler, StandardScaler\n",
    "from sklearn.cluster import DBSCAN\n",
    "from sklearn.decomposition import PCA\n",
    "\n",
    "df = pd.read_csv('../input/big-data-certification-study/iris.csv', encoding='utf-8')\n",
    "df.head()"
   ]
  },
  {
   "cell_type": "code",
   "execution_count": 2,
   "id": "c5f33b75",
   "metadata": {
    "execution": {
     "iopub.execute_input": "2022-06-30T20:06:31.729776Z",
     "iopub.status.busy": "2022-06-30T20:06:31.729488Z",
     "iopub.status.idle": "2022-06-30T20:06:31.747350Z",
     "shell.execute_reply": "2022-06-30T20:06:31.746381Z"
    },
    "papermill": {
     "duration": 0.030918,
     "end_time": "2022-06-30T20:06:31.749493",
     "exception": false,
     "start_time": "2022-06-30T20:06:31.718575",
     "status": "completed"
    },
    "tags": []
   },
   "outputs": [
    {
     "data": {
      "text/html": [
       "<div>\n",
       "<style scoped>\n",
       "    .dataframe tbody tr th:only-of-type {\n",
       "        vertical-align: middle;\n",
       "    }\n",
       "\n",
       "    .dataframe tbody tr th {\n",
       "        vertical-align: top;\n",
       "    }\n",
       "\n",
       "    .dataframe thead th {\n",
       "        text-align: right;\n",
       "    }\n",
       "</style>\n",
       "<table border=\"1\" class=\"dataframe\">\n",
       "  <thead>\n",
       "    <tr style=\"text-align: right;\">\n",
       "      <th></th>\n",
       "      <th>sepal_length</th>\n",
       "      <th>sepal_width</th>\n",
       "      <th>petal_length</th>\n",
       "      <th>petal_width</th>\n",
       "    </tr>\n",
       "  </thead>\n",
       "  <tbody>\n",
       "    <tr>\n",
       "      <th>0</th>\n",
       "      <td>5.1</td>\n",
       "      <td>3.5</td>\n",
       "      <td>1.4</td>\n",
       "      <td>0.2</td>\n",
       "    </tr>\n",
       "    <tr>\n",
       "      <th>1</th>\n",
       "      <td>4.9</td>\n",
       "      <td>3.0</td>\n",
       "      <td>1.4</td>\n",
       "      <td>0.2</td>\n",
       "    </tr>\n",
       "    <tr>\n",
       "      <th>2</th>\n",
       "      <td>4.7</td>\n",
       "      <td>3.2</td>\n",
       "      <td>1.3</td>\n",
       "      <td>0.2</td>\n",
       "    </tr>\n",
       "    <tr>\n",
       "      <th>3</th>\n",
       "      <td>4.6</td>\n",
       "      <td>3.1</td>\n",
       "      <td>1.5</td>\n",
       "      <td>0.2</td>\n",
       "    </tr>\n",
       "    <tr>\n",
       "      <th>4</th>\n",
       "      <td>5.0</td>\n",
       "      <td>3.6</td>\n",
       "      <td>1.4</td>\n",
       "      <td>0.2</td>\n",
       "    </tr>\n",
       "  </tbody>\n",
       "</table>\n",
       "</div>"
      ],
      "text/plain": [
       "   sepal_length  sepal_width  petal_length  petal_width\n",
       "0           5.1          3.5           1.4          0.2\n",
       "1           4.9          3.0           1.4          0.2\n",
       "2           4.7          3.2           1.3          0.2\n",
       "3           4.6          3.1           1.5          0.2\n",
       "4           5.0          3.6           1.4          0.2"
      ]
     },
     "execution_count": 2,
     "metadata": {},
     "output_type": "execute_result"
    }
   ],
   "source": [
    "x=df[df.columns[0:4]]\n",
    "x.head()"
   ]
  },
  {
   "cell_type": "code",
   "execution_count": 3,
   "id": "4097f887",
   "metadata": {
    "execution": {
     "iopub.execute_input": "2022-06-30T20:06:31.772274Z",
     "iopub.status.busy": "2022-06-30T20:06:31.771711Z",
     "iopub.status.idle": "2022-06-30T20:06:31.779773Z",
     "shell.execute_reply": "2022-06-30T20:06:31.778794Z"
    },
    "papermill": {
     "duration": 0.021925,
     "end_time": "2022-06-30T20:06:31.782261",
     "exception": false,
     "start_time": "2022-06-30T20:06:31.760336",
     "status": "completed"
    },
    "tags": []
   },
   "outputs": [
    {
     "data": {
      "text/plain": [
       "DBSCAN()"
      ]
     },
     "execution_count": 3,
     "metadata": {},
     "output_type": "execute_result"
    }
   ],
   "source": [
    "# 모델 적용\n",
    "dbs=DBSCAN(eps=0.5, metric='euclidean',\n",
    "           min_samples=5)\n",
    "dbs"
   ]
  },
  {
   "cell_type": "code",
   "execution_count": 4,
   "id": "8f69ac54",
   "metadata": {
    "execution": {
     "iopub.execute_input": "2022-06-30T20:06:31.805637Z",
     "iopub.status.busy": "2022-06-30T20:06:31.805102Z",
     "iopub.status.idle": "2022-06-30T20:06:31.814571Z",
     "shell.execute_reply": "2022-06-30T20:06:31.813791Z"
    },
    "papermill": {
     "duration": 0.023429,
     "end_time": "2022-06-30T20:06:31.816347",
     "exception": false,
     "start_time": "2022-06-30T20:06:31.792918",
     "status": "completed"
    },
    "tags": []
   },
   "outputs": [
    {
     "data": {
      "text/plain": [
       "array([ 0,  0,  0,  0,  0,  0,  0,  0,  0,  0,  0,  0,  0,  0,  0,  0,  0,\n",
       "        0,  0,  0,  0,  0,  0,  0,  0,  0,  0,  0,  0,  0,  0,  0,  0,  0,\n",
       "        0,  0,  0,  0,  0,  0,  0, -1,  0,  0,  0,  0,  0,  0,  0,  0,  1,\n",
       "        1,  1,  1,  1,  1,  1, -1,  1,  1, -1,  1,  1,  1,  1,  1,  1,  1,\n",
       "       -1,  1,  1,  1,  1,  1,  1,  1,  1,  1,  1,  1,  1,  1,  1,  1,  1,\n",
       "        1,  1, -1,  1,  1,  1,  1,  1, -1,  1,  1,  1,  1, -1,  1,  1,  1,\n",
       "        1,  1,  1, -1, -1,  1, -1, -1,  1,  1,  1,  1,  1,  1,  1, -1, -1,\n",
       "        1,  1,  1, -1,  1,  1,  1,  1,  1,  1,  1,  1, -1,  1,  1, -1, -1,\n",
       "        1,  1,  1,  1,  1,  1,  1,  1,  1,  1,  1,  1,  1,  1])"
      ]
     },
     "execution_count": 4,
     "metadata": {},
     "output_type": "execute_result"
    }
   ],
   "source": [
    "# 학습\n",
    "dbs.fit(x)\n",
    "dbs.labels_\n",
    "\n",
    "# DBSCAN 설정 기준에 따라 2개의 군집 (0, 1)으로 분류\n",
    "# -1은 이상값으로, eps와 min_samples에 따라 조절 가능\n",
    "# labels_로 -1 값을 확인하며 Hyperparameter 조정"
   ]
  },
  {
   "cell_type": "code",
   "execution_count": 5,
   "id": "dda59525",
   "metadata": {
    "execution": {
     "iopub.execute_input": "2022-06-30T20:06:31.838697Z",
     "iopub.status.busy": "2022-06-30T20:06:31.838191Z",
     "iopub.status.idle": "2022-06-30T20:06:31.849723Z",
     "shell.execute_reply": "2022-06-30T20:06:31.848875Z"
    },
    "papermill": {
     "duration": 0.024898,
     "end_time": "2022-06-30T20:06:31.851621",
     "exception": false,
     "start_time": "2022-06-30T20:06:31.826723",
     "status": "completed"
    },
    "tags": []
   },
   "outputs": [
    {
     "data": {
      "text/html": [
       "<div>\n",
       "<style scoped>\n",
       "    .dataframe tbody tr th:only-of-type {\n",
       "        vertical-align: middle;\n",
       "    }\n",
       "\n",
       "    .dataframe tbody tr th {\n",
       "        vertical-align: top;\n",
       "    }\n",
       "\n",
       "    .dataframe thead th {\n",
       "        text-align: right;\n",
       "    }\n",
       "</style>\n",
       "<table border=\"1\" class=\"dataframe\">\n",
       "  <thead>\n",
       "    <tr style=\"text-align: right;\">\n",
       "      <th></th>\n",
       "      <th>predict</th>\n",
       "    </tr>\n",
       "  </thead>\n",
       "  <tbody>\n",
       "    <tr>\n",
       "      <th>0</th>\n",
       "      <td>0</td>\n",
       "    </tr>\n",
       "    <tr>\n",
       "      <th>1</th>\n",
       "      <td>0</td>\n",
       "    </tr>\n",
       "    <tr>\n",
       "      <th>2</th>\n",
       "      <td>0</td>\n",
       "    </tr>\n",
       "    <tr>\n",
       "      <th>3</th>\n",
       "      <td>0</td>\n",
       "    </tr>\n",
       "    <tr>\n",
       "      <th>4</th>\n",
       "      <td>0</td>\n",
       "    </tr>\n",
       "  </tbody>\n",
       "</table>\n",
       "</div>"
      ],
      "text/plain": [
       "   predict\n",
       "0        0\n",
       "1        0\n",
       "2        0\n",
       "3        0\n",
       "4        0"
      ]
     },
     "execution_count": 5,
     "metadata": {},
     "output_type": "execute_result"
    }
   ],
   "source": [
    "# 예측\n",
    "pred=dbs.fit_predict(x)\n",
    "pred=pd.DataFrame(pred)\n",
    "pred.columns=['predict']\n",
    "pred.head()"
   ]
  },
  {
   "cell_type": "code",
   "execution_count": 6,
   "id": "6626d66d",
   "metadata": {
    "execution": {
     "iopub.execute_input": "2022-06-30T20:06:31.874694Z",
     "iopub.status.busy": "2022-06-30T20:06:31.874194Z",
     "iopub.status.idle": "2022-06-30T20:06:31.889604Z",
     "shell.execute_reply": "2022-06-30T20:06:31.888615Z"
    },
    "papermill": {
     "duration": 0.029865,
     "end_time": "2022-06-30T20:06:31.892166",
     "exception": false,
     "start_time": "2022-06-30T20:06:31.862301",
     "status": "completed"
    },
    "tags": []
   },
   "outputs": [
    {
     "data": {
      "text/html": [
       "<div>\n",
       "<style scoped>\n",
       "    .dataframe tbody tr th:only-of-type {\n",
       "        vertical-align: middle;\n",
       "    }\n",
       "\n",
       "    .dataframe tbody tr th {\n",
       "        vertical-align: top;\n",
       "    }\n",
       "\n",
       "    .dataframe thead th {\n",
       "        text-align: right;\n",
       "    }\n",
       "</style>\n",
       "<table border=\"1\" class=\"dataframe\">\n",
       "  <thead>\n",
       "    <tr style=\"text-align: right;\">\n",
       "      <th></th>\n",
       "      <th>sepal_length</th>\n",
       "      <th>sepal_width</th>\n",
       "      <th>petal_length</th>\n",
       "      <th>petal_width</th>\n",
       "      <th>class</th>\n",
       "      <th>predict</th>\n",
       "    </tr>\n",
       "  </thead>\n",
       "  <tbody>\n",
       "    <tr>\n",
       "      <th>0</th>\n",
       "      <td>5.1</td>\n",
       "      <td>3.5</td>\n",
       "      <td>1.4</td>\n",
       "      <td>0.2</td>\n",
       "      <td>Iris-setosa</td>\n",
       "      <td>0</td>\n",
       "    </tr>\n",
       "    <tr>\n",
       "      <th>1</th>\n",
       "      <td>4.9</td>\n",
       "      <td>3.0</td>\n",
       "      <td>1.4</td>\n",
       "      <td>0.2</td>\n",
       "      <td>Iris-setosa</td>\n",
       "      <td>0</td>\n",
       "    </tr>\n",
       "    <tr>\n",
       "      <th>2</th>\n",
       "      <td>4.7</td>\n",
       "      <td>3.2</td>\n",
       "      <td>1.3</td>\n",
       "      <td>0.2</td>\n",
       "      <td>Iris-setosa</td>\n",
       "      <td>0</td>\n",
       "    </tr>\n",
       "    <tr>\n",
       "      <th>3</th>\n",
       "      <td>4.6</td>\n",
       "      <td>3.1</td>\n",
       "      <td>1.5</td>\n",
       "      <td>0.2</td>\n",
       "      <td>Iris-setosa</td>\n",
       "      <td>0</td>\n",
       "    </tr>\n",
       "    <tr>\n",
       "      <th>4</th>\n",
       "      <td>5.0</td>\n",
       "      <td>3.6</td>\n",
       "      <td>1.4</td>\n",
       "      <td>0.2</td>\n",
       "      <td>Iris-setosa</td>\n",
       "      <td>0</td>\n",
       "    </tr>\n",
       "  </tbody>\n",
       "</table>\n",
       "</div>"
      ],
      "text/plain": [
       "   sepal_length  sepal_width  petal_length  petal_width        class  predict\n",
       "0           5.1          3.5           1.4          0.2  Iris-setosa        0\n",
       "1           4.9          3.0           1.4          0.2  Iris-setosa        0\n",
       "2           4.7          3.2           1.3          0.2  Iris-setosa        0\n",
       "3           4.6          3.1           1.5          0.2  Iris-setosa        0\n",
       "4           5.0          3.6           1.4          0.2  Iris-setosa        0"
      ]
     },
     "execution_count": 6,
     "metadata": {},
     "output_type": "execute_result"
    }
   ],
   "source": [
    "# 원데이터와 예측데이터 병합\n",
    "data=pd.concat([df, pred],axis=1)\n",
    "data.head()"
   ]
  },
  {
   "cell_type": "code",
   "execution_count": 7,
   "id": "7a48add8",
   "metadata": {
    "execution": {
     "iopub.execute_input": "2022-06-30T20:06:31.919639Z",
     "iopub.status.busy": "2022-06-30T20:06:31.919134Z",
     "iopub.status.idle": "2022-06-30T20:06:31.951378Z",
     "shell.execute_reply": "2022-06-30T20:06:31.950401Z"
    },
    "papermill": {
     "duration": 0.048007,
     "end_time": "2022-06-30T20:06:31.953596",
     "exception": false,
     "start_time": "2022-06-30T20:06:31.905589",
     "status": "completed"
    },
    "tags": []
   },
   "outputs": [
    {
     "data": {
      "text/html": [
       "<div>\n",
       "<style scoped>\n",
       "    .dataframe tbody tr th:only-of-type {\n",
       "        vertical-align: middle;\n",
       "    }\n",
       "\n",
       "    .dataframe tbody tr th {\n",
       "        vertical-align: top;\n",
       "    }\n",
       "\n",
       "    .dataframe thead th {\n",
       "        text-align: right;\n",
       "    }\n",
       "</style>\n",
       "<table border=\"1\" class=\"dataframe\">\n",
       "  <thead>\n",
       "    <tr style=\"text-align: right;\">\n",
       "      <th>predict</th>\n",
       "      <th>-1</th>\n",
       "      <th>0</th>\n",
       "      <th>1</th>\n",
       "    </tr>\n",
       "    <tr>\n",
       "      <th>class</th>\n",
       "      <th></th>\n",
       "      <th></th>\n",
       "      <th></th>\n",
       "    </tr>\n",
       "  </thead>\n",
       "  <tbody>\n",
       "    <tr>\n",
       "      <th>Iris-setosa</th>\n",
       "      <td>1</td>\n",
       "      <td>49</td>\n",
       "      <td>0</td>\n",
       "    </tr>\n",
       "    <tr>\n",
       "      <th>Iris-versicolor</th>\n",
       "      <td>6</td>\n",
       "      <td>0</td>\n",
       "      <td>44</td>\n",
       "    </tr>\n",
       "    <tr>\n",
       "      <th>Iris-virginica</th>\n",
       "      <td>10</td>\n",
       "      <td>0</td>\n",
       "      <td>40</td>\n",
       "    </tr>\n",
       "  </tbody>\n",
       "</table>\n",
       "</div>"
      ],
      "text/plain": [
       "predict          -1   0   1\n",
       "class                      \n",
       "Iris-setosa       1  49   0\n",
       "Iris-versicolor   6   0  44\n",
       "Iris-virginica   10   0  40"
      ]
     },
     "execution_count": 7,
     "metadata": {},
     "output_type": "execute_result"
    }
   ],
   "source": [
    "# class(꽃 종류)와 predict 간 교차표 확인\n",
    "ct=pd.crosstab(data['class'],data['predict'])\n",
    "ct\n",
    "# 데이터 정규화 필요"
   ]
  },
  {
   "cell_type": "code",
   "execution_count": 8,
   "id": "b79eca20",
   "metadata": {
    "execution": {
     "iopub.execute_input": "2022-06-30T20:06:31.979648Z",
     "iopub.status.busy": "2022-06-30T20:06:31.979356Z",
     "iopub.status.idle": "2022-06-30T20:06:32.002338Z",
     "shell.execute_reply": "2022-06-30T20:06:32.001448Z"
    },
    "papermill": {
     "duration": 0.038874,
     "end_time": "2022-06-30T20:06:32.004448",
     "exception": false,
     "start_time": "2022-06-30T20:06:31.965574",
     "status": "completed"
    },
    "tags": []
   },
   "outputs": [],
   "source": [
    "# 시각화 - 군집화 경향 및 이상값\n",
    "# iris 데이터는 class를 제외하고 4차원 데이터이므로\n",
    "# PCA(주성분분석)을 통한 차원 축소 필요(2차원)\n",
    "pca_2d=PCA(n_components=2).fit_transform(x) # n_components : n 차원으로 축소"
   ]
  },
  {
   "cell_type": "code",
   "execution_count": 9,
   "id": "8a5aa6c3",
   "metadata": {
    "execution": {
     "iopub.execute_input": "2022-06-30T20:06:32.030391Z",
     "iopub.status.busy": "2022-06-30T20:06:32.029856Z",
     "iopub.status.idle": "2022-06-30T20:06:33.142644Z",
     "shell.execute_reply": "2022-06-30T20:06:33.141812Z"
    },
    "papermill": {
     "duration": 1.128394,
     "end_time": "2022-06-30T20:06:33.145002",
     "exception": false,
     "start_time": "2022-06-30T20:06:32.016608",
     "status": "completed"
    },
    "tags": []
   },
   "outputs": [
    {
     "data": {
      "image/png": "[encoded data removed]",
      "text/plain": [
       "<Figure size 432x288 with 1 Axes>"
      ]
     },
     "metadata": {
      "needs_background": "light"
     },
     "output_type": "display_data"
    }
   ],
   "source": [
    "# 군집 0 : 빨간색 +\n",
    "# 군집 1 : 녹색 O\n",
    "# 이상값 -1 : 파란색 *\n",
    "for i in range(pca_2d.shape[0]):\n",
    "    if dbs.labels_[i]==0:\n",
    "        c1=plt.scatter(pca_2d[i,0],pca_2d[i,1],c='r',marker='+')\n",
    "    elif dbs.labels_[i]==1:\n",
    "        c2=plt.scatter(pca_2d[i,0],pca_2d[i,1],c='g',marker='o')\n",
    "    elif dbs.labels_[i]== -1:\n",
    "        c3=plt.scatter(pca_2d[i,0],pca_2d[i,1],c='b',marker='*')\n",
    "\n",
    "plt.legend([c1,c2,c3],['Cluster 0','Cluster 1','Noise'])\n",
    "plt.title('DBSCAN Finds 2 Clusters and Noise')\n",
    "plt.show();"
   ]
  }
 ],
 "metadata": {
  "kernelspec": {
   "display_name": "Python 3",
   "language": "python",
   "name": "python3"
  },
  "language_info": {
   "codemirror_mode": {
    "name": "ipython",
    "version": 3
   },
   "file_extension": ".py",
   "mimetype": "text/x-python",
   "name": "python",
   "nbconvert_exporter": "python",
   "pygments_lexer": "ipython3",
   "version": "3.7.12"
  },
  "papermill": {
   "default_parameters": {},
   "duration": 12.869658,
   "end_time": "2022-06-30T20:06:33.880104",
   "environment_variables": {},
   "exception": null,
   "input_path": "__notebook__.ipynb",
   "output_path": "__notebook__.ipynb",
   "parameters": {},
   "start_time": "2022-06-30T20:06:21.010446",
   "version": "2.3.4"
  }
 },
 "nbformat": 4,
 "nbformat_minor": 5
}
