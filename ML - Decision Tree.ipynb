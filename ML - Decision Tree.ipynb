{
 "cells": [
  {
   "cell_type": "markdown",
   "id": "548fd95a",
   "metadata": {
    "papermill": {
     "duration": 0.019894,
     "end_time": "2022-07-01T14:38:34.356733",
     "exception": false,
     "start_time": "2022-07-01T14:38:34.336839",
     "status": "completed"
    },
    "tags": []
   },
   "source": [
    "### sklearn.tree.DecisionTreeClassifier\n",
    "### sklearn.tree.DecisionTreeRegressor\n",
    "- Root Node : 뿌리 마디로, 시작 노드, 레이블(y)\n",
    "- Intermediate Node : 중간 마디로, 분류되는 과정\n",
    "- Terminal Node : 끝 마디로, 최종적으로 분류되는 마지막 기준\n",
    "\n",
    "#### 주요 Hyperparameter\n",
    "- max_depth : 최대 가지치기 수\n",
    "- max_leaf_node : 리프 노드의 최대 개수\n",
    "- min_sample_leaf : 리프 노드가 되기 위한 최소 샘플수\n",
    "- 현실적으로 min_sample_leaf만을 가늠할 수 있고, 다른 HP는 결정하기 어려움\n",
    "\n",
    "##### DecisionTreeClassifier(*, criterion='gini', splitter='best', max_depth=None, min_samples_split=2, min_samples_leaf=1, min_weight_fraction_leaf=0.0, max_features=None, random_state=None, max_leaf_nodes=None, min_impurity_decrease=0.0, min_impurity_split=None, class_weight=None, ccp_alpha=0.0)\n",
    "##### DecisionTreeRegressor(*, criterion='mse', splitter='best', max_depth=None, min_samples_split=2, min_samples_leaf=1, min_weight_fraction_leaf=0.0, max_features=None, random_state=None, max_leaf_nodes=None, min_impurity_decrease=0.0, min_impurity_split=None, ccp_alpha=0.0)"
   ]
  },
  {
   "cell_type": "markdown",
   "id": "99ec2e85",
   "metadata": {
    "papermill": {
     "duration": 0.018422,
     "end_time": "2022-07-01T14:38:34.394429",
     "exception": false,
     "start_time": "2022-07-01T14:38:34.376007",
     "status": "completed"
    },
    "tags": []
   },
   "source": [
    "# 분석 코드 - Classification"
   ]
  },
  {
   "cell_type": "code",
   "execution_count": 1,
   "id": "d102cbba",
   "metadata": {
    "execution": {
     "iopub.execute_input": "2022-07-01T14:38:34.434536Z",
     "iopub.status.busy": "2022-07-01T14:38:34.433975Z",
     "iopub.status.idle": "2022-07-01T14:38:35.683445Z",
     "shell.execute_reply": "2022-07-01T14:38:35.682940Z"
    },
    "papermill": {
     "duration": 1.271494,
     "end_time": "2022-07-01T14:38:35.685051",
     "exception": false,
     "start_time": "2022-07-01T14:38:34.413557",
     "status": "completed"
    },
    "tags": []
   },
   "outputs": [
    {
     "data": {
      "text/html": [
       "<div>\n",
       "<style scoped>\n",
       "    .dataframe tbody tr th:only-of-type {\n",
       "        vertical-align: middle;\n",
       "    }\n",
       "\n",
       "    .dataframe tbody tr th {\n",
       "        vertical-align: top;\n",
       "    }\n",
       "\n",
       "    .dataframe thead th {\n",
       "        text-align: right;\n",
       "    }\n",
       "</style>\n",
       "<table border=\"1\" class=\"dataframe\">\n",
       "  <thead>\n",
       "    <tr style=\"text-align: right;\">\n",
       "      <th></th>\n",
       "      <th>code</th>\n",
       "      <th>Clump_Thickness</th>\n",
       "      <th>Cell_Size</th>\n",
       "      <th>Cell_Shape</th>\n",
       "      <th>Marginal_Adhesion</th>\n",
       "      <th>Single_Epithelial_Cell_Size</th>\n",
       "      <th>Bare_Nuclei</th>\n",
       "      <th>Bland_Chromatin</th>\n",
       "      <th>Normal_Nucleoli</th>\n",
       "      <th>Mitoses</th>\n",
       "      <th>Class</th>\n",
       "    </tr>\n",
       "  </thead>\n",
       "  <tbody>\n",
       "    <tr>\n",
       "      <th>0</th>\n",
       "      <td>1000025</td>\n",
       "      <td>5</td>\n",
       "      <td>1</td>\n",
       "      <td>1</td>\n",
       "      <td>1</td>\n",
       "      <td>2</td>\n",
       "      <td>1</td>\n",
       "      <td>3</td>\n",
       "      <td>1</td>\n",
       "      <td>1</td>\n",
       "      <td>0</td>\n",
       "    </tr>\n",
       "    <tr>\n",
       "      <th>1</th>\n",
       "      <td>1002945</td>\n",
       "      <td>5</td>\n",
       "      <td>4</td>\n",
       "      <td>4</td>\n",
       "      <td>5</td>\n",
       "      <td>7</td>\n",
       "      <td>10</td>\n",
       "      <td>3</td>\n",
       "      <td>2</td>\n",
       "      <td>1</td>\n",
       "      <td>0</td>\n",
       "    </tr>\n",
       "    <tr>\n",
       "      <th>2</th>\n",
       "      <td>1015425</td>\n",
       "      <td>3</td>\n",
       "      <td>1</td>\n",
       "      <td>1</td>\n",
       "      <td>1</td>\n",
       "      <td>2</td>\n",
       "      <td>2</td>\n",
       "      <td>3</td>\n",
       "      <td>1</td>\n",
       "      <td>1</td>\n",
       "      <td>0</td>\n",
       "    </tr>\n",
       "    <tr>\n",
       "      <th>3</th>\n",
       "      <td>1016277</td>\n",
       "      <td>6</td>\n",
       "      <td>8</td>\n",
       "      <td>8</td>\n",
       "      <td>1</td>\n",
       "      <td>3</td>\n",
       "      <td>4</td>\n",
       "      <td>3</td>\n",
       "      <td>7</td>\n",
       "      <td>1</td>\n",
       "      <td>0</td>\n",
       "    </tr>\n",
       "    <tr>\n",
       "      <th>4</th>\n",
       "      <td>1017023</td>\n",
       "      <td>4</td>\n",
       "      <td>1</td>\n",
       "      <td>1</td>\n",
       "      <td>3</td>\n",
       "      <td>2</td>\n",
       "      <td>1</td>\n",
       "      <td>3</td>\n",
       "      <td>1</td>\n",
       "      <td>1</td>\n",
       "      <td>0</td>\n",
       "    </tr>\n",
       "  </tbody>\n",
       "</table>\n",
       "</div>"
      ],
      "text/plain": [
       "      code  Clump_Thickness  Cell_Size  Cell_Shape  Marginal_Adhesion  \\\n",
       "0  1000025                5          1           1                  1   \n",
       "1  1002945                5          4           4                  5   \n",
       "2  1015425                3          1           1                  1   \n",
       "3  1016277                6          8           8                  1   \n",
       "4  1017023                4          1           1                  3   \n",
       "\n",
       "   Single_Epithelial_Cell_Size  Bare_Nuclei  Bland_Chromatin  Normal_Nucleoli  \\\n",
       "0                            2            1                3                1   \n",
       "1                            7           10                3                2   \n",
       "2                            2            2                3                1   \n",
       "3                            3            4                3                7   \n",
       "4                            2            1                3                1   \n",
       "\n",
       "   Mitoses  Class  \n",
       "0        1      0  \n",
       "1        1      0  \n",
       "2        1      0  \n",
       "3        1      0  \n",
       "4        1      0  "
      ]
     },
     "execution_count": 1,
     "metadata": {},
     "output_type": "execute_result"
    }
   ],
   "source": [
    "# 라이브러리 및 데이터 로드\n",
    "import warnings\n",
    "warnings.filterwarnings('ignore')\n",
    "import pandas as pd\n",
    "import numpy as np\n",
    "import matplotlib.pyplot as plt\n",
    "from scipy.stats import randint\n",
    "from sklearn.model_selection import train_test_split, GridSearchCV, RandomizedSearchCV\n",
    "from sklearn.preprocessing import MinMaxScaler, StandardScaler\n",
    "from sklearn.tree import DecisionTreeClassifier, DecisionTreeRegressor\n",
    "from sklearn.metrics import classification_report, confusion_matrix, mean_squared_error\n",
    "\n",
    "df = pd.read_csv('../input/big-data-certification-study/breast-cancer-wisconsin.csv', encoding='utf-8')\n",
    "df.head()"
   ]
  },
  {
   "cell_type": "code",
   "execution_count": 2,
   "id": "9a18bbb9",
   "metadata": {
    "execution": {
     "iopub.execute_input": "2022-07-01T14:38:35.725795Z",
     "iopub.status.busy": "2022-07-01T14:38:35.725081Z",
     "iopub.status.idle": "2022-07-01T14:38:35.746463Z",
     "shell.execute_reply": "2022-07-01T14:38:35.745439Z"
    },
    "papermill": {
     "duration": 0.043753,
     "end_time": "2022-07-01T14:38:35.748410",
     "exception": false,
     "start_time": "2022-07-01T14:38:35.704657",
     "status": "completed"
    },
    "tags": []
   },
   "outputs": [],
   "source": [
    "# 데이터 분리\n",
    "X=df.drop(columns=['code','Class'])\n",
    "y=df[['Class']]\n",
    "X_train,X_test,y_train,y_test=train_test_split(X,y,stratify=y,random_state=42)"
   ]
  },
  {
   "cell_type": "code",
   "execution_count": 3,
   "id": "0f5fab4c",
   "metadata": {
    "execution": {
     "iopub.execute_input": "2022-07-01T14:38:35.790017Z",
     "iopub.status.busy": "2022-07-01T14:38:35.789531Z",
     "iopub.status.idle": "2022-07-01T14:38:35.799422Z",
     "shell.execute_reply": "2022-07-01T14:38:35.798828Z"
    },
    "papermill": {
     "duration": 0.033516,
     "end_time": "2022-07-01T14:38:35.801333",
     "exception": false,
     "start_time": "2022-07-01T14:38:35.767817",
     "status": "completed"
    },
    "tags": []
   },
   "outputs": [],
   "source": [
    "# 정규화\n",
    "scaler=MinMaxScaler()\n",
    "scaler.fit(X_train)\n",
    "mm_X_train=scaler.transform(X_train)\n",
    "mm_X_test=scaler.transform(X_test)"
   ]
  },
  {
   "cell_type": "code",
   "execution_count": 4,
   "id": "c5ba809c",
   "metadata": {
    "execution": {
     "iopub.execute_input": "2022-07-01T14:38:35.863048Z",
     "iopub.status.busy": "2022-07-01T14:38:35.862566Z",
     "iopub.status.idle": "2022-07-01T14:38:35.874465Z",
     "shell.execute_reply": "2022-07-01T14:38:35.873818Z"
    },
    "papermill": {
     "duration": 0.044618,
     "end_time": "2022-07-01T14:38:35.876208",
     "exception": false,
     "start_time": "2022-07-01T14:38:35.831590",
     "status": "completed"
    },
    "tags": []
   },
   "outputs": [
    {
     "data": {
      "text/plain": [
       "1.0"
      ]
     },
     "execution_count": 4,
     "metadata": {},
     "output_type": "execute_result"
    }
   ],
   "source": [
    "# 모델 적용\n",
    "model=DecisionTreeClassifier()\n",
    "model.fit(mm_X_train, y_train)\n",
    "pred_train=model.predict(mm_X_train)\n",
    "model.score(mm_X_train,y_train)\n",
    "\n",
    "# 과대적합"
   ]
  },
  {
   "cell_type": "code",
   "execution_count": 5,
   "id": "51bf2079",
   "metadata": {
    "execution": {
     "iopub.execute_input": "2022-07-01T14:38:35.937329Z",
     "iopub.status.busy": "2022-07-01T14:38:35.936693Z",
     "iopub.status.idle": "2022-07-01T14:38:35.951628Z",
     "shell.execute_reply": "2022-07-01T14:38:35.950081Z"
    },
    "papermill": {
     "duration": 0.048203,
     "end_time": "2022-07-01T14:38:35.953922",
     "exception": false,
     "start_time": "2022-07-01T14:38:35.905719",
     "status": "completed"
    },
    "tags": []
   },
   "outputs": [
    {
     "name": "stdout",
     "output_type": "stream",
     "text": [
      "혼동행렬 :\n",
      " [[333   0]\n",
      " [  0 179]] \n",
      "\n",
      "\n",
      "분류예측 보고서 :\n",
      "               precision    recall  f1-score   support\n",
      "\n",
      "           0       1.00      1.00      1.00       333\n",
      "           1       1.00      1.00      1.00       179\n",
      "\n",
      "    accuracy                           1.00       512\n",
      "   macro avg       1.00      1.00      1.00       512\n",
      "weighted avg       1.00      1.00      1.00       512\n",
      "\n"
     ]
    }
   ],
   "source": [
    "# 혼동행렬, 분류예측 보고서\n",
    "cm_train=confusion_matrix(y_train,pred_train)\n",
    "cfr_train=classification_report(y_train,pred_train)\n",
    "print('혼동행렬 :\\n',cm_train,\n",
    "      '\\n\\n\\n분류예측 보고서 :\\n',cfr_train)"
   ]
  },
  {
   "cell_type": "code",
   "execution_count": 6,
   "id": "3cb7220d",
   "metadata": {
    "execution": {
     "iopub.execute_input": "2022-07-01T14:38:36.018733Z",
     "iopub.status.busy": "2022-07-01T14:38:36.017856Z",
     "iopub.status.idle": "2022-07-01T14:38:36.024734Z",
     "shell.execute_reply": "2022-07-01T14:38:36.023883Z"
    },
    "papermill": {
     "duration": 0.041897,
     "end_time": "2022-07-01T14:38:36.026583",
     "exception": false,
     "start_time": "2022-07-01T14:38:35.984686",
     "status": "completed"
    },
    "tags": []
   },
   "outputs": [
    {
     "data": {
      "text/plain": [
       "0.9473684210526315"
      ]
     },
     "execution_count": 6,
     "metadata": {},
     "output_type": "execute_result"
    }
   ],
   "source": [
    "# 모델 적용\n",
    "pred_test=model.predict(mm_X_test)\n",
    "model.score(mm_X_test, y_test)"
   ]
  },
  {
   "cell_type": "code",
   "execution_count": 7,
   "id": "697dea38",
   "metadata": {
    "execution": {
     "iopub.execute_input": "2022-07-01T14:38:36.089780Z",
     "iopub.status.busy": "2022-07-01T14:38:36.089539Z",
     "iopub.status.idle": "2022-07-01T14:38:36.098412Z",
     "shell.execute_reply": "2022-07-01T14:38:36.098029Z"
    },
    "papermill": {
     "duration": 0.04312,
     "end_time": "2022-07-01T14:38:36.100567",
     "exception": false,
     "start_time": "2022-07-01T14:38:36.057447",
     "status": "completed"
    },
    "tags": []
   },
   "outputs": [
    {
     "name": "stdout",
     "output_type": "stream",
     "text": [
      "혼동행렬 :\n",
      " [[105   6]\n",
      " [  3  57]] \n",
      "\n",
      "\n",
      "분류예측 보고서 :\n",
      "               precision    recall  f1-score   support\n",
      "\n",
      "           0       0.97      0.95      0.96       111\n",
      "           1       0.90      0.95      0.93        60\n",
      "\n",
      "    accuracy                           0.95       171\n",
      "   macro avg       0.94      0.95      0.94       171\n",
      "weighted avg       0.95      0.95      0.95       171\n",
      "\n"
     ]
    }
   ],
   "source": [
    "# 혼동행렬, 분류예측 보고서\n",
    "cm_test=confusion_matrix(y_test,pred_test)\n",
    "cfr_test=classification_report(y_test,pred_test)\n",
    "print('혼동행렬 :\\n',cm_test,'\\n\\n\\n분류예측 보고서 :\\n',cfr_test)"
   ]
  },
  {
   "cell_type": "code",
   "execution_count": 8,
   "id": "0fd32572",
   "metadata": {
    "execution": {
     "iopub.execute_input": "2022-07-01T14:38:36.166654Z",
     "iopub.status.busy": "2022-07-01T14:38:36.166255Z",
     "iopub.status.idle": "2022-07-01T14:38:39.016249Z",
     "shell.execute_reply": "2022-07-01T14:38:39.015509Z"
    },
    "papermill": {
     "duration": 2.884975,
     "end_time": "2022-07-01T14:38:39.018049",
     "exception": false,
     "start_time": "2022-07-01T14:38:36.133074",
     "status": "completed"
    },
    "tags": []
   },
   "outputs": [
    {
     "data": {
      "text/plain": [
       "GridSearchCV(cv=5, estimator=DecisionTreeClassifier(),\n",
       "             param_grid={'max_depth': range(2, 20, 2),\n",
       "                         'min_samples_leaf': range(1, 50, 2)},\n",
       "             return_train_score=True)"
      ]
     },
     "execution_count": 8,
     "metadata": {},
     "output_type": "execute_result"
    }
   ],
   "source": [
    "# Hyperparameter Tuning\n",
    "# Grid Search\n",
    "param_g = {'max_depth':range(2, 20, 2), 'min_samples_leaf':range(1,50,2)}\n",
    "grid= GridSearchCV(DecisionTreeClassifier(), param_g, cv=5, return_train_score=True)\n",
    "grid.fit(mm_X_train, y_train)"
   ]
  },
  {
   "cell_type": "code",
   "execution_count": 9,
   "id": "ad025dca",
   "metadata": {
    "execution": {
     "iopub.execute_input": "2022-07-01T14:38:39.084601Z",
     "iopub.status.busy": "2022-07-01T14:38:39.084341Z",
     "iopub.status.idle": "2022-07-01T14:38:39.091462Z",
     "shell.execute_reply": "2022-07-01T14:38:39.090812Z"
    },
    "papermill": {
     "duration": 0.042935,
     "end_time": "2022-07-01T14:38:39.093411",
     "exception": false,
     "start_time": "2022-07-01T14:38:39.050476",
     "status": "completed"
    },
    "tags": []
   },
   "outputs": [
    {
     "name": "stdout",
     "output_type": "stream",
     "text": [
      "Best Parameter : {'max_depth': 8, 'min_samples_leaf': 1}\n",
      "Best Score : 0.9628\n",
      "Test Score : 0.9649\n"
     ]
    }
   ],
   "source": [
    "print('Best Parameter :', grid.best_params_)\n",
    "print('Best Score :',round(grid.best_score_,4))\n",
    "print('Test Score :',round(grid.score(mm_X_test, y_test),4))"
   ]
  },
  {
   "cell_type": "code",
   "execution_count": 10,
   "id": "be031d1b",
   "metadata": {
    "execution": {
     "iopub.execute_input": "2022-07-01T14:38:39.162764Z",
     "iopub.status.busy": "2022-07-01T14:38:39.162367Z",
     "iopub.status.idle": "2022-07-01T14:38:39.429076Z",
     "shell.execute_reply": "2022-07-01T14:38:39.428453Z"
    },
    "papermill": {
     "duration": 0.304005,
     "end_time": "2022-07-01T14:38:39.430933",
     "exception": false,
     "start_time": "2022-07-01T14:38:39.126928",
     "status": "completed"
    },
    "tags": []
   },
   "outputs": [
    {
     "data": {
      "text/plain": [
       "RandomizedSearchCV(cv=5, estimator=DecisionTreeClassifier(), n_iter=20,\n",
       "                   param_distributions={'max_depth': <scipy.stats._distn_infrastructure.rv_frozen object at 0x7f7f779f25d0>,\n",
       "                                        'min_samples_leaf': <scipy.stats._distn_infrastructure.rv_frozen object at 0x7f7f779f2ad0>},\n",
       "                   return_train_score=True)"
      ]
     },
     "execution_count": 10,
     "metadata": {},
     "output_type": "execute_result"
    }
   ],
   "source": [
    "# Randomized Search\n",
    "param_r={'max_depth':randint(low=1, high=20), 'min_samples_leaf':randint(low=1,high=50)}\n",
    "random=RandomizedSearchCV(DecisionTreeClassifier(), param_distributions=param_r, cv=5, n_iter=20, return_train_score=True)\n",
    "random.fit(mm_X_train, y_train)"
   ]
  },
  {
   "cell_type": "code",
   "execution_count": 11,
   "id": "92f24223",
   "metadata": {
    "execution": {
     "iopub.execute_input": "2022-07-01T14:38:39.498791Z",
     "iopub.status.busy": "2022-07-01T14:38:39.498429Z",
     "iopub.status.idle": "2022-07-01T14:38:39.503532Z",
     "shell.execute_reply": "2022-07-01T14:38:39.502881Z"
    },
    "papermill": {
     "duration": 0.041723,
     "end_time": "2022-07-01T14:38:39.506190",
     "exception": false,
     "start_time": "2022-07-01T14:38:39.464467",
     "status": "completed"
    },
    "tags": []
   },
   "outputs": [
    {
     "name": "stdout",
     "output_type": "stream",
     "text": [
      "Best Parameter : {'max_depth': 10, 'min_samples_leaf': 1}\n",
      "Best Score : 0.955\n",
      "Test Score : 0.9591\n"
     ]
    }
   ],
   "source": [
    "print('Best Parameter :', random.best_params_) \n",
    "print('Best Score :',round(random.best_score_,4)) \n",
    "print('Test Score :',round(random.score(mm_X_test, y_test),4))"
   ]
  },
  {
   "cell_type": "markdown",
   "id": "a3f10088",
   "metadata": {
    "papermill": {
     "duration": 0.033543,
     "end_time": "2022-07-01T14:38:39.573337",
     "exception": false,
     "start_time": "2022-07-01T14:38:39.539794",
     "status": "completed"
    },
    "tags": []
   },
   "source": [
    "# 분석 코드 - Regression"
   ]
  },
  {
   "cell_type": "code",
   "execution_count": 12,
   "id": "46fb201f",
   "metadata": {
    "execution": {
     "iopub.execute_input": "2022-07-01T14:38:39.641322Z",
     "iopub.status.busy": "2022-07-01T14:38:39.640945Z",
     "iopub.status.idle": "2022-07-01T14:38:39.682401Z",
     "shell.execute_reply": "2022-07-01T14:38:39.681955Z"
    },
    "papermill": {
     "duration": 0.077425,
     "end_time": "2022-07-01T14:38:39.684020",
     "exception": false,
     "start_time": "2022-07-01T14:38:39.606595",
     "status": "completed"
    },
    "tags": []
   },
   "outputs": [
    {
     "data": {
      "text/html": [
       "<div>\n",
       "<style scoped>\n",
       "    .dataframe tbody tr th:only-of-type {\n",
       "        vertical-align: middle;\n",
       "    }\n",
       "\n",
       "    .dataframe tbody tr th {\n",
       "        vertical-align: top;\n",
       "    }\n",
       "\n",
       "    .dataframe thead th {\n",
       "        text-align: right;\n",
       "    }\n",
       "</style>\n",
       "<table border=\"1\" class=\"dataframe\">\n",
       "  <thead>\n",
       "    <tr style=\"text-align: right;\">\n",
       "      <th></th>\n",
       "      <th>housing_age</th>\n",
       "      <th>income</th>\n",
       "      <th>bedrooms</th>\n",
       "      <th>households</th>\n",
       "      <th>rooms</th>\n",
       "      <th>house_value</th>\n",
       "    </tr>\n",
       "  </thead>\n",
       "  <tbody>\n",
       "    <tr>\n",
       "      <th>0</th>\n",
       "      <td>23</td>\n",
       "      <td>6.7770</td>\n",
       "      <td>0.141112</td>\n",
       "      <td>2.442244</td>\n",
       "      <td>8.103960</td>\n",
       "      <td>500000</td>\n",
       "    </tr>\n",
       "    <tr>\n",
       "      <th>1</th>\n",
       "      <td>49</td>\n",
       "      <td>6.0199</td>\n",
       "      <td>0.160984</td>\n",
       "      <td>2.726688</td>\n",
       "      <td>5.752412</td>\n",
       "      <td>500000</td>\n",
       "    </tr>\n",
       "    <tr>\n",
       "      <th>2</th>\n",
       "      <td>35</td>\n",
       "      <td>5.1155</td>\n",
       "      <td>0.249061</td>\n",
       "      <td>1.902676</td>\n",
       "      <td>3.888078</td>\n",
       "      <td>500000</td>\n",
       "    </tr>\n",
       "    <tr>\n",
       "      <th>3</th>\n",
       "      <td>32</td>\n",
       "      <td>4.7109</td>\n",
       "      <td>0.231383</td>\n",
       "      <td>1.913669</td>\n",
       "      <td>4.508393</td>\n",
       "      <td>500000</td>\n",
       "    </tr>\n",
       "    <tr>\n",
       "      <th>4</th>\n",
       "      <td>21</td>\n",
       "      <td>4.5625</td>\n",
       "      <td>0.255583</td>\n",
       "      <td>3.092664</td>\n",
       "      <td>4.667954</td>\n",
       "      <td>500000</td>\n",
       "    </tr>\n",
       "  </tbody>\n",
       "</table>\n",
       "</div>"
      ],
      "text/plain": [
       "   housing_age  income  bedrooms  households     rooms  house_value\n",
       "0           23  6.7770  0.141112    2.442244  8.103960       500000\n",
       "1           49  6.0199  0.160984    2.726688  5.752412       500000\n",
       "2           35  5.1155  0.249061    1.902676  3.888078       500000\n",
       "3           32  4.7109  0.231383    1.913669  4.508393       500000\n",
       "4           21  4.5625  0.255583    3.092664  4.667954       500000"
      ]
     },
     "execution_count": 12,
     "metadata": {},
     "output_type": "execute_result"
    }
   ],
   "source": [
    "df2=pd.read_csv('../input/big-data-certification-study/house_price.csv', encoding='utf-8') \n",
    "df2.head()"
   ]
  },
  {
   "cell_type": "code",
   "execution_count": 13,
   "id": "787eec84",
   "metadata": {
    "execution": {
     "iopub.execute_input": "2022-07-01T14:38:39.753882Z",
     "iopub.status.busy": "2022-07-01T14:38:39.753390Z",
     "iopub.status.idle": "2022-07-01T14:38:39.762010Z",
     "shell.execute_reply": "2022-07-01T14:38:39.761513Z"
    },
    "papermill": {
     "duration": 0.046129,
     "end_time": "2022-07-01T14:38:39.763983",
     "exception": false,
     "start_time": "2022-07-01T14:38:39.717854",
     "status": "completed"
    },
    "tags": []
   },
   "outputs": [],
   "source": [
    "# 데이터 분리 \n",
    "X=df2.drop(columns=['house_value']) \n",
    "y=df2[['house_value']] \n",
    "X_train, X_test, y_train, y_test=train_test_split(X,y,random_state=42)"
   ]
  },
  {
   "cell_type": "code",
   "execution_count": 14,
   "id": "402044e5",
   "metadata": {
    "execution": {
     "iopub.execute_input": "2022-07-01T14:38:39.834017Z",
     "iopub.status.busy": "2022-07-01T14:38:39.833517Z",
     "iopub.status.idle": "2022-07-01T14:38:39.840803Z",
     "shell.execute_reply": "2022-07-01T14:38:39.840400Z"
    },
    "papermill": {
     "duration": 0.044375,
     "end_time": "2022-07-01T14:38:39.842881",
     "exception": false,
     "start_time": "2022-07-01T14:38:39.798506",
     "status": "completed"
    },
    "tags": []
   },
   "outputs": [],
   "source": [
    "# 정규화 \n",
    "scale=MinMaxScaler() \n",
    "scale.fit(X_train) \n",
    "ms_X_train=scale.transform(X_train) \n",
    "ms_x_test=scale.transform(X_test)"
   ]
  },
  {
   "cell_type": "code",
   "execution_count": 15,
   "id": "77caf5b6",
   "metadata": {
    "execution": {
     "iopub.execute_input": "2022-07-01T14:38:39.912347Z",
     "iopub.status.busy": "2022-07-01T14:38:39.911989Z",
     "iopub.status.idle": "2022-07-01T14:38:40.017819Z",
     "shell.execute_reply": "2022-07-01T14:38:40.017202Z"
    },
    "papermill": {
     "duration": 0.142303,
     "end_time": "2022-07-01T14:38:40.019526",
     "exception": false,
     "start_time": "2022-07-01T14:38:39.877223",
     "status": "completed"
    },
    "tags": []
   },
   "outputs": [
    {
     "data": {
      "text/plain": [
       "1.0"
      ]
     },
     "execution_count": 15,
     "metadata": {},
     "output_type": "execute_result"
    }
   ],
   "source": [
    "# 모델 적용 \n",
    "model_r=DecisionTreeRegressor() \n",
    "model_r.fit(ms_X_train, y_train) \n",
    "pred_x=model_r.predict(ms_X_train) \n",
    "model_r.score(ms_X_train, y_train)\n",
    "\n",
    "# 과대적합"
   ]
  },
  {
   "cell_type": "code",
   "execution_count": 16,
   "id": "51e15364",
   "metadata": {
    "execution": {
     "iopub.execute_input": "2022-07-01T14:38:40.089589Z",
     "iopub.status.busy": "2022-07-01T14:38:40.089368Z",
     "iopub.status.idle": "2022-07-01T14:38:40.099215Z",
     "shell.execute_reply": "2022-07-01T14:38:40.098775Z"
    },
    "papermill": {
     "duration": 0.047375,
     "end_time": "2022-07-01T14:38:40.100848",
     "exception": false,
     "start_time": "2022-07-01T14:38:40.053473",
     "status": "completed"
    },
    "tags": []
   },
   "outputs": [
    {
     "data": {
      "text/plain": [
       "0.28131309519610537"
      ]
     },
     "execution_count": 16,
     "metadata": {},
     "output_type": "execute_result"
    }
   ],
   "source": [
    "pred_y=model_r.predict(ms_x_test) \n",
    "model_r.score(ms_x_test,y_test)"
   ]
  },
  {
   "cell_type": "code",
   "execution_count": 17,
   "id": "ad4ebe27",
   "metadata": {
    "execution": {
     "iopub.execute_input": "2022-07-01T14:38:40.171819Z",
     "iopub.status.busy": "2022-07-01T14:38:40.171309Z",
     "iopub.status.idle": "2022-07-01T14:38:40.179583Z",
     "shell.execute_reply": "2022-07-01T14:38:40.178616Z"
    },
    "papermill": {
     "duration": 0.045983,
     "end_time": "2022-07-01T14:38:40.181664",
     "exception": false,
     "start_time": "2022-07-01T14:38:40.135681",
     "status": "completed"
    },
    "tags": []
   },
   "outputs": [
    {
     "name": "stdout",
     "output_type": "stream",
     "text": [
      "Train RMSE : 0 \n",
      "Test  RMSE : 81046\n"
     ]
    }
   ],
   "source": [
    "# RMSE \n",
    "rmse_train=np.sqrt(mean_squared_error(y_train,pred_x)) \n",
    "rmse_test=np.sqrt(mean_squared_error(y_test,pred_y)) \n",
    "print('Train RMSE :', round(rmse_train), '\\nTest  RMSE :', round(rmse_test))"
   ]
  },
  {
   "cell_type": "code",
   "execution_count": 18,
   "id": "d357b7c8",
   "metadata": {
    "execution": {
     "iopub.execute_input": "2022-07-01T14:38:40.255070Z",
     "iopub.status.busy": "2022-07-01T14:38:40.254683Z",
     "iopub.status.idle": "2022-07-01T14:39:28.037166Z",
     "shell.execute_reply": "2022-07-01T14:39:28.036373Z"
    },
    "papermill": {
     "duration": 47.855871,
     "end_time": "2022-07-01T14:39:28.073677",
     "exception": false,
     "start_time": "2022-07-01T14:38:40.217806",
     "status": "completed"
    },
    "tags": []
   },
   "outputs": [
    {
     "data": {
      "text/plain": [
       "GridSearchCV(cv=5, estimator=DecisionTreeRegressor(),\n",
       "             param_grid={'max_depth': range(2, 20, 2),\n",
       "                         'min_samples_leaf': range(1, 50, 2)},\n",
       "             return_train_score=True)"
      ]
     },
     "execution_count": 18,
     "metadata": {},
     "output_type": "execute_result"
    }
   ],
   "source": [
    "# Hyperparameter Tuning \n",
    "# Grid Search \n",
    "g_param = {'max_depth':range(2, 20, 2), 'min_samples_leaf':range(1,50,2)} \n",
    "g_search= GridSearchCV(DecisionTreeRegressor(), g_param, cv=5, return_train_score=True) \n",
    "g_search.fit(ms_X_train, y_train)"
   ]
  },
  {
   "cell_type": "code",
   "execution_count": 19,
   "id": "8c23ea09",
   "metadata": {
    "execution": {
     "iopub.execute_input": "2022-07-01T14:39:28.147319Z",
     "iopub.status.busy": "2022-07-01T14:39:28.146944Z",
     "iopub.status.idle": "2022-07-01T14:39:28.155069Z",
     "shell.execute_reply": "2022-07-01T14:39:28.154123Z"
    },
    "papermill": {
     "duration": 0.047098,
     "end_time": "2022-07-01T14:39:28.156937",
     "exception": false,
     "start_time": "2022-07-01T14:39:28.109839",
     "status": "completed"
    },
    "tags": []
   },
   "outputs": [
    {
     "name": "stdout",
     "output_type": "stream",
     "text": [
      "Best Parameter : {'max_depth': 10, 'min_samples_leaf': 39}\n",
      "Best Score : 0.5847\n",
      "Test Score : 0.5994\n"
     ]
    }
   ],
   "source": [
    "print('Best Parameter :', g_search.best_params_) \n",
    "print('Best Score :',round(g_search.best_score_,4)) \n",
    "print('Test Score :',round(g_search.score(ms_x_test, y_test),4))"
   ]
  },
  {
   "cell_type": "code",
   "execution_count": 20,
   "id": "1e55a8b3",
   "metadata": {
    "execution": {
     "iopub.execute_input": "2022-07-01T14:39:28.232259Z",
     "iopub.status.busy": "2022-07-01T14:39:28.231829Z",
     "iopub.status.idle": "2022-07-01T14:39:32.197168Z",
     "shell.execute_reply": "2022-07-01T14:39:32.196198Z"
    },
    "papermill": {
     "duration": 4.006012,
     "end_time": "2022-07-01T14:39:32.199789",
     "exception": false,
     "start_time": "2022-07-01T14:39:28.193777",
     "status": "completed"
    },
    "tags": []
   },
   "outputs": [
    {
     "data": {
      "text/plain": [
       "RandomizedSearchCV(cv=5, estimator=DecisionTreeRegressor(), n_iter=20,\n",
       "                   param_distributions={'max_depth': <scipy.stats._distn_infrastructure.rv_frozen object at 0x7f7f779f2f10>,\n",
       "                                        'min_samples_leaf': <scipy.stats._distn_infrastructure.rv_frozen object at 0x7f7f779f2a50>},\n",
       "                   return_train_score=True)"
      ]
     },
     "execution_count": 20,
     "metadata": {},
     "output_type": "execute_result"
    }
   ],
   "source": [
    "# Randomized Search \n",
    "r_param={'max_depth':randint(low=1, high=20), 'min_samples_leaf':randint(low=1,high=50)}\n",
    "r_search=RandomizedSearchCV(DecisionTreeRegressor(), param_distributions=r_param, cv=5, n_iter=20, return_train_score=True) \n",
    "r_search.fit(ms_X_train, y_train)"
   ]
  },
  {
   "cell_type": "code",
   "execution_count": 21,
   "id": "be0b4bc2",
   "metadata": {
    "execution": {
     "iopub.execute_input": "2022-07-01T14:39:32.276447Z",
     "iopub.status.busy": "2022-07-01T14:39:32.275877Z",
     "iopub.status.idle": "2022-07-01T14:39:32.282341Z",
     "shell.execute_reply": "2022-07-01T14:39:32.281936Z"
    },
    "papermill": {
     "duration": 0.046584,
     "end_time": "2022-07-01T14:39:32.284009",
     "exception": false,
     "start_time": "2022-07-01T14:39:32.237425",
     "status": "completed"
    },
    "tags": []
   },
   "outputs": [
    {
     "name": "stdout",
     "output_type": "stream",
     "text": [
      "Best Parameter : {'max_depth': 17, 'min_samples_leaf': 44}\n",
      "Best Score : 0.5846\n",
      "Test Score : 0.5979\n"
     ]
    }
   ],
   "source": [
    "print('Best Parameter :', r_search.best_params_) \n",
    "print('Best Score :',round(r_search.best_score_,4)) \n",
    "print('Test Score :',round(r_search.score(ms_x_test, y_test),4))"
   ]
  }
 ],
 "metadata": {
  "kernelspec": {
   "display_name": "Python 3",
   "language": "python",
   "name": "python3"
  },
  "language_info": {
   "codemirror_mode": {
    "name": "ipython",
    "version": 3
   },
   "file_extension": ".py",
   "mimetype": "text/x-python",
   "name": "python",
   "nbconvert_exporter": "python",
   "pygments_lexer": "ipython3",
   "version": "3.7.12"
  },
  "papermill": {
   "default_parameters": {},
   "duration": 68.756343,
   "end_time": "2022-07-01T14:39:33.041278",
   "environment_variables": {},
   "exception": null,
   "input_path": "__notebook__.ipynb",
   "output_path": "__notebook__.ipynb",
   "parameters": {},
   "start_time": "2022-07-01T14:38:24.284935",
   "version": "2.3.4"
  }
 },
 "nbformat": 4,
 "nbformat_minor": 5
}
