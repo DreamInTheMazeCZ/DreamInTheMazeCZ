{
 "cells": [
  {
   "cell_type": "code",
   "execution_count": 1,
   "id": "a57f1ff3",
   "metadata": {},
   "outputs": [
    {
     "data": {
      "text/html": [
       "<div>\n",
       "<style scoped>\n",
       "    .dataframe tbody tr th:only-of-type {\n",
       "        vertical-align: middle;\n",
       "    }\n",
       "\n",
       "    .dataframe tbody tr th {\n",
       "        vertical-align: top;\n",
       "    }\n",
       "\n",
       "    .dataframe thead th {\n",
       "        text-align: right;\n",
       "    }\n",
       "</style>\n",
       "<table border=\"1\" class=\"dataframe\">\n",
       "  <thead>\n",
       "    <tr style=\"text-align: right;\">\n",
       "      <th></th>\n",
       "      <th>gender_female</th>\n",
       "      <th>gender_male</th>\n",
       "      <th>region_Chungcheung</th>\n",
       "      <th>region_Honam</th>\n",
       "      <th>region_Others</th>\n",
       "      <th>region_Sudo</th>\n",
       "      <th>region_Youngnam</th>\n",
       "      <th>edu</th>\n",
       "      <th>income</th>\n",
       "      <th>age</th>\n",
       "      <th>score_gov</th>\n",
       "      <th>score_progress</th>\n",
       "      <th>score_intention</th>\n",
       "      <th>vote</th>\n",
       "      <th>parties</th>\n",
       "    </tr>\n",
       "  </thead>\n",
       "  <tbody>\n",
       "    <tr>\n",
       "      <th>0</th>\n",
       "      <td>0</td>\n",
       "      <td>1</td>\n",
       "      <td>0</td>\n",
       "      <td>0</td>\n",
       "      <td>0</td>\n",
       "      <td>0</td>\n",
       "      <td>1</td>\n",
       "      <td>3</td>\n",
       "      <td>3</td>\n",
       "      <td>3</td>\n",
       "      <td>2</td>\n",
       "      <td>2</td>\n",
       "      <td>4.0</td>\n",
       "      <td>1</td>\n",
       "      <td>2</td>\n",
       "    </tr>\n",
       "    <tr>\n",
       "      <th>1</th>\n",
       "      <td>0</td>\n",
       "      <td>1</td>\n",
       "      <td>0</td>\n",
       "      <td>0</td>\n",
       "      <td>1</td>\n",
       "      <td>0</td>\n",
       "      <td>0</td>\n",
       "      <td>2</td>\n",
       "      <td>3</td>\n",
       "      <td>3</td>\n",
       "      <td>2</td>\n",
       "      <td>4</td>\n",
       "      <td>3.0</td>\n",
       "      <td>0</td>\n",
       "      <td>3</td>\n",
       "    </tr>\n",
       "    <tr>\n",
       "      <th>2</th>\n",
       "      <td>0</td>\n",
       "      <td>1</td>\n",
       "      <td>0</td>\n",
       "      <td>1</td>\n",
       "      <td>0</td>\n",
       "      <td>0</td>\n",
       "      <td>0</td>\n",
       "      <td>1</td>\n",
       "      <td>2</td>\n",
       "      <td>4</td>\n",
       "      <td>1</td>\n",
       "      <td>3</td>\n",
       "      <td>2.8</td>\n",
       "      <td>1</td>\n",
       "      <td>4</td>\n",
       "    </tr>\n",
       "    <tr>\n",
       "      <th>3</th>\n",
       "      <td>1</td>\n",
       "      <td>0</td>\n",
       "      <td>0</td>\n",
       "      <td>0</td>\n",
       "      <td>0</td>\n",
       "      <td>1</td>\n",
       "      <td>0</td>\n",
       "      <td>2</td>\n",
       "      <td>1</td>\n",
       "      <td>3</td>\n",
       "      <td>5</td>\n",
       "      <td>4</td>\n",
       "      <td>2.6</td>\n",
       "      <td>1</td>\n",
       "      <td>1</td>\n",
       "    </tr>\n",
       "    <tr>\n",
       "      <th>4</th>\n",
       "      <td>0</td>\n",
       "      <td>1</td>\n",
       "      <td>0</td>\n",
       "      <td>0</td>\n",
       "      <td>0</td>\n",
       "      <td>1</td>\n",
       "      <td>0</td>\n",
       "      <td>1</td>\n",
       "      <td>2</td>\n",
       "      <td>4</td>\n",
       "      <td>4</td>\n",
       "      <td>3</td>\n",
       "      <td>2.4</td>\n",
       "      <td>1</td>\n",
       "      <td>1</td>\n",
       "    </tr>\n",
       "  </tbody>\n",
       "</table>\n",
       "</div>"
      ],
      "text/plain": [
       "   gender_female  gender_male  region_Chungcheung  region_Honam  \\\n",
       "0              0            1                   0             0   \n",
       "1              0            1                   0             0   \n",
       "2              0            1                   0             1   \n",
       "3              1            0                   0             0   \n",
       "4              0            1                   0             0   \n",
       "\n",
       "   region_Others  region_Sudo  region_Youngnam  edu  income  age  score_gov  \\\n",
       "0              0            0                1    3       3    3          2   \n",
       "1              1            0                0    2       3    3          2   \n",
       "2              0            0                0    1       2    4          1   \n",
       "3              0            1                0    2       1    3          5   \n",
       "4              0            1                0    1       2    4          4   \n",
       "\n",
       "   score_progress  score_intention  vote  parties  \n",
       "0               2              4.0     1        2  \n",
       "1               4              3.0     0        3  \n",
       "2               3              2.8     1        4  \n",
       "3               4              2.6     1        1  \n",
       "4               3              2.4     1        1  "
      ]
     },
     "execution_count": 1,
     "metadata": {},
     "output_type": "execute_result"
    }
   ],
   "source": [
    "import warnings\n",
    "warnings.filterwarnings('ignore')\n",
    "import pandas as pd\n",
    "from sklearn.model_selection import train_test_split\n",
    "from sklearn.preprocessing import MinMaxScaler, StandardScaler\n",
    "data = pd.read_csv('Fvote.csv', encoding = 'utf-8')\n",
    "data.head()"
   ]
  },
  {
   "cell_type": "markdown",
   "id": "3414ec26",
   "metadata": {},
   "source": [
    "## 데이터셋 분할"
   ]
  },
  {
   "cell_type": "code",
   "execution_count": 2,
   "id": "877a6023",
   "metadata": {},
   "outputs": [
    {
     "name": "stdout",
     "output_type": "stream",
     "text": [
      "(211, 13) (211, 1)\n"
     ]
    }
   ],
   "source": [
    "X = data[data.columns[0:13]]\n",
    "y = data[['vote']]\n",
    "\n",
    "print(X.shape, y.shape)"
   ]
  },
  {
   "cell_type": "code",
   "execution_count": 3,
   "id": "ebc67dd9",
   "metadata": {},
   "outputs": [],
   "source": [
    "X_train, X_test, y_train, y_test = train_test_split(X, y, random_state=42, stratify = y)"
   ]
  },
  {
   "cell_type": "code",
   "execution_count": 4,
   "id": "bcf4bc09",
   "metadata": {},
   "outputs": [
    {
     "name": "stdout",
     "output_type": "stream",
     "text": [
      "(158, 13) \n",
      " (53, 13)\n"
     ]
    }
   ],
   "source": [
    "print(X_train.shape,'\\n', X_test.shape)"
   ]
  },
  {
   "cell_type": "markdown",
   "id": "d3b5c758",
   "metadata": {},
   "source": [
    "## 모델 적용"
   ]
  },
  {
   "cell_type": "code",
   "execution_count": 5,
   "id": "09f958af",
   "metadata": {},
   "outputs": [],
   "source": [
    "from sklearn.linear_model import LogisticRegression\n",
    "model = LogisticRegression()"
   ]
  },
  {
   "cell_type": "markdown",
   "id": "4b7400d4",
   "metadata": {},
   "source": [
    "# 비 무작위 교차검증\n",
    "## cross_val_score"
   ]
  },
  {
   "cell_type": "code",
   "execution_count": 6,
   "id": "b1502c00",
   "metadata": {},
   "outputs": [
    {
     "name": "stdout",
     "output_type": "stream",
     "text": [
      "5개 Test Set 정확도 :  [0.71875    0.6875     0.8125     0.58064516 0.80645161]\n",
      "정확도 평균 :  0.7211693548387096\n"
     ]
    }
   ],
   "source": [
    "from sklearn.model_selection import cross_val_score\n",
    "scores = cross_val_score(model, X_train, y_train, cv=5) # cv = 교차검증 횟수\n",
    "print('5개 Test Set 정확도 : ', scores)\n",
    "print(\"정확도 평균 : \", scores.mean())\n",
    "\n",
    "# 비 무작위이므로 데이터셋의 순서 그대로 그룹 분할\n",
    "# 즉, 편향 존재 시 문제 야기 가능"
   ]
  },
  {
   "cell_type": "markdown",
   "id": "9ed719b5",
   "metadata": {},
   "source": [
    "# 무작위 교차검증\n",
    "## K-Fold"
   ]
  },
  {
   "cell_type": "code",
   "execution_count": 7,
   "id": "7c69308c",
   "metadata": {},
   "outputs": [
    {
     "name": "stdout",
     "output_type": "stream",
     "text": [
      "5개 Fold의 정확도 :  [0.71875    0.6875     0.625      0.70967742 0.77419355]\n"
     ]
    }
   ],
   "source": [
    "from sklearn.model_selection import KFold\n",
    "kfold = KFold(n_splits = 5, shuffle = True, random_state=42)\n",
    "# n_splits = 그룹 수\n",
    "# shuffle = 순서 무작위\n",
    "score = cross_val_score(model, X_train, y_train, cv=kfold)\n",
    "print('5개 Fold의 정확도 : ', score)"
   ]
  },
  {
   "cell_type": "markdown",
   "id": "209a9c6c",
   "metadata": {},
   "source": [
    "# 임의 분할 교차검증\n",
    "## ShuffleSplit"
   ]
  },
  {
   "cell_type": "code",
   "execution_count": 8,
   "id": "d42498f6",
   "metadata": {},
   "outputs": [
    {
     "name": "stdout",
     "output_type": "stream",
     "text": [
      "교차검증 정확도 : [0.73417722 0.69620253 0.70886076 0.73417722 0.65822785 0.67088608\n",
      " 0.72151899 0.65822785 0.69620253 0.70886076]\n"
     ]
    }
   ],
   "source": [
    "# 훈련/테스트 데이터 구성 시 다른 교차검증에 사용된 데이터도 랜덤으로 선택되게 하는 방법\n",
    "# 즉, 전체 데이터 중 일부는 훈련 또는 테스트 데이터 모두에서 선택되지 않을 수 있음\n",
    "\n",
    "from sklearn.model_selection import ShuffleSplit\n",
    "shuffle_split = ShuffleSplit(test_size = 0.5, train_size = 0.5, random_state=42)\n",
    "# test_size / train_size 설정\n",
    "score = cross_val_score(model, X_train, y_train, cv=shuffle_split)\n",
    "print(\"교차검증 정확도 :\", score)"
   ]
  },
  {
   "cell_type": "markdown",
   "id": "0df47bc9",
   "metadata": {},
   "source": [
    "# Train - Validity - Test 분할"
   ]
  },
  {
   "cell_type": "code",
   "execution_count": 9,
   "id": "b9591a6f",
   "metadata": {},
   "outputs": [],
   "source": [
    "# train_test_split을 두 번 진행하여 Train Data를 Train - Validity Data로 분할\n",
    "# train_size 옵션 설정 가능 (Default : 7:3)\n",
    "\n",
    "X_train_val, X_test, y_train_val, y_test = train_test_split(X, y, random_state=1)\n",
    "# X_train_val / y_train_val : Train + Validity Data\n",
    "X_train, X_valid, y_train, y_valid = train_test_split(X_train_val, y_train_val, random_state=2)\n",
    "# Train Data와 Validity Data 분할"
   ]
  },
  {
   "cell_type": "code",
   "execution_count": 10,
   "id": "58ed48d0",
   "metadata": {},
   "outputs": [
    {
     "name": "stdout",
     "output_type": "stream",
     "text": [
      "Accuracy of Cross Validation : [0.58333333 0.66666667 0.70833333 0.65217391 0.65217391]\n",
      "Mean of Accuracy : 0.652536231884058\n"
     ]
    }
   ],
   "source": [
    "model.fit(X_train, y_train)\n",
    "scores=cross_val_score(model, X_train, y_train, cv=5)\n",
    "print(\"Accuracy of Cross Validation :\", scores)\n",
    "print(\"Mean of Accuracy :\", scores.mean())"
   ]
  },
  {
   "cell_type": "code",
   "execution_count": 11,
   "id": "4daf1b32",
   "metadata": {},
   "outputs": [
    {
     "data": {
      "text/plain": [
       "0.65"
      ]
     },
     "execution_count": 11,
     "metadata": {},
     "output_type": "execute_result"
    }
   ],
   "source": [
    "# Validity Data 정확도\n",
    "model.score(X_valid, y_valid)"
   ]
  },
  {
   "cell_type": "code",
   "execution_count": 12,
   "id": "ad0b885c",
   "metadata": {},
   "outputs": [
    {
     "data": {
      "text/plain": [
       "0.6981132075471698"
      ]
     },
     "execution_count": 12,
     "metadata": {},
     "output_type": "execute_result"
    }
   ],
   "source": [
    "# Test Data 정확도\n",
    "model.score(X_test, y_test)"
   ]
  },
  {
   "cell_type": "code",
   "execution_count": null,
   "id": "95e06120",
   "metadata": {},
   "outputs": [],
   "source": []
  }
 ],
 "metadata": {
  "kernelspec": {
   "display_name": "Python 3",
   "language": "python",
   "name": "python3"
  },
  "language_info": {
   "codemirror_mode": {
    "name": "ipython",
    "version": 3
   },
   "file_extension": ".py",
   "mimetype": "text/x-python",
   "name": "python",
   "nbconvert_exporter": "python",
   "pygments_lexer": "ipython3",
   "version": "3.8.8"
  }
 },
 "nbformat": 4,
 "nbformat_minor": 5
}
