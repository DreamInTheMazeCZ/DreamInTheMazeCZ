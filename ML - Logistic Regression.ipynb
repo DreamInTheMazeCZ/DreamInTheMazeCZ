{
 "cells": [
  {
   "cell_type": "markdown",
   "id": "c08fc2b8",
   "metadata": {
    "papermill": {
     "duration": 0.017566,
     "end_time": "2022-05-20T11:45:52.560829",
     "exception": false,
     "start_time": "2022-05-20T11:45:52.543263",
     "status": "completed"
    },
    "tags": []
   },
   "source": [
    "### sklearn.linear_model.LogisticRegression\n",
    "#### 종속변수가 범주형일 경우 적용 가능\n",
    "#### 주요 Hyperparameter\n",
    "- C : 기본값 1로, 작을수록 모델 단순, 클수록 모델 복잡. Logscale(0.01, 0.1, 1, 10 등) 단위로 최적값 탐색 권고\n",
    "- solver : 데이터 양이 수 십만 이상일 경우 Full-Batch이면, 시간이 오래 걸리므로 'sag' (평균경사하강법)를 적용한 빠른 속도 적용 가능\n",
    "\n",
    "#### LogisticRegression 옵션\n",
    "##### LogisticRegression(penalty='l2', *, dual=False, tol=0.0001, C=1.0, fit_intercept=True, intercept_scaling=1, class_weight=None, random_state=None, solver='lbfgs', max_iter=100, multi_class='auto', verbose=0, warm_start=False, n_jobs=None, l1_ratio=None)"
   ]
  },
  {
   "cell_type": "markdown",
   "id": "9028b28a",
   "metadata": {
    "papermill": {
     "duration": 0.016197,
     "end_time": "2022-05-20T11:45:52.593643",
     "exception": false,
     "start_time": "2022-05-20T11:45:52.577446",
     "status": "completed"
    },
    "tags": []
   },
   "source": [
    "# 분석 코드"
   ]
  },
  {
   "cell_type": "code",
   "execution_count": 1,
   "id": "a46019d5",
   "metadata": {
    "execution": {
     "iopub.execute_input": "2022-05-20T11:45:52.629418Z",
     "iopub.status.busy": "2022-05-20T11:45:52.628644Z",
     "iopub.status.idle": "2022-05-20T11:45:53.962626Z",
     "shell.execute_reply": "2022-05-20T11:45:53.961488Z"
    },
    "papermill": {
     "duration": 1.354704,
     "end_time": "2022-05-20T11:45:53.965057",
     "exception": false,
     "start_time": "2022-05-20T11:45:52.610353",
     "status": "completed"
    },
    "tags": []
   },
   "outputs": [
    {
     "data": {
      "text/html": [
       "<div>\n",
       "<style scoped>\n",
       "    .dataframe tbody tr th:only-of-type {\n",
       "        vertical-align: middle;\n",
       "    }\n",
       "\n",
       "    .dataframe tbody tr th {\n",
       "        vertical-align: top;\n",
       "    }\n",
       "\n",
       "    .dataframe thead th {\n",
       "        text-align: right;\n",
       "    }\n",
       "</style>\n",
       "<table border=\"1\" class=\"dataframe\">\n",
       "  <thead>\n",
       "    <tr style=\"text-align: right;\">\n",
       "      <th></th>\n",
       "      <th>code</th>\n",
       "      <th>Clump_Thickness</th>\n",
       "      <th>Cell_Size</th>\n",
       "      <th>Cell_Shape</th>\n",
       "      <th>Marginal_Adhesion</th>\n",
       "      <th>Single_Epithelial_Cell_Size</th>\n",
       "      <th>Bare_Nuclei</th>\n",
       "      <th>Bland_Chromatin</th>\n",
       "      <th>Normal_Nucleoli</th>\n",
       "      <th>Mitoses</th>\n",
       "      <th>Class</th>\n",
       "    </tr>\n",
       "  </thead>\n",
       "  <tbody>\n",
       "    <tr>\n",
       "      <th>0</th>\n",
       "      <td>1000025</td>\n",
       "      <td>5</td>\n",
       "      <td>1</td>\n",
       "      <td>1</td>\n",
       "      <td>1</td>\n",
       "      <td>2</td>\n",
       "      <td>1</td>\n",
       "      <td>3</td>\n",
       "      <td>1</td>\n",
       "      <td>1</td>\n",
       "      <td>0</td>\n",
       "    </tr>\n",
       "    <tr>\n",
       "      <th>1</th>\n",
       "      <td>1002945</td>\n",
       "      <td>5</td>\n",
       "      <td>4</td>\n",
       "      <td>4</td>\n",
       "      <td>5</td>\n",
       "      <td>7</td>\n",
       "      <td>10</td>\n",
       "      <td>3</td>\n",
       "      <td>2</td>\n",
       "      <td>1</td>\n",
       "      <td>0</td>\n",
       "    </tr>\n",
       "    <tr>\n",
       "      <th>2</th>\n",
       "      <td>1015425</td>\n",
       "      <td>3</td>\n",
       "      <td>1</td>\n",
       "      <td>1</td>\n",
       "      <td>1</td>\n",
       "      <td>2</td>\n",
       "      <td>2</td>\n",
       "      <td>3</td>\n",
       "      <td>1</td>\n",
       "      <td>1</td>\n",
       "      <td>0</td>\n",
       "    </tr>\n",
       "    <tr>\n",
       "      <th>3</th>\n",
       "      <td>1016277</td>\n",
       "      <td>6</td>\n",
       "      <td>8</td>\n",
       "      <td>8</td>\n",
       "      <td>1</td>\n",
       "      <td>3</td>\n",
       "      <td>4</td>\n",
       "      <td>3</td>\n",
       "      <td>7</td>\n",
       "      <td>1</td>\n",
       "      <td>0</td>\n",
       "    </tr>\n",
       "    <tr>\n",
       "      <th>4</th>\n",
       "      <td>1017023</td>\n",
       "      <td>4</td>\n",
       "      <td>1</td>\n",
       "      <td>1</td>\n",
       "      <td>3</td>\n",
       "      <td>2</td>\n",
       "      <td>1</td>\n",
       "      <td>3</td>\n",
       "      <td>1</td>\n",
       "      <td>1</td>\n",
       "      <td>0</td>\n",
       "    </tr>\n",
       "  </tbody>\n",
       "</table>\n",
       "</div>"
      ],
      "text/plain": [
       "      code  Clump_Thickness  Cell_Size  Cell_Shape  Marginal_Adhesion  \\\n",
       "0  1000025                5          1           1                  1   \n",
       "1  1002945                5          4           4                  5   \n",
       "2  1015425                3          1           1                  1   \n",
       "3  1016277                6          8           8                  1   \n",
       "4  1017023                4          1           1                  3   \n",
       "\n",
       "   Single_Epithelial_Cell_Size  Bare_Nuclei  Bland_Chromatin  Normal_Nucleoli  \\\n",
       "0                            2            1                3                1   \n",
       "1                            7           10                3                2   \n",
       "2                            2            2                3                1   \n",
       "3                            3            4                3                7   \n",
       "4                            2            1                3                1   \n",
       "\n",
       "   Mitoses  Class  \n",
       "0        1      0  \n",
       "1        1      0  \n",
       "2        1      0  \n",
       "3        1      0  \n",
       "4        1      0  "
      ]
     },
     "execution_count": 1,
     "metadata": {},
     "output_type": "execute_result"
    }
   ],
   "source": [
    "# 라이브러리 및 데이터 로드\n",
    "import warnings\n",
    "warnings.filterwarnings('ignore')\n",
    "import pandas as pd\n",
    "import numpy as np\n",
    "import matplotlib.pyplot as plt\n",
    "from scipy.stats import randint\n",
    "from sklearn.model_selection import train_test_split, GridSearchCV, RandomizedSearchCV\n",
    "from sklearn.preprocessing import MinMaxScaler, StandardScaler\n",
    "from sklearn.linear_model import LogisticRegression\n",
    "from sklearn.metrics import confusion_matrix, classification_report\n",
    "\n",
    "df = pd.read_csv('../input/big-data-certification-study/breast-cancer-wisconsin.csv', encoding='utf-8')\n",
    "df.head()"
   ]
  },
  {
   "cell_type": "code",
   "execution_count": 2,
   "id": "5a54fc70",
   "metadata": {
    "execution": {
     "iopub.execute_input": "2022-05-20T11:45:54.005230Z",
     "iopub.status.busy": "2022-05-20T11:45:54.004420Z",
     "iopub.status.idle": "2022-05-20T11:45:54.018711Z",
     "shell.execute_reply": "2022-05-20T11:45:54.017964Z"
    },
    "papermill": {
     "duration": 0.035739,
     "end_time": "2022-05-20T11:45:54.020743",
     "exception": false,
     "start_time": "2022-05-20T11:45:53.985004",
     "status": "completed"
    },
    "tags": []
   },
   "outputs": [
    {
     "data": {
      "text/plain": [
       "((683, 11), (683, 9), (683, 1))"
      ]
     },
     "execution_count": 2,
     "metadata": {},
     "output_type": "execute_result"
    }
   ],
   "source": [
    "# 데이터셋 분리\n",
    "X = df.drop(columns=['code', 'Class'])\n",
    "y = df[['Class']]\n",
    "\n",
    "df.shape, X.shape, y.shape"
   ]
  },
  {
   "cell_type": "code",
   "execution_count": 3,
   "id": "45d0379c",
   "metadata": {
    "execution": {
     "iopub.execute_input": "2022-05-20T11:45:54.058672Z",
     "iopub.status.busy": "2022-05-20T11:45:54.058092Z",
     "iopub.status.idle": "2022-05-20T11:45:54.073088Z",
     "shell.execute_reply": "2022-05-20T11:45:54.072057Z"
    },
    "papermill": {
     "duration": 0.035912,
     "end_time": "2022-05-20T11:45:54.075328",
     "exception": false,
     "start_time": "2022-05-20T11:45:54.039416",
     "status": "completed"
    },
    "tags": []
   },
   "outputs": [],
   "source": [
    "X_train, X_test, y_train, y_test = train_test_split(X, y, stratify=y, random_state=42)\n",
    "# stratify : y 범주의 비율에 따라 데이터 분리"
   ]
  },
  {
   "cell_type": "code",
   "execution_count": 4,
   "id": "6cfa8993",
   "metadata": {
    "execution": {
     "iopub.execute_input": "2022-05-20T11:45:54.111903Z",
     "iopub.status.busy": "2022-05-20T11:45:54.111323Z",
     "iopub.status.idle": "2022-05-20T11:45:54.120436Z",
     "shell.execute_reply": "2022-05-20T11:45:54.119736Z"
    },
    "papermill": {
     "duration": 0.029919,
     "end_time": "2022-05-20T11:45:54.122656",
     "exception": false,
     "start_time": "2022-05-20T11:45:54.092737",
     "status": "completed"
    },
    "tags": []
   },
   "outputs": [],
   "source": [
    "# 정규화 - Min-Max Scaling\n",
    "scaler=MinMaxScaler()\n",
    "scaler.fit(X_train) # feature data의 train data만 fit\n",
    "scaled_X_train = scaler.transform(X_train)\n",
    "scaled_X_test = scaler.transform(X_test)"
   ]
  },
  {
   "cell_type": "code",
   "execution_count": 5,
   "id": "c2eb8ec9",
   "metadata": {
    "execution": {
     "iopub.execute_input": "2022-05-20T11:45:54.160255Z",
     "iopub.status.busy": "2022-05-20T11:45:54.159715Z",
     "iopub.status.idle": "2022-05-20T11:45:54.179694Z",
     "shell.execute_reply": "2022-05-20T11:45:54.178828Z"
    },
    "papermill": {
     "duration": 0.040995,
     "end_time": "2022-05-20T11:45:54.181913",
     "exception": false,
     "start_time": "2022-05-20T11:45:54.140918",
     "status": "completed"
    },
    "tags": []
   },
   "outputs": [
    {
     "data": {
      "text/plain": [
       "0.97265625"
      ]
     },
     "execution_count": 5,
     "metadata": {},
     "output_type": "execute_result"
    }
   ],
   "source": [
    "# 모델 적용/예측 및 정확도\n",
    "model=LogisticRegression()\n",
    "model.fit(scaled_X_train, y_train)\n",
    "pred_train = model.predict(scaled_X_train)\n",
    "model.score(scaled_X_train, y_train)"
   ]
  },
  {
   "cell_type": "code",
   "execution_count": 6,
   "id": "58e444a0",
   "metadata": {
    "execution": {
     "iopub.execute_input": "2022-05-20T11:45:54.219723Z",
     "iopub.status.busy": "2022-05-20T11:45:54.219425Z",
     "iopub.status.idle": "2022-05-20T11:45:54.227473Z",
     "shell.execute_reply": "2022-05-20T11:45:54.226793Z"
    },
    "papermill": {
     "duration": 0.030913,
     "end_time": "2022-05-20T11:45:54.230629",
     "exception": false,
     "start_time": "2022-05-20T11:45:54.199716",
     "status": "completed"
    },
    "tags": []
   },
   "outputs": [
    {
     "name": "stdout",
     "output_type": "stream",
     "text": [
      "Train Data 혼동행렬 :\n",
      " [[328   5]\n",
      " [  9 170]]\n"
     ]
    }
   ],
   "source": [
    "# 혼동행렬 확인\n",
    "con_train = confusion_matrix(y_train, pred_train)\n",
    "print('Train Data 혼동행렬 :\\n', con_train)\n",
    "\n",
    "# 정상(0) 중 5명 오분류, 환자(1) 중 9명 오분류"
   ]
  },
  {
   "cell_type": "code",
   "execution_count": 7,
   "id": "c811769c",
   "metadata": {
    "execution": {
     "iopub.execute_input": "2022-05-20T11:45:54.269441Z",
     "iopub.status.busy": "2022-05-20T11:45:54.269002Z",
     "iopub.status.idle": "2022-05-20T11:45:54.278244Z",
     "shell.execute_reply": "2022-05-20T11:45:54.277576Z"
    },
    "papermill": {
     "duration": 0.031077,
     "end_time": "2022-05-20T11:45:54.280115",
     "exception": false,
     "start_time": "2022-05-20T11:45:54.249038",
     "status": "completed"
    },
    "tags": []
   },
   "outputs": [
    {
     "name": "stdout",
     "output_type": "stream",
     "text": [
      "Train Data 분류예측 레포트 :\n",
      "               precision    recall  f1-score   support\n",
      "\n",
      "           0       0.97      0.98      0.98       333\n",
      "           1       0.97      0.95      0.96       179\n",
      "\n",
      "    accuracy                           0.97       512\n",
      "   macro avg       0.97      0.97      0.97       512\n",
      "weighted avg       0.97      0.97      0.97       512\n",
      "\n"
     ]
    }
   ],
   "source": [
    "# 분류예측 레포트 확인\n",
    "cfr_train = classification_report(y_train, pred_train)\n",
    "print('Train Data 분류예측 레포트 :\\n', cfr_train)"
   ]
  },
  {
   "cell_type": "code",
   "execution_count": 8,
   "id": "37b8d500",
   "metadata": {
    "execution": {
     "iopub.execute_input": "2022-05-20T11:45:54.319409Z",
     "iopub.status.busy": "2022-05-20T11:45:54.318769Z",
     "iopub.status.idle": "2022-05-20T11:45:54.325825Z",
     "shell.execute_reply": "2022-05-20T11:45:54.325171Z"
    },
    "papermill": {
     "duration": 0.028925,
     "end_time": "2022-05-20T11:45:54.327677",
     "exception": false,
     "start_time": "2022-05-20T11:45:54.298752",
     "status": "completed"
    },
    "tags": []
   },
   "outputs": [
    {
     "data": {
      "text/plain": [
       "0.9590643274853801"
      ]
     },
     "execution_count": 8,
     "metadata": {},
     "output_type": "execute_result"
    }
   ],
   "source": [
    "# 모델 적용/예측 및 정확도\n",
    "pred_test = model.predict(scaled_X_test)\n",
    "model.score(scaled_X_test, y_test)"
   ]
  },
  {
   "cell_type": "code",
   "execution_count": 9,
   "id": "ec6b4d43",
   "metadata": {
    "execution": {
     "iopub.execute_input": "2022-05-20T11:45:54.367616Z",
     "iopub.status.busy": "2022-05-20T11:45:54.367057Z",
     "iopub.status.idle": "2022-05-20T11:45:54.372487Z",
     "shell.execute_reply": "2022-05-20T11:45:54.371903Z"
    },
    "papermill": {
     "duration": 0.027738,
     "end_time": "2022-05-20T11:45:54.374382",
     "exception": false,
     "start_time": "2022-05-20T11:45:54.346644",
     "status": "completed"
    },
    "tags": []
   },
   "outputs": [
    {
     "name": "stdout",
     "output_type": "stream",
     "text": [
      "Test Data 혼동행렬 :\n",
      " [[106   5]\n",
      " [  2  58]]\n"
     ]
    }
   ],
   "source": [
    "# 혼동행렬 확인\n",
    "con_test = confusion_matrix(y_test, pred_test)\n",
    "print('Test Data 혼동행렬 :\\n', con_test)\n",
    "\n",
    "# 정상(0) 중 5명 오분류, 환자(1) 중 2명 오분류"
   ]
  },
  {
   "cell_type": "code",
   "execution_count": 10,
   "id": "83ffda1c",
   "metadata": {
    "execution": {
     "iopub.execute_input": "2022-05-20T11:45:54.415158Z",
     "iopub.status.busy": "2022-05-20T11:45:54.414619Z",
     "iopub.status.idle": "2022-05-20T11:45:54.423705Z",
     "shell.execute_reply": "2022-05-20T11:45:54.423017Z"
    },
    "papermill": {
     "duration": 0.032125,
     "end_time": "2022-05-20T11:45:54.425833",
     "exception": false,
     "start_time": "2022-05-20T11:45:54.393708",
     "status": "completed"
    },
    "tags": []
   },
   "outputs": [
    {
     "name": "stdout",
     "output_type": "stream",
     "text": [
      "Test Data 분류예측 레포트 :\n",
      "               precision    recall  f1-score   support\n",
      "\n",
      "           0       0.98      0.95      0.97       111\n",
      "           1       0.92      0.97      0.94        60\n",
      "\n",
      "    accuracy                           0.96       171\n",
      "   macro avg       0.95      0.96      0.96       171\n",
      "weighted avg       0.96      0.96      0.96       171\n",
      "\n"
     ]
    }
   ],
   "source": [
    "# 분류예측 레포트 확인\n",
    "cfr_test = classification_report(y_test, pred_test)\n",
    "print('Test Data 분류예측 레포트 :\\n', cfr_test)"
   ]
  },
  {
   "cell_type": "code",
   "execution_count": 11,
   "id": "0645707f",
   "metadata": {
    "execution": {
     "iopub.execute_input": "2022-05-20T11:45:54.467242Z",
     "iopub.status.busy": "2022-05-20T11:45:54.466694Z",
     "iopub.status.idle": "2022-05-20T11:45:54.685082Z",
     "shell.execute_reply": "2022-05-20T11:45:54.684527Z"
    },
    "papermill": {
     "duration": 0.241328,
     "end_time": "2022-05-20T11:45:54.687006",
     "exception": false,
     "start_time": "2022-05-20T11:45:54.445678",
     "status": "completed"
    },
    "tags": []
   },
   "outputs": [
    {
     "data": {
      "text/plain": [
       "GridSearchCV(cv=5, estimator=LogisticRegression(),\n",
       "             param_grid={'C': [0.001, 0.01, 0.1, 1, 10, 100]},\n",
       "             return_train_score=True)"
      ]
     },
     "execution_count": 11,
     "metadata": {},
     "output_type": "execute_result"
    }
   ],
   "source": [
    "# Hyperparameter Tuning\n",
    "# Grid Search\n",
    "param_grid={'C':[0.001,0.01,0.1,1,10,100]}\n",
    "grid_search=GridSearchCV(LogisticRegression(),\n",
    "                         param_grid, cv=5,\n",
    "                         return_train_score=True)\n",
    "grid_search.fit(scaled_X_train, y_train)"
   ]
  },
  {
   "cell_type": "code",
   "execution_count": 12,
   "id": "93a5571a",
   "metadata": {
    "execution": {
     "iopub.execute_input": "2022-05-20T11:45:54.729340Z",
     "iopub.status.busy": "2022-05-20T11:45:54.728569Z",
     "iopub.status.idle": "2022-05-20T11:45:54.735973Z",
     "shell.execute_reply": "2022-05-20T11:45:54.734941Z"
    },
    "papermill": {
     "duration": 0.031292,
     "end_time": "2022-05-20T11:45:54.738318",
     "exception": false,
     "start_time": "2022-05-20T11:45:54.707026",
     "status": "completed"
    },
    "tags": []
   },
   "outputs": [
    {
     "name": "stdout",
     "output_type": "stream",
     "text": [
      "Best Parameter : {'C': 10}\n",
      "Best Score : 0.973\n",
      "Test Set Score : 0.959\n"
     ]
    }
   ],
   "source": [
    "print('Best Parameter :', grid_search.best_params_)\n",
    "print('Best Score :', round(grid_search.best_score_, 3))\n",
    "print('Test Set Score :', round(grid_search.score(scaled_X_test, y_test), 3))"
   ]
  },
  {
   "cell_type": "code",
   "execution_count": 13,
   "id": "f575c5f9",
   "metadata": {
    "execution": {
     "iopub.execute_input": "2022-05-20T11:45:54.784093Z",
     "iopub.status.busy": "2022-05-20T11:45:54.783766Z",
     "iopub.status.idle": "2022-05-20T11:45:59.103950Z",
     "shell.execute_reply": "2022-05-20T11:45:59.103161Z"
    },
    "papermill": {
     "duration": 4.346883,
     "end_time": "2022-05-20T11:45:59.106231",
     "exception": false,
     "start_time": "2022-05-20T11:45:54.759348",
     "status": "completed"
    },
    "tags": []
   },
   "outputs": [
    {
     "data": {
      "text/plain": [
       "RandomizedSearchCV(cv=5, estimator=LogisticRegression(), n_iter=100,\n",
       "                   param_distributions={'C': <scipy.stats._distn_infrastructure.rv_frozen object at 0x7f114e17cb10>},\n",
       "                   return_train_score=True)"
      ]
     },
     "execution_count": 13,
     "metadata": {},
     "output_type": "execute_result"
    }
   ],
   "source": [
    "# Randomized Search\n",
    "param_r={'C':randint(low=0.001, high=100)}\n",
    "r_search=RandomizedSearchCV(LogisticRegression(),\n",
    "                            param_distributions=param_r,\n",
    "                            cv=5, n_iter=100,\n",
    "                            return_train_score=True)\n",
    "r_search.fit(scaled_X_train, y_train)"
   ]
  },
  {
   "cell_type": "code",
   "execution_count": 14,
   "id": "b48c3786",
   "metadata": {
    "execution": {
     "iopub.execute_input": "2022-05-20T11:45:59.150325Z",
     "iopub.status.busy": "2022-05-20T11:45:59.149842Z",
     "iopub.status.idle": "2022-05-20T11:45:59.157315Z",
     "shell.execute_reply": "2022-05-20T11:45:59.156530Z"
    },
    "papermill": {
     "duration": 0.031941,
     "end_time": "2022-05-20T11:45:59.159297",
     "exception": false,
     "start_time": "2022-05-20T11:45:59.127356",
     "status": "completed"
    },
    "tags": []
   },
   "outputs": [
    {
     "name": "stdout",
     "output_type": "stream",
     "text": [
      "Best Parameter : {'C': 14}\n",
      "Best Score : 0.975\n",
      "Test Set Score : 0.959\n"
     ]
    }
   ],
   "source": [
    "print('Best Parameter :', r_search.best_params_)\n",
    "print('Best Score :', round(r_search.best_score_, 3))\n",
    "print('Test Set Score :', round(r_search.score(scaled_X_test, y_test), 3))"
   ]
  }
 ],
 "metadata": {
  "kernelspec": {
   "display_name": "Python 3",
   "language": "python",
   "name": "python3"
  },
  "language_info": {
   "codemirror_mode": {
    "name": "ipython",
    "version": 3
   },
   "file_extension": ".py",
   "mimetype": "text/x-python",
   "name": "python",
   "nbconvert_exporter": "python",
   "pygments_lexer": "ipython3",
   "version": "3.7.12"
  },
  "papermill": {
   "default_parameters": {},
   "duration": 17.672477,
   "end_time": "2022-05-20T11:45:59.901602",
   "environment_variables": {},
   "exception": null,
   "input_path": "__notebook__.ipynb",
   "output_path": "__notebook__.ipynb",
   "parameters": {},
   "start_time": "2022-05-20T11:45:42.229125",
   "version": "2.3.4"
  }
 },
 "nbformat": 4,
 "nbformat_minor": 5
}
