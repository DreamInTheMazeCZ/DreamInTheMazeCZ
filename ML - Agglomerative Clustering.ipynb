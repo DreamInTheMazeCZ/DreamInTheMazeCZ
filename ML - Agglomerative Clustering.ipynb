{
 "cells": [
  {
   "cell_type": "markdown",
   "id": "6d4d9978",
   "metadata": {
    "papermill": {
     "duration": 0.010541,
     "end_time": "2022-06-30T19:25:28.501852",
     "exception": false,
     "start_time": "2022-06-30T19:25:28.491311",
     "status": "completed"
    },
    "tags": []
   },
   "source": [
    "### sklearn.cluster.AgglomerativeClustering\n",
    "#### 계층적 군집분석 중 병합군집으로, 분석 시작 시 각 포인트를 하나의 클러스터로 지정하고, 그 다음 종료조건(지정한 군집 수)을 만족할 때까지 가장 유사한 두 클러스터를 병합하는 방식으로 진행\n",
    "- 계층적 군집분석 : 어떤 군집에 한 번이라도 속한 개체는 분석과정에서 다른 군집과 더 가깝다고 계산되어도 다른 군집화가 허용되지 않는 방법으로, 속도도 빠르지 않은 편\n",
    "\n",
    "#### 주요 Hyperparameter\n",
    "- n_cluster : 군집의 수로, 분석자의 경험과 주관으로 결정하거나 통계적 기준에 따라 최적 군집수를 결정\n",
    "- affinity : 거리 계산 방법\n",
    "- linkage : 연결법"
   ]
  },
  {
   "cell_type": "markdown",
   "id": "da04dec8",
   "metadata": {
    "papermill": {
     "duration": 0.010146,
     "end_time": "2022-06-30T19:25:28.520972",
     "exception": false,
     "start_time": "2022-06-30T19:25:28.510826",
     "status": "completed"
    },
    "tags": []
   },
   "source": [
    "# 분석 코드"
   ]
  },
  {
   "cell_type": "code",
   "execution_count": 1,
   "id": "d87668aa",
   "metadata": {
    "execution": {
     "iopub.execute_input": "2022-06-30T19:25:28.539905Z",
     "iopub.status.busy": "2022-06-30T19:25:28.539527Z",
     "iopub.status.idle": "2022-06-30T19:25:29.810429Z",
     "shell.execute_reply": "2022-06-30T19:25:29.809416Z"
    },
    "papermill": {
     "duration": 1.28359,
     "end_time": "2022-06-30T19:25:29.813123",
     "exception": false,
     "start_time": "2022-06-30T19:25:28.529533",
     "status": "completed"
    },
    "tags": []
   },
   "outputs": [
    {
     "data": {
      "text/html": [
       "<div>\n",
       "<style scoped>\n",
       "    .dataframe tbody tr th:only-of-type {\n",
       "        vertical-align: middle;\n",
       "    }\n",
       "\n",
       "    .dataframe tbody tr th {\n",
       "        vertical-align: top;\n",
       "    }\n",
       "\n",
       "    .dataframe thead th {\n",
       "        text-align: right;\n",
       "    }\n",
       "</style>\n",
       "<table border=\"1\" class=\"dataframe\">\n",
       "  <thead>\n",
       "    <tr style=\"text-align: right;\">\n",
       "      <th></th>\n",
       "      <th>ID</th>\n",
       "      <th>Gender</th>\n",
       "      <th>Age</th>\n",
       "      <th>Income</th>\n",
       "      <th>Spend</th>\n",
       "    </tr>\n",
       "  </thead>\n",
       "  <tbody>\n",
       "    <tr>\n",
       "      <th>0</th>\n",
       "      <td>1</td>\n",
       "      <td>Male</td>\n",
       "      <td>19</td>\n",
       "      <td>15</td>\n",
       "      <td>39</td>\n",
       "    </tr>\n",
       "    <tr>\n",
       "      <th>1</th>\n",
       "      <td>2</td>\n",
       "      <td>Male</td>\n",
       "      <td>21</td>\n",
       "      <td>15</td>\n",
       "      <td>81</td>\n",
       "    </tr>\n",
       "    <tr>\n",
       "      <th>2</th>\n",
       "      <td>3</td>\n",
       "      <td>Female</td>\n",
       "      <td>20</td>\n",
       "      <td>16</td>\n",
       "      <td>6</td>\n",
       "    </tr>\n",
       "    <tr>\n",
       "      <th>3</th>\n",
       "      <td>4</td>\n",
       "      <td>Female</td>\n",
       "      <td>23</td>\n",
       "      <td>16</td>\n",
       "      <td>77</td>\n",
       "    </tr>\n",
       "    <tr>\n",
       "      <th>4</th>\n",
       "      <td>5</td>\n",
       "      <td>Female</td>\n",
       "      <td>31</td>\n",
       "      <td>17</td>\n",
       "      <td>40</td>\n",
       "    </tr>\n",
       "  </tbody>\n",
       "</table>\n",
       "</div>"
      ],
      "text/plain": [
       "   ID  Gender  Age  Income  Spend\n",
       "0   1    Male   19      15     39\n",
       "1   2    Male   21      15     81\n",
       "2   3  Female   20      16      6\n",
       "3   4  Female   23      16     77\n",
       "4   5  Female   31      17     40"
      ]
     },
     "execution_count": 1,
     "metadata": {},
     "output_type": "execute_result"
    }
   ],
   "source": [
    "# 라이브러리 및 데이터 로드\n",
    "import warnings\n",
    "warnings.filterwarnings('ignore')\n",
    "import pandas as pd\n",
    "import numpy as np\n",
    "import matplotlib.pyplot as plt\n",
    "plt.style.use('seaborn-deep')\n",
    "import matplotlib.cm\n",
    "cmap=matplotlib.cm.get_cmap('plasma')\n",
    "import scipy.cluster.hierarchy as sch\n",
    "from sklearn.cluster import AgglomerativeClustering\n",
    "\n",
    "df = pd.read_csv('../input/big-data-certification-study/Mall_Customers.csv', encoding='utf-8')\n",
    "df.head()"
   ]
  },
  {
   "cell_type": "code",
   "execution_count": 2,
   "id": "1ec5f7c5",
   "metadata": {
    "execution": {
     "iopub.execute_input": "2022-06-30T19:25:29.834719Z",
     "iopub.status.busy": "2022-06-30T19:25:29.833931Z",
     "iopub.status.idle": "2022-06-30T19:25:29.848381Z",
     "shell.execute_reply": "2022-06-30T19:25:29.847396Z"
    },
    "papermill": {
     "duration": 0.027382,
     "end_time": "2022-06-30T19:25:29.850550",
     "exception": false,
     "start_time": "2022-06-30T19:25:29.823168",
     "status": "completed"
    },
    "tags": []
   },
   "outputs": [
    {
     "data": {
      "text/plain": [
       "array([[ 15,  39],\n",
       "       [ 15,  81],\n",
       "       [ 16,   6],\n",
       "       [ 16,  77],\n",
       "       [ 17,  40],\n",
       "       [ 17,  76],\n",
       "       [ 18,   6],\n",
       "       [ 18,  94],\n",
       "       [ 19,   3],\n",
       "       [ 19,  72],\n",
       "       [ 19,  14],\n",
       "       [ 19,  99],\n",
       "       [ 20,  15],\n",
       "       [ 20,  77],\n",
       "       [ 20,  13],\n",
       "       [ 20,  79],\n",
       "       [ 21,  35],\n",
       "       [ 21,  66],\n",
       "       [ 23,  29],\n",
       "       [ 23,  98],\n",
       "       [ 24,  35],\n",
       "       [ 24,  73],\n",
       "       [ 25,   5],\n",
       "       [ 25,  73],\n",
       "       [ 28,  14],\n",
       "       [ 28,  82],\n",
       "       [ 28,  32],\n",
       "       [ 28,  61],\n",
       "       [ 29,  31],\n",
       "       [ 29,  87],\n",
       "       [ 30,   4],\n",
       "       [ 30,  73],\n",
       "       [ 33,   4],\n",
       "       [ 33,  92],\n",
       "       [ 33,  14],\n",
       "       [ 33,  81],\n",
       "       [ 34,  17],\n",
       "       [ 34,  73],\n",
       "       [ 37,  26],\n",
       "       [ 37,  75],\n",
       "       [ 38,  35],\n",
       "       [ 38,  92],\n",
       "       [ 39,  36],\n",
       "       [ 39,  61],\n",
       "       [ 39,  28],\n",
       "       [ 39,  65],\n",
       "       [ 40,  55],\n",
       "       [ 40,  47],\n",
       "       [ 40,  42],\n",
       "       [ 40,  42],\n",
       "       [ 42,  52],\n",
       "       [ 42,  60],\n",
       "       [ 43,  54],\n",
       "       [ 43,  60],\n",
       "       [ 43,  45],\n",
       "       [ 43,  41],\n",
       "       [ 44,  50],\n",
       "       [ 44,  46],\n",
       "       [ 46,  51],\n",
       "       [ 46,  46],\n",
       "       [ 46,  56],\n",
       "       [ 46,  55],\n",
       "       [ 47,  52],\n",
       "       [ 47,  59],\n",
       "       [ 48,  51],\n",
       "       [ 48,  59],\n",
       "       [ 48,  50],\n",
       "       [ 48,  48],\n",
       "       [ 48,  59],\n",
       "       [ 48,  47],\n",
       "       [ 49,  55],\n",
       "       [ 49,  42],\n",
       "       [ 50,  49],\n",
       "       [ 50,  56],\n",
       "       [ 54,  47],\n",
       "       [ 54,  54],\n",
       "       [ 54,  53],\n",
       "       [ 54,  48],\n",
       "       [ 54,  52],\n",
       "       [ 54,  42],\n",
       "       [ 54,  51],\n",
       "       [ 54,  55],\n",
       "       [ 54,  41],\n",
       "       [ 54,  44],\n",
       "       [ 54,  57],\n",
       "       [ 54,  46],\n",
       "       [ 57,  58],\n",
       "       [ 57,  55],\n",
       "       [ 58,  60],\n",
       "       [ 58,  46],\n",
       "       [ 59,  55],\n",
       "       [ 59,  41],\n",
       "       [ 60,  49],\n",
       "       [ 60,  40],\n",
       "       [ 60,  42],\n",
       "       [ 60,  52],\n",
       "       [ 60,  47],\n",
       "       [ 60,  50],\n",
       "       [ 61,  42],\n",
       "       [ 61,  49],\n",
       "       [ 62,  41],\n",
       "       [ 62,  48],\n",
       "       [ 62,  59],\n",
       "       [ 62,  55],\n",
       "       [ 62,  56],\n",
       "       [ 62,  42],\n",
       "       [ 63,  50],\n",
       "       [ 63,  46],\n",
       "       [ 63,  43],\n",
       "       [ 63,  48],\n",
       "       [ 63,  52],\n",
       "       [ 63,  54],\n",
       "       [ 64,  42],\n",
       "       [ 64,  46],\n",
       "       [ 65,  48],\n",
       "       [ 65,  50],\n",
       "       [ 65,  43],\n",
       "       [ 65,  59],\n",
       "       [ 67,  43],\n",
       "       [ 67,  57],\n",
       "       [ 67,  56],\n",
       "       [ 67,  40],\n",
       "       [ 69,  58],\n",
       "       [ 69,  91],\n",
       "       [ 70,  29],\n",
       "       [ 70,  77],\n",
       "       [ 71,  35],\n",
       "       [ 71,  95],\n",
       "       [ 71,  11],\n",
       "       [ 71,  75],\n",
       "       [ 71,   9],\n",
       "       [ 71,  75],\n",
       "       [ 72,  34],\n",
       "       [ 72,  71],\n",
       "       [ 73,   5],\n",
       "       [ 73,  88],\n",
       "       [ 73,   7],\n",
       "       [ 73,  73],\n",
       "       [ 74,  10],\n",
       "       [ 74,  72],\n",
       "       [ 75,   5],\n",
       "       [ 75,  93],\n",
       "       [ 76,  40],\n",
       "       [ 76,  87],\n",
       "       [ 77,  12],\n",
       "       [ 77,  97],\n",
       "       [ 77,  36],\n",
       "       [ 77,  74],\n",
       "       [ 78,  22],\n",
       "       [ 78,  90],\n",
       "       [ 78,  17],\n",
       "       [ 78,  88],\n",
       "       [ 78,  20],\n",
       "       [ 78,  76],\n",
       "       [ 78,  16],\n",
       "       [ 78,  89],\n",
       "       [ 78,   1],\n",
       "       [ 78,  78],\n",
       "       [ 78,   1],\n",
       "       [ 78,  73],\n",
       "       [ 79,  35],\n",
       "       [ 79,  83],\n",
       "       [ 81,   5],\n",
       "       [ 81,  93],\n",
       "       [ 85,  26],\n",
       "       [ 85,  75],\n",
       "       [ 86,  20],\n",
       "       [ 86,  95],\n",
       "       [ 87,  27],\n",
       "       [ 87,  63],\n",
       "       [ 87,  13],\n",
       "       [ 87,  75],\n",
       "       [ 87,  10],\n",
       "       [ 87,  92],\n",
       "       [ 88,  13],\n",
       "       [ 88,  86],\n",
       "       [ 88,  15],\n",
       "       [ 88,  69],\n",
       "       [ 93,  14],\n",
       "       [ 93,  90],\n",
       "       [ 97,  32],\n",
       "       [ 97,  86],\n",
       "       [ 98,  15],\n",
       "       [ 98,  88],\n",
       "       [ 99,  39],\n",
       "       [ 99,  97],\n",
       "       [101,  24],\n",
       "       [101,  68],\n",
       "       [103,  17],\n",
       "       [103,  85],\n",
       "       [103,  23],\n",
       "       [103,  69],\n",
       "       [113,   8],\n",
       "       [113,  91],\n",
       "       [120,  16],\n",
       "       [120,  79],\n",
       "       [126,  28],\n",
       "       [126,  74],\n",
       "       [137,  18],\n",
       "       [137,  83]])"
      ]
     },
     "execution_count": 2,
     "metadata": {},
     "output_type": "execute_result"
    }
   ],
   "source": [
    "# 데이터셋 분리\n",
    "X = df.iloc[:,[3,4]].values # Array 변환\n",
    "X"
   ]
  },
  {
   "cell_type": "code",
   "execution_count": 3,
   "id": "07f19b09",
   "metadata": {
    "execution": {
     "iopub.execute_input": "2022-06-30T19:25:29.872252Z",
     "iopub.status.busy": "2022-06-30T19:25:29.871959Z",
     "iopub.status.idle": "2022-06-30T19:25:34.371453Z",
     "shell.execute_reply": "2022-06-30T19:25:34.370687Z"
    },
    "papermill": {
     "duration": 4.514059,
     "end_time": "2022-06-30T19:25:34.374705",
     "exception": false,
     "start_time": "2022-06-30T19:25:29.860646",
     "status": "completed"
    },
    "tags": []
   },
   "outputs": [
    {
     "data": {
      "image/png": "[encoded data removed]",
      "text/plain": [
       "<Figure size 432x288 with 1 Axes>"
      ]
     },
     "metadata": {
      "needs_background": "light"
     },
     "output_type": "display_data"
    }
   ],
   "source": [
    "# Dendrogram to Choose Number of Clusters (K)\n",
    "plt.figure(1)\n",
    "z=sch.linkage(X,method='ward')\n",
    "# 개체간 거리를 와드연결법으로 계산\n",
    "dendro=sch.dendrogram(z)\n",
    "# 그 결과를 덴드로그램으로 확인\n",
    "plt.title('Dendrogram')\n",
    "plt.xlabel('Customers')\n",
    "plt.ylabel('Ward Distance')\n",
    "plt.show();\n",
    "# 케이스가 많을 경우 묶이는 개체 번호 확인이 어려울 수 있음"
   ]
  },
  {
   "cell_type": "markdown",
   "id": "59c09695",
   "metadata": {
    "papermill": {
     "duration": 0.01136,
     "end_time": "2022-06-30T19:25:34.397306",
     "exception": false,
     "start_time": "2022-06-30T19:25:34.385946",
     "status": "completed"
    },
    "tags": []
   },
   "source": [
    "### Agglomerative Clustering 적용"
   ]
  },
  {
   "cell_type": "code",
   "execution_count": 4,
   "id": "cef96fe0",
   "metadata": {
    "execution": {
     "iopub.execute_input": "2022-06-30T19:25:34.421383Z",
     "iopub.status.busy": "2022-06-30T19:25:34.420841Z",
     "iopub.status.idle": "2022-06-30T19:25:34.426820Z",
     "shell.execute_reply": "2022-06-30T19:25:34.426203Z"
    },
    "papermill": {
     "duration": 0.020245,
     "end_time": "2022-06-30T19:25:34.428711",
     "exception": false,
     "start_time": "2022-06-30T19:25:34.408466",
     "status": "completed"
    },
    "tags": []
   },
   "outputs": [],
   "source": [
    "k=5 # 군집수 5로 지정\n",
    "hc=AgglomerativeClustering(n_clusters=k,\n",
    "                           affinity='euclidean',\n",
    "                           linkage='ward')\n",
    "y_hc=hc.fit_predict(X)"
   ]
  },
  {
   "cell_type": "code",
   "execution_count": 5,
   "id": "edd3050f",
   "metadata": {
    "execution": {
     "iopub.execute_input": "2022-06-30T19:25:34.452316Z",
     "iopub.status.busy": "2022-06-30T19:25:34.452014Z",
     "iopub.status.idle": "2022-06-30T19:25:34.833117Z",
     "shell.execute_reply": "2022-06-30T19:25:34.832464Z"
    },
    "papermill": {
     "duration": 0.39557,
     "end_time": "2022-06-30T19:25:34.835250",
     "exception": false,
     "start_time": "2022-06-30T19:25:34.439680",
     "status": "completed"
    },
    "tags": []
   },
   "outputs": [
    {
     "data": {
      "image/png": "[encoded data removed]",
      "text/plain": [
       "<Figure size 432x288 with 1 Axes>"
      ]
     },
     "metadata": {
      "needs_background": "light"
     },
     "output_type": "display_data"
    }
   ],
   "source": [
    "labels=[('Cluster '+str(i+1)) for i in range(k)]\n",
    "plt.figure(2)\n",
    "for i in range(k):\n",
    "    plt.scatter(X[y_hc==i,0],X[y_hc==i,1],\n",
    "                s=20,c=cmap(i/k),\n",
    "                label=labels[i])\n",
    "plt.xlabel('Age')\n",
    "plt.ylabel('Spending Score')\n",
    "plt.title('HC Cluster Plot')\n",
    "plt.legend()\n",
    "plt.show();"
   ]
  }
 ],
 "metadata": {
  "kernelspec": {
   "display_name": "Python 3",
   "language": "python",
   "name": "python3"
  },
  "language_info": {
   "codemirror_mode": {
    "name": "ipython",
    "version": 3
   },
   "file_extension": ".py",
   "mimetype": "text/x-python",
   "name": "python",
   "nbconvert_exporter": "python",
   "pygments_lexer": "ipython3",
   "version": "3.7.12"
  },
  "papermill": {
   "default_parameters": {},
   "duration": 16.841727,
   "end_time": "2022-06-30T19:25:35.570254",
   "environment_variables": {},
   "exception": null,
   "input_path": "__notebook__.ipynb",
   "output_path": "__notebook__.ipynb",
   "parameters": {},
   "start_time": "2022-06-30T19:25:18.728527",
   "version": "2.3.4"
  }
 },
 "nbformat": 4,
 "nbformat_minor": 5
}
