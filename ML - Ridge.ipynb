{
 "cells": [
  {
   "cell_type": "markdown",
   "id": "45ec7347",
   "metadata": {
    "papermill": {
     "duration": 0.01458,
     "end_time": "2022-06-28T16:22:29.209329",
     "exception": false,
     "start_time": "2022-06-28T16:22:29.194749",
     "status": "completed"
    },
    "tags": []
   },
   "source": [
    "### sklearn.linear_model.Ridge\n",
    "\n",
    "#### 선형회귀분석의 기본원리를 따르나 가중치(회귀계수) 값을 최대한 작게(0에 가깝게) 만들어 모든 독립변수(Feature)가 종속변수(Label)에 미치는 영향을 최소화하는 제약(Regularization)을 반영한 회귀모델\n",
    "- 다항곡선도 추정 가능\n",
    "- 훈련데이터의 과대적합되지 않도록 특성의 영향을 제약한 모델\n",
    "\n",
    "#### 주요 Hyperparameter\n",
    "- alpha : 기본값 1로, 0에 가까울수록 규제가 없고(선형회귀와 유사한 결과) 값이 커질수록 규제가 강해져 회귀계수가 0에 근접\n",
    "\n",
    "##### Ridge(alpha=1.0, fit_intercept=True, normalize=False, copy_X=True, max_iter=None, tol=0.001, solver='auto', random_state=None)"
   ]
  },
  {
   "cell_type": "markdown",
   "id": "3b555b59",
   "metadata": {
    "papermill": {
     "duration": 0.013313,
     "end_time": "2022-06-28T16:22:29.236505",
     "exception": false,
     "start_time": "2022-06-28T16:22:29.223192",
     "status": "completed"
    },
    "tags": []
   },
   "source": [
    "# 분석 코드"
   ]
  },
  {
   "cell_type": "code",
   "execution_count": 1,
   "id": "47f87f78",
   "metadata": {
    "execution": {
     "iopub.execute_input": "2022-06-28T16:22:29.267878Z",
     "iopub.status.busy": "2022-06-28T16:22:29.267098Z",
     "iopub.status.idle": "2022-06-28T16:22:30.688492Z",
     "shell.execute_reply": "2022-06-28T16:22:30.687322Z"
    },
    "papermill": {
     "duration": 1.440548,
     "end_time": "2022-06-28T16:22:30.691451",
     "exception": false,
     "start_time": "2022-06-28T16:22:29.250903",
     "status": "completed"
    },
    "tags": []
   },
   "outputs": [
    {
     "data": {
      "text/html": [
       "<div>\n",
       "<style scoped>\n",
       "    .dataframe tbody tr th:only-of-type {\n",
       "        vertical-align: middle;\n",
       "    }\n",
       "\n",
       "    .dataframe tbody tr th {\n",
       "        vertical-align: top;\n",
       "    }\n",
       "\n",
       "    .dataframe thead th {\n",
       "        text-align: right;\n",
       "    }\n",
       "</style>\n",
       "<table border=\"1\" class=\"dataframe\">\n",
       "  <thead>\n",
       "    <tr style=\"text-align: right;\">\n",
       "      <th></th>\n",
       "      <th>housing_age</th>\n",
       "      <th>income</th>\n",
       "      <th>bedrooms</th>\n",
       "      <th>households</th>\n",
       "      <th>rooms</th>\n",
       "      <th>house_value</th>\n",
       "    </tr>\n",
       "  </thead>\n",
       "  <tbody>\n",
       "    <tr>\n",
       "      <th>0</th>\n",
       "      <td>23</td>\n",
       "      <td>6.7770</td>\n",
       "      <td>0.141112</td>\n",
       "      <td>2.442244</td>\n",
       "      <td>8.103960</td>\n",
       "      <td>500000</td>\n",
       "    </tr>\n",
       "    <tr>\n",
       "      <th>1</th>\n",
       "      <td>49</td>\n",
       "      <td>6.0199</td>\n",
       "      <td>0.160984</td>\n",
       "      <td>2.726688</td>\n",
       "      <td>5.752412</td>\n",
       "      <td>500000</td>\n",
       "    </tr>\n",
       "    <tr>\n",
       "      <th>2</th>\n",
       "      <td>35</td>\n",
       "      <td>5.1155</td>\n",
       "      <td>0.249061</td>\n",
       "      <td>1.902676</td>\n",
       "      <td>3.888078</td>\n",
       "      <td>500000</td>\n",
       "    </tr>\n",
       "    <tr>\n",
       "      <th>3</th>\n",
       "      <td>32</td>\n",
       "      <td>4.7109</td>\n",
       "      <td>0.231383</td>\n",
       "      <td>1.913669</td>\n",
       "      <td>4.508393</td>\n",
       "      <td>500000</td>\n",
       "    </tr>\n",
       "    <tr>\n",
       "      <th>4</th>\n",
       "      <td>21</td>\n",
       "      <td>4.5625</td>\n",
       "      <td>0.255583</td>\n",
       "      <td>3.092664</td>\n",
       "      <td>4.667954</td>\n",
       "      <td>500000</td>\n",
       "    </tr>\n",
       "  </tbody>\n",
       "</table>\n",
       "</div>"
      ],
      "text/plain": [
       "   housing_age  income  bedrooms  households     rooms  house_value\n",
       "0           23  6.7770  0.141112    2.442244  8.103960       500000\n",
       "1           49  6.0199  0.160984    2.726688  5.752412       500000\n",
       "2           35  5.1155  0.249061    1.902676  3.888078       500000\n",
       "3           32  4.7109  0.231383    1.913669  4.508393       500000\n",
       "4           21  4.5625  0.255583    3.092664  4.667954       500000"
      ]
     },
     "execution_count": 1,
     "metadata": {},
     "output_type": "execute_result"
    }
   ],
   "source": [
    "# 라이브러리 및 데이터 로드\n",
    "import warnings\n",
    "warnings.filterwarnings('ignore')\n",
    "import pandas as pd\n",
    "import numpy as np\n",
    "import matplotlib.pyplot as plt\n",
    "from scipy.stats import randint\n",
    "from sklearn.model_selection import train_test_split, GridSearchCV, RandomizedSearchCV\n",
    "from sklearn.preprocessing import MinMaxScaler, StandardScaler\n",
    "from sklearn.linear_model import Ridge\n",
    "from sklearn.metrics import mean_squared_error\n",
    "\n",
    "df = pd.read_csv('../input/big-data-certification-study/house_price.csv', encoding='utf-8')\n",
    "df.head()"
   ]
  },
  {
   "cell_type": "code",
   "execution_count": 2,
   "id": "cb0b7255",
   "metadata": {
    "execution": {
     "iopub.execute_input": "2022-06-28T16:22:30.724121Z",
     "iopub.status.busy": "2022-06-28T16:22:30.723546Z",
     "iopub.status.idle": "2022-06-28T16:22:30.738942Z",
     "shell.execute_reply": "2022-06-28T16:22:30.738062Z"
    },
    "papermill": {
     "duration": 0.034893,
     "end_time": "2022-06-28T16:22:30.741521",
     "exception": false,
     "start_time": "2022-06-28T16:22:30.706628",
     "status": "completed"
    },
    "tags": []
   },
   "outputs": [
    {
     "data": {
      "text/plain": [
       "((17689, 6), (17689, 5), (17689, 1))"
      ]
     },
     "execution_count": 2,
     "metadata": {},
     "output_type": "execute_result"
    }
   ],
   "source": [
    "# 데이터셋 분리\n",
    "X = df.drop(columns=['house_value'])\n",
    "y = df[['house_value']]\n",
    "\n",
    "df.shape, X.shape, y.shape"
   ]
  },
  {
   "cell_type": "code",
   "execution_count": 3,
   "id": "47b44bef",
   "metadata": {
    "execution": {
     "iopub.execute_input": "2022-06-28T16:22:30.775083Z",
     "iopub.status.busy": "2022-06-28T16:22:30.774483Z",
     "iopub.status.idle": "2022-06-28T16:22:30.783453Z",
     "shell.execute_reply": "2022-06-28T16:22:30.782611Z"
    },
    "papermill": {
     "duration": 0.028951,
     "end_time": "2022-06-28T16:22:30.785913",
     "exception": false,
     "start_time": "2022-06-28T16:22:30.756962",
     "status": "completed"
    },
    "tags": []
   },
   "outputs": [],
   "source": [
    "X_train, X_test, y_train, y_test = train_test_split(X, y, random_state=42)\n",
    "# stratify : y 범주의 비율에 따라 데이터 분리"
   ]
  },
  {
   "cell_type": "code",
   "execution_count": 4,
   "id": "f2e30d62",
   "metadata": {
    "execution": {
     "iopub.execute_input": "2022-06-28T16:22:30.821390Z",
     "iopub.status.busy": "2022-06-28T16:22:30.820815Z",
     "iopub.status.idle": "2022-06-28T16:22:30.832815Z",
     "shell.execute_reply": "2022-06-28T16:22:30.832136Z"
    },
    "papermill": {
     "duration": 0.03158,
     "end_time": "2022-06-28T16:22:30.835533",
     "exception": false,
     "start_time": "2022-06-28T16:22:30.803953",
     "status": "completed"
    },
    "tags": []
   },
   "outputs": [],
   "source": [
    "# 정규화 - Min-Max Scaling\n",
    "scaler=MinMaxScaler()\n",
    "scaler.fit(X_train) # feature data의 train data만 fit\n",
    "scaled_X_train = scaler.transform(X_train)\n",
    "scaled_X_test = scaler.transform(X_test)"
   ]
  },
  {
   "cell_type": "code",
   "execution_count": 5,
   "id": "d5335d94",
   "metadata": {
    "execution": {
     "iopub.execute_input": "2022-06-28T16:22:30.867583Z",
     "iopub.status.busy": "2022-06-28T16:22:30.867218Z",
     "iopub.status.idle": "2022-06-28T16:22:30.914604Z",
     "shell.execute_reply": "2022-06-28T16:22:30.913574Z"
    },
    "papermill": {
     "duration": 0.066731,
     "end_time": "2022-06-28T16:22:30.917756",
     "exception": false,
     "start_time": "2022-06-28T16:22:30.851025",
     "status": "completed"
    },
    "tags": []
   },
   "outputs": [
    {
     "data": {
      "text/plain": [
       "0.5706637113374347"
      ]
     },
     "execution_count": 5,
     "metadata": {},
     "output_type": "execute_result"
    }
   ],
   "source": [
    "# 모델 적용/예측 및 정확도\n",
    "model=Ridge()\n",
    "model.fit(scaled_X_train, y_train)\n",
    "pred_x = model.predict(scaled_X_train)\n",
    "model.score(scaled_X_train, y_train)"
   ]
  },
  {
   "cell_type": "code",
   "execution_count": 6,
   "id": "42e33a8d",
   "metadata": {
    "execution": {
     "iopub.execute_input": "2022-06-28T16:22:30.973023Z",
     "iopub.status.busy": "2022-06-28T16:22:30.972550Z",
     "iopub.status.idle": "2022-06-28T16:22:30.988323Z",
     "shell.execute_reply": "2022-06-28T16:22:30.987519Z"
    },
    "papermill": {
     "duration": 0.046887,
     "end_time": "2022-06-28T16:22:30.991376",
     "exception": false,
     "start_time": "2022-06-28T16:22:30.944489",
     "status": "completed"
    },
    "tags": []
   },
   "outputs": [
    {
     "data": {
      "text/plain": [
       "0.5826346815681084"
      ]
     },
     "execution_count": 6,
     "metadata": {},
     "output_type": "execute_result"
    }
   ],
   "source": [
    "pred_y = model.predict(scaled_X_test)\n",
    "model.score(scaled_X_test, y_test)"
   ]
  },
  {
   "cell_type": "code",
   "execution_count": 7,
   "id": "5d958216",
   "metadata": {
    "execution": {
     "iopub.execute_input": "2022-06-28T16:22:31.048744Z",
     "iopub.status.busy": "2022-06-28T16:22:31.048314Z",
     "iopub.status.idle": "2022-06-28T16:22:31.066918Z",
     "shell.execute_reply": "2022-06-28T16:22:31.064782Z"
    },
    "papermill": {
     "duration": 0.053691,
     "end_time": "2022-06-28T16:22:31.072092",
     "exception": false,
     "start_time": "2022-06-28T16:22:31.018401",
     "status": "completed"
    },
    "tags": []
   },
   "outputs": [
    {
     "name": "stdout",
     "output_type": "stream",
     "text": [
      "Train RMSE : 62539 \n",
      "Test  RMSE : 61762\n"
     ]
    }
   ],
   "source": [
    "# RMSE(Root Mean Squared Error)\n",
    "rmse_train=np.sqrt(mean_squared_error(y_train,pred_x)) \n",
    "rmse_test=np.sqrt(mean_squared_error(y_test,pred_y)) \n",
    "print('Train RMSE :', round(rmse_train), '\\nTest  RMSE :', round(rmse_test))"
   ]
  },
  {
   "cell_type": "code",
   "execution_count": 8,
   "id": "40dc2cc1",
   "metadata": {
    "execution": {
     "iopub.execute_input": "2022-06-28T16:22:31.118911Z",
     "iopub.status.busy": "2022-06-28T16:22:31.118613Z",
     "iopub.status.idle": "2022-06-28T16:22:31.697991Z",
     "shell.execute_reply": "2022-06-28T16:22:31.697138Z"
    },
    "papermill": {
     "duration": 0.598657,
     "end_time": "2022-06-28T16:22:31.700713",
     "exception": false,
     "start_time": "2022-06-28T16:22:31.102056",
     "status": "completed"
    },
    "tags": []
   },
   "outputs": [
    {
     "data": {
      "text/plain": [
       "GridSearchCV(cv=5, estimator=Ridge(),\n",
       "             param_grid={'alpha': [0.0001, 0.001, 0.01, 0.1, 0.5, 1.0, 5.0,\n",
       "                                   10.0]},\n",
       "             return_train_score=True)"
      ]
     },
     "execution_count": 8,
     "metadata": {},
     "output_type": "execute_result"
    }
   ],
   "source": [
    "# Hyperparameter Tuning\n",
    "# Grid Search\n",
    "g_param = {'alpha':[1e-4,1e-3,1e-2,0.1,0.5,1.0,5.0,10.0]} \n",
    "g_search= GridSearchCV(Ridge(), g_param, cv=5, return_train_score=True) \n",
    "g_search.fit(scaled_X_train, y_train)"
   ]
  },
  {
   "cell_type": "code",
   "execution_count": 9,
   "id": "6508a4ef",
   "metadata": {
    "execution": {
     "iopub.execute_input": "2022-06-28T16:22:31.761861Z",
     "iopub.status.busy": "2022-06-28T16:22:31.761445Z",
     "iopub.status.idle": "2022-06-28T16:22:31.780937Z",
     "shell.execute_reply": "2022-06-28T16:22:31.779835Z"
    },
    "papermill": {
     "duration": 0.055594,
     "end_time": "2022-06-28T16:22:31.785590",
     "exception": false,
     "start_time": "2022-06-28T16:22:31.729996",
     "status": "completed"
    },
    "tags": []
   },
   "outputs": [
    {
     "name": "stdout",
     "output_type": "stream",
     "text": [
      "Best Parameter : {'alpha': 0.01}\n",
      "Best Score : 0.5703\n",
      "Test Score : 0.5826\n"
     ]
    }
   ],
   "source": [
    "print('Best Parameter :', g_search.best_params_) \n",
    "print('Best Score :',round(g_search.best_score_,4)) \n",
    "print('Test Score :',round(g_search.score(scaled_X_test, y_test),4))"
   ]
  },
  {
   "cell_type": "code",
   "execution_count": 10,
   "id": "be067ba2",
   "metadata": {
    "execution": {
     "iopub.execute_input": "2022-06-28T16:22:31.852392Z",
     "iopub.status.busy": "2022-06-28T16:22:31.851945Z",
     "iopub.status.idle": "2022-06-28T16:22:38.869310Z",
     "shell.execute_reply": "2022-06-28T16:22:38.868263Z"
    },
    "papermill": {
     "duration": 7.054839,
     "end_time": "2022-06-28T16:22:38.873215",
     "exception": false,
     "start_time": "2022-06-28T16:22:31.818376",
     "status": "completed"
    },
    "tags": []
   },
   "outputs": [
    {
     "data": {
      "text/plain": [
       "RandomizedSearchCV(cv=5, estimator=Ridge(), n_iter=100,\n",
       "                   param_distributions={'alpha': <scipy.stats._distn_infrastructure.rv_frozen object at 0x7fe78fe00550>},\n",
       "                   return_train_score=True)"
      ]
     },
     "execution_count": 10,
     "metadata": {},
     "output_type": "execute_result"
    }
   ],
   "source": [
    "# Randomized Search \n",
    "r_param={'alpha':randint(low=1e-4, high=100)} \n",
    "r_search=RandomizedSearchCV(Ridge(), param_distributions=r_param, cv=5, n_iter=100, return_train_score=True) \n",
    "r_search.fit(scaled_X_train, y_train)"
   ]
  },
  {
   "cell_type": "code",
   "execution_count": 11,
   "id": "6dcd0469",
   "metadata": {
    "execution": {
     "iopub.execute_input": "2022-06-28T16:22:38.937660Z",
     "iopub.status.busy": "2022-06-28T16:22:38.937225Z",
     "iopub.status.idle": "2022-06-28T16:22:38.950116Z",
     "shell.execute_reply": "2022-06-28T16:22:38.948947Z"
    },
    "papermill": {
     "duration": 0.048185,
     "end_time": "2022-06-28T16:22:38.953855",
     "exception": false,
     "start_time": "2022-06-28T16:22:38.905670",
     "status": "completed"
    },
    "tags": []
   },
   "outputs": [
    {
     "name": "stdout",
     "output_type": "stream",
     "text": [
      "Best Parameter : {'alpha': 0}\n",
      "Best Score : 0.5703\n",
      "Test Score : 0.5826\n"
     ]
    }
   ],
   "source": [
    "print('Best Parameter :', r_search.best_params_) \n",
    "print('Best Score :',round(r_search.best_score_,4)) \n",
    "print('Test Score :',round(r_search.score(scaled_X_test, y_test),4))"
   ]
  }
 ],
 "metadata": {
  "kernelspec": {
   "display_name": "Python 3",
   "language": "python",
   "name": "python3"
  },
  "language_info": {
   "codemirror_mode": {
    "name": "ipython",
    "version": 3
   },
   "file_extension": ".py",
   "mimetype": "text/x-python",
   "name": "python",
   "nbconvert_exporter": "python",
   "pygments_lexer": "ipython3",
   "version": "3.7.12"
  },
  "papermill": {
   "default_parameters": {},
   "duration": 22.010649,
   "end_time": "2022-06-28T16:22:39.815531",
   "environment_variables": {},
   "exception": null,
   "input_path": "__notebook__.ipynb",
   "output_path": "__notebook__.ipynb",
   "parameters": {},
   "start_time": "2022-06-28T16:22:17.804882",
   "version": "2.3.4"
  }
 },
 "nbformat": 4,
 "nbformat_minor": 5
}
