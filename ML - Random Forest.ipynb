{
 "cells": [
  {
   "cell_type": "markdown",
   "id": "b5f6d141",
   "metadata": {
    "papermill": {
     "duration": 0.020564,
     "end_time": "2022-06-02T17:45:18.094152",
     "exception": false,
     "start_time": "2022-06-02T17:45:18.073588",
     "status": "completed"
    },
    "tags": []
   },
   "source": [
    "### sklearn.ensemble.RandomForestClassifier\n",
    "### sklearn.ensemble.RandomForestRegressor\n",
    "\n",
    "##### 무작위 데이터 샘플링 과정\n",
    "- 데이터에서 부트스트래핑을 통해 N개의 데이터셋 생성\n",
    "- 샘플링된 각 데이터셋에서 임의의 변수를 선택(총 M개 중 sqrt(M)개 또는 M/3개)\n",
    "- Decision Tree를 종합하여 앙상블 모델 생성 이후 OOB Error를 통해 오분류율 평가\n",
    "\n",
    "#### 주요 Hyperparameter\n",
    "- n_estimators : 나무의 수(의사결정나무 모델의 구성 수), 기본값 100\n",
    "- max_features : 선택 변수의 수로 특성치의 반영 정도\n",
    "- 'auto' / 'sqrt' : sqrt(n_features)\n",
    "- 'log2' : log2\n",
    "- none : n_features\n",
    "\n",
    "##### DecisionTreeClassifier(n_estimators=100, *, criterion='gini', max_depth=None, min_samples_split=2, min_samples_leaf=1, min_weight_fraction_leaf=0.0, max_features='auto', random_state=None, max_leaf_nodes=None, min_impurity_decrease=0.0, min_impurity_split=None, bootstrap=True, oob_score=False, n_jobs=None, verbose=0, warm_start=False, class_weight=None, ccp_alpha=0.0, max_samples=None)\n",
    "##### DecisionTreeRegressor(n_estimators, *, criterion='mse', max_depth=None, min_samples_split=2, min_samples_leaf=1, min_weight_fraction_leaf=0.0, max_features='auto', random_state=None, max_leaf_nodes=None, min_impurity_decrease=0.0, min_impurity_split=None, bootstrap=True, oob_score=False, n_jobs=None, verbose=0, warm_start=False, ccp_alpha=0.0, max_samples=None)"
   ]
  },
  {
   "cell_type": "markdown",
   "id": "c2a30fae",
   "metadata": {
    "papermill": {
     "duration": 0.02063,
     "end_time": "2022-06-02T17:45:18.135072",
     "exception": false,
     "start_time": "2022-06-02T17:45:18.114442",
     "status": "completed"
    },
    "tags": []
   },
   "source": [
    "# 분석 코드 - Classification"
   ]
  },
  {
   "cell_type": "code",
   "execution_count": 1,
   "id": "7bfc1c81",
   "metadata": {
    "execution": {
     "iopub.execute_input": "2022-06-02T17:45:18.179775Z",
     "iopub.status.busy": "2022-06-02T17:45:18.179114Z",
     "iopub.status.idle": "2022-06-02T17:45:19.677107Z",
     "shell.execute_reply": "2022-06-02T17:45:19.676294Z"
    },
    "papermill": {
     "duration": 1.523682,
     "end_time": "2022-06-02T17:45:19.679749",
     "exception": false,
     "start_time": "2022-06-02T17:45:18.156067",
     "status": "completed"
    },
    "tags": []
   },
   "outputs": [
    {
     "data": {
      "text/html": [
       "<div>\n",
       "<style scoped>\n",
       "    .dataframe tbody tr th:only-of-type {\n",
       "        vertical-align: middle;\n",
       "    }\n",
       "\n",
       "    .dataframe tbody tr th {\n",
       "        vertical-align: top;\n",
       "    }\n",
       "\n",
       "    .dataframe thead th {\n",
       "        text-align: right;\n",
       "    }\n",
       "</style>\n",
       "<table border=\"1\" class=\"dataframe\">\n",
       "  <thead>\n",
       "    <tr style=\"text-align: right;\">\n",
       "      <th></th>\n",
       "      <th>code</th>\n",
       "      <th>Clump_Thickness</th>\n",
       "      <th>Cell_Size</th>\n",
       "      <th>Cell_Shape</th>\n",
       "      <th>Marginal_Adhesion</th>\n",
       "      <th>Single_Epithelial_Cell_Size</th>\n",
       "      <th>Bare_Nuclei</th>\n",
       "      <th>Bland_Chromatin</th>\n",
       "      <th>Normal_Nucleoli</th>\n",
       "      <th>Mitoses</th>\n",
       "      <th>Class</th>\n",
       "    </tr>\n",
       "  </thead>\n",
       "  <tbody>\n",
       "    <tr>\n",
       "      <th>0</th>\n",
       "      <td>1000025</td>\n",
       "      <td>5</td>\n",
       "      <td>1</td>\n",
       "      <td>1</td>\n",
       "      <td>1</td>\n",
       "      <td>2</td>\n",
       "      <td>1</td>\n",
       "      <td>3</td>\n",
       "      <td>1</td>\n",
       "      <td>1</td>\n",
       "      <td>0</td>\n",
       "    </tr>\n",
       "    <tr>\n",
       "      <th>1</th>\n",
       "      <td>1002945</td>\n",
       "      <td>5</td>\n",
       "      <td>4</td>\n",
       "      <td>4</td>\n",
       "      <td>5</td>\n",
       "      <td>7</td>\n",
       "      <td>10</td>\n",
       "      <td>3</td>\n",
       "      <td>2</td>\n",
       "      <td>1</td>\n",
       "      <td>0</td>\n",
       "    </tr>\n",
       "    <tr>\n",
       "      <th>2</th>\n",
       "      <td>1015425</td>\n",
       "      <td>3</td>\n",
       "      <td>1</td>\n",
       "      <td>1</td>\n",
       "      <td>1</td>\n",
       "      <td>2</td>\n",
       "      <td>2</td>\n",
       "      <td>3</td>\n",
       "      <td>1</td>\n",
       "      <td>1</td>\n",
       "      <td>0</td>\n",
       "    </tr>\n",
       "    <tr>\n",
       "      <th>3</th>\n",
       "      <td>1016277</td>\n",
       "      <td>6</td>\n",
       "      <td>8</td>\n",
       "      <td>8</td>\n",
       "      <td>1</td>\n",
       "      <td>3</td>\n",
       "      <td>4</td>\n",
       "      <td>3</td>\n",
       "      <td>7</td>\n",
       "      <td>1</td>\n",
       "      <td>0</td>\n",
       "    </tr>\n",
       "    <tr>\n",
       "      <th>4</th>\n",
       "      <td>1017023</td>\n",
       "      <td>4</td>\n",
       "      <td>1</td>\n",
       "      <td>1</td>\n",
       "      <td>3</td>\n",
       "      <td>2</td>\n",
       "      <td>1</td>\n",
       "      <td>3</td>\n",
       "      <td>1</td>\n",
       "      <td>1</td>\n",
       "      <td>0</td>\n",
       "    </tr>\n",
       "  </tbody>\n",
       "</table>\n",
       "</div>"
      ],
      "text/plain": [
       "      code  Clump_Thickness  Cell_Size  Cell_Shape  Marginal_Adhesion  \\\n",
       "0  1000025                5          1           1                  1   \n",
       "1  1002945                5          4           4                  5   \n",
       "2  1015425                3          1           1                  1   \n",
       "3  1016277                6          8           8                  1   \n",
       "4  1017023                4          1           1                  3   \n",
       "\n",
       "   Single_Epithelial_Cell_Size  Bare_Nuclei  Bland_Chromatin  Normal_Nucleoli  \\\n",
       "0                            2            1                3                1   \n",
       "1                            7           10                3                2   \n",
       "2                            2            2                3                1   \n",
       "3                            3            4                3                7   \n",
       "4                            2            1                3                1   \n",
       "\n",
       "   Mitoses  Class  \n",
       "0        1      0  \n",
       "1        1      0  \n",
       "2        1      0  \n",
       "3        1      0  \n",
       "4        1      0  "
      ]
     },
     "execution_count": 1,
     "metadata": {},
     "output_type": "execute_result"
    }
   ],
   "source": [
    "# 라이브러리 및 데이터 로드\n",
    "import warnings\n",
    "warnings.filterwarnings('ignore')\n",
    "import pandas as pd\n",
    "import numpy as np\n",
    "import matplotlib.pyplot as plt\n",
    "from scipy.stats import randint\n",
    "from sklearn.model_selection import train_test_split, GridSearchCV, RandomizedSearchCV\n",
    "from sklearn.preprocessing import MinMaxScaler, StandardScaler, LabelEncoder\n",
    "from sklearn.ensemble import RandomForestClassifier, RandomForestRegressor\n",
    "from sklearn.metrics import classification_report, confusion_matrix, mean_squared_error\n",
    "\n",
    "df = pd.read_csv('../input/big-data-certification-study/breast-cancer-wisconsin.csv', encoding='utf-8')\n",
    "df.head()"
   ]
  },
  {
   "cell_type": "code",
   "execution_count": 2,
   "id": "128a843d",
   "metadata": {
    "execution": {
     "iopub.execute_input": "2022-06-02T17:45:19.721162Z",
     "iopub.status.busy": "2022-06-02T17:45:19.720856Z",
     "iopub.status.idle": "2022-06-02T17:45:19.742024Z",
     "shell.execute_reply": "2022-06-02T17:45:19.740924Z"
    },
    "papermill": {
     "duration": 0.043879,
     "end_time": "2022-06-02T17:45:19.744234",
     "exception": false,
     "start_time": "2022-06-02T17:45:19.700355",
     "status": "completed"
    },
    "tags": []
   },
   "outputs": [],
   "source": [
    "# 데이터 분리\n",
    "X=df.drop(columns=['code','Class'])\n",
    "y=df[['Class']]\n",
    "X_train,X_test,y_train,y_test=train_test_split(X,y,stratify=y,random_state=42)"
   ]
  },
  {
   "cell_type": "code",
   "execution_count": 3,
   "id": "0b9b9c5d",
   "metadata": {
    "execution": {
     "iopub.execute_input": "2022-06-02T17:45:19.783322Z",
     "iopub.status.busy": "2022-06-02T17:45:19.782662Z",
     "iopub.status.idle": "2022-06-02T17:45:19.792027Z",
     "shell.execute_reply": "2022-06-02T17:45:19.791366Z"
    },
    "papermill": {
     "duration": 0.030748,
     "end_time": "2022-06-02T17:45:19.793951",
     "exception": false,
     "start_time": "2022-06-02T17:45:19.763203",
     "status": "completed"
    },
    "tags": []
   },
   "outputs": [],
   "source": [
    "# 정규화\n",
    "scaler=MinMaxScaler()\n",
    "scaler.fit(X_train)\n",
    "mm_X_train=scaler.transform(X_train)\n",
    "mm_X_test=scaler.transform(X_test)"
   ]
  },
  {
   "cell_type": "code",
   "execution_count": 4,
   "id": "e126693a",
   "metadata": {
    "execution": {
     "iopub.execute_input": "2022-06-02T17:45:19.832010Z",
     "iopub.status.busy": "2022-06-02T17:45:19.831744Z",
     "iopub.status.idle": "2022-06-02T17:45:20.020534Z",
     "shell.execute_reply": "2022-06-02T17:45:20.019521Z"
    },
    "papermill": {
     "duration": 0.210399,
     "end_time": "2022-06-02T17:45:20.022704",
     "exception": false,
     "start_time": "2022-06-02T17:45:19.812305",
     "status": "completed"
    },
    "tags": []
   },
   "outputs": [
    {
     "data": {
      "text/plain": [
       "1.0"
      ]
     },
     "execution_count": 4,
     "metadata": {},
     "output_type": "execute_result"
    }
   ],
   "source": [
    "# 모델 적용\n",
    "model=RandomForestClassifier()\n",
    "model.fit(mm_X_train, y_train)\n",
    "pred_train=model.predict(mm_X_train)\n",
    "model.score(mm_X_train,y_train)\n",
    "\n",
    "# 과대적합"
   ]
  },
  {
   "cell_type": "code",
   "execution_count": 5,
   "id": "5f7ae2be",
   "metadata": {
    "execution": {
     "iopub.execute_input": "2022-06-02T17:45:20.062016Z",
     "iopub.status.busy": "2022-06-02T17:45:20.061240Z",
     "iopub.status.idle": "2022-06-02T17:45:20.075236Z",
     "shell.execute_reply": "2022-06-02T17:45:20.074357Z"
    },
    "papermill": {
     "duration": 0.035578,
     "end_time": "2022-06-02T17:45:20.077328",
     "exception": false,
     "start_time": "2022-06-02T17:45:20.041750",
     "status": "completed"
    },
    "tags": []
   },
   "outputs": [
    {
     "name": "stdout",
     "output_type": "stream",
     "text": [
      "혼동행렬 :\n",
      " [[333   0]\n",
      " [  0 179]] \n",
      "\n",
      "\n",
      "분류예측 보고서 :\n",
      "               precision    recall  f1-score   support\n",
      "\n",
      "           0       1.00      1.00      1.00       333\n",
      "           1       1.00      1.00      1.00       179\n",
      "\n",
      "    accuracy                           1.00       512\n",
      "   macro avg       1.00      1.00      1.00       512\n",
      "weighted avg       1.00      1.00      1.00       512\n",
      "\n"
     ]
    }
   ],
   "source": [
    "# 혼동행렬, 분류예측 보고서\n",
    "cm_train=confusion_matrix(y_train,pred_train)\n",
    "cfr_train=classification_report(y_train,pred_train)\n",
    "print('혼동행렬 :\\n',cm_train,\n",
    "      '\\n\\n\\n분류예측 보고서 :\\n',cfr_train)"
   ]
  },
  {
   "cell_type": "code",
   "execution_count": 6,
   "id": "3097e3b6",
   "metadata": {
    "execution": {
     "iopub.execute_input": "2022-06-02T17:45:20.121918Z",
     "iopub.status.busy": "2022-06-02T17:45:20.121414Z",
     "iopub.status.idle": "2022-06-02T17:45:20.150766Z",
     "shell.execute_reply": "2022-06-02T17:45:20.149901Z"
    },
    "papermill": {
     "duration": 0.053808,
     "end_time": "2022-06-02T17:45:20.152639",
     "exception": false,
     "start_time": "2022-06-02T17:45:20.098831",
     "status": "completed"
    },
    "tags": []
   },
   "outputs": [
    {
     "data": {
      "text/plain": [
       "0.9707602339181286"
      ]
     },
     "execution_count": 6,
     "metadata": {},
     "output_type": "execute_result"
    }
   ],
   "source": [
    "# 모델 적용\n",
    "pred_test=model.predict(mm_X_test)\n",
    "model.score(mm_X_test, y_test)"
   ]
  },
  {
   "cell_type": "code",
   "execution_count": 7,
   "id": "38bf9abb",
   "metadata": {
    "execution": {
     "iopub.execute_input": "2022-06-02T17:45:20.192428Z",
     "iopub.status.busy": "2022-06-02T17:45:20.191736Z",
     "iopub.status.idle": "2022-06-02T17:45:20.203277Z",
     "shell.execute_reply": "2022-06-02T17:45:20.202213Z"
    },
    "papermill": {
     "duration": 0.034083,
     "end_time": "2022-06-02T17:45:20.205599",
     "exception": false,
     "start_time": "2022-06-02T17:45:20.171516",
     "status": "completed"
    },
    "tags": []
   },
   "outputs": [
    {
     "name": "stdout",
     "output_type": "stream",
     "text": [
      "혼동행렬 :\n",
      " [[106   5]\n",
      " [  0  60]] \n",
      "\n",
      "\n",
      "분류예측 보고서 :\n",
      "               precision    recall  f1-score   support\n",
      "\n",
      "           0       1.00      0.95      0.98       111\n",
      "           1       0.92      1.00      0.96        60\n",
      "\n",
      "    accuracy                           0.97       171\n",
      "   macro avg       0.96      0.98      0.97       171\n",
      "weighted avg       0.97      0.97      0.97       171\n",
      "\n"
     ]
    }
   ],
   "source": [
    "# 혼동행렬, 분류예측 보고서\n",
    "cm_test=confusion_matrix(y_test,pred_test)\n",
    "cfr_test=classification_report(y_test,pred_test)\n",
    "print('혼동행렬 :\\n',cm_test,'\\n\\n\\n분류예측 보고서 :\\n',cfr_test)"
   ]
  },
  {
   "cell_type": "code",
   "execution_count": 8,
   "id": "6d4b4c81",
   "metadata": {
    "execution": {
     "iopub.execute_input": "2022-06-02T17:45:20.247950Z",
     "iopub.status.busy": "2022-06-02T17:45:20.247397Z",
     "iopub.status.idle": "2022-06-02T17:46:29.002938Z",
     "shell.execute_reply": "2022-06-02T17:46:29.001958Z"
    },
    "papermill": {
     "duration": 68.799596,
     "end_time": "2022-06-02T17:46:29.025834",
     "exception": false,
     "start_time": "2022-06-02T17:45:20.226238",
     "status": "completed"
    },
    "tags": []
   },
   "outputs": [
    {
     "data": {
      "text/plain": [
       "GridSearchCV(cv=5, estimator=RandomForestClassifier(),\n",
       "             param_grid={'max_features': ['auto', 'log2'],\n",
       "                         'n_estimators': range(100, 1000, 100)},\n",
       "             return_train_score=True)"
      ]
     },
     "execution_count": 8,
     "metadata": {},
     "output_type": "execute_result"
    }
   ],
   "source": [
    "# Hyperparameter Tuning\n",
    "# Grid Search\n",
    "param_g = {'n_estimators':range(100, 1000, 100),\n",
    "           'max_features':['auto', 'log2']}\n",
    "grid= GridSearchCV(RandomForestClassifier(), param_g, cv=5,\n",
    "                   return_train_score=True)\n",
    "grid.fit(mm_X_train, y_train)"
   ]
  },
  {
   "cell_type": "code",
   "execution_count": 9,
   "id": "780812ec",
   "metadata": {
    "execution": {
     "iopub.execute_input": "2022-06-02T17:46:29.070105Z",
     "iopub.status.busy": "2022-06-02T17:46:29.069821Z",
     "iopub.status.idle": "2022-06-02T17:46:29.090952Z",
     "shell.execute_reply": "2022-06-02T17:46:29.089486Z"
    },
    "papermill": {
     "duration": 0.045779,
     "end_time": "2022-06-02T17:46:29.093334",
     "exception": false,
     "start_time": "2022-06-02T17:46:29.047555",
     "status": "completed"
    },
    "tags": []
   },
   "outputs": [
    {
     "name": "stdout",
     "output_type": "stream",
     "text": [
      "Best Parameter : {'max_features': 'auto', 'n_estimators': 100}\n",
      "Best Score : 0.9746\n",
      "Test Score : 0.9649\n"
     ]
    }
   ],
   "source": [
    "print('Best Parameter :', grid.best_params_)\n",
    "print('Best Score :',round(grid.best_score_,4))\n",
    "print('Test Score :',round(grid.score(mm_X_test, y_test),4))"
   ]
  },
  {
   "cell_type": "code",
   "execution_count": 10,
   "id": "4ec46aa6",
   "metadata": {
    "execution": {
     "iopub.execute_input": "2022-06-02T17:46:29.134591Z",
     "iopub.status.busy": "2022-06-02T17:46:29.134055Z",
     "iopub.status.idle": "2022-06-02T17:47:34.345571Z",
     "shell.execute_reply": "2022-06-02T17:47:34.344639Z"
    },
    "papermill": {
     "duration": 65.25612,
     "end_time": "2022-06-02T17:47:34.369307",
     "exception": false,
     "start_time": "2022-06-02T17:46:29.113187",
     "status": "completed"
    },
    "tags": []
   },
   "outputs": [
    {
     "data": {
      "text/plain": [
       "RandomizedSearchCV(cv=5, estimator=RandomForestClassifier(), n_iter=20,\n",
       "                   param_distributions={'max_features': ['auto', 'log2'],\n",
       "                                        'n_estimators': <scipy.stats._distn_infrastructure.rv_frozen object at 0x7f1ec077c050>},\n",
       "                   return_train_score=True)"
      ]
     },
     "execution_count": 10,
     "metadata": {},
     "output_type": "execute_result"
    }
   ],
   "source": [
    "# Randomized Search\n",
    "param_r={'n_estimators':randint(low=100, high=1000),\n",
    "         'max_features':['auto','log2']}\n",
    "random=RandomizedSearchCV(RandomForestClassifier(),\n",
    "                          param_distributions=param_r,\n",
    "                          cv=5, n_iter=20,\n",
    "                          return_train_score=True)\n",
    "random.fit(mm_X_train, y_train)"
   ]
  },
  {
   "cell_type": "code",
   "execution_count": 11,
   "id": "d913e548",
   "metadata": {
    "execution": {
     "iopub.execute_input": "2022-06-02T17:47:34.411102Z",
     "iopub.status.busy": "2022-06-02T17:47:34.410836Z",
     "iopub.status.idle": "2022-06-02T17:47:34.503255Z",
     "shell.execute_reply": "2022-06-02T17:47:34.502221Z"
    },
    "papermill": {
     "duration": 0.11551,
     "end_time": "2022-06-02T17:47:34.505179",
     "exception": false,
     "start_time": "2022-06-02T17:47:34.389669",
     "status": "completed"
    },
    "tags": []
   },
   "outputs": [
    {
     "name": "stdout",
     "output_type": "stream",
     "text": [
      "Best Parameter : {'max_features': 'auto', 'n_estimators': 755}\n",
      "Best Score : 0.9746\n",
      "Test Score : 0.9649\n"
     ]
    }
   ],
   "source": [
    "print('Best Parameter :', random.best_params_)\n",
    "print('Best Score :',round(random.best_score_,4))\n",
    "print('Test Score :',round(random.score(mm_X_test, y_test),4))"
   ]
  },
  {
   "cell_type": "markdown",
   "id": "9143c51c",
   "metadata": {
    "papermill": {
     "duration": 0.020456,
     "end_time": "2022-06-02T17:47:34.545941",
     "exception": false,
     "start_time": "2022-06-02T17:47:34.525485",
     "status": "completed"
    },
    "tags": []
   },
   "source": [
    "# 분석 코드 - Regression"
   ]
  },
  {
   "cell_type": "code",
   "execution_count": 12,
   "id": "5d6fd5b2",
   "metadata": {
    "execution": {
     "iopub.execute_input": "2022-06-02T17:47:34.589866Z",
     "iopub.status.busy": "2022-06-02T17:47:34.589077Z",
     "iopub.status.idle": "2022-06-02T17:47:34.663594Z",
     "shell.execute_reply": "2022-06-02T17:47:34.662900Z"
    },
    "papermill": {
     "duration": 0.097676,
     "end_time": "2022-06-02T17:47:34.665388",
     "exception": false,
     "start_time": "2022-06-02T17:47:34.567712",
     "status": "completed"
    },
    "tags": []
   },
   "outputs": [
    {
     "data": {
      "text/html": [
       "<div>\n",
       "<style scoped>\n",
       "    .dataframe tbody tr th:only-of-type {\n",
       "        vertical-align: middle;\n",
       "    }\n",
       "\n",
       "    .dataframe tbody tr th {\n",
       "        vertical-align: top;\n",
       "    }\n",
       "\n",
       "    .dataframe thead th {\n",
       "        text-align: right;\n",
       "    }\n",
       "</style>\n",
       "<table border=\"1\" class=\"dataframe\">\n",
       "  <thead>\n",
       "    <tr style=\"text-align: right;\">\n",
       "      <th></th>\n",
       "      <th>housing_age</th>\n",
       "      <th>income</th>\n",
       "      <th>bedrooms</th>\n",
       "      <th>households</th>\n",
       "      <th>rooms</th>\n",
       "      <th>house_value</th>\n",
       "    </tr>\n",
       "  </thead>\n",
       "  <tbody>\n",
       "    <tr>\n",
       "      <th>0</th>\n",
       "      <td>23</td>\n",
       "      <td>6.7770</td>\n",
       "      <td>0.141112</td>\n",
       "      <td>2.442244</td>\n",
       "      <td>8.103960</td>\n",
       "      <td>500000</td>\n",
       "    </tr>\n",
       "    <tr>\n",
       "      <th>1</th>\n",
       "      <td>49</td>\n",
       "      <td>6.0199</td>\n",
       "      <td>0.160984</td>\n",
       "      <td>2.726688</td>\n",
       "      <td>5.752412</td>\n",
       "      <td>500000</td>\n",
       "    </tr>\n",
       "    <tr>\n",
       "      <th>2</th>\n",
       "      <td>35</td>\n",
       "      <td>5.1155</td>\n",
       "      <td>0.249061</td>\n",
       "      <td>1.902676</td>\n",
       "      <td>3.888078</td>\n",
       "      <td>500000</td>\n",
       "    </tr>\n",
       "    <tr>\n",
       "      <th>3</th>\n",
       "      <td>32</td>\n",
       "      <td>4.7109</td>\n",
       "      <td>0.231383</td>\n",
       "      <td>1.913669</td>\n",
       "      <td>4.508393</td>\n",
       "      <td>500000</td>\n",
       "    </tr>\n",
       "    <tr>\n",
       "      <th>4</th>\n",
       "      <td>21</td>\n",
       "      <td>4.5625</td>\n",
       "      <td>0.255583</td>\n",
       "      <td>3.092664</td>\n",
       "      <td>4.667954</td>\n",
       "      <td>500000</td>\n",
       "    </tr>\n",
       "  </tbody>\n",
       "</table>\n",
       "</div>"
      ],
      "text/plain": [
       "   housing_age  income  bedrooms  households     rooms  house_value\n",
       "0           23  6.7770  0.141112    2.442244  8.103960       500000\n",
       "1           49  6.0199  0.160984    2.726688  5.752412       500000\n",
       "2           35  5.1155  0.249061    1.902676  3.888078       500000\n",
       "3           32  4.7109  0.231383    1.913669  4.508393       500000\n",
       "4           21  4.5625  0.255583    3.092664  4.667954       500000"
      ]
     },
     "execution_count": 12,
     "metadata": {},
     "output_type": "execute_result"
    }
   ],
   "source": [
    "df2=pd.read_csv('../input/big-data-certification-study/house_price.csv', encoding='utf-8')\n",
    "df2.head()"
   ]
  },
  {
   "cell_type": "code",
   "execution_count": 13,
   "id": "e28acc51",
   "metadata": {
    "execution": {
     "iopub.execute_input": "2022-06-02T17:47:34.708582Z",
     "iopub.status.busy": "2022-06-02T17:47:34.708060Z",
     "iopub.status.idle": "2022-06-02T17:47:34.718860Z",
     "shell.execute_reply": "2022-06-02T17:47:34.717953Z"
    },
    "papermill": {
     "duration": 0.034801,
     "end_time": "2022-06-02T17:47:34.721056",
     "exception": false,
     "start_time": "2022-06-02T17:47:34.686255",
     "status": "completed"
    },
    "tags": []
   },
   "outputs": [],
   "source": [
    "# 데이터 분리\n",
    "X=df2.drop(columns=['house_value'])\n",
    "y=df2[['house_value']]\n",
    "X_train, X_test, y_train, y_test=train_test_split(X,y,random_state=42)"
   ]
  },
  {
   "cell_type": "code",
   "execution_count": 14,
   "id": "047f1af3",
   "metadata": {
    "execution": {
     "iopub.execute_input": "2022-06-02T17:47:34.764621Z",
     "iopub.status.busy": "2022-06-02T17:47:34.764091Z",
     "iopub.status.idle": "2022-06-02T17:47:34.774552Z",
     "shell.execute_reply": "2022-06-02T17:47:34.773859Z"
    },
    "papermill": {
     "duration": 0.034609,
     "end_time": "2022-06-02T17:47:34.776560",
     "exception": false,
     "start_time": "2022-06-02T17:47:34.741951",
     "status": "completed"
    },
    "tags": []
   },
   "outputs": [],
   "source": [
    "# 정규화\n",
    "scale=MinMaxScaler()\n",
    "scale.fit(X_train)\n",
    "ms_X_train=scale.transform(X_train)\n",
    "ms_x_test=scale.transform(X_test)"
   ]
  },
  {
   "cell_type": "code",
   "execution_count": 15,
   "id": "5a20eecf",
   "metadata": {
    "execution": {
     "iopub.execute_input": "2022-06-02T17:47:34.823692Z",
     "iopub.status.busy": "2022-06-02T17:47:34.823149Z",
     "iopub.status.idle": "2022-06-02T17:47:41.485721Z",
     "shell.execute_reply": "2022-06-02T17:47:41.484245Z"
    },
    "papermill": {
     "duration": 6.689182,
     "end_time": "2022-06-02T17:47:41.488029",
     "exception": false,
     "start_time": "2022-06-02T17:47:34.798847",
     "status": "completed"
    },
    "tags": []
   },
   "outputs": [
    {
     "data": {
      "text/plain": [
       "0.9462693236131015"
      ]
     },
     "execution_count": 15,
     "metadata": {},
     "output_type": "execute_result"
    }
   ],
   "source": [
    "# 모델 적용\n",
    "model_r=RandomForestRegressor()\n",
    "model_r.fit(ms_X_train, y_train)\n",
    "pred_x=model_r.predict(ms_X_train)\n",
    "model_r.score(ms_X_train, y_train)"
   ]
  },
  {
   "cell_type": "code",
   "execution_count": 16,
   "id": "1876d0d9",
   "metadata": {
    "execution": {
     "iopub.execute_input": "2022-06-02T17:47:41.532596Z",
     "iopub.status.busy": "2022-06-02T17:47:41.532054Z",
     "iopub.status.idle": "2022-06-02T17:47:41.844252Z",
     "shell.execute_reply": "2022-06-02T17:47:41.843609Z"
    },
    "papermill": {
     "duration": 0.336437,
     "end_time": "2022-06-02T17:47:41.846134",
     "exception": false,
     "start_time": "2022-06-02T17:47:41.509697",
     "status": "completed"
    },
    "tags": []
   },
   "outputs": [
    {
     "data": {
      "text/plain": [
       "0.6244026736061874"
      ]
     },
     "execution_count": 16,
     "metadata": {},
     "output_type": "execute_result"
    }
   ],
   "source": [
    "pred_y=model_r.predict(ms_x_test)\n",
    "model_r.score(ms_x_test,y_test)"
   ]
  },
  {
   "cell_type": "code",
   "execution_count": 17,
   "id": "0308999d",
   "metadata": {
    "execution": {
     "iopub.execute_input": "2022-06-02T17:47:41.890833Z",
     "iopub.status.busy": "2022-06-02T17:47:41.890274Z",
     "iopub.status.idle": "2022-06-02T17:47:41.898985Z",
     "shell.execute_reply": "2022-06-02T17:47:41.897953Z"
    },
    "papermill": {
     "duration": 0.033668,
     "end_time": "2022-06-02T17:47:41.900956",
     "exception": false,
     "start_time": "2022-06-02T17:47:41.867288",
     "status": "completed"
    },
    "tags": []
   },
   "outputs": [
    {
     "name": "stdout",
     "output_type": "stream",
     "text": [
      "Train RMSE : 22124 \n",
      "Test RMSE : 58590\n"
     ]
    }
   ],
   "source": [
    "# RMSE\n",
    "rmse_train=np.sqrt(mean_squared_error(y_train,pred_x))\n",
    "rmse_test=np.sqrt(mean_squared_error(y_test,pred_y))\n",
    "print('Train RMSE :', round(rmse_train),\n",
    "      '\\nTest RMSE :', round(rmse_test))"
   ]
  },
  {
   "cell_type": "code",
   "execution_count": 18,
   "id": "3c3c4cc1",
   "metadata": {
    "execution": {
     "iopub.execute_input": "2022-06-02T17:47:41.947576Z",
     "iopub.status.busy": "2022-06-02T17:47:41.946925Z",
     "iopub.status.idle": "2022-06-02T18:16:28.655940Z",
     "shell.execute_reply": "2022-06-02T18:16:28.654845Z"
    },
    "papermill": {
     "duration": 1726.765891,
     "end_time": "2022-06-02T18:16:28.688432",
     "exception": false,
     "start_time": "2022-06-02T17:47:41.922541",
     "status": "completed"
    },
    "tags": []
   },
   "outputs": [
    {
     "data": {
      "text/plain": [
       "GridSearchCV(cv=5, estimator=RandomForestRegressor(),\n",
       "             param_grid={'max_features': ['auto', 'log2'],\n",
       "                         'n_estimators': range(100, 1000, 100)},\n",
       "             return_train_score=True)"
      ]
     },
     "execution_count": 18,
     "metadata": {},
     "output_type": "execute_result"
    }
   ],
   "source": [
    "# Hyperparameter Tuning\n",
    "# Grid Search\n",
    "g_param = {'n_estimators':range(100, 1000, 100),\n",
    "           'max_features':['auto', 'log2']}\n",
    "g_search= GridSearchCV(RandomForestRegressor(),\n",
    "                       g_param, cv=5,\n",
    "                       return_train_score=True)\n",
    "g_search.fit(ms_X_train, y_train)"
   ]
  },
  {
   "cell_type": "code",
   "execution_count": 19,
   "id": "0e5c4d28",
   "metadata": {
    "execution": {
     "iopub.execute_input": "2022-06-02T18:16:28.735708Z",
     "iopub.status.busy": "2022-06-02T18:16:28.735114Z",
     "iopub.status.idle": "2022-06-02T18:16:29.927703Z",
     "shell.execute_reply": "2022-06-02T18:16:29.926676Z"
    },
    "papermill": {
     "duration": 1.218858,
     "end_time": "2022-06-02T18:16:29.930163",
     "exception": false,
     "start_time": "2022-06-02T18:16:28.711305",
     "status": "completed"
    },
    "tags": []
   },
   "outputs": [
    {
     "name": "stdout",
     "output_type": "stream",
     "text": [
      "Best Parameter : {'max_features': 'log2', 'n_estimators': 800}\n",
      "Best Score : 0.6266\n",
      "Test Score : 0.6389\n"
     ]
    }
   ],
   "source": [
    "print('Best Parameter :', g_search.best_params_)\n",
    "print('Best Score :',round(g_search.best_score_,4))\n",
    "print('Test Score :',round(g_search.score(ms_x_test, y_test),4))"
   ]
  },
  {
   "cell_type": "code",
   "execution_count": 20,
   "id": "798587a9",
   "metadata": {
    "execution": {
     "iopub.execute_input": "2022-06-02T18:16:29.977694Z",
     "iopub.status.busy": "2022-06-02T18:16:29.977243Z",
     "iopub.status.idle": "2022-06-02T18:56:03.866825Z",
     "shell.execute_reply": "2022-06-02T18:56:03.865668Z"
    },
    "papermill": {
     "duration": 2373.936599,
     "end_time": "2022-06-02T18:56:03.889573",
     "exception": false,
     "start_time": "2022-06-02T18:16:29.952974",
     "status": "completed"
    },
    "tags": []
   },
   "outputs": [
    {
     "data": {
      "text/plain": [
       "RandomizedSearchCV(cv=5, estimator=RandomForestRegressor(), n_iter=20,\n",
       "                   param_distributions={'max_features': ['auto', 'log2'],\n",
       "                                        'n_estimators': <scipy.stats._distn_infrastructure.rv_frozen object at 0x7f1ec06992d0>},\n",
       "                   return_train_score=True)"
      ]
     },
     "execution_count": 20,
     "metadata": {},
     "output_type": "execute_result"
    }
   ],
   "source": [
    "# Randomized Search\n",
    "r_param={'n_estimators':randint(low=100, high=1000),\n",
    "         'max_features':['auto','log2']}\n",
    "r_search=RandomizedSearchCV(RandomForestRegressor(),\n",
    "                            param_distributions=r_param,\n",
    "                            cv=5, n_iter=20,\n",
    "                            return_train_score=True)\n",
    "r_search.fit(ms_X_train, y_train)"
   ]
  },
  {
   "cell_type": "code",
   "execution_count": 21,
   "id": "cef77682",
   "metadata": {
    "execution": {
     "iopub.execute_input": "2022-06-02T18:56:03.936560Z",
     "iopub.status.busy": "2022-06-02T18:56:03.936271Z",
     "iopub.status.idle": "2022-06-02T18:56:05.281552Z",
     "shell.execute_reply": "2022-06-02T18:56:05.280471Z"
    },
    "papermill": {
     "duration": 1.371459,
     "end_time": "2022-06-02T18:56:05.283890",
     "exception": false,
     "start_time": "2022-06-02T18:56:03.912431",
     "status": "completed"
    },
    "tags": []
   },
   "outputs": [
    {
     "name": "stdout",
     "output_type": "stream",
     "text": [
      "Best Parameter : {'max_features': 'log2', 'n_estimators': 853}\n",
      "Best Score : 0.6269\n",
      "Test Score : 0.6384\n"
     ]
    }
   ],
   "source": [
    "print('Best Parameter :', r_search.best_params_)\n",
    "print('Best Score :',round(r_search.best_score_,4))\n",
    "print('Test Score :',round(r_search.score(ms_x_test, y_test),4))"
   ]
  }
 ],
 "metadata": {
  "kernelspec": {
   "display_name": "Python 3",
   "language": "python",
   "name": "python3"
  },
  "language_info": {
   "codemirror_mode": {
    "name": "ipython",
    "version": 3
   },
   "file_extension": ".py",
   "mimetype": "text/x-python",
   "name": "python",
   "nbconvert_exporter": "python",
   "pygments_lexer": "ipython3",
   "version": "3.7.12"
  },
  "papermill": {
   "default_parameters": {},
   "duration": 4257.642188,
   "end_time": "2022-06-02T18:56:06.239146",
   "environment_variables": {},
   "exception": null,
   "input_path": "__notebook__.ipynb",
   "output_path": "__notebook__.ipynb",
   "parameters": {},
   "start_time": "2022-06-02T17:45:08.596958",
   "version": "2.3.4"
  }
 },
 "nbformat": 4,
 "nbformat_minor": 5
}
