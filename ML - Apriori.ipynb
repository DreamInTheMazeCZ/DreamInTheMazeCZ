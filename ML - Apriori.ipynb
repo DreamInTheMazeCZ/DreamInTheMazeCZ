{
 "cells": [
  {
   "cell_type": "markdown",
   "id": "bdbba7ef",
   "metadata": {
    "papermill": {
     "duration": 0.011876,
     "end_time": "2022-07-01T14:20:35.692430",
     "exception": false,
     "start_time": "2022-07-01T14:20:35.680554",
     "status": "completed"
    },
    "tags": []
   },
   "source": [
    "### apyori.apriori\n",
    "#### 연관규칙(장바구니 분석) 알고리즘으로, 대용량 트랜잭션 데이터(거래데이터)로부터 X이면 Y이다라는 형식의 연관관계를 발견하는 기법, 즉 어떤 두 아이템 집합이 빈번히 발생하는가를 알려주는 일련의 규칙을 생성하는 알고리즘\n",
    "- 소비자의 구매이력을 토대로 X 아이템을 구매하는 고객들은 Y 아이템 역시 구매할 가능성이 높다는 행동을 예측하거나 추천\n",
    "- Raw Data를 Transaction Data(0과 1로 이루어진 데이터)로의 변환 필요\n",
    "\n",
    "#### 연관규칙의 지표\n",
    "- 지지도(Support) : (X와 Y를 모두 포함하는 거래건수) / (전체 거래건수)\n",
    "- 신뢰도(Confidence) : (X와 Y를 모두 포함하는 거래건수) / (X가 포함된 거래건수)\n",
    "- 향상도(Lift) : (신뢰도) / P(Y)\n",
    "- 향상도의 절대값이 1보다 크면 우수, 1이면 X와 Y는 독립\n",
    "\n",
    "#### 주요 Hyperparameter\n",
    "- min_support : 최소 지지도로, 기준값 이상만 제시\n",
    "- min_confidence : 최소 신뢰도로, 기준값 이상만 제시\n",
    "- min_lift : 최소 향상도로, 기준값 이상만 제시\n",
    "\n",
    "##### apriori(transaction_data, min_support, min_confidence, min_lift, min_length)"
   ]
  },
  {
   "cell_type": "markdown",
   "id": "387de356",
   "metadata": {
    "papermill": {
     "duration": 0.010554,
     "end_time": "2022-07-01T14:20:35.714032",
     "exception": false,
     "start_time": "2022-07-01T14:20:35.703478",
     "status": "completed"
    },
    "tags": []
   },
   "source": [
    "# 분석 코드"
   ]
  },
  {
   "cell_type": "code",
   "execution_count": 1,
   "id": "a754574c",
   "metadata": {
    "execution": {
     "iopub.execute_input": "2022-07-01T14:20:35.737489Z",
     "iopub.status.busy": "2022-07-01T14:20:35.736853Z",
     "iopub.status.idle": "2022-07-01T14:20:35.822929Z",
     "shell.execute_reply": "2022-07-01T14:20:35.821770Z"
    },
    "papermill": {
     "duration": 0.100473,
     "end_time": "2022-07-01T14:20:35.825058",
     "exception": true,
     "start_time": "2022-07-01T14:20:35.724585",
     "status": "failed"
    },
    "tags": []
   },
   "outputs": [
    {
     "ename": "ModuleNotFoundError",
     "evalue": "No module named 'apyori'",
     "output_type": "error",
     "traceback": [
      "\u001b[0;31m---------------------------------------------------------------------------\u001b[0m",
      "\u001b[0;31mModuleNotFoundError\u001b[0m                       Traceback (most recent call last)",
      "\u001b[0;32m/tmp/ipykernel_19/476813692.py\u001b[0m in \u001b[0;36m<module>\u001b[0;34m\u001b[0m\n\u001b[1;32m      8\u001b[0m \u001b[0;32mimport\u001b[0m \u001b[0mmatplotlib\u001b[0m\u001b[0;34m.\u001b[0m\u001b[0mcm\u001b[0m\u001b[0;34m\u001b[0m\u001b[0;34m\u001b[0m\u001b[0m\n\u001b[1;32m      9\u001b[0m \u001b[0mcmap\u001b[0m\u001b[0;34m=\u001b[0m\u001b[0mmatplotlib\u001b[0m\u001b[0;34m.\u001b[0m\u001b[0mcm\u001b[0m\u001b[0;34m.\u001b[0m\u001b[0mget_cmap\u001b[0m\u001b[0;34m(\u001b[0m\u001b[0;34m'plasma'\u001b[0m\u001b[0;34m)\u001b[0m\u001b[0;34m\u001b[0m\u001b[0;34m\u001b[0m\u001b[0m\n\u001b[0;32m---> 10\u001b[0;31m \u001b[0;32mfrom\u001b[0m \u001b[0mapyori\u001b[0m \u001b[0;32mimport\u001b[0m \u001b[0mapriori\u001b[0m\u001b[0;34m\u001b[0m\u001b[0;34m\u001b[0m\u001b[0m\n\u001b[0m\u001b[1;32m     11\u001b[0m \u001b[0;32mfrom\u001b[0m \u001b[0msklearn\u001b[0m\u001b[0;34m.\u001b[0m\u001b[0mmodel_selection\u001b[0m \u001b[0;32mimport\u001b[0m \u001b[0mtrain_test_split\u001b[0m\u001b[0;34m,\u001b[0m \u001b[0mGridSearchCV\u001b[0m\u001b[0;34m,\u001b[0m \u001b[0mRandomizedSearchCV\u001b[0m\u001b[0;34m\u001b[0m\u001b[0;34m\u001b[0m\u001b[0m\n\u001b[1;32m     12\u001b[0m \u001b[0;32mfrom\u001b[0m \u001b[0msklearn\u001b[0m\u001b[0;34m.\u001b[0m\u001b[0mpreprocessing\u001b[0m \u001b[0;32mimport\u001b[0m \u001b[0mMinMaxScaler\u001b[0m\u001b[0;34m,\u001b[0m \u001b[0mStandardScaler\u001b[0m\u001b[0;34m\u001b[0m\u001b[0;34m\u001b[0m\u001b[0m\n",
      "\u001b[0;31mModuleNotFoundError\u001b[0m: No module named 'apyori'"
     ]
    }
   ],
   "source": [
    "# 라이브러리 및 데이터 로드\n",
    "import warnings\n",
    "warnings.filterwarnings('ignore')\n",
    "import pandas as pd\n",
    "import numpy as np\n",
    "import matplotlib.pyplot as plt\n",
    "plt.style.use('seaborn-deep')\n",
    "import matplotlib.cm\n",
    "cmap=matplotlib.cm.get_cmap('plasma')\n",
    "from apyori import apriori\n",
    "from sklearn.model_selection import train_test_split, GridSearchCV, RandomizedSearchCV\n",
    "from sklearn.preprocessing import MinMaxScaler, StandardScaler\n",
    "\n",
    "df = pd.read_csv('../input/market-basket-analysis-store-data/store_data.csv', encoding='utf-8', header=None)\n",
    "df.head()"
   ]
  },
  {
   "cell_type": "code",
   "execution_count": null,
   "id": "f9a69e08",
   "metadata": {
    "execution": {
     "iopub.execute_input": "2022-07-01T14:09:35.025928Z",
     "iopub.status.busy": "2022-07-01T14:09:35.025461Z",
     "iopub.status.idle": "2022-07-01T14:10:37.007595Z",
     "shell.execute_reply": "2022-07-01T14:10:37.006689Z",
     "shell.execute_reply.started": "2022-07-01T14:09:35.025894Z"
    },
    "papermill": {
     "duration": null,
     "end_time": null,
     "exception": null,
     "start_time": null,
     "status": "pending"
    },
    "tags": []
   },
   "outputs": [],
   "source": [
    "# 품목 분리\n",
    "ts=[]\n",
    "for i in range(df.shape[0]):\n",
    "    ts.append([str(df.iloc[i,j]) for j in range(df.shape[1]-df.isnull().sum(axis=1)[i])])"
   ]
  },
  {
   "cell_type": "code",
   "execution_count": null,
   "id": "0c81dd79",
   "metadata": {
    "execution": {
     "iopub.execute_input": "2022-07-01T14:10:37.009454Z",
     "iopub.status.busy": "2022-07-01T14:10:37.009177Z",
     "iopub.status.idle": "2022-07-01T14:10:37.067466Z",
     "shell.execute_reply": "2022-07-01T14:10:37.066719Z",
     "shell.execute_reply.started": "2022-07-01T14:10:37.009420Z"
    },
    "papermill": {
     "duration": null,
     "end_time": null,
     "exception": null,
     "start_time": null,
     "status": "pending"
    },
    "tags": []
   },
   "outputs": [],
   "source": [
    "# 지지도 0.015, 신뢰도 0.2, 향상도 1 이상으로 기준 설정\n",
    "rule=apriori(ts, min_support=0.015,\n",
    "             min_confidence=0.2,\n",
    "             min_lift=1,min_length=1)\n",
    "result=list(rule)"
   ]
  },
  {
   "cell_type": "code",
   "execution_count": null,
   "id": "6b30f8d4",
   "metadata": {
    "execution": {
     "iopub.execute_input": "2022-07-01T14:10:37.070618Z",
     "iopub.status.busy": "2022-07-01T14:10:37.070039Z",
     "iopub.status.idle": "2022-07-01T14:10:37.075602Z",
     "shell.execute_reply": "2022-07-01T14:10:37.074806Z",
     "shell.execute_reply.started": "2022-07-01T14:10:37.070582Z"
    },
    "papermill": {
     "duration": null,
     "end_time": null,
     "exception": null,
     "start_time": null,
     "status": "pending"
    },
    "tags": []
   },
   "outputs": [],
   "source": [
    "len(result) # 규칙을 만족하는 항목 개수"
   ]
  },
  {
   "cell_type": "code",
   "execution_count": null,
   "id": "9b283c60",
   "metadata": {
    "execution": {
     "iopub.execute_input": "2022-07-01T14:10:37.078383Z",
     "iopub.status.busy": "2022-07-01T14:10:37.077857Z",
     "iopub.status.idle": "2022-07-01T14:10:37.100198Z",
     "shell.execute_reply": "2022-07-01T14:10:37.099486Z",
     "shell.execute_reply.started": "2022-07-01T14:10:37.078340Z"
    },
    "papermill": {
     "duration": null,
     "end_time": null,
     "exception": null,
     "start_time": null,
     "status": "pending"
    },
    "tags": []
   },
   "outputs": [],
   "source": [
    "dfr=pd.DataFrame(result)\n",
    "dfr.head()"
   ]
  },
  {
   "cell_type": "code",
   "execution_count": null,
   "id": "ea42fff4",
   "metadata": {
    "execution": {
     "iopub.execute_input": "2022-07-01T14:10:37.101707Z",
     "iopub.status.busy": "2022-07-01T14:10:37.101416Z",
     "iopub.status.idle": "2022-07-01T14:10:37.117171Z",
     "shell.execute_reply": "2022-07-01T14:10:37.116458Z",
     "shell.execute_reply.started": "2022-07-01T14:10:37.101656Z"
    },
    "papermill": {
     "duration": null,
     "end_time": null,
     "exception": null,
     "start_time": null,
     "status": "pending"
    },
    "tags": []
   },
   "outputs": [],
   "source": [
    "dfr.iloc[6:19][['items','support']]"
   ]
  },
  {
   "cell_type": "code",
   "execution_count": null,
   "id": "ab62febe",
   "metadata": {
    "execution": {
     "iopub.execute_input": "2022-07-01T14:19:13.723021Z",
     "iopub.status.busy": "2022-07-01T14:19:13.722621Z",
     "iopub.status.idle": "2022-07-01T14:19:13.732556Z",
     "shell.execute_reply": "2022-07-01T14:19:13.731929Z",
     "shell.execute_reply.started": "2022-07-01T14:19:13.722976Z"
    },
    "papermill": {
     "duration": null,
     "end_time": null,
     "exception": null,
     "start_time": null,
     "status": "pending"
    },
    "tags": []
   },
   "outputs": [],
   "source": [
    "ar=dfr.iloc[1:75]['items']\n",
    "ar\n",
    "# 두 개로 이루어진 튜플만 시각화 가능하므로\n",
    "# 0, 75 이후 인덱스 로우 제외"
   ]
  },
  {
   "cell_type": "code",
   "execution_count": null,
   "id": "df4a351a",
   "metadata": {
    "execution": {
     "iopub.execute_input": "2022-07-01T14:19:17.037867Z",
     "iopub.status.busy": "2022-07-01T14:19:17.037115Z",
     "iopub.status.idle": "2022-07-01T14:19:17.252776Z",
     "shell.execute_reply": "2022-07-01T14:19:17.252018Z",
     "shell.execute_reply.started": "2022-07-01T14:19:17.037826Z"
    },
    "papermill": {
     "duration": null,
     "end_time": null,
     "exception": null,
     "start_time": null,
     "status": "pending"
    },
    "tags": []
   },
   "outputs": [],
   "source": [
    "# 시각화 : networkx\n",
    "import networkx as nx\n",
    "plt.style.use('ggplot')\n",
    "plt.figure(figsize=(9,6))\n",
    "G=nx.Graph()\n",
    "G.add_edges_from(ar)\n",
    "pos=nx.spring_layout(G)\n",
    "nx.draw(G, pos, font_size=16, with_labels=False,\n",
    "        edge_color='green',node_size=800)\n",
    "for p in pos:\n",
    "    pos[p][1] += 0.07\n",
    "nx.draw_networkx_labels(G,pos)\n",
    "plt.show();"
   ]
  }
 ],
 "metadata": {
  "kernelspec": {
   "display_name": "Python 3",
   "language": "python",
   "name": "python3"
  },
  "language_info": {
   "codemirror_mode": {
    "name": "ipython",
    "version": 3
   },
   "file_extension": ".py",
   "mimetype": "text/x-python",
   "name": "python",
   "nbconvert_exporter": "python",
   "pygments_lexer": "ipython3",
   "version": "3.7.12"
  },
  "papermill": {
   "default_parameters": {},
   "duration": 13.810127,
   "end_time": "2022-07-01T14:20:38.475514",
   "environment_variables": {},
   "exception": true,
   "input_path": "__notebook__.ipynb",
   "output_path": "__notebook__.ipynb",
   "parameters": {},
   "start_time": "2022-07-01T14:20:24.665387",
   "version": "2.3.4"
  }
 },
 "nbformat": 4,
 "nbformat_minor": 5
}
