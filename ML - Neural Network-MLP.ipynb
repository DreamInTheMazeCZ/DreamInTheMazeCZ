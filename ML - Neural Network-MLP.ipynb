{
 "cells": [
  {
   "cell_type": "markdown",
   "id": "c5dc129e",
   "metadata": {
    "papermill": {
     "duration": 0.024106,
     "end_time": "2022-07-01T15:03:20.025326",
     "exception": false,
     "start_time": "2022-07-01T15:03:20.001220",
     "status": "completed"
    },
    "tags": []
   },
   "source": [
    "### sklearn.neural_network.MLPClassifier\n",
    "### sklearn.neural_network.MLPRegressor\n",
    "- 입력층 : 특성치(X)\n",
    "- 출력층 : 레이블(y)\n",
    "\n",
    "#### 주요 Hyperparameter\n",
    "- hidden_layer_sizes : 은닉층 수\n",
    "- 은닉층의 노드 수\n",
    "- learning_rate : 학습률(epoch)\n",
    "- activation : 활성화 함수 - sigmoid, relu 등\n",
    "- solver : 고속 옵티마이저 : 오차를 줄이기 위해 해를 찾는 파라미터. SGD, Adam 등\n",
    "\n",
    "##### MLPClassifier / MLPRegressor(hidden_layer_sizes=100, activation='relu', *, solver='adam', alpha=0.0001, batch_size='auto', learning_rate='constant', learning_rate_init=0.001, power_t=0.5, max_iter=200, shuffle=True, random_state=None, tol=0.0001, verbose=False, warm_start=False, momentum=0.9, nesterovs_momentum=True, ealry_stopping=False, validation_fraction=0.1, beta_1=0.9, beta_2=0.999, epsilon=1e-08, n_iter_no_change=10, max_fun=15000)"
   ]
  },
  {
   "cell_type": "markdown",
   "id": "a6dd8393",
   "metadata": {
    "papermill": {
     "duration": 0.022908,
     "end_time": "2022-07-01T15:03:20.071704",
     "exception": false,
     "start_time": "2022-07-01T15:03:20.048796",
     "status": "completed"
    },
    "tags": []
   },
   "source": [
    "# 분석 코드 - Classification"
   ]
  },
  {
   "cell_type": "code",
   "execution_count": 1,
   "id": "b7f3a43f",
   "metadata": {
    "execution": {
     "iopub.execute_input": "2022-07-01T15:03:20.117863Z",
     "iopub.status.busy": "2022-07-01T15:03:20.117526Z",
     "iopub.status.idle": "2022-07-01T15:03:21.297539Z",
     "shell.execute_reply": "2022-07-01T15:03:21.295427Z"
    },
    "papermill": {
     "duration": 1.206223,
     "end_time": "2022-07-01T15:03:21.299970",
     "exception": false,
     "start_time": "2022-07-01T15:03:20.093747",
     "status": "completed"
    },
    "tags": []
   },
   "outputs": [
    {
     "data": {
      "text/html": [
       "<div>\n",
       "<style scoped>\n",
       "    .dataframe tbody tr th:only-of-type {\n",
       "        vertical-align: middle;\n",
       "    }\n",
       "\n",
       "    .dataframe tbody tr th {\n",
       "        vertical-align: top;\n",
       "    }\n",
       "\n",
       "    .dataframe thead th {\n",
       "        text-align: right;\n",
       "    }\n",
       "</style>\n",
       "<table border=\"1\" class=\"dataframe\">\n",
       "  <thead>\n",
       "    <tr style=\"text-align: right;\">\n",
       "      <th></th>\n",
       "      <th>code</th>\n",
       "      <th>Clump_Thickness</th>\n",
       "      <th>Cell_Size</th>\n",
       "      <th>Cell_Shape</th>\n",
       "      <th>Marginal_Adhesion</th>\n",
       "      <th>Single_Epithelial_Cell_Size</th>\n",
       "      <th>Bare_Nuclei</th>\n",
       "      <th>Bland_Chromatin</th>\n",
       "      <th>Normal_Nucleoli</th>\n",
       "      <th>Mitoses</th>\n",
       "      <th>Class</th>\n",
       "    </tr>\n",
       "  </thead>\n",
       "  <tbody>\n",
       "    <tr>\n",
       "      <th>0</th>\n",
       "      <td>1000025</td>\n",
       "      <td>5</td>\n",
       "      <td>1</td>\n",
       "      <td>1</td>\n",
       "      <td>1</td>\n",
       "      <td>2</td>\n",
       "      <td>1</td>\n",
       "      <td>3</td>\n",
       "      <td>1</td>\n",
       "      <td>1</td>\n",
       "      <td>0</td>\n",
       "    </tr>\n",
       "    <tr>\n",
       "      <th>1</th>\n",
       "      <td>1002945</td>\n",
       "      <td>5</td>\n",
       "      <td>4</td>\n",
       "      <td>4</td>\n",
       "      <td>5</td>\n",
       "      <td>7</td>\n",
       "      <td>10</td>\n",
       "      <td>3</td>\n",
       "      <td>2</td>\n",
       "      <td>1</td>\n",
       "      <td>0</td>\n",
       "    </tr>\n",
       "    <tr>\n",
       "      <th>2</th>\n",
       "      <td>1015425</td>\n",
       "      <td>3</td>\n",
       "      <td>1</td>\n",
       "      <td>1</td>\n",
       "      <td>1</td>\n",
       "      <td>2</td>\n",
       "      <td>2</td>\n",
       "      <td>3</td>\n",
       "      <td>1</td>\n",
       "      <td>1</td>\n",
       "      <td>0</td>\n",
       "    </tr>\n",
       "    <tr>\n",
       "      <th>3</th>\n",
       "      <td>1016277</td>\n",
       "      <td>6</td>\n",
       "      <td>8</td>\n",
       "      <td>8</td>\n",
       "      <td>1</td>\n",
       "      <td>3</td>\n",
       "      <td>4</td>\n",
       "      <td>3</td>\n",
       "      <td>7</td>\n",
       "      <td>1</td>\n",
       "      <td>0</td>\n",
       "    </tr>\n",
       "    <tr>\n",
       "      <th>4</th>\n",
       "      <td>1017023</td>\n",
       "      <td>4</td>\n",
       "      <td>1</td>\n",
       "      <td>1</td>\n",
       "      <td>3</td>\n",
       "      <td>2</td>\n",
       "      <td>1</td>\n",
       "      <td>3</td>\n",
       "      <td>1</td>\n",
       "      <td>1</td>\n",
       "      <td>0</td>\n",
       "    </tr>\n",
       "  </tbody>\n",
       "</table>\n",
       "</div>"
      ],
      "text/plain": [
       "      code  Clump_Thickness  Cell_Size  Cell_Shape  Marginal_Adhesion  \\\n",
       "0  1000025                5          1           1                  1   \n",
       "1  1002945                5          4           4                  5   \n",
       "2  1015425                3          1           1                  1   \n",
       "3  1016277                6          8           8                  1   \n",
       "4  1017023                4          1           1                  3   \n",
       "\n",
       "   Single_Epithelial_Cell_Size  Bare_Nuclei  Bland_Chromatin  Normal_Nucleoli  \\\n",
       "0                            2            1                3                1   \n",
       "1                            7           10                3                2   \n",
       "2                            2            2                3                1   \n",
       "3                            3            4                3                7   \n",
       "4                            2            1                3                1   \n",
       "\n",
       "   Mitoses  Class  \n",
       "0        1      0  \n",
       "1        1      0  \n",
       "2        1      0  \n",
       "3        1      0  \n",
       "4        1      0  "
      ]
     },
     "execution_count": 1,
     "metadata": {},
     "output_type": "execute_result"
    }
   ],
   "source": [
    "# 라이브러리 및 데이터 로드\n",
    "import warnings\n",
    "warnings.filterwarnings('ignore')\n",
    "import pandas as pd\n",
    "import numpy as np\n",
    "import matplotlib.pyplot as plt\n",
    "from scipy.stats import randint\n",
    "from sklearn.model_selection import train_test_split, GridSearchCV, RandomizedSearchCV\n",
    "from sklearn.preprocessing import MinMaxScaler, StandardScaler\n",
    "from sklearn.neural_network import MLPClassifier, MLPRegressor\n",
    "from sklearn.metrics import classification_report, confusion_matrix, mean_squared_error\n",
    "\n",
    "df = pd.read_csv('../input/big-data-certification-study/breast-cancer-wisconsin.csv', encoding='utf-8')\n",
    "df.head()"
   ]
  },
  {
   "cell_type": "code",
   "execution_count": 2,
   "id": "a9dce5bb",
   "metadata": {
    "execution": {
     "iopub.execute_input": "2022-07-01T15:03:21.349512Z",
     "iopub.status.busy": "2022-07-01T15:03:21.348967Z",
     "iopub.status.idle": "2022-07-01T15:03:21.371205Z",
     "shell.execute_reply": "2022-07-01T15:03:21.370571Z"
    },
    "papermill": {
     "duration": 0.048879,
     "end_time": "2022-07-01T15:03:21.373411",
     "exception": false,
     "start_time": "2022-07-01T15:03:21.324532",
     "status": "completed"
    },
    "tags": []
   },
   "outputs": [],
   "source": [
    "# 데이터 분리\n",
    "X=df.drop(columns=['code','Class'])\n",
    "y=df[['Class']]\n",
    "X_train,X_test,y_train,y_test=train_test_split(X,y,stratify=y,random_state=42)"
   ]
  },
  {
   "cell_type": "code",
   "execution_count": 3,
   "id": "971033b7",
   "metadata": {
    "execution": {
     "iopub.execute_input": "2022-07-01T15:03:21.421573Z",
     "iopub.status.busy": "2022-07-01T15:03:21.421149Z",
     "iopub.status.idle": "2022-07-01T15:03:21.429254Z",
     "shell.execute_reply": "2022-07-01T15:03:21.428647Z"
    },
    "papermill": {
     "duration": 0.034472,
     "end_time": "2022-07-01T15:03:21.431271",
     "exception": false,
     "start_time": "2022-07-01T15:03:21.396799",
     "status": "completed"
    },
    "tags": []
   },
   "outputs": [],
   "source": [
    "# 정규화\n",
    "scaler=MinMaxScaler()\n",
    "scaler.fit(X_train)\n",
    "mm_X_train=scaler.transform(X_train)\n",
    "mm_X_test=scaler.transform(X_test)"
   ]
  },
  {
   "cell_type": "code",
   "execution_count": 4,
   "id": "43f48256",
   "metadata": {
    "execution": {
     "iopub.execute_input": "2022-07-01T15:03:21.479270Z",
     "iopub.status.busy": "2022-07-01T15:03:21.478776Z",
     "iopub.status.idle": "2022-07-01T15:03:22.285879Z",
     "shell.execute_reply": "2022-07-01T15:03:22.284910Z"
    },
    "papermill": {
     "duration": 0.834132,
     "end_time": "2022-07-01T15:03:22.288811",
     "exception": false,
     "start_time": "2022-07-01T15:03:21.454679",
     "status": "completed"
    },
    "tags": []
   },
   "outputs": [
    {
     "data": {
      "text/plain": [
       "0.974609375"
      ]
     },
     "execution_count": 4,
     "metadata": {},
     "output_type": "execute_result"
    }
   ],
   "source": [
    "# 모델 적용\n",
    "model=MLPClassifier()\n",
    "model.fit(mm_X_train, y_train)\n",
    "pred_train=model.predict(mm_X_train)\n",
    "model.score(mm_X_train,y_train)"
   ]
  },
  {
   "cell_type": "code",
   "execution_count": 5,
   "id": "b081ceb6",
   "metadata": {
    "execution": {
     "iopub.execute_input": "2022-07-01T15:03:22.375539Z",
     "iopub.status.busy": "2022-07-01T15:03:22.375092Z",
     "iopub.status.idle": "2022-07-01T15:03:22.399227Z",
     "shell.execute_reply": "2022-07-01T15:03:22.397450Z"
    },
    "papermill": {
     "duration": 0.071351,
     "end_time": "2022-07-01T15:03:22.402702",
     "exception": false,
     "start_time": "2022-07-01T15:03:22.331351",
     "status": "completed"
    },
    "tags": []
   },
   "outputs": [
    {
     "name": "stdout",
     "output_type": "stream",
     "text": [
      "혼동행렬 :\n",
      " [[328   5]\n",
      " [  8 171]] \n",
      "\n",
      "\n",
      "분류예측 보고서 :\n",
      "               precision    recall  f1-score   support\n",
      "\n",
      "           0       0.98      0.98      0.98       333\n",
      "           1       0.97      0.96      0.96       179\n",
      "\n",
      "    accuracy                           0.97       512\n",
      "   macro avg       0.97      0.97      0.97       512\n",
      "weighted avg       0.97      0.97      0.97       512\n",
      "\n"
     ]
    }
   ],
   "source": [
    "# 혼동행렬, 분류예측 보고서\n",
    "cm_train=confusion_matrix(y_train,pred_train)\n",
    "cfr_train=classification_report(y_train,pred_train)\n",
    "print('혼동행렬 :\\n',cm_train,\n",
    "      '\\n\\n\\n분류예측 보고서 :\\n',cfr_train)"
   ]
  },
  {
   "cell_type": "code",
   "execution_count": 6,
   "id": "4ddb5faa",
   "metadata": {
    "execution": {
     "iopub.execute_input": "2022-07-01T15:03:22.452501Z",
     "iopub.status.busy": "2022-07-01T15:03:22.452035Z",
     "iopub.status.idle": "2022-07-01T15:03:22.461033Z",
     "shell.execute_reply": "2022-07-01T15:03:22.460307Z"
    },
    "papermill": {
     "duration": 0.036834,
     "end_time": "2022-07-01T15:03:22.463610",
     "exception": false,
     "start_time": "2022-07-01T15:03:22.426776",
     "status": "completed"
    },
    "tags": []
   },
   "outputs": [
    {
     "data": {
      "text/plain": [
       "0.9590643274853801"
      ]
     },
     "execution_count": 6,
     "metadata": {},
     "output_type": "execute_result"
    }
   ],
   "source": [
    "# 모델 적용\n",
    "pred_test=model.predict(mm_X_test)\n",
    "model.score(mm_X_test, y_test)"
   ]
  },
  {
   "cell_type": "code",
   "execution_count": 7,
   "id": "139ddf87",
   "metadata": {
    "execution": {
     "iopub.execute_input": "2022-07-01T15:03:22.556253Z",
     "iopub.status.busy": "2022-07-01T15:03:22.555766Z",
     "iopub.status.idle": "2022-07-01T15:03:22.575999Z",
     "shell.execute_reply": "2022-07-01T15:03:22.574997Z"
    },
    "papermill": {
     "duration": 0.068943,
     "end_time": "2022-07-01T15:03:22.578769",
     "exception": false,
     "start_time": "2022-07-01T15:03:22.509826",
     "status": "completed"
    },
    "tags": []
   },
   "outputs": [
    {
     "name": "stdout",
     "output_type": "stream",
     "text": [
      "혼동행렬 :\n",
      " [[106   5]\n",
      " [  2  58]] \n",
      "\n",
      "\n",
      "분류예측 보고서 :\n",
      "               precision    recall  f1-score   support\n",
      "\n",
      "           0       0.98      0.95      0.97       111\n",
      "           1       0.92      0.97      0.94        60\n",
      "\n",
      "    accuracy                           0.96       171\n",
      "   macro avg       0.95      0.96      0.96       171\n",
      "weighted avg       0.96      0.96      0.96       171\n",
      "\n"
     ]
    }
   ],
   "source": [
    "# 혼동행렬, 분류예측 보고서\n",
    "cm_test=confusion_matrix(y_test,pred_test)\n",
    "cfr_test=classification_report(y_test,pred_test)\n",
    "print('혼동행렬 :\\n',cm_test,'\\n\\n\\n분류예측 보고서 :\\n',cfr_test)"
   ]
  },
  {
   "cell_type": "code",
   "execution_count": 8,
   "id": "c66c191b",
   "metadata": {
    "execution": {
     "iopub.execute_input": "2022-07-01T15:03:22.632071Z",
     "iopub.status.busy": "2022-07-01T15:03:22.631323Z",
     "iopub.status.idle": "2022-07-01T15:04:05.384663Z",
     "shell.execute_reply": "2022-07-01T15:04:05.383796Z"
    },
    "papermill": {
     "duration": 42.827452,
     "end_time": "2022-07-01T15:04:05.432060",
     "exception": false,
     "start_time": "2022-07-01T15:03:22.604608",
     "status": "completed"
    },
    "tags": []
   },
   "outputs": [
    {
     "data": {
      "text/plain": [
       "GridSearchCV(cv=5, estimator=MLPClassifier(),\n",
       "             param_grid={'activation': ['tanh', 'relu'],\n",
       "                         'hidden_layer_sizes': [10, 30, 50, 100],\n",
       "                         'solver': ['sgd', 'adam']},\n",
       "             return_train_score=True)"
      ]
     },
     "execution_count": 8,
     "metadata": {},
     "output_type": "execute_result"
    }
   ],
   "source": [
    "# Hyperparameter Tuning\n",
    "# Grid Search\n",
    "param_g = {'hidden_layer_sizes':[10,30,50,100], 'solver':['sgd','adam'],'activation':['tanh','relu']}\n",
    "grid= GridSearchCV(MLPClassifier(), param_g, cv=5, return_train_score=True)\n",
    "grid.fit(mm_X_train, y_train)"
   ]
  },
  {
   "cell_type": "code",
   "execution_count": 9,
   "id": "066d3e9e",
   "metadata": {
    "execution": {
     "iopub.execute_input": "2022-07-01T15:04:05.511972Z",
     "iopub.status.busy": "2022-07-01T15:04:05.511680Z",
     "iopub.status.idle": "2022-07-01T15:04:05.519345Z",
     "shell.execute_reply": "2022-07-01T15:04:05.518627Z"
    },
    "papermill": {
     "duration": 0.043798,
     "end_time": "2022-07-01T15:04:05.521212",
     "exception": false,
     "start_time": "2022-07-01T15:04:05.477414",
     "status": "completed"
    },
    "tags": []
   },
   "outputs": [
    {
     "name": "stdout",
     "output_type": "stream",
     "text": [
      "Best Parameter : {'activation': 'relu', 'hidden_layer_sizes': 50, 'solver': 'adam'}\n",
      "Best Score : 0.9765\n",
      "Test Score : 0.9591\n"
     ]
    }
   ],
   "source": [
    "print('Best Parameter :', grid.best_params_)\n",
    "print('Best Score :',round(grid.best_score_,4))\n",
    "print('Test Score :',round(grid.score(mm_X_test, y_test),4))"
   ]
  },
  {
   "cell_type": "code",
   "execution_count": 10,
   "id": "2340f1c1",
   "metadata": {
    "execution": {
     "iopub.execute_input": "2022-07-01T15:04:05.574444Z",
     "iopub.status.busy": "2022-07-01T15:04:05.573940Z",
     "iopub.status.idle": "2022-07-01T15:04:29.787464Z",
     "shell.execute_reply": "2022-07-01T15:04:29.786586Z"
    },
    "papermill": {
     "duration": 24.243396,
     "end_time": "2022-07-01T15:04:29.790427",
     "exception": false,
     "start_time": "2022-07-01T15:04:05.547031",
     "status": "completed"
    },
    "tags": []
   },
   "outputs": [
    {
     "data": {
      "text/plain": [
       "RandomizedSearchCV(cv=5, estimator=MLPClassifier(),\n",
       "                   param_distributions={'activation': ['tanh', 'relu'],\n",
       "                                        'hidden_layer_sizes': <scipy.stats._distn_infrastructure.rv_frozen object at 0x7f8ee25929d0>,\n",
       "                                        'solver': ['sgd', 'adam']},\n",
       "                   return_train_score=True)"
      ]
     },
     "execution_count": 10,
     "metadata": {},
     "output_type": "execute_result"
    }
   ],
   "source": [
    "# Randomized Search\n",
    "param_r={'hidden_layer_sizes':randint(low=10,high=100), 'solver':['sgd','adam'],'activation':['tanh','relu']}\n",
    "random=RandomizedSearchCV(MLPClassifier(), param_distributions=param_r, cv=5, n_iter=10, return_train_score=True)\n",
    "random.fit(mm_X_train, y_train)"
   ]
  },
  {
   "cell_type": "code",
   "execution_count": 11,
   "id": "c6378cbd",
   "metadata": {
    "execution": {
     "iopub.execute_input": "2022-07-01T15:04:29.887610Z",
     "iopub.status.busy": "2022-07-01T15:04:29.887186Z",
     "iopub.status.idle": "2022-07-01T15:04:29.901860Z",
     "shell.execute_reply": "2022-07-01T15:04:29.900932Z"
    },
    "papermill": {
     "duration": 0.067121,
     "end_time": "2022-07-01T15:04:29.905116",
     "exception": false,
     "start_time": "2022-07-01T15:04:29.837995",
     "status": "completed"
    },
    "tags": []
   },
   "outputs": [
    {
     "name": "stdout",
     "output_type": "stream",
     "text": [
      "Best Parameter : {'activation': 'relu', 'hidden_layer_sizes': 79, 'solver': 'adam'}\n",
      "Best Score : 0.9726\n",
      "Test Score : 0.9591\n"
     ]
    }
   ],
   "source": [
    "print('Best Parameter :', random.best_params_) \n",
    "print('Best Score :',round(random.best_score_,4)) \n",
    "print('Test Score :',round(random.score(mm_X_test, y_test),4))"
   ]
  },
  {
   "cell_type": "markdown",
   "id": "6cbf3aa1",
   "metadata": {
    "papermill": {
     "duration": 0.048529,
     "end_time": "2022-07-01T15:04:30.004008",
     "exception": false,
     "start_time": "2022-07-01T15:04:29.955479",
     "status": "completed"
    },
    "tags": []
   },
   "source": [
    "# 분석 코드 - Regression"
   ]
  },
  {
   "cell_type": "code",
   "execution_count": 12,
   "id": "ebac7501",
   "metadata": {
    "execution": {
     "iopub.execute_input": "2022-07-01T15:04:30.064227Z",
     "iopub.status.busy": "2022-07-01T15:04:30.063944Z",
     "iopub.status.idle": "2022-07-01T15:04:30.129652Z",
     "shell.execute_reply": "2022-07-01T15:04:30.129010Z"
    },
    "papermill": {
     "duration": 0.096159,
     "end_time": "2022-07-01T15:04:30.131510",
     "exception": false,
     "start_time": "2022-07-01T15:04:30.035351",
     "status": "completed"
    },
    "tags": []
   },
   "outputs": [
    {
     "data": {
      "text/html": [
       "<div>\n",
       "<style scoped>\n",
       "    .dataframe tbody tr th:only-of-type {\n",
       "        vertical-align: middle;\n",
       "    }\n",
       "\n",
       "    .dataframe tbody tr th {\n",
       "        vertical-align: top;\n",
       "    }\n",
       "\n",
       "    .dataframe thead th {\n",
       "        text-align: right;\n",
       "    }\n",
       "</style>\n",
       "<table border=\"1\" class=\"dataframe\">\n",
       "  <thead>\n",
       "    <tr style=\"text-align: right;\">\n",
       "      <th></th>\n",
       "      <th>housing_age</th>\n",
       "      <th>income</th>\n",
       "      <th>bedrooms</th>\n",
       "      <th>households</th>\n",
       "      <th>rooms</th>\n",
       "      <th>house_value</th>\n",
       "    </tr>\n",
       "  </thead>\n",
       "  <tbody>\n",
       "    <tr>\n",
       "      <th>0</th>\n",
       "      <td>23</td>\n",
       "      <td>6.7770</td>\n",
       "      <td>0.141112</td>\n",
       "      <td>2.442244</td>\n",
       "      <td>8.103960</td>\n",
       "      <td>500000</td>\n",
       "    </tr>\n",
       "    <tr>\n",
       "      <th>1</th>\n",
       "      <td>49</td>\n",
       "      <td>6.0199</td>\n",
       "      <td>0.160984</td>\n",
       "      <td>2.726688</td>\n",
       "      <td>5.752412</td>\n",
       "      <td>500000</td>\n",
       "    </tr>\n",
       "    <tr>\n",
       "      <th>2</th>\n",
       "      <td>35</td>\n",
       "      <td>5.1155</td>\n",
       "      <td>0.249061</td>\n",
       "      <td>1.902676</td>\n",
       "      <td>3.888078</td>\n",
       "      <td>500000</td>\n",
       "    </tr>\n",
       "    <tr>\n",
       "      <th>3</th>\n",
       "      <td>32</td>\n",
       "      <td>4.7109</td>\n",
       "      <td>0.231383</td>\n",
       "      <td>1.913669</td>\n",
       "      <td>4.508393</td>\n",
       "      <td>500000</td>\n",
       "    </tr>\n",
       "    <tr>\n",
       "      <th>4</th>\n",
       "      <td>21</td>\n",
       "      <td>4.5625</td>\n",
       "      <td>0.255583</td>\n",
       "      <td>3.092664</td>\n",
       "      <td>4.667954</td>\n",
       "      <td>500000</td>\n",
       "    </tr>\n",
       "  </tbody>\n",
       "</table>\n",
       "</div>"
      ],
      "text/plain": [
       "   housing_age  income  bedrooms  households     rooms  house_value\n",
       "0           23  6.7770  0.141112    2.442244  8.103960       500000\n",
       "1           49  6.0199  0.160984    2.726688  5.752412       500000\n",
       "2           35  5.1155  0.249061    1.902676  3.888078       500000\n",
       "3           32  4.7109  0.231383    1.913669  4.508393       500000\n",
       "4           21  4.5625  0.255583    3.092664  4.667954       500000"
      ]
     },
     "execution_count": 12,
     "metadata": {},
     "output_type": "execute_result"
    }
   ],
   "source": [
    "df2=pd.read_csv('../input/big-data-certification-study/house_price.csv', encoding='utf-8') \n",
    "df2.head()"
   ]
  },
  {
   "cell_type": "code",
   "execution_count": 13,
   "id": "fdd061da",
   "metadata": {
    "execution": {
     "iopub.execute_input": "2022-07-01T15:04:30.187338Z",
     "iopub.status.busy": "2022-07-01T15:04:30.186589Z",
     "iopub.status.idle": "2022-07-01T15:04:30.197911Z",
     "shell.execute_reply": "2022-07-01T15:04:30.197335Z"
    },
    "papermill": {
     "duration": 0.041147,
     "end_time": "2022-07-01T15:04:30.199912",
     "exception": false,
     "start_time": "2022-07-01T15:04:30.158765",
     "status": "completed"
    },
    "tags": []
   },
   "outputs": [],
   "source": [
    "# 데이터 분리 \n",
    "X=df2.drop(columns=['house_value']) \n",
    "y=df2[['house_value']] \n",
    "X_train, X_test, y_train, y_test=train_test_split(X,y,random_state=42)"
   ]
  },
  {
   "cell_type": "code",
   "execution_count": 14,
   "id": "8e77270b",
   "metadata": {
    "execution": {
     "iopub.execute_input": "2022-07-01T15:04:30.255693Z",
     "iopub.status.busy": "2022-07-01T15:04:30.255178Z",
     "iopub.status.idle": "2022-07-01T15:04:30.265264Z",
     "shell.execute_reply": "2022-07-01T15:04:30.264445Z"
    },
    "papermill": {
     "duration": 0.040612,
     "end_time": "2022-07-01T15:04:30.267454",
     "exception": false,
     "start_time": "2022-07-01T15:04:30.226842",
     "status": "completed"
    },
    "tags": []
   },
   "outputs": [],
   "source": [
    "# 정규화 \n",
    "scale=MinMaxScaler() \n",
    "scale.fit(X_train) \n",
    "ms_X_train=scale.transform(X_train) \n",
    "ms_x_test=scale.transform(X_test)"
   ]
  },
  {
   "cell_type": "code",
   "execution_count": 15,
   "id": "73058e63",
   "metadata": {
    "execution": {
     "iopub.execute_input": "2022-07-01T15:04:30.322821Z",
     "iopub.status.busy": "2022-07-01T15:04:30.322521Z",
     "iopub.status.idle": "2022-07-01T15:04:45.569184Z",
     "shell.execute_reply": "2022-07-01T15:04:45.568405Z"
    },
    "papermill": {
     "duration": 15.277582,
     "end_time": "2022-07-01T15:04:45.571943",
     "exception": false,
     "start_time": "2022-07-01T15:04:30.294361",
     "status": "completed"
    },
    "tags": []
   },
   "outputs": [
    {
     "data": {
      "text/plain": [
       "-2.5047624032906692"
      ]
     },
     "execution_count": 15,
     "metadata": {},
     "output_type": "execute_result"
    }
   ],
   "source": [
    "# 모델 적용 \n",
    "model_r=MLPRegressor() \n",
    "model_r.fit(ms_X_train, y_train) \n",
    "pred_x=model_r.predict(ms_X_train) \n",
    "model_r.score(ms_X_train, y_train)"
   ]
  },
  {
   "cell_type": "code",
   "execution_count": 16,
   "id": "db3a4518",
   "metadata": {
    "execution": {
     "iopub.execute_input": "2022-07-01T15:04:45.671945Z",
     "iopub.status.busy": "2022-07-01T15:04:45.671523Z",
     "iopub.status.idle": "2022-07-01T15:04:45.694980Z",
     "shell.execute_reply": "2022-07-01T15:04:45.694071Z"
    },
    "papermill": {
     "duration": 0.077063,
     "end_time": "2022-07-01T15:04:45.698465",
     "exception": false,
     "start_time": "2022-07-01T15:04:45.621402",
     "status": "completed"
    },
    "tags": []
   },
   "outputs": [
    {
     "data": {
      "text/plain": [
       "-2.465133935116116"
      ]
     },
     "execution_count": 16,
     "metadata": {},
     "output_type": "execute_result"
    }
   ],
   "source": [
    "pred_y=model_r.predict(ms_x_test) \n",
    "model_r.score(ms_x_test,y_test)"
   ]
  },
  {
   "cell_type": "code",
   "execution_count": 17,
   "id": "60bcb4ab",
   "metadata": {
    "execution": {
     "iopub.execute_input": "2022-07-01T15:04:45.802475Z",
     "iopub.status.busy": "2022-07-01T15:04:45.802037Z",
     "iopub.status.idle": "2022-07-01T15:04:45.814325Z",
     "shell.execute_reply": "2022-07-01T15:04:45.813352Z"
    },
    "papermill": {
     "duration": 0.067542,
     "end_time": "2022-07-01T15:04:45.817528",
     "exception": false,
     "start_time": "2022-07-01T15:04:45.749986",
     "status": "completed"
    },
    "tags": []
   },
   "outputs": [
    {
     "name": "stdout",
     "output_type": "stream",
     "text": [
      "Train RMSE : 178682 \n",
      "Test  RMSE : 177960\n"
     ]
    }
   ],
   "source": [
    "# RMSE \n",
    "rmse_train=np.sqrt(mean_squared_error(y_train,pred_x)) \n",
    "rmse_test=np.sqrt(mean_squared_error(y_test,pred_y)) \n",
    "print('Train RMSE :', round(rmse_train), '\\nTest  RMSE :', round(rmse_test))"
   ]
  },
  {
   "cell_type": "code",
   "execution_count": 18,
   "id": "448fc7cd",
   "metadata": {
    "execution": {
     "iopub.execute_input": "2022-07-01T15:04:45.876444Z",
     "iopub.status.busy": "2022-07-01T15:04:45.875806Z",
     "iopub.status.idle": "2022-07-01T15:05:19.166426Z",
     "shell.execute_reply": "2022-07-01T15:05:19.165513Z"
    },
    "papermill": {
     "duration": 33.373798,
     "end_time": "2022-07-01T15:05:19.220627",
     "exception": false,
     "start_time": "2022-07-01T15:04:45.846829",
     "status": "completed"
    },
    "tags": []
   },
   "outputs": [
    {
     "data": {
      "text/plain": [
       "0.5930441651564293"
      ]
     },
     "execution_count": 18,
     "metadata": {},
     "output_type": "execute_result"
    }
   ],
   "source": [
    "mlpr=MLPRegressor(hidden_layer_sizes=(64,64,64),  # 3개 은닉층과 각각 64개의 노드 설정\n",
    "                  activation='relu',\n",
    "                  random_state=1,max_iter=2000) \n",
    "mlpr.fit(ms_X_train, y_train) \n",
    "pred_x=mlpr.predict(ms_X_train) \n",
    "mlpr.score(ms_X_train, y_train)\n",
    "\n",
    "# MLP 회귀모델은 탐색으로 최적 조합을 찾기 힘들기 때문에 임의 설정"
   ]
  },
  {
   "cell_type": "code",
   "execution_count": 19,
   "id": "fa38e315",
   "metadata": {
    "execution": {
     "iopub.execute_input": "2022-07-01T15:05:19.304878Z",
     "iopub.status.busy": "2022-07-01T15:05:19.304583Z",
     "iopub.status.idle": "2022-07-01T15:05:19.357115Z",
     "shell.execute_reply": "2022-07-01T15:05:19.356192Z"
    },
    "papermill": {
     "duration": 0.087948,
     "end_time": "2022-07-01T15:05:19.359985",
     "exception": false,
     "start_time": "2022-07-01T15:05:19.272037",
     "status": "completed"
    },
    "tags": []
   },
   "outputs": [
    {
     "data": {
      "text/plain": [
       "0.6059090052608731"
      ]
     },
     "execution_count": 19,
     "metadata": {},
     "output_type": "execute_result"
    }
   ],
   "source": [
    "pred_y=mlpr.predict(ms_x_test) \n",
    "mlpr.score(ms_x_test,y_test)"
   ]
  },
  {
   "cell_type": "code",
   "execution_count": 20,
   "id": "20e2d7e6",
   "metadata": {
    "execution": {
     "iopub.execute_input": "2022-07-01T15:05:19.466022Z",
     "iopub.status.busy": "2022-07-01T15:05:19.465495Z",
     "iopub.status.idle": "2022-07-01T15:05:19.477001Z",
     "shell.execute_reply": "2022-07-01T15:05:19.475879Z"
    },
    "papermill": {
     "duration": 0.066979,
     "end_time": "2022-07-01T15:05:19.478971",
     "exception": false,
     "start_time": "2022-07-01T15:05:19.411992",
     "status": "completed"
    },
    "tags": []
   },
   "outputs": [
    {
     "name": "stdout",
     "output_type": "stream",
     "text": [
      "Train RMSE : 60887 \n",
      "Test  RMSE : 60015\n"
     ]
    }
   ],
   "source": [
    "# RMSE \n",
    "rmse_train=np.sqrt(mean_squared_error(y_train,pred_x)) \n",
    "rmse_test=np.sqrt(mean_squared_error(y_test,pred_y)) \n",
    "print('Train RMSE :', round(rmse_train), '\\nTest  RMSE :', round(rmse_test))"
   ]
  }
 ],
 "metadata": {
  "kernelspec": {
   "display_name": "Python 3",
   "language": "python",
   "name": "python3"
  },
  "language_info": {
   "codemirror_mode": {
    "name": "ipython",
    "version": 3
   },
   "file_extension": ".py",
   "mimetype": "text/x-python",
   "name": "python",
   "nbconvert_exporter": "python",
   "pygments_lexer": "ipython3",
   "version": "3.7.12"
  },
  "papermill": {
   "default_parameters": {},
   "duration": 130.268595,
   "end_time": "2022-07-01T15:05:20.228864",
   "environment_variables": {},
   "exception": null,
   "input_path": "__notebook__.ipynb",
   "output_path": "__notebook__.ipynb",
   "parameters": {},
   "start_time": "2022-07-01T15:03:09.960269",
   "version": "2.3.4"
  }
 },
 "nbformat": 4,
 "nbformat_minor": 5
}
