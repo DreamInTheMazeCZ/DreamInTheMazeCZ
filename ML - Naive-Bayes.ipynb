{
 "cells": [
  {
   "cell_type": "markdown",
   "id": "fcee7978",
   "metadata": {
    "papermill": {
     "duration": 0.03097,
     "end_time": "2022-07-01T16:49:08.499628",
     "exception": false,
     "start_time": "2022-07-01T16:49:08.468658",
     "status": "completed"
    },
    "tags": []
   },
   "source": [
    "### sklearn.naive_bayes.GaussianNB\n",
    "### sklearn.linear_model.BayesianRidge\n",
    "\n",
    "#### 사건 B가 주어졌을 때 사건 A가 일어날 확률인 P(A|B), 즉 조건부확률과 베이즈 정리룰 이용한 알고리즘\n",
    "#### 나이브란 예측에 사용된 특성치 X가 상호독립적이라는 가정하에 확률계산을 단순화하기 위해 나이브(단순한 가정)라고 명명\n",
    "#### 베이즈는 특성치 X가 클래스 전체의 확률분포에 대비하여 특정 클래스에 속할 확률을 베이즈 정리를 기반으로 계산\n",
    "- 모든 특성치가 레이블을 분류 혹은 예측하는 데 동등한 역할\n",
    "- 분류 문제에서는 GaussianNB 알고리즘을 주로 사용하는데 가우시안은 가우스분포, 즉 정규분포상에서 발생확률을 계산하기 때문에 붙여진 이름(특성치 중 연속형 자료일 경우 발생확률을 정규분포상에서의 확률, 즉 우도를 구하여 계산)\n",
    "- 회귀 문제는 naive_bayes 알고리즘과 잘 맞지 않으므로 linear_model의 BaysianRidge 사용\n",
    "\n",
    "#### 주요 Hyperparameter\n",
    "##### GaussianNB\n",
    "- var_smoothing : 기본값 0.000000001로, 안정적인 연산을 위해 분산에 더해지는 모든 특성치의 최대 분산 비율\n",
    "\n",
    "##### BayesianRidge\n",
    "- alpha_1 : 기본값 1e-6으로, 감마분포의 alpha 파라미터 사전 설정\n",
    "- lambda_1 : 기본값 1e-6으로, 감마분포의 lambda 파라미터 사전 설정\n",
    "\n",
    "##### GaussianNB(*, priors, ...)\n",
    "##### BayesianRidge(*, n_iter=300, tol=0.001, alpha_1=1e-06, alpha_2=1e-06, lambda_1=1e-06, lambda_2=1e-06, alpha_init=None, lambda_init=None, compute_score=False, fit_intercept=True, normalize=False, copy_X=True, verbose=False)"
   ]
  },
  {
   "cell_type": "markdown",
   "id": "00494819",
   "metadata": {
    "papermill": {
     "duration": 0.030002,
     "end_time": "2022-07-01T16:49:08.559423",
     "exception": false,
     "start_time": "2022-07-01T16:49:08.529421",
     "status": "completed"
    },
    "tags": []
   },
   "source": [
    "# 분석 코드 - Classification"
   ]
  },
  {
   "cell_type": "code",
   "execution_count": 1,
   "id": "fe88270c",
   "metadata": {
    "execution": {
     "iopub.execute_input": "2022-07-01T16:49:08.623860Z",
     "iopub.status.busy": "2022-07-01T16:49:08.623543Z",
     "iopub.status.idle": "2022-07-01T16:49:10.038345Z",
     "shell.execute_reply": "2022-07-01T16:49:10.037311Z"
    },
    "papermill": {
     "duration": 1.450661,
     "end_time": "2022-07-01T16:49:10.041094",
     "exception": false,
     "start_time": "2022-07-01T16:49:08.590433",
     "status": "completed"
    },
    "tags": []
   },
   "outputs": [
    {
     "data": {
      "text/html": [
       "<div>\n",
       "<style scoped>\n",
       "    .dataframe tbody tr th:only-of-type {\n",
       "        vertical-align: middle;\n",
       "    }\n",
       "\n",
       "    .dataframe tbody tr th {\n",
       "        vertical-align: top;\n",
       "    }\n",
       "\n",
       "    .dataframe thead th {\n",
       "        text-align: right;\n",
       "    }\n",
       "</style>\n",
       "<table border=\"1\" class=\"dataframe\">\n",
       "  <thead>\n",
       "    <tr style=\"text-align: right;\">\n",
       "      <th></th>\n",
       "      <th>code</th>\n",
       "      <th>Clump_Thickness</th>\n",
       "      <th>Cell_Size</th>\n",
       "      <th>Cell_Shape</th>\n",
       "      <th>Marginal_Adhesion</th>\n",
       "      <th>Single_Epithelial_Cell_Size</th>\n",
       "      <th>Bare_Nuclei</th>\n",
       "      <th>Bland_Chromatin</th>\n",
       "      <th>Normal_Nucleoli</th>\n",
       "      <th>Mitoses</th>\n",
       "      <th>Class</th>\n",
       "    </tr>\n",
       "  </thead>\n",
       "  <tbody>\n",
       "    <tr>\n",
       "      <th>0</th>\n",
       "      <td>1000025</td>\n",
       "      <td>5</td>\n",
       "      <td>1</td>\n",
       "      <td>1</td>\n",
       "      <td>1</td>\n",
       "      <td>2</td>\n",
       "      <td>1</td>\n",
       "      <td>3</td>\n",
       "      <td>1</td>\n",
       "      <td>1</td>\n",
       "      <td>0</td>\n",
       "    </tr>\n",
       "    <tr>\n",
       "      <th>1</th>\n",
       "      <td>1002945</td>\n",
       "      <td>5</td>\n",
       "      <td>4</td>\n",
       "      <td>4</td>\n",
       "      <td>5</td>\n",
       "      <td>7</td>\n",
       "      <td>10</td>\n",
       "      <td>3</td>\n",
       "      <td>2</td>\n",
       "      <td>1</td>\n",
       "      <td>0</td>\n",
       "    </tr>\n",
       "    <tr>\n",
       "      <th>2</th>\n",
       "      <td>1015425</td>\n",
       "      <td>3</td>\n",
       "      <td>1</td>\n",
       "      <td>1</td>\n",
       "      <td>1</td>\n",
       "      <td>2</td>\n",
       "      <td>2</td>\n",
       "      <td>3</td>\n",
       "      <td>1</td>\n",
       "      <td>1</td>\n",
       "      <td>0</td>\n",
       "    </tr>\n",
       "    <tr>\n",
       "      <th>3</th>\n",
       "      <td>1016277</td>\n",
       "      <td>6</td>\n",
       "      <td>8</td>\n",
       "      <td>8</td>\n",
       "      <td>1</td>\n",
       "      <td>3</td>\n",
       "      <td>4</td>\n",
       "      <td>3</td>\n",
       "      <td>7</td>\n",
       "      <td>1</td>\n",
       "      <td>0</td>\n",
       "    </tr>\n",
       "    <tr>\n",
       "      <th>4</th>\n",
       "      <td>1017023</td>\n",
       "      <td>4</td>\n",
       "      <td>1</td>\n",
       "      <td>1</td>\n",
       "      <td>3</td>\n",
       "      <td>2</td>\n",
       "      <td>1</td>\n",
       "      <td>3</td>\n",
       "      <td>1</td>\n",
       "      <td>1</td>\n",
       "      <td>0</td>\n",
       "    </tr>\n",
       "  </tbody>\n",
       "</table>\n",
       "</div>"
      ],
      "text/plain": [
       "      code  Clump_Thickness  Cell_Size  Cell_Shape  Marginal_Adhesion  \\\n",
       "0  1000025                5          1           1                  1   \n",
       "1  1002945                5          4           4                  5   \n",
       "2  1015425                3          1           1                  1   \n",
       "3  1016277                6          8           8                  1   \n",
       "4  1017023                4          1           1                  3   \n",
       "\n",
       "   Single_Epithelial_Cell_Size  Bare_Nuclei  Bland_Chromatin  Normal_Nucleoli  \\\n",
       "0                            2            1                3                1   \n",
       "1                            7           10                3                2   \n",
       "2                            2            2                3                1   \n",
       "3                            3            4                3                7   \n",
       "4                            2            1                3                1   \n",
       "\n",
       "   Mitoses  Class  \n",
       "0        1      0  \n",
       "1        1      0  \n",
       "2        1      0  \n",
       "3        1      0  \n",
       "4        1      0  "
      ]
     },
     "execution_count": 1,
     "metadata": {},
     "output_type": "execute_result"
    }
   ],
   "source": [
    "# 라이브러리 및 데이터 로드\n",
    "import warnings\n",
    "warnings.filterwarnings('ignore')\n",
    "import pandas as pd\n",
    "import numpy as np\n",
    "import matplotlib.pyplot as plt\n",
    "from scipy.stats import randint\n",
    "from sklearn.model_selection import train_test_split, GridSearchCV, RandomizedSearchCV\n",
    "from sklearn.preprocessing import MinMaxScaler, StandardScaler\n",
    "from sklearn.naive_bayes import GaussianNB\n",
    "from sklearn.linear_model import BayesianRidge\n",
    "from sklearn.metrics import classification_report, confusion_matrix, mean_squared_error\n",
    "\n",
    "df = pd.read_csv('../input/big-data-certification-study/breast-cancer-wisconsin.csv', encoding='utf-8')\n",
    "df.head()"
   ]
  },
  {
   "cell_type": "code",
   "execution_count": 2,
   "id": "30dd0ba4",
   "metadata": {
    "execution": {
     "iopub.execute_input": "2022-07-01T16:49:10.107272Z",
     "iopub.status.busy": "2022-07-01T16:49:10.107017Z",
     "iopub.status.idle": "2022-07-01T16:49:10.129713Z",
     "shell.execute_reply": "2022-07-01T16:49:10.128962Z"
    },
    "papermill": {
     "duration": 0.05831,
     "end_time": "2022-07-01T16:49:10.132067",
     "exception": false,
     "start_time": "2022-07-01T16:49:10.073757",
     "status": "completed"
    },
    "tags": []
   },
   "outputs": [],
   "source": [
    "# 데이터 분리\n",
    "X=df.drop(columns=['code','Class'])\n",
    "y=df[['Class']]\n",
    "X_train,X_test,y_train,y_test=train_test_split(X,y,stratify=y,random_state=42)"
   ]
  },
  {
   "cell_type": "code",
   "execution_count": 3,
   "id": "b1aaa34f",
   "metadata": {
    "execution": {
     "iopub.execute_input": "2022-07-01T16:49:10.199704Z",
     "iopub.status.busy": "2022-07-01T16:49:10.199442Z",
     "iopub.status.idle": "2022-07-01T16:49:10.210241Z",
     "shell.execute_reply": "2022-07-01T16:49:10.208780Z"
    },
    "papermill": {
     "duration": 0.04718,
     "end_time": "2022-07-01T16:49:10.212951",
     "exception": false,
     "start_time": "2022-07-01T16:49:10.165771",
     "status": "completed"
    },
    "tags": []
   },
   "outputs": [],
   "source": [
    "# 정규화\n",
    "scaler=MinMaxScaler()\n",
    "scaler.fit(X_train)\n",
    "mm_X_train=scaler.transform(X_train)\n",
    "mm_X_test=scaler.transform(X_test)"
   ]
  },
  {
   "cell_type": "code",
   "execution_count": 4,
   "id": "6b73682b",
   "metadata": {
    "execution": {
     "iopub.execute_input": "2022-07-01T16:49:10.281234Z",
     "iopub.status.busy": "2022-07-01T16:49:10.280813Z",
     "iopub.status.idle": "2022-07-01T16:49:10.290709Z",
     "shell.execute_reply": "2022-07-01T16:49:10.289907Z"
    },
    "papermill": {
     "duration": 0.048259,
     "end_time": "2022-07-01T16:49:10.292863",
     "exception": false,
     "start_time": "2022-07-01T16:49:10.244604",
     "status": "completed"
    },
    "tags": []
   },
   "outputs": [
    {
     "data": {
      "text/plain": [
       "0.966796875"
      ]
     },
     "execution_count": 4,
     "metadata": {},
     "output_type": "execute_result"
    }
   ],
   "source": [
    "# 모델 적용\n",
    "model=GaussianNB()\n",
    "model.fit(mm_X_train, y_train)\n",
    "pred_train=model.predict(mm_X_train)\n",
    "model.score(mm_X_train,y_train)"
   ]
  },
  {
   "cell_type": "code",
   "execution_count": 5,
   "id": "dca04993",
   "metadata": {
    "execution": {
     "iopub.execute_input": "2022-07-01T16:49:10.361758Z",
     "iopub.status.busy": "2022-07-01T16:49:10.361032Z",
     "iopub.status.idle": "2022-07-01T16:49:10.376749Z",
     "shell.execute_reply": "2022-07-01T16:49:10.375979Z"
    },
    "papermill": {
     "duration": 0.052308,
     "end_time": "2022-07-01T16:49:10.378936",
     "exception": false,
     "start_time": "2022-07-01T16:49:10.326628",
     "status": "completed"
    },
    "tags": []
   },
   "outputs": [
    {
     "name": "stdout",
     "output_type": "stream",
     "text": [
      "혼동행렬 :\n",
      " [[319  14]\n",
      " [  3 176]] \n",
      "\n",
      "\n",
      "분류예측 보고서 :\n",
      "               precision    recall  f1-score   support\n",
      "\n",
      "           0       0.99      0.96      0.97       333\n",
      "           1       0.93      0.98      0.95       179\n",
      "\n",
      "    accuracy                           0.97       512\n",
      "   macro avg       0.96      0.97      0.96       512\n",
      "weighted avg       0.97      0.97      0.97       512\n",
      "\n"
     ]
    }
   ],
   "source": [
    "# 혼동행렬, 분류예측 보고서\n",
    "cm_train=confusion_matrix(y_train,pred_train)\n",
    "cfr_train=classification_report(y_train,pred_train)\n",
    "print('혼동행렬 :\\n',cm_train,\n",
    "      '\\n\\n\\n분류예측 보고서 :\\n',cfr_train)"
   ]
  },
  {
   "cell_type": "code",
   "execution_count": 6,
   "id": "e6b42aed",
   "metadata": {
    "execution": {
     "iopub.execute_input": "2022-07-01T16:49:10.452516Z",
     "iopub.status.busy": "2022-07-01T16:49:10.451981Z",
     "iopub.status.idle": "2022-07-01T16:49:10.459507Z",
     "shell.execute_reply": "2022-07-01T16:49:10.458713Z"
    },
    "papermill": {
     "duration": 0.048903,
     "end_time": "2022-07-01T16:49:10.461635",
     "exception": false,
     "start_time": "2022-07-01T16:49:10.412732",
     "status": "completed"
    },
    "tags": []
   },
   "outputs": [
    {
     "data": {
      "text/plain": [
       "0.9590643274853801"
      ]
     },
     "execution_count": 6,
     "metadata": {},
     "output_type": "execute_result"
    }
   ],
   "source": [
    "# 모델 적용\n",
    "pred_test=model.predict(mm_X_test)\n",
    "model.score(mm_X_test, y_test)"
   ]
  },
  {
   "cell_type": "code",
   "execution_count": 7,
   "id": "13e752e3",
   "metadata": {
    "execution": {
     "iopub.execute_input": "2022-07-01T16:49:10.536050Z",
     "iopub.status.busy": "2022-07-01T16:49:10.535522Z",
     "iopub.status.idle": "2022-07-01T16:49:10.546777Z",
     "shell.execute_reply": "2022-07-01T16:49:10.546253Z"
    },
    "papermill": {
     "duration": 0.051269,
     "end_time": "2022-07-01T16:49:10.548903",
     "exception": false,
     "start_time": "2022-07-01T16:49:10.497634",
     "status": "completed"
    },
    "tags": []
   },
   "outputs": [
    {
     "name": "stdout",
     "output_type": "stream",
     "text": [
      "혼동행렬 :\n",
      " [[106   5]\n",
      " [  2  58]] \n",
      "\n",
      "\n",
      "분류예측 보고서 :\n",
      "               precision    recall  f1-score   support\n",
      "\n",
      "           0       0.98      0.95      0.97       111\n",
      "           1       0.92      0.97      0.94        60\n",
      "\n",
      "    accuracy                           0.96       171\n",
      "   macro avg       0.95      0.96      0.96       171\n",
      "weighted avg       0.96      0.96      0.96       171\n",
      "\n"
     ]
    }
   ],
   "source": [
    "# 혼동행렬, 분류예측 보고서\n",
    "cm_test=confusion_matrix(y_test,pred_test)\n",
    "cfr_test=classification_report(y_test,pred_test)\n",
    "print('혼동행렬 :\\n',cm_test,'\\n\\n\\n분류예측 보고서 :\\n',cfr_test)"
   ]
  },
  {
   "cell_type": "code",
   "execution_count": 8,
   "id": "45639aa6",
   "metadata": {
    "execution": {
     "iopub.execute_input": "2022-07-01T16:49:10.623939Z",
     "iopub.status.busy": "2022-07-01T16:49:10.623650Z",
     "iopub.status.idle": "2022-07-01T16:49:10.748144Z",
     "shell.execute_reply": "2022-07-01T16:49:10.747468Z"
    },
    "papermill": {
     "duration": 0.16362,
     "end_time": "2022-07-01T16:49:10.750166",
     "exception": false,
     "start_time": "2022-07-01T16:49:10.586546",
     "status": "completed"
    },
    "tags": []
   },
   "outputs": [
    {
     "data": {
      "text/plain": [
       "GridSearchCV(cv=5, estimator=GaussianNB(),\n",
       "             param_grid={'var_smoothing': range(0, 11)},\n",
       "             return_train_score=True)"
      ]
     },
     "execution_count": 8,
     "metadata": {},
     "output_type": "execute_result"
    }
   ],
   "source": [
    "# Hyperparameter Tuning\n",
    "# Grid Search\n",
    "param_g = {'var_smoothing':range(11)}\n",
    "grid= GridSearchCV(GaussianNB(), param_g, cv=5, return_train_score=True)\n",
    "grid.fit(mm_X_train, y_train)"
   ]
  },
  {
   "cell_type": "code",
   "execution_count": 9,
   "id": "f5102323",
   "metadata": {
    "execution": {
     "iopub.execute_input": "2022-07-01T16:49:10.824165Z",
     "iopub.status.busy": "2022-07-01T16:49:10.823278Z",
     "iopub.status.idle": "2022-07-01T16:49:10.833534Z",
     "shell.execute_reply": "2022-07-01T16:49:10.832018Z"
    },
    "papermill": {
     "duration": 0.050716,
     "end_time": "2022-07-01T16:49:10.836222",
     "exception": false,
     "start_time": "2022-07-01T16:49:10.785506",
     "status": "completed"
    },
    "tags": []
   },
   "outputs": [
    {
     "name": "stdout",
     "output_type": "stream",
     "text": [
      "Best Parameter : {'var_smoothing': 0}\n",
      "Best Score : 0.9649\n",
      "Test Score : 0.9591\n"
     ]
    }
   ],
   "source": [
    "print('Best Parameter :', grid.best_params_)\n",
    "print('Best Score :',round(grid.best_score_,4))\n",
    "print('Test Score :',round(grid.score(mm_X_test, y_test),4))"
   ]
  },
  {
   "cell_type": "code",
   "execution_count": 10,
   "id": "15e0ff61",
   "metadata": {
    "execution": {
     "iopub.execute_input": "2022-07-01T16:49:10.911987Z",
     "iopub.status.busy": "2022-07-01T16:49:10.911267Z",
     "iopub.status.idle": "2022-07-01T16:49:12.220232Z",
     "shell.execute_reply": "2022-07-01T16:49:12.219479Z"
    },
    "papermill": {
     "duration": 1.351263,
     "end_time": "2022-07-01T16:49:12.223968",
     "exception": false,
     "start_time": "2022-07-01T16:49:10.872705",
     "status": "completed"
    },
    "tags": []
   },
   "outputs": [
    {
     "data": {
      "text/plain": [
       "RandomizedSearchCV(cv=5, estimator=GaussianNB(), n_iter=100,\n",
       "                   param_distributions={'var_smoothing': <scipy.stats._distn_infrastructure.rv_frozen object at 0x7f276e31c050>},\n",
       "                   return_train_score=True)"
      ]
     },
     "execution_count": 10,
     "metadata": {},
     "output_type": "execute_result"
    }
   ],
   "source": [
    "# Randomized Search\n",
    "param_r={'var_smoothing':randint(low=0, high=20)}\n",
    "random=RandomizedSearchCV(GaussianNB(), param_distributions=param_r, cv=5, n_iter=100, return_train_score=True)\n",
    "random.fit(mm_X_train, y_train)"
   ]
  },
  {
   "cell_type": "code",
   "execution_count": 11,
   "id": "4db772e4",
   "metadata": {
    "execution": {
     "iopub.execute_input": "2022-07-01T16:49:12.306215Z",
     "iopub.status.busy": "2022-07-01T16:49:12.305660Z",
     "iopub.status.idle": "2022-07-01T16:49:12.314258Z",
     "shell.execute_reply": "2022-07-01T16:49:12.313147Z"
    },
    "papermill": {
     "duration": 0.05299,
     "end_time": "2022-07-01T16:49:12.317495",
     "exception": false,
     "start_time": "2022-07-01T16:49:12.264505",
     "status": "completed"
    },
    "tags": []
   },
   "outputs": [
    {
     "name": "stdout",
     "output_type": "stream",
     "text": [
      "Best Parameter : {'var_smoothing': 0}\n",
      "Best Score : 0.9649\n",
      "Test Score : 0.9591\n"
     ]
    }
   ],
   "source": [
    "print('Best Parameter :', random.best_params_) \n",
    "print('Best Score :',round(random.best_score_,4)) \n",
    "print('Test Score :',round(random.score(mm_X_test, y_test),4))"
   ]
  },
  {
   "cell_type": "markdown",
   "id": "037046a8",
   "metadata": {
    "papermill": {
     "duration": 0.039178,
     "end_time": "2022-07-01T16:49:12.397238",
     "exception": false,
     "start_time": "2022-07-01T16:49:12.358060",
     "status": "completed"
    },
    "tags": []
   },
   "source": [
    "# 분석 코드 - Regression"
   ]
  },
  {
   "cell_type": "code",
   "execution_count": 12,
   "id": "1e5a194a",
   "metadata": {
    "execution": {
     "iopub.execute_input": "2022-07-01T16:49:12.451315Z",
     "iopub.status.busy": "2022-07-01T16:49:12.450738Z",
     "iopub.status.idle": "2022-07-01T16:49:12.523868Z",
     "shell.execute_reply": "2022-07-01T16:49:12.522967Z"
    },
    "papermill": {
     "duration": 0.102568,
     "end_time": "2022-07-01T16:49:12.526019",
     "exception": false,
     "start_time": "2022-07-01T16:49:12.423451",
     "status": "completed"
    },
    "tags": []
   },
   "outputs": [
    {
     "data": {
      "text/html": [
       "<div>\n",
       "<style scoped>\n",
       "    .dataframe tbody tr th:only-of-type {\n",
       "        vertical-align: middle;\n",
       "    }\n",
       "\n",
       "    .dataframe tbody tr th {\n",
       "        vertical-align: top;\n",
       "    }\n",
       "\n",
       "    .dataframe thead th {\n",
       "        text-align: right;\n",
       "    }\n",
       "</style>\n",
       "<table border=\"1\" class=\"dataframe\">\n",
       "  <thead>\n",
       "    <tr style=\"text-align: right;\">\n",
       "      <th></th>\n",
       "      <th>housing_age</th>\n",
       "      <th>income</th>\n",
       "      <th>bedrooms</th>\n",
       "      <th>households</th>\n",
       "      <th>rooms</th>\n",
       "      <th>house_value</th>\n",
       "    </tr>\n",
       "  </thead>\n",
       "  <tbody>\n",
       "    <tr>\n",
       "      <th>0</th>\n",
       "      <td>23</td>\n",
       "      <td>6.7770</td>\n",
       "      <td>0.141112</td>\n",
       "      <td>2.442244</td>\n",
       "      <td>8.103960</td>\n",
       "      <td>500000</td>\n",
       "    </tr>\n",
       "    <tr>\n",
       "      <th>1</th>\n",
       "      <td>49</td>\n",
       "      <td>6.0199</td>\n",
       "      <td>0.160984</td>\n",
       "      <td>2.726688</td>\n",
       "      <td>5.752412</td>\n",
       "      <td>500000</td>\n",
       "    </tr>\n",
       "    <tr>\n",
       "      <th>2</th>\n",
       "      <td>35</td>\n",
       "      <td>5.1155</td>\n",
       "      <td>0.249061</td>\n",
       "      <td>1.902676</td>\n",
       "      <td>3.888078</td>\n",
       "      <td>500000</td>\n",
       "    </tr>\n",
       "    <tr>\n",
       "      <th>3</th>\n",
       "      <td>32</td>\n",
       "      <td>4.7109</td>\n",
       "      <td>0.231383</td>\n",
       "      <td>1.913669</td>\n",
       "      <td>4.508393</td>\n",
       "      <td>500000</td>\n",
       "    </tr>\n",
       "    <tr>\n",
       "      <th>4</th>\n",
       "      <td>21</td>\n",
       "      <td>4.5625</td>\n",
       "      <td>0.255583</td>\n",
       "      <td>3.092664</td>\n",
       "      <td>4.667954</td>\n",
       "      <td>500000</td>\n",
       "    </tr>\n",
       "  </tbody>\n",
       "</table>\n",
       "</div>"
      ],
      "text/plain": [
       "   housing_age  income  bedrooms  households     rooms  house_value\n",
       "0           23  6.7770  0.141112    2.442244  8.103960       500000\n",
       "1           49  6.0199  0.160984    2.726688  5.752412       500000\n",
       "2           35  5.1155  0.249061    1.902676  3.888078       500000\n",
       "3           32  4.7109  0.231383    1.913669  4.508393       500000\n",
       "4           21  4.5625  0.255583    3.092664  4.667954       500000"
      ]
     },
     "execution_count": 12,
     "metadata": {},
     "output_type": "execute_result"
    }
   ],
   "source": [
    "df2=pd.read_csv('../input/big-data-certification-study/house_price.csv', encoding='utf-8') \n",
    "df2.head()"
   ]
  },
  {
   "cell_type": "code",
   "execution_count": 13,
   "id": "7815450b",
   "metadata": {
    "execution": {
     "iopub.execute_input": "2022-07-01T16:49:12.577782Z",
     "iopub.status.busy": "2022-07-01T16:49:12.577545Z",
     "iopub.status.idle": "2022-07-01T16:49:12.588781Z",
     "shell.execute_reply": "2022-07-01T16:49:12.587935Z"
    },
    "papermill": {
     "duration": 0.040082,
     "end_time": "2022-07-01T16:49:12.591195",
     "exception": false,
     "start_time": "2022-07-01T16:49:12.551113",
     "status": "completed"
    },
    "tags": []
   },
   "outputs": [],
   "source": [
    "# 데이터 분리 \n",
    "X=df2.drop(columns=['house_value']) \n",
    "y=df2[['house_value']] \n",
    "X_train, X_test, y_train, y_test=train_test_split(X,y,random_state=42)"
   ]
  },
  {
   "cell_type": "code",
   "execution_count": 14,
   "id": "f25cf241",
   "metadata": {
    "execution": {
     "iopub.execute_input": "2022-07-01T16:49:12.669103Z",
     "iopub.status.busy": "2022-07-01T16:49:12.668608Z",
     "iopub.status.idle": "2022-07-01T16:49:12.680181Z",
     "shell.execute_reply": "2022-07-01T16:49:12.679389Z"
    },
    "papermill": {
     "duration": 0.053828,
     "end_time": "2022-07-01T16:49:12.682912",
     "exception": false,
     "start_time": "2022-07-01T16:49:12.629084",
     "status": "completed"
    },
    "tags": []
   },
   "outputs": [],
   "source": [
    "# 정규화 \n",
    "scale=MinMaxScaler() \n",
    "scale.fit(X_train) \n",
    "ms_X_train=scale.transform(X_train) \n",
    "ms_x_test=scale.transform(X_test)"
   ]
  },
  {
   "cell_type": "code",
   "execution_count": 15,
   "id": "5c0cb696",
   "metadata": {
    "execution": {
     "iopub.execute_input": "2022-07-01T16:49:12.763565Z",
     "iopub.status.busy": "2022-07-01T16:49:12.762875Z",
     "iopub.status.idle": "2022-07-01T16:49:12.818722Z",
     "shell.execute_reply": "2022-07-01T16:49:12.818012Z"
    },
    "papermill": {
     "duration": 0.099244,
     "end_time": "2022-07-01T16:49:12.821646",
     "exception": false,
     "start_time": "2022-07-01T16:49:12.722402",
     "status": "completed"
    },
    "tags": []
   },
   "outputs": [
    {
     "data": {
      "text/plain": [
       "0.5706920449333218"
      ]
     },
     "execution_count": 15,
     "metadata": {},
     "output_type": "execute_result"
    }
   ],
   "source": [
    "# 모델 적용 \n",
    "model_r=BayesianRidge() \n",
    "model_r.fit(ms_X_train, y_train) \n",
    "pred_x=model_r.predict(ms_X_train) \n",
    "model_r.score(ms_X_train, y_train)"
   ]
  },
  {
   "cell_type": "code",
   "execution_count": 16,
   "id": "44e2ac68",
   "metadata": {
    "execution": {
     "iopub.execute_input": "2022-07-01T16:49:12.959361Z",
     "iopub.status.busy": "2022-07-01T16:49:12.959070Z",
     "iopub.status.idle": "2022-07-01T16:49:12.971759Z",
     "shell.execute_reply": "2022-07-01T16:49:12.971095Z"
    },
    "papermill": {
     "duration": 0.068768,
     "end_time": "2022-07-01T16:49:12.973981",
     "exception": false,
     "start_time": "2022-07-01T16:49:12.905213",
     "status": "completed"
    },
    "tags": []
   },
   "outputs": [
    {
     "data": {
      "text/plain": [
       "0.5826111218474419"
      ]
     },
     "execution_count": 16,
     "metadata": {},
     "output_type": "execute_result"
    }
   ],
   "source": [
    "pred_y=model_r.predict(ms_x_test) \n",
    "model_r.score(ms_x_test,y_test)"
   ]
  },
  {
   "cell_type": "code",
   "execution_count": 17,
   "id": "44d02f55",
   "metadata": {
    "execution": {
     "iopub.execute_input": "2022-07-01T16:49:13.080738Z",
     "iopub.status.busy": "2022-07-01T16:49:13.079546Z",
     "iopub.status.idle": "2022-07-01T16:49:13.092906Z",
     "shell.execute_reply": "2022-07-01T16:49:13.091217Z"
    },
    "papermill": {
     "duration": 0.0693,
     "end_time": "2022-07-01T16:49:13.095863",
     "exception": false,
     "start_time": "2022-07-01T16:49:13.026563",
     "status": "completed"
    },
    "tags": []
   },
   "outputs": [
    {
     "name": "stdout",
     "output_type": "stream",
     "text": [
      "Train RMSE : 62537 \n",
      "Test  RMSE : 61764\n"
     ]
    }
   ],
   "source": [
    "# RMSE \n",
    "rmse_train=np.sqrt(mean_squared_error(y_train,pred_x)) \n",
    "rmse_test=np.sqrt(mean_squared_error(y_test,pred_y)) \n",
    "print('Train RMSE :', round(rmse_train), '\\nTest  RMSE :', round(rmse_test))"
   ]
  },
  {
   "cell_type": "code",
   "execution_count": 18,
   "id": "230b397e",
   "metadata": {
    "execution": {
     "iopub.execute_input": "2022-07-01T16:49:13.179808Z",
     "iopub.status.busy": "2022-07-01T16:49:13.179546Z",
     "iopub.status.idle": "2022-07-01T16:49:21.938891Z",
     "shell.execute_reply": "2022-07-01T16:49:21.938405Z"
    },
    "papermill": {
     "duration": 8.804062,
     "end_time": "2022-07-01T16:49:21.940951",
     "exception": false,
     "start_time": "2022-07-01T16:49:13.136889",
     "status": "completed"
    },
    "tags": []
   },
   "outputs": [
    {
     "data": {
      "text/plain": [
       "GridSearchCV(cv=5, estimator=BayesianRidge(),\n",
       "             param_grid={'alpha_1': [1e-06, 1e-05, 0.0001, 0.001, 0.01, 0.1, 1,\n",
       "                                     2, 3, 4],\n",
       "                         'lambda_1': [1e-06, 1e-05, 0.0001, 0.001, 0.01, 0.1, 1,\n",
       "                                      2, 3, 4]},\n",
       "             return_train_score=True)"
      ]
     },
     "execution_count": 18,
     "metadata": {},
     "output_type": "execute_result"
    }
   ],
   "source": [
    "# Hyperparameter Tuning \n",
    "# Grid Search \n",
    "g_param = {'alpha_1':[1e-06,1e-05,1e-04,1e-03,1e-02,1e-01,1,2,3,4], 'lambda_1':[1e-06,1e-05,1e-04,1e-03,1e-02,1e-01,1,2,3,4]} \n",
    "g_search= GridSearchCV(BayesianRidge(), g_param, cv=5, return_train_score=True) \n",
    "g_search.fit(ms_X_train, y_train)"
   ]
  },
  {
   "cell_type": "code",
   "execution_count": 19,
   "id": "cea51b02",
   "metadata": {
    "execution": {
     "iopub.execute_input": "2022-07-01T16:49:22.083918Z",
     "iopub.status.busy": "2022-07-01T16:49:22.083695Z",
     "iopub.status.idle": "2022-07-01T16:49:22.091586Z",
     "shell.execute_reply": "2022-07-01T16:49:22.090405Z"
    },
    "papermill": {
     "duration": 0.063272,
     "end_time": "2022-07-01T16:49:22.093882",
     "exception": false,
     "start_time": "2022-07-01T16:49:22.030610",
     "status": "completed"
    },
    "tags": []
   },
   "outputs": [
    {
     "name": "stdout",
     "output_type": "stream",
     "text": [
      "Best Parameter : {'alpha_1': 4, 'lambda_1': 1e-06}\n",
      "Best Score : 0.5703\n",
      "Test Score : 0.5826\n"
     ]
    }
   ],
   "source": [
    "print('Best Parameter :', g_search.best_params_) \n",
    "print('Best Score :',round(g_search.best_score_,4)) \n",
    "print('Test Score :',round(g_search.score(ms_x_test, y_test),4))"
   ]
  },
  {
   "cell_type": "code",
   "execution_count": 20,
   "id": "50c87ae3",
   "metadata": {
    "execution": {
     "iopub.execute_input": "2022-07-01T16:49:22.191257Z",
     "iopub.status.busy": "2022-07-01T16:49:22.190964Z",
     "iopub.status.idle": "2022-07-01T16:49:27.418477Z",
     "shell.execute_reply": "2022-07-01T16:49:27.417799Z"
    },
    "papermill": {
     "duration": 5.278563,
     "end_time": "2022-07-01T16:49:27.421032",
     "exception": false,
     "start_time": "2022-07-01T16:49:22.142469",
     "status": "completed"
    },
    "tags": []
   },
   "outputs": [
    {
     "data": {
      "text/plain": [
       "RandomizedSearchCV(cv=5, estimator=BayesianRidge(), n_iter=50,\n",
       "                   param_distributions={'alpha_1': <scipy.stats._distn_infrastructure.rv_frozen object at 0x7f276e37c590>,\n",
       "                                        'lambda_1': <scipy.stats._distn_infrastructure.rv_frozen object at 0x7f276e37c510>},\n",
       "                   return_train_score=True)"
      ]
     },
     "execution_count": 20,
     "metadata": {},
     "output_type": "execute_result"
    }
   ],
   "source": [
    "# Randomized Search \n",
    "r_param={'alpha_1':randint(low=1e-06, high=10), 'lambda_1':randint(low=1e-06,high=10)}\n",
    "r_search=RandomizedSearchCV(BayesianRidge(), param_distributions=r_param, cv=5, n_iter=50, return_train_score=True) \n",
    "r_search.fit(ms_X_train, y_train)"
   ]
  },
  {
   "cell_type": "code",
   "execution_count": 21,
   "id": "44c19ed7",
   "metadata": {
    "execution": {
     "iopub.execute_input": "2022-07-01T16:49:27.565123Z",
     "iopub.status.busy": "2022-07-01T16:49:27.564839Z",
     "iopub.status.idle": "2022-07-01T16:49:27.578042Z",
     "shell.execute_reply": "2022-07-01T16:49:27.576524Z"
    },
    "papermill": {
     "duration": 0.070143,
     "end_time": "2022-07-01T16:49:27.582332",
     "exception": false,
     "start_time": "2022-07-01T16:49:27.512189",
     "status": "completed"
    },
    "tags": []
   },
   "outputs": [
    {
     "name": "stdout",
     "output_type": "stream",
     "text": [
      "Best Parameter : {'alpha_1': 8, 'lambda_1': 0}\n",
      "Best Score : 0.5703\n",
      "Test Score : 0.5826\n"
     ]
    }
   ],
   "source": [
    "print('Best Parameter :', r_search.best_params_) \n",
    "print('Best Score :',round(r_search.best_score_,4)) \n",
    "print('Test Score :',round(r_search.score(ms_x_test, y_test),4))"
   ]
  }
 ],
 "metadata": {
  "kernelspec": {
   "display_name": "Python 3",
   "language": "python",
   "name": "python3"
  },
  "language_info": {
   "codemirror_mode": {
    "name": "ipython",
    "version": 3
   },
   "file_extension": ".py",
   "mimetype": "text/x-python",
   "name": "python",
   "nbconvert_exporter": "python",
   "pygments_lexer": "ipython3",
   "version": "3.7.12"
  },
  "papermill": {
   "default_parameters": {},
   "duration": 33.159021,
   "end_time": "2022-07-01T16:49:28.455314",
   "environment_variables": {},
   "exception": null,
   "input_path": "__notebook__.ipynb",
   "output_path": "__notebook__.ipynb",
   "parameters": {},
   "start_time": "2022-07-01T16:48:55.296293",
   "version": "2.3.4"
  }
 },
 "nbformat": 4,
 "nbformat_minor": 5
}
