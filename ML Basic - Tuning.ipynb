{
 "cells": [
  {
   "cell_type": "code",
   "execution_count": 1,
   "id": "1ad197d9",
   "metadata": {
    "_cell_guid": "b1076dfc-b9ad-4769-8c92-a6c4dae69d19",
    "_uuid": "8f2839f25d086af736a60e9eeb907d3b93b6e0e5",
    "execution": {
     "iopub.execute_input": "2022-05-19T14:26:18.491096Z",
     "iopub.status.busy": "2022-05-19T14:26:18.490344Z",
     "iopub.status.idle": "2022-05-19T14:26:18.537024Z",
     "shell.execute_reply": "2022-05-19T14:26:18.536128Z"
    },
    "papermill": {
     "duration": 0.081781,
     "end_time": "2022-05-19T14:26:18.539583",
     "exception": false,
     "start_time": "2022-05-19T14:26:18.457802",
     "status": "completed"
    },
    "tags": []
   },
   "outputs": [
    {
     "data": {
      "text/html": [
       "<div>\n",
       "<style scoped>\n",
       "    .dataframe tbody tr th:only-of-type {\n",
       "        vertical-align: middle;\n",
       "    }\n",
       "\n",
       "    .dataframe tbody tr th {\n",
       "        vertical-align: top;\n",
       "    }\n",
       "\n",
       "    .dataframe thead th {\n",
       "        text-align: right;\n",
       "    }\n",
       "</style>\n",
       "<table border=\"1\" class=\"dataframe\">\n",
       "  <thead>\n",
       "    <tr style=\"text-align: right;\">\n",
       "      <th></th>\n",
       "      <th>gender_female</th>\n",
       "      <th>gender_male</th>\n",
       "      <th>region_Chungcheung</th>\n",
       "      <th>region_Honam</th>\n",
       "      <th>region_Others</th>\n",
       "      <th>region_Sudo</th>\n",
       "      <th>region_Youngnam</th>\n",
       "      <th>edu</th>\n",
       "      <th>income</th>\n",
       "      <th>age</th>\n",
       "      <th>score_gov</th>\n",
       "      <th>score_progress</th>\n",
       "      <th>score_intention</th>\n",
       "      <th>vote</th>\n",
       "      <th>parties</th>\n",
       "    </tr>\n",
       "  </thead>\n",
       "  <tbody>\n",
       "    <tr>\n",
       "      <th>0</th>\n",
       "      <td>0</td>\n",
       "      <td>1</td>\n",
       "      <td>0</td>\n",
       "      <td>0</td>\n",
       "      <td>0</td>\n",
       "      <td>0</td>\n",
       "      <td>1</td>\n",
       "      <td>3</td>\n",
       "      <td>3</td>\n",
       "      <td>3</td>\n",
       "      <td>2</td>\n",
       "      <td>2</td>\n",
       "      <td>4.0</td>\n",
       "      <td>1</td>\n",
       "      <td>2</td>\n",
       "    </tr>\n",
       "    <tr>\n",
       "      <th>1</th>\n",
       "      <td>0</td>\n",
       "      <td>1</td>\n",
       "      <td>0</td>\n",
       "      <td>0</td>\n",
       "      <td>1</td>\n",
       "      <td>0</td>\n",
       "      <td>0</td>\n",
       "      <td>2</td>\n",
       "      <td>3</td>\n",
       "      <td>3</td>\n",
       "      <td>2</td>\n",
       "      <td>4</td>\n",
       "      <td>3.0</td>\n",
       "      <td>0</td>\n",
       "      <td>3</td>\n",
       "    </tr>\n",
       "    <tr>\n",
       "      <th>2</th>\n",
       "      <td>0</td>\n",
       "      <td>1</td>\n",
       "      <td>0</td>\n",
       "      <td>1</td>\n",
       "      <td>0</td>\n",
       "      <td>0</td>\n",
       "      <td>0</td>\n",
       "      <td>1</td>\n",
       "      <td>2</td>\n",
       "      <td>4</td>\n",
       "      <td>1</td>\n",
       "      <td>3</td>\n",
       "      <td>2.8</td>\n",
       "      <td>1</td>\n",
       "      <td>4</td>\n",
       "    </tr>\n",
       "    <tr>\n",
       "      <th>3</th>\n",
       "      <td>1</td>\n",
       "      <td>0</td>\n",
       "      <td>0</td>\n",
       "      <td>0</td>\n",
       "      <td>0</td>\n",
       "      <td>1</td>\n",
       "      <td>0</td>\n",
       "      <td>2</td>\n",
       "      <td>1</td>\n",
       "      <td>3</td>\n",
       "      <td>5</td>\n",
       "      <td>4</td>\n",
       "      <td>2.6</td>\n",
       "      <td>1</td>\n",
       "      <td>1</td>\n",
       "    </tr>\n",
       "    <tr>\n",
       "      <th>4</th>\n",
       "      <td>0</td>\n",
       "      <td>1</td>\n",
       "      <td>0</td>\n",
       "      <td>0</td>\n",
       "      <td>0</td>\n",
       "      <td>1</td>\n",
       "      <td>0</td>\n",
       "      <td>1</td>\n",
       "      <td>2</td>\n",
       "      <td>4</td>\n",
       "      <td>4</td>\n",
       "      <td>3</td>\n",
       "      <td>2.4</td>\n",
       "      <td>1</td>\n",
       "      <td>1</td>\n",
       "    </tr>\n",
       "  </tbody>\n",
       "</table>\n",
       "</div>"
      ],
      "text/plain": [
       "   gender_female  gender_male  region_Chungcheung  region_Honam  \\\n",
       "0              0            1                   0             0   \n",
       "1              0            1                   0             0   \n",
       "2              0            1                   0             1   \n",
       "3              1            0                   0             0   \n",
       "4              0            1                   0             0   \n",
       "\n",
       "   region_Others  region_Sudo  region_Youngnam  edu  income  age  score_gov  \\\n",
       "0              0            0                1    3       3    3          2   \n",
       "1              1            0                0    2       3    3          2   \n",
       "2              0            0                0    1       2    4          1   \n",
       "3              0            1                0    2       1    3          5   \n",
       "4              0            1                0    1       2    4          4   \n",
       "\n",
       "   score_progress  score_intention  vote  parties  \n",
       "0               2              4.0     1        2  \n",
       "1               4              3.0     0        3  \n",
       "2               3              2.8     1        4  \n",
       "3               4              2.6     1        1  \n",
       "4               3              2.4     1        1  "
      ]
     },
     "execution_count": 1,
     "metadata": {},
     "output_type": "execute_result"
    }
   ],
   "source": [
    "# 분석 외 불필요한 내용 처리\n",
    "import warnings\n",
    "warnings.filterwarnings('ignore')\n",
    "\n",
    "# 데이터 로드\n",
    "import pandas as pd\n",
    "df = pd.read_csv('../input/big-data-certification-study/Fvote.csv', encoding='utf-8')\n",
    "df.head()"
   ]
  },
  {
   "cell_type": "code",
   "execution_count": 2,
   "id": "076a9095",
   "metadata": {
    "execution": {
     "iopub.execute_input": "2022-05-19T14:26:18.600892Z",
     "iopub.status.busy": "2022-05-19T14:26:18.600604Z",
     "iopub.status.idle": "2022-05-19T14:26:18.615599Z",
     "shell.execute_reply": "2022-05-19T14:26:18.614986Z"
    },
    "papermill": {
     "duration": 0.049115,
     "end_time": "2022-05-19T14:26:18.617692",
     "exception": false,
     "start_time": "2022-05-19T14:26:18.568577",
     "status": "completed"
    },
    "tags": []
   },
   "outputs": [
    {
     "data": {
      "text/plain": [
       "((211, 15), (211, 13), (211, 1))"
      ]
     },
     "execution_count": 2,
     "metadata": {},
     "output_type": "execute_result"
    }
   ],
   "source": [
    "# 데이터셋 분할\n",
    "X = df.drop(columns=['vote', 'parties'])\n",
    "y = df[['vote']]\n",
    "\n",
    "df.shape, X.shape, y.shape"
   ]
  },
  {
   "cell_type": "code",
   "execution_count": 3,
   "id": "2117c707",
   "metadata": {
    "execution": {
     "iopub.execute_input": "2022-05-19T14:26:18.677464Z",
     "iopub.status.busy": "2022-05-19T14:26:18.676687Z",
     "iopub.status.idle": "2022-05-19T14:26:19.951920Z",
     "shell.execute_reply": "2022-05-19T14:26:19.950990Z"
    },
    "papermill": {
     "duration": 1.307567,
     "end_time": "2022-05-19T14:26:19.954293",
     "exception": false,
     "start_time": "2022-05-19T14:26:18.646726",
     "status": "completed"
    },
    "tags": []
   },
   "outputs": [],
   "source": [
    "from sklearn.model_selection import train_test_split\n",
    "X_train, X_test, y_train, y_test = train_test_split(X, y, stratify=y, random_state = 42)"
   ]
  },
  {
   "cell_type": "markdown",
   "id": "5890f67c",
   "metadata": {
    "papermill": {
     "duration": 0.028703,
     "end_time": "2022-05-19T14:26:20.012926",
     "exception": false,
     "start_time": "2022-05-19T14:26:19.984223",
     "status": "completed"
    },
    "tags": []
   },
   "source": [
    "# Grid Search"
   ]
  },
  {
   "cell_type": "code",
   "execution_count": 4,
   "id": "bf70a4d4",
   "metadata": {
    "execution": {
     "iopub.execute_input": "2022-05-19T14:26:20.074683Z",
     "iopub.status.busy": "2022-05-19T14:26:20.074104Z",
     "iopub.status.idle": "2022-05-19T14:26:20.078114Z",
     "shell.execute_reply": "2022-05-19T14:26:20.077452Z"
    },
    "papermill": {
     "duration": 0.037448,
     "end_time": "2022-05-19T14:26:20.080129",
     "exception": false,
     "start_time": "2022-05-19T14:26:20.042681",
     "status": "completed"
    },
    "tags": []
   },
   "outputs": [],
   "source": [
    "# Hyper Parameter 및 Value 설정\n",
    "from sklearn.model_selection import GridSearchCV\n",
    "grid_param={'C': [0.001, 0.01, 0.1, 1, 10, 100]}"
   ]
  },
  {
   "cell_type": "code",
   "execution_count": 5,
   "id": "bf03b430",
   "metadata": {
    "execution": {
     "iopub.execute_input": "2022-05-19T14:26:20.140484Z",
     "iopub.status.busy": "2022-05-19T14:26:20.139959Z",
     "iopub.status.idle": "2022-05-19T14:26:20.227828Z",
     "shell.execute_reply": "2022-05-19T14:26:20.226836Z"
    },
    "papermill": {
     "duration": 0.120513,
     "end_time": "2022-05-19T14:26:20.230355",
     "exception": false,
     "start_time": "2022-05-19T14:26:20.109842",
     "status": "completed"
    },
    "tags": []
   },
   "outputs": [],
   "source": [
    "# 로지스틱 회귀모델\n",
    "from sklearn.linear_model import LogisticRegression"
   ]
  },
  {
   "cell_type": "code",
   "execution_count": 6,
   "id": "5aa62e99",
   "metadata": {
    "execution": {
     "iopub.execute_input": "2022-05-19T14:26:20.292672Z",
     "iopub.status.busy": "2022-05-19T14:26:20.292022Z",
     "iopub.status.idle": "2022-05-19T14:26:20.865162Z",
     "shell.execute_reply": "2022-05-19T14:26:20.864540Z"
    },
    "papermill": {
     "duration": 0.605698,
     "end_time": "2022-05-19T14:26:20.867172",
     "exception": false,
     "start_time": "2022-05-19T14:26:20.261474",
     "status": "completed"
    },
    "tags": []
   },
   "outputs": [
    {
     "data": {
      "text/plain": [
       "GridSearchCV(cv=5, estimator=LogisticRegression(),\n",
       "             param_grid={'C': [0.001, 0.01, 0.1, 1, 10, 100]},\n",
       "             return_train_score=True)"
      ]
     },
     "execution_count": 6,
     "metadata": {},
     "output_type": "execute_result"
    }
   ],
   "source": [
    "# Grid Search 형식\n",
    "# GridSearchCV(알고리즘 모델, 설정한 그리드 서치, cv (교차검증값), return_train_score)\n",
    "grid_search = GridSearchCV(LogisticRegression(), grid_param, cv=5, return_train_score=True)\n",
    "# X, y의 훈련데이터 fit\n",
    "grid_search.fit(X_train, y_train)"
   ]
  },
  {
   "cell_type": "code",
   "execution_count": 7,
   "id": "94bd1e84",
   "metadata": {
    "execution": {
     "iopub.execute_input": "2022-05-19T14:26:20.928891Z",
     "iopub.status.busy": "2022-05-19T14:26:20.928118Z",
     "iopub.status.idle": "2022-05-19T14:26:20.934255Z",
     "shell.execute_reply": "2022-05-19T14:26:20.932948Z"
    },
    "papermill": {
     "duration": 0.039963,
     "end_time": "2022-05-19T14:26:20.936666",
     "exception": false,
     "start_time": "2022-05-19T14:26:20.896703",
     "status": "completed"
    },
    "tags": []
   },
   "outputs": [
    {
     "name": "stdout",
     "output_type": "stream",
     "text": [
      "Best Parameter : {'C': 10}\n",
      "Best CV Score : 0.727\n"
     ]
    }
   ],
   "source": [
    "# 가장 높은 정확도의 Hyperparameter 확인\n",
    "# grid_search.best_params_\n",
    "# 가장 높은 정확도 확인\n",
    "# grid_search.best_score_\n",
    "\n",
    "print('Best Parameter :', grid_search.best_params_)\n",
    "print('Best CV Score :', round(grid_search.best_score_, 3))"
   ]
  },
  {
   "cell_type": "code",
   "execution_count": 8,
   "id": "2a742278",
   "metadata": {
    "execution": {
     "iopub.execute_input": "2022-05-19T14:26:20.998552Z",
     "iopub.status.busy": "2022-05-19T14:26:20.998266Z",
     "iopub.status.idle": "2022-05-19T14:26:21.007073Z",
     "shell.execute_reply": "2022-05-19T14:26:21.006088Z"
    },
    "papermill": {
     "duration": 0.043073,
     "end_time": "2022-05-19T14:26:21.009708",
     "exception": false,
     "start_time": "2022-05-19T14:26:20.966635",
     "status": "completed"
    },
    "tags": []
   },
   "outputs": [
    {
     "name": "stdout",
     "output_type": "stream",
     "text": [
      "Test Set Score : 0.679\n"
     ]
    }
   ],
   "source": [
    "# 테스트 데이터에 적용한 결과\n",
    "print('Test Set Score :', round(grid_search.score(X_test,y_test), 3))"
   ]
  },
  {
   "cell_type": "code",
   "execution_count": 9,
   "id": "c328770b",
   "metadata": {
    "execution": {
     "iopub.execute_input": "2022-05-19T14:26:21.074960Z",
     "iopub.status.busy": "2022-05-19T14:26:21.074498Z",
     "iopub.status.idle": "2022-05-19T14:26:21.105109Z",
     "shell.execute_reply": "2022-05-19T14:26:21.104110Z"
    },
    "papermill": {
     "duration": 0.064859,
     "end_time": "2022-05-19T14:26:21.107587",
     "exception": false,
     "start_time": "2022-05-19T14:26:21.042728",
     "status": "completed"
    },
    "tags": []
   },
   "outputs": [
    {
     "data": {
      "text/html": [
       "<div>\n",
       "<style scoped>\n",
       "    .dataframe tbody tr th:only-of-type {\n",
       "        vertical-align: middle;\n",
       "    }\n",
       "\n",
       "    .dataframe tbody tr th {\n",
       "        vertical-align: top;\n",
       "    }\n",
       "\n",
       "    .dataframe thead th {\n",
       "        text-align: right;\n",
       "    }\n",
       "</style>\n",
       "<table border=\"1\" class=\"dataframe\">\n",
       "  <thead>\n",
       "    <tr style=\"text-align: right;\">\n",
       "      <th></th>\n",
       "      <th>mean_fit_time</th>\n",
       "      <th>std_fit_time</th>\n",
       "      <th>mean_score_time</th>\n",
       "      <th>std_score_time</th>\n",
       "      <th>param_C</th>\n",
       "      <th>params</th>\n",
       "      <th>split0_test_score</th>\n",
       "      <th>split1_test_score</th>\n",
       "      <th>split2_test_score</th>\n",
       "      <th>split3_test_score</th>\n",
       "      <th>...</th>\n",
       "      <th>mean_test_score</th>\n",
       "      <th>std_test_score</th>\n",
       "      <th>rank_test_score</th>\n",
       "      <th>split0_train_score</th>\n",
       "      <th>split1_train_score</th>\n",
       "      <th>split2_train_score</th>\n",
       "      <th>split3_train_score</th>\n",
       "      <th>split4_train_score</th>\n",
       "      <th>mean_train_score</th>\n",
       "      <th>std_train_score</th>\n",
       "    </tr>\n",
       "  </thead>\n",
       "  <tbody>\n",
       "    <tr>\n",
       "      <th>0</th>\n",
       "      <td>0.007958</td>\n",
       "      <td>0.002583</td>\n",
       "      <td>0.002333</td>\n",
       "      <td>0.000350</td>\n",
       "      <td>0.001</td>\n",
       "      <td>{'C': 0.001}</td>\n",
       "      <td>0.68750</td>\n",
       "      <td>0.71875</td>\n",
       "      <td>0.71875</td>\n",
       "      <td>0.709677</td>\n",
       "      <td>...</td>\n",
       "      <td>0.708871</td>\n",
       "      <td>0.011430</td>\n",
       "      <td>5</td>\n",
       "      <td>0.714286</td>\n",
       "      <td>0.706349</td>\n",
       "      <td>0.706349</td>\n",
       "      <td>0.708661</td>\n",
       "      <td>0.708661</td>\n",
       "      <td>0.708861</td>\n",
       "      <td>0.002903</td>\n",
       "    </tr>\n",
       "    <tr>\n",
       "      <th>1</th>\n",
       "      <td>0.006914</td>\n",
       "      <td>0.000233</td>\n",
       "      <td>0.001996</td>\n",
       "      <td>0.000024</td>\n",
       "      <td>0.01</td>\n",
       "      <td>{'C': 0.01}</td>\n",
       "      <td>0.68750</td>\n",
       "      <td>0.71875</td>\n",
       "      <td>0.71875</td>\n",
       "      <td>0.709677</td>\n",
       "      <td>...</td>\n",
       "      <td>0.708871</td>\n",
       "      <td>0.011430</td>\n",
       "      <td>5</td>\n",
       "      <td>0.714286</td>\n",
       "      <td>0.706349</td>\n",
       "      <td>0.706349</td>\n",
       "      <td>0.708661</td>\n",
       "      <td>0.708661</td>\n",
       "      <td>0.708861</td>\n",
       "      <td>0.002903</td>\n",
       "    </tr>\n",
       "    <tr>\n",
       "      <th>2</th>\n",
       "      <td>0.010439</td>\n",
       "      <td>0.001049</td>\n",
       "      <td>0.002066</td>\n",
       "      <td>0.000042</td>\n",
       "      <td>0.1</td>\n",
       "      <td>{'C': 0.1}</td>\n",
       "      <td>0.71875</td>\n",
       "      <td>0.71875</td>\n",
       "      <td>0.71875</td>\n",
       "      <td>0.677419</td>\n",
       "      <td>...</td>\n",
       "      <td>0.721573</td>\n",
       "      <td>0.030797</td>\n",
       "      <td>3</td>\n",
       "      <td>0.730159</td>\n",
       "      <td>0.738095</td>\n",
       "      <td>0.738095</td>\n",
       "      <td>0.740157</td>\n",
       "      <td>0.708661</td>\n",
       "      <td>0.731034</td>\n",
       "      <td>0.011698</td>\n",
       "    </tr>\n",
       "    <tr>\n",
       "      <th>3</th>\n",
       "      <td>0.014097</td>\n",
       "      <td>0.000638</td>\n",
       "      <td>0.002086</td>\n",
       "      <td>0.000042</td>\n",
       "      <td>1</td>\n",
       "      <td>{'C': 1}</td>\n",
       "      <td>0.71875</td>\n",
       "      <td>0.68750</td>\n",
       "      <td>0.81250</td>\n",
       "      <td>0.580645</td>\n",
       "      <td>...</td>\n",
       "      <td>0.721169</td>\n",
       "      <td>0.085441</td>\n",
       "      <td>4</td>\n",
       "      <td>0.738095</td>\n",
       "      <td>0.785714</td>\n",
       "      <td>0.730159</td>\n",
       "      <td>0.763780</td>\n",
       "      <td>0.724409</td>\n",
       "      <td>0.748431</td>\n",
       "      <td>0.022993</td>\n",
       "    </tr>\n",
       "    <tr>\n",
       "      <th>4</th>\n",
       "      <td>0.019303</td>\n",
       "      <td>0.002012</td>\n",
       "      <td>0.002087</td>\n",
       "      <td>0.000057</td>\n",
       "      <td>10</td>\n",
       "      <td>{'C': 10}</td>\n",
       "      <td>0.75000</td>\n",
       "      <td>0.68750</td>\n",
       "      <td>0.81250</td>\n",
       "      <td>0.580645</td>\n",
       "      <td>...</td>\n",
       "      <td>0.727419</td>\n",
       "      <td>0.086175</td>\n",
       "      <td>1</td>\n",
       "      <td>0.746032</td>\n",
       "      <td>0.769841</td>\n",
       "      <td>0.730159</td>\n",
       "      <td>0.779528</td>\n",
       "      <td>0.724409</td>\n",
       "      <td>0.749994</td>\n",
       "      <td>0.021586</td>\n",
       "    </tr>\n",
       "    <tr>\n",
       "      <th>5</th>\n",
       "      <td>0.021604</td>\n",
       "      <td>0.001946</td>\n",
       "      <td>0.002087</td>\n",
       "      <td>0.000031</td>\n",
       "      <td>100</td>\n",
       "      <td>{'C': 100}</td>\n",
       "      <td>0.75000</td>\n",
       "      <td>0.68750</td>\n",
       "      <td>0.81250</td>\n",
       "      <td>0.580645</td>\n",
       "      <td>...</td>\n",
       "      <td>0.727419</td>\n",
       "      <td>0.086175</td>\n",
       "      <td>1</td>\n",
       "      <td>0.746032</td>\n",
       "      <td>0.769841</td>\n",
       "      <td>0.730159</td>\n",
       "      <td>0.771654</td>\n",
       "      <td>0.724409</td>\n",
       "      <td>0.748419</td>\n",
       "      <td>0.019567</td>\n",
       "    </tr>\n",
       "  </tbody>\n",
       "</table>\n",
       "<p>6 rows × 21 columns</p>\n",
       "</div>"
      ],
      "text/plain": [
       "   mean_fit_time  std_fit_time  mean_score_time  std_score_time param_C  \\\n",
       "0       0.007958      0.002583         0.002333        0.000350   0.001   \n",
       "1       0.006914      0.000233         0.001996        0.000024    0.01   \n",
       "2       0.010439      0.001049         0.002066        0.000042     0.1   \n",
       "3       0.014097      0.000638         0.002086        0.000042       1   \n",
       "4       0.019303      0.002012         0.002087        0.000057      10   \n",
       "5       0.021604      0.001946         0.002087        0.000031     100   \n",
       "\n",
       "         params  split0_test_score  split1_test_score  split2_test_score  \\\n",
       "0  {'C': 0.001}            0.68750            0.71875            0.71875   \n",
       "1   {'C': 0.01}            0.68750            0.71875            0.71875   \n",
       "2    {'C': 0.1}            0.71875            0.71875            0.71875   \n",
       "3      {'C': 1}            0.71875            0.68750            0.81250   \n",
       "4     {'C': 10}            0.75000            0.68750            0.81250   \n",
       "5    {'C': 100}            0.75000            0.68750            0.81250   \n",
       "\n",
       "   split3_test_score  ...  mean_test_score  std_test_score  rank_test_score  \\\n",
       "0           0.709677  ...         0.708871        0.011430                5   \n",
       "1           0.709677  ...         0.708871        0.011430                5   \n",
       "2           0.677419  ...         0.721573        0.030797                3   \n",
       "3           0.580645  ...         0.721169        0.085441                4   \n",
       "4           0.580645  ...         0.727419        0.086175                1   \n",
       "5           0.580645  ...         0.727419        0.086175                1   \n",
       "\n",
       "   split0_train_score  split1_train_score  split2_train_score  \\\n",
       "0            0.714286            0.706349            0.706349   \n",
       "1            0.714286            0.706349            0.706349   \n",
       "2            0.730159            0.738095            0.738095   \n",
       "3            0.738095            0.785714            0.730159   \n",
       "4            0.746032            0.769841            0.730159   \n",
       "5            0.746032            0.769841            0.730159   \n",
       "\n",
       "   split3_train_score  split4_train_score  mean_train_score  std_train_score  \n",
       "0            0.708661            0.708661          0.708861         0.002903  \n",
       "1            0.708661            0.708661          0.708861         0.002903  \n",
       "2            0.740157            0.708661          0.731034         0.011698  \n",
       "3            0.763780            0.724409          0.748431         0.022993  \n",
       "4            0.779528            0.724409          0.749994         0.021586  \n",
       "5            0.771654            0.724409          0.748419         0.019567  \n",
       "\n",
       "[6 rows x 21 columns]"
      ]
     },
     "execution_count": 9,
     "metadata": {},
     "output_type": "execute_result"
    }
   ],
   "source": [
    "# 상세 결과값 확인\n",
    "# grid_search.cv_results_\n",
    "# DataFrame으로 변경하여 확인\n",
    "result_grid = pd.DataFrame(grid_search.cv_results_)\n",
    "result_grid"
   ]
  },
  {
   "cell_type": "code",
   "execution_count": 10,
   "id": "e1802d63",
   "metadata": {
    "execution": {
     "iopub.execute_input": "2022-05-19T14:26:21.171945Z",
     "iopub.status.busy": "2022-05-19T14:26:21.171439Z",
     "iopub.status.idle": "2022-05-19T14:26:21.409387Z",
     "shell.execute_reply": "2022-05-19T14:26:21.408444Z"
    },
    "papermill": {
     "duration": 0.273322,
     "end_time": "2022-05-19T14:26:21.411998",
     "exception": false,
     "start_time": "2022-05-19T14:26:21.138676",
     "status": "completed"
    },
    "tags": []
   },
   "outputs": [
    {
     "data": {
      "image/png": "[encoded data removed]",
      "text/plain": [
       "<Figure size 432x288 with 1 Axes>"
      ]
     },
     "metadata": {
      "needs_background": "light"
     },
     "output_type": "display_data"
    }
   ],
   "source": [
    "# 그래프로 확인\n",
    "# X축 - result_grid['param_C']\n",
    "# Y축 - result_grid['mean_train_score']\n",
    "\n",
    "import matplotlib.pyplot as plt\n",
    "plt.plot(result_grid['param_C'], result_grid['mean_train_score'], label='Train')\n",
    "plt.plot(result_grid['param_C'], result_grid['mean_test_score'], label='Test')\n",
    "plt.legend();"
   ]
  },
  {
   "cell_type": "markdown",
   "id": "053f7778",
   "metadata": {
    "papermill": {
     "duration": 0.031423,
     "end_time": "2022-05-19T14:26:21.475974",
     "exception": false,
     "start_time": "2022-05-19T14:26:21.444551",
     "status": "completed"
    },
    "tags": []
   },
   "source": [
    "# Random Search"
   ]
  },
  {
   "cell_type": "code",
   "execution_count": 11,
   "id": "a7d7eb67",
   "metadata": {
    "execution": {
     "iopub.execute_input": "2022-05-19T14:26:21.544423Z",
     "iopub.status.busy": "2022-05-19T14:26:21.543847Z",
     "iopub.status.idle": "2022-05-19T14:26:21.549530Z",
     "shell.execute_reply": "2022-05-19T14:26:21.548621Z"
    },
    "papermill": {
     "duration": 0.043418,
     "end_time": "2022-05-19T14:26:21.551800",
     "exception": false,
     "start_time": "2022-05-19T14:26:21.508382",
     "status": "completed"
    },
    "tags": []
   },
   "outputs": [],
   "source": [
    "from sklearn.model_selection import RandomizedSearchCV\n",
    "from scipy.stats import randint\n",
    "param_distribs = {'C': randint(low=0.001, high=100)}"
   ]
  },
  {
   "cell_type": "code",
   "execution_count": 12,
   "id": "639318a7",
   "metadata": {
    "execution": {
     "iopub.execute_input": "2022-05-19T14:26:21.617029Z",
     "iopub.status.busy": "2022-05-19T14:26:21.616729Z",
     "iopub.status.idle": "2022-05-19T14:26:33.992279Z",
     "shell.execute_reply": "2022-05-19T14:26:33.991643Z"
    },
    "papermill": {
     "duration": 12.410812,
     "end_time": "2022-05-19T14:26:33.994357",
     "exception": false,
     "start_time": "2022-05-19T14:26:21.583545",
     "status": "completed"
    },
    "tags": []
   },
   "outputs": [
    {
     "data": {
      "text/plain": [
       "RandomizedSearchCV(cv=5, estimator=LogisticRegression(), n_iter=100,\n",
       "                   param_distributions={'C': <scipy.stats._distn_infrastructure.rv_frozen object at 0x7f100b46abd0>},\n",
       "                   return_train_score=True)"
      ]
     },
     "execution_count": 12,
     "metadata": {},
     "output_type": "execute_result"
    }
   ],
   "source": [
    "# Randomized Search 형식\n",
    "# RandomizedSearchCV(알고리즘,\n",
    "# param_distributions=설정한 내용, cv(교차검증)\n",
    "# n_iter (랜덤 횟수로, 기본값 10), return_train_score)\n",
    "random_search = RandomizedSearchCV(LogisticRegression(), param_distributions = param_distribs,\n",
    "                                   cv=5, n_iter=100, return_train_score=True)\n",
    "random_search.fit(X_train, y_train)"
   ]
  },
  {
   "cell_type": "code",
   "execution_count": 13,
   "id": "6333cb18",
   "metadata": {
    "execution": {
     "iopub.execute_input": "2022-05-19T14:26:34.065225Z",
     "iopub.status.busy": "2022-05-19T14:26:34.064917Z",
     "iopub.status.idle": "2022-05-19T14:26:34.070669Z",
     "shell.execute_reply": "2022-05-19T14:26:34.069545Z"
    },
    "papermill": {
     "duration": 0.042338,
     "end_time": "2022-05-19T14:26:34.072807",
     "exception": false,
     "start_time": "2022-05-19T14:26:34.030469",
     "status": "completed"
    },
    "tags": []
   },
   "outputs": [
    {
     "name": "stdout",
     "output_type": "stream",
     "text": [
      "Best Parameter : {'C': 43}\n",
      "Best Score : 0.727\n"
     ]
    }
   ],
   "source": [
    "print('Best Parameter :', random_search.best_params_)\n",
    "print('Best Score :', round(random_search.best_score_, 3))"
   ]
  },
  {
   "cell_type": "code",
   "execution_count": 14,
   "id": "b7d2ab98",
   "metadata": {
    "execution": {
     "iopub.execute_input": "2022-05-19T14:26:34.139452Z",
     "iopub.status.busy": "2022-05-19T14:26:34.139128Z",
     "iopub.status.idle": "2022-05-19T14:26:34.147247Z",
     "shell.execute_reply": "2022-05-19T14:26:34.146216Z"
    },
    "papermill": {
     "duration": 0.044093,
     "end_time": "2022-05-19T14:26:34.149590",
     "exception": false,
     "start_time": "2022-05-19T14:26:34.105497",
     "status": "completed"
    },
    "tags": []
   },
   "outputs": [
    {
     "name": "stdout",
     "output_type": "stream",
     "text": [
      "Test Set Score : 0.679\n"
     ]
    }
   ],
   "source": [
    "print('Test Set Score :', round(random_search.score(X_test, y_test), 3))"
   ]
  },
  {
   "cell_type": "code",
   "execution_count": 15,
   "id": "087c867d",
   "metadata": {
    "execution": {
     "iopub.execute_input": "2022-05-19T14:26:34.216578Z",
     "iopub.status.busy": "2022-05-19T14:26:34.215989Z",
     "iopub.status.idle": "2022-05-19T14:26:34.252709Z",
     "shell.execute_reply": "2022-05-19T14:26:34.251727Z"
    },
    "papermill": {
     "duration": 0.072712,
     "end_time": "2022-05-19T14:26:34.254875",
     "exception": false,
     "start_time": "2022-05-19T14:26:34.182163",
     "status": "completed"
    },
    "tags": []
   },
   "outputs": [
    {
     "data": {
      "text/html": [
       "<div>\n",
       "<style scoped>\n",
       "    .dataframe tbody tr th:only-of-type {\n",
       "        vertical-align: middle;\n",
       "    }\n",
       "\n",
       "    .dataframe tbody tr th {\n",
       "        vertical-align: top;\n",
       "    }\n",
       "\n",
       "    .dataframe thead th {\n",
       "        text-align: right;\n",
       "    }\n",
       "</style>\n",
       "<table border=\"1\" class=\"dataframe\">\n",
       "  <thead>\n",
       "    <tr style=\"text-align: right;\">\n",
       "      <th></th>\n",
       "      <th>mean_fit_time</th>\n",
       "      <th>std_fit_time</th>\n",
       "      <th>mean_score_time</th>\n",
       "      <th>std_score_time</th>\n",
       "      <th>param_C</th>\n",
       "      <th>params</th>\n",
       "      <th>split0_test_score</th>\n",
       "      <th>split1_test_score</th>\n",
       "      <th>split2_test_score</th>\n",
       "      <th>split3_test_score</th>\n",
       "      <th>...</th>\n",
       "      <th>mean_test_score</th>\n",
       "      <th>std_test_score</th>\n",
       "      <th>rank_test_score</th>\n",
       "      <th>split0_train_score</th>\n",
       "      <th>split1_train_score</th>\n",
       "      <th>split2_train_score</th>\n",
       "      <th>split3_train_score</th>\n",
       "      <th>split4_train_score</th>\n",
       "      <th>mean_train_score</th>\n",
       "      <th>std_train_score</th>\n",
       "    </tr>\n",
       "  </thead>\n",
       "  <tbody>\n",
       "    <tr>\n",
       "      <th>0</th>\n",
       "      <td>0.020843</td>\n",
       "      <td>0.001975</td>\n",
       "      <td>0.002201</td>\n",
       "      <td>0.000165</td>\n",
       "      <td>43</td>\n",
       "      <td>{'C': 43}</td>\n",
       "      <td>0.75</td>\n",
       "      <td>0.6875</td>\n",
       "      <td>0.8125</td>\n",
       "      <td>0.580645</td>\n",
       "      <td>...</td>\n",
       "      <td>0.727419</td>\n",
       "      <td>0.086175</td>\n",
       "      <td>1</td>\n",
       "      <td>0.746032</td>\n",
       "      <td>0.769841</td>\n",
       "      <td>0.730159</td>\n",
       "      <td>0.771654</td>\n",
       "      <td>0.724409</td>\n",
       "      <td>0.748419</td>\n",
       "      <td>0.019567</td>\n",
       "    </tr>\n",
       "    <tr>\n",
       "      <th>1</th>\n",
       "      <td>0.021915</td>\n",
       "      <td>0.001733</td>\n",
       "      <td>0.002131</td>\n",
       "      <td>0.000011</td>\n",
       "      <td>56</td>\n",
       "      <td>{'C': 56}</td>\n",
       "      <td>0.75</td>\n",
       "      <td>0.6875</td>\n",
       "      <td>0.8125</td>\n",
       "      <td>0.580645</td>\n",
       "      <td>...</td>\n",
       "      <td>0.727419</td>\n",
       "      <td>0.086175</td>\n",
       "      <td>1</td>\n",
       "      <td>0.746032</td>\n",
       "      <td>0.769841</td>\n",
       "      <td>0.730159</td>\n",
       "      <td>0.771654</td>\n",
       "      <td>0.724409</td>\n",
       "      <td>0.748419</td>\n",
       "      <td>0.019567</td>\n",
       "    </tr>\n",
       "    <tr>\n",
       "      <th>2</th>\n",
       "      <td>0.021769</td>\n",
       "      <td>0.001442</td>\n",
       "      <td>0.002210</td>\n",
       "      <td>0.000124</td>\n",
       "      <td>83</td>\n",
       "      <td>{'C': 83}</td>\n",
       "      <td>0.75</td>\n",
       "      <td>0.6875</td>\n",
       "      <td>0.8125</td>\n",
       "      <td>0.580645</td>\n",
       "      <td>...</td>\n",
       "      <td>0.727419</td>\n",
       "      <td>0.086175</td>\n",
       "      <td>1</td>\n",
       "      <td>0.746032</td>\n",
       "      <td>0.769841</td>\n",
       "      <td>0.730159</td>\n",
       "      <td>0.771654</td>\n",
       "      <td>0.724409</td>\n",
       "      <td>0.748419</td>\n",
       "      <td>0.019567</td>\n",
       "    </tr>\n",
       "    <tr>\n",
       "      <th>3</th>\n",
       "      <td>0.019762</td>\n",
       "      <td>0.001340</td>\n",
       "      <td>0.002070</td>\n",
       "      <td>0.000014</td>\n",
       "      <td>65</td>\n",
       "      <td>{'C': 65}</td>\n",
       "      <td>0.75</td>\n",
       "      <td>0.6875</td>\n",
       "      <td>0.8125</td>\n",
       "      <td>0.580645</td>\n",
       "      <td>...</td>\n",
       "      <td>0.727419</td>\n",
       "      <td>0.086175</td>\n",
       "      <td>1</td>\n",
       "      <td>0.746032</td>\n",
       "      <td>0.769841</td>\n",
       "      <td>0.730159</td>\n",
       "      <td>0.771654</td>\n",
       "      <td>0.724409</td>\n",
       "      <td>0.748419</td>\n",
       "      <td>0.019567</td>\n",
       "    </tr>\n",
       "    <tr>\n",
       "      <th>4</th>\n",
       "      <td>0.022732</td>\n",
       "      <td>0.001737</td>\n",
       "      <td>0.002230</td>\n",
       "      <td>0.000192</td>\n",
       "      <td>84</td>\n",
       "      <td>{'C': 84}</td>\n",
       "      <td>0.75</td>\n",
       "      <td>0.6875</td>\n",
       "      <td>0.8125</td>\n",
       "      <td>0.580645</td>\n",
       "      <td>...</td>\n",
       "      <td>0.727419</td>\n",
       "      <td>0.086175</td>\n",
       "      <td>1</td>\n",
       "      <td>0.746032</td>\n",
       "      <td>0.769841</td>\n",
       "      <td>0.730159</td>\n",
       "      <td>0.771654</td>\n",
       "      <td>0.724409</td>\n",
       "      <td>0.748419</td>\n",
       "      <td>0.019567</td>\n",
       "    </tr>\n",
       "    <tr>\n",
       "      <th>...</th>\n",
       "      <td>...</td>\n",
       "      <td>...</td>\n",
       "      <td>...</td>\n",
       "      <td>...</td>\n",
       "      <td>...</td>\n",
       "      <td>...</td>\n",
       "      <td>...</td>\n",
       "      <td>...</td>\n",
       "      <td>...</td>\n",
       "      <td>...</td>\n",
       "      <td>...</td>\n",
       "      <td>...</td>\n",
       "      <td>...</td>\n",
       "      <td>...</td>\n",
       "      <td>...</td>\n",
       "      <td>...</td>\n",
       "      <td>...</td>\n",
       "      <td>...</td>\n",
       "      <td>...</td>\n",
       "      <td>...</td>\n",
       "      <td>...</td>\n",
       "    </tr>\n",
       "    <tr>\n",
       "      <th>95</th>\n",
       "      <td>0.022242</td>\n",
       "      <td>0.001317</td>\n",
       "      <td>0.002084</td>\n",
       "      <td>0.000024</td>\n",
       "      <td>56</td>\n",
       "      <td>{'C': 56}</td>\n",
       "      <td>0.75</td>\n",
       "      <td>0.6875</td>\n",
       "      <td>0.8125</td>\n",
       "      <td>0.580645</td>\n",
       "      <td>...</td>\n",
       "      <td>0.727419</td>\n",
       "      <td>0.086175</td>\n",
       "      <td>1</td>\n",
       "      <td>0.746032</td>\n",
       "      <td>0.769841</td>\n",
       "      <td>0.730159</td>\n",
       "      <td>0.771654</td>\n",
       "      <td>0.724409</td>\n",
       "      <td>0.748419</td>\n",
       "      <td>0.019567</td>\n",
       "    </tr>\n",
       "    <tr>\n",
       "      <th>96</th>\n",
       "      <td>0.020093</td>\n",
       "      <td>0.001844</td>\n",
       "      <td>0.002061</td>\n",
       "      <td>0.000058</td>\n",
       "      <td>78</td>\n",
       "      <td>{'C': 78}</td>\n",
       "      <td>0.75</td>\n",
       "      <td>0.6875</td>\n",
       "      <td>0.8125</td>\n",
       "      <td>0.580645</td>\n",
       "      <td>...</td>\n",
       "      <td>0.727419</td>\n",
       "      <td>0.086175</td>\n",
       "      <td>1</td>\n",
       "      <td>0.746032</td>\n",
       "      <td>0.769841</td>\n",
       "      <td>0.730159</td>\n",
       "      <td>0.771654</td>\n",
       "      <td>0.724409</td>\n",
       "      <td>0.748419</td>\n",
       "      <td>0.019567</td>\n",
       "    </tr>\n",
       "    <tr>\n",
       "      <th>97</th>\n",
       "      <td>0.018324</td>\n",
       "      <td>0.001442</td>\n",
       "      <td>0.002182</td>\n",
       "      <td>0.000122</td>\n",
       "      <td>8</td>\n",
       "      <td>{'C': 8}</td>\n",
       "      <td>0.75</td>\n",
       "      <td>0.6875</td>\n",
       "      <td>0.8125</td>\n",
       "      <td>0.580645</td>\n",
       "      <td>...</td>\n",
       "      <td>0.727419</td>\n",
       "      <td>0.086175</td>\n",
       "      <td>1</td>\n",
       "      <td>0.746032</td>\n",
       "      <td>0.769841</td>\n",
       "      <td>0.730159</td>\n",
       "      <td>0.779528</td>\n",
       "      <td>0.724409</td>\n",
       "      <td>0.749994</td>\n",
       "      <td>0.021586</td>\n",
       "    </tr>\n",
       "    <tr>\n",
       "      <th>98</th>\n",
       "      <td>0.020449</td>\n",
       "      <td>0.000907</td>\n",
       "      <td>0.002077</td>\n",
       "      <td>0.000018</td>\n",
       "      <td>31</td>\n",
       "      <td>{'C': 31}</td>\n",
       "      <td>0.75</td>\n",
       "      <td>0.6875</td>\n",
       "      <td>0.8125</td>\n",
       "      <td>0.580645</td>\n",
       "      <td>...</td>\n",
       "      <td>0.727419</td>\n",
       "      <td>0.086175</td>\n",
       "      <td>1</td>\n",
       "      <td>0.746032</td>\n",
       "      <td>0.769841</td>\n",
       "      <td>0.730159</td>\n",
       "      <td>0.771654</td>\n",
       "      <td>0.724409</td>\n",
       "      <td>0.748419</td>\n",
       "      <td>0.019567</td>\n",
       "    </tr>\n",
       "    <tr>\n",
       "      <th>99</th>\n",
       "      <td>0.020962</td>\n",
       "      <td>0.001170</td>\n",
       "      <td>0.002049</td>\n",
       "      <td>0.000013</td>\n",
       "      <td>35</td>\n",
       "      <td>{'C': 35}</td>\n",
       "      <td>0.75</td>\n",
       "      <td>0.6875</td>\n",
       "      <td>0.8125</td>\n",
       "      <td>0.580645</td>\n",
       "      <td>...</td>\n",
       "      <td>0.727419</td>\n",
       "      <td>0.086175</td>\n",
       "      <td>1</td>\n",
       "      <td>0.746032</td>\n",
       "      <td>0.769841</td>\n",
       "      <td>0.730159</td>\n",
       "      <td>0.771654</td>\n",
       "      <td>0.724409</td>\n",
       "      <td>0.748419</td>\n",
       "      <td>0.019567</td>\n",
       "    </tr>\n",
       "  </tbody>\n",
       "</table>\n",
       "<p>100 rows × 21 columns</p>\n",
       "</div>"
      ],
      "text/plain": [
       "    mean_fit_time  std_fit_time  mean_score_time  std_score_time param_C  \\\n",
       "0        0.020843      0.001975         0.002201        0.000165      43   \n",
       "1        0.021915      0.001733         0.002131        0.000011      56   \n",
       "2        0.021769      0.001442         0.002210        0.000124      83   \n",
       "3        0.019762      0.001340         0.002070        0.000014      65   \n",
       "4        0.022732      0.001737         0.002230        0.000192      84   \n",
       "..            ...           ...              ...             ...     ...   \n",
       "95       0.022242      0.001317         0.002084        0.000024      56   \n",
       "96       0.020093      0.001844         0.002061        0.000058      78   \n",
       "97       0.018324      0.001442         0.002182        0.000122       8   \n",
       "98       0.020449      0.000907         0.002077        0.000018      31   \n",
       "99       0.020962      0.001170         0.002049        0.000013      35   \n",
       "\n",
       "       params  split0_test_score  split1_test_score  split2_test_score  \\\n",
       "0   {'C': 43}               0.75             0.6875             0.8125   \n",
       "1   {'C': 56}               0.75             0.6875             0.8125   \n",
       "2   {'C': 83}               0.75             0.6875             0.8125   \n",
       "3   {'C': 65}               0.75             0.6875             0.8125   \n",
       "4   {'C': 84}               0.75             0.6875             0.8125   \n",
       "..        ...                ...                ...                ...   \n",
       "95  {'C': 56}               0.75             0.6875             0.8125   \n",
       "96  {'C': 78}               0.75             0.6875             0.8125   \n",
       "97   {'C': 8}               0.75             0.6875             0.8125   \n",
       "98  {'C': 31}               0.75             0.6875             0.8125   \n",
       "99  {'C': 35}               0.75             0.6875             0.8125   \n",
       "\n",
       "    split3_test_score  ...  mean_test_score  std_test_score  rank_test_score  \\\n",
       "0            0.580645  ...         0.727419        0.086175                1   \n",
       "1            0.580645  ...         0.727419        0.086175                1   \n",
       "2            0.580645  ...         0.727419        0.086175                1   \n",
       "3            0.580645  ...         0.727419        0.086175                1   \n",
       "4            0.580645  ...         0.727419        0.086175                1   \n",
       "..                ...  ...              ...             ...              ...   \n",
       "95           0.580645  ...         0.727419        0.086175                1   \n",
       "96           0.580645  ...         0.727419        0.086175                1   \n",
       "97           0.580645  ...         0.727419        0.086175                1   \n",
       "98           0.580645  ...         0.727419        0.086175                1   \n",
       "99           0.580645  ...         0.727419        0.086175                1   \n",
       "\n",
       "    split0_train_score  split1_train_score  split2_train_score  \\\n",
       "0             0.746032            0.769841            0.730159   \n",
       "1             0.746032            0.769841            0.730159   \n",
       "2             0.746032            0.769841            0.730159   \n",
       "3             0.746032            0.769841            0.730159   \n",
       "4             0.746032            0.769841            0.730159   \n",
       "..                 ...                 ...                 ...   \n",
       "95            0.746032            0.769841            0.730159   \n",
       "96            0.746032            0.769841            0.730159   \n",
       "97            0.746032            0.769841            0.730159   \n",
       "98            0.746032            0.769841            0.730159   \n",
       "99            0.746032            0.769841            0.730159   \n",
       "\n",
       "    split3_train_score  split4_train_score  mean_train_score  std_train_score  \n",
       "0             0.771654            0.724409          0.748419         0.019567  \n",
       "1             0.771654            0.724409          0.748419         0.019567  \n",
       "2             0.771654            0.724409          0.748419         0.019567  \n",
       "3             0.771654            0.724409          0.748419         0.019567  \n",
       "4             0.771654            0.724409          0.748419         0.019567  \n",
       "..                 ...                 ...               ...              ...  \n",
       "95            0.771654            0.724409          0.748419         0.019567  \n",
       "96            0.771654            0.724409          0.748419         0.019567  \n",
       "97            0.779528            0.724409          0.749994         0.021586  \n",
       "98            0.771654            0.724409          0.748419         0.019567  \n",
       "99            0.771654            0.724409          0.748419         0.019567  \n",
       "\n",
       "[100 rows x 21 columns]"
      ]
     },
     "execution_count": 15,
     "metadata": {},
     "output_type": "execute_result"
    }
   ],
   "source": [
    "result_random = pd.DataFrame(random_search.cv_results_)\n",
    "result_random"
   ]
  },
  {
   "cell_type": "code",
   "execution_count": 16,
   "id": "89f8dd33",
   "metadata": {
    "execution": {
     "iopub.execute_input": "2022-05-19T14:26:34.325115Z",
     "iopub.status.busy": "2022-05-19T14:26:34.324772Z",
     "iopub.status.idle": "2022-05-19T14:26:34.529859Z",
     "shell.execute_reply": "2022-05-19T14:26:34.529050Z"
    },
    "papermill": {
     "duration": 0.242688,
     "end_time": "2022-05-19T14:26:34.532221",
     "exception": false,
     "start_time": "2022-05-19T14:26:34.289533",
     "status": "completed"
    },
    "tags": []
   },
   "outputs": [
    {
     "data": {
      "text/plain": [
       "<matplotlib.legend.Legend at 0x7f100b3d3350>"
      ]
     },
     "execution_count": 16,
     "metadata": {},
     "output_type": "execute_result"
    },
    {
     "data": {
      "image/png": "[encoded data removed]",
      "text/plain": [
       "<Figure size 432x288 with 1 Axes>"
      ]
     },
     "metadata": {
      "needs_background": "light"
     },
     "output_type": "display_data"
    }
   ],
   "source": [
    "plt.plot(result_random['param_C'], result_random['mean_train_score'], label='Train')\n",
    "plt.plot(result_random['param_C'], result_random['mean_test_score'], label='Test')\n",
    "plt.legend()"
   ]
  },
  {
   "cell_type": "markdown",
   "id": "8f67ea10",
   "metadata": {
    "papermill": {
     "duration": 0.034608,
     "end_time": "2022-05-19T14:26:34.601569",
     "exception": false,
     "start_time": "2022-05-19T14:26:34.566961",
     "status": "completed"
    },
    "tags": []
   },
   "source": [
    "# Machine Learning Process - Model Evaluation"
   ]
  },
  {
   "cell_type": "code",
   "execution_count": 17,
   "id": "f606169f",
   "metadata": {
    "execution": {
     "iopub.execute_input": "2022-05-19T14:26:34.672549Z",
     "iopub.status.busy": "2022-05-19T14:26:34.672246Z",
     "iopub.status.idle": "2022-05-19T14:26:34.698134Z",
     "shell.execute_reply": "2022-05-19T14:26:34.697324Z"
    },
    "papermill": {
     "duration": 0.063861,
     "end_time": "2022-05-19T14:26:34.700164",
     "exception": false,
     "start_time": "2022-05-19T14:26:34.636303",
     "status": "completed"
    },
    "tags": []
   },
   "outputs": [
    {
     "data": {
      "text/plain": [
       "LogisticRegression(C=10)"
      ]
     },
     "execution_count": 17,
     "metadata": {},
     "output_type": "execute_result"
    }
   ],
   "source": [
    "# Hyperparameter Tuning\n",
    "final_model = LogisticRegression(C=10)\n",
    "final_model.fit(X_train, y_train)"
   ]
  },
  {
   "cell_type": "code",
   "execution_count": 18,
   "id": "53e7ad6e",
   "metadata": {
    "execution": {
     "iopub.execute_input": "2022-05-19T14:26:34.772285Z",
     "iopub.status.busy": "2022-05-19T14:26:34.771515Z",
     "iopub.status.idle": "2022-05-19T14:26:34.782438Z",
     "shell.execute_reply": "2022-05-19T14:26:34.781557Z"
    },
    "papermill": {
     "duration": 0.049402,
     "end_time": "2022-05-19T14:26:34.784569",
     "exception": false,
     "start_time": "2022-05-19T14:26:34.735167",
     "status": "completed"
    },
    "tags": []
   },
   "outputs": [
    {
     "data": {
      "text/plain": [
       "0.740506329113924"
      ]
     },
     "execution_count": 18,
     "metadata": {},
     "output_type": "execute_result"
    }
   ],
   "source": [
    "# 훈련데이터 예측 및 정확도\n",
    "pred_train=final_model.predict(X_train)\n",
    "final_model.score(X_train, y_train)"
   ]
  },
  {
   "cell_type": "code",
   "execution_count": 19,
   "id": "1ee31948",
   "metadata": {
    "execution": {
     "iopub.execute_input": "2022-05-19T14:26:34.859012Z",
     "iopub.status.busy": "2022-05-19T14:26:34.858707Z",
     "iopub.status.idle": "2022-05-19T14:26:34.868525Z",
     "shell.execute_reply": "2022-05-19T14:26:34.867665Z"
    },
    "papermill": {
     "duration": 0.049168,
     "end_time": "2022-05-19T14:26:34.870613",
     "exception": false,
     "start_time": "2022-05-19T14:26:34.821445",
     "status": "completed"
    },
    "tags": []
   },
   "outputs": [
    {
     "data": {
      "text/plain": [
       "0.6792452830188679"
      ]
     },
     "execution_count": 19,
     "metadata": {},
     "output_type": "execute_result"
    }
   ],
   "source": [
    "# 테스트데이터 예측 및 정확도\n",
    "pred_test=final_model.predict(X_test)\n",
    "final_model.score(X_test, y_test)"
   ]
  },
  {
   "cell_type": "code",
   "execution_count": 20,
   "id": "0e2fa93d",
   "metadata": {
    "execution": {
     "iopub.execute_input": "2022-05-19T14:26:34.947083Z",
     "iopub.status.busy": "2022-05-19T14:26:34.946811Z",
     "iopub.status.idle": "2022-05-19T14:26:34.954564Z",
     "shell.execute_reply": "2022-05-19T14:26:34.953937Z"
    },
    "papermill": {
     "duration": 0.049106,
     "end_time": "2022-05-19T14:26:34.956400",
     "exception": false,
     "start_time": "2022-05-19T14:26:34.907294",
     "status": "completed"
    },
    "tags": []
   },
   "outputs": [
    {
     "name": "stdout",
     "output_type": "stream",
     "text": [
      "훈련데이터 혼동행렬 : \n",
      " [[ 12  34]\n",
      " [  7 105]]\n"
     ]
    }
   ],
   "source": [
    "# 훈련데이터 혼동행렬 확인\n",
    "from sklearn.metrics import confusion_matrix\n",
    "confusion_train = confusion_matrix(y_train, pred_train)\n",
    "print('훈련데이터 혼동행렬 : \\n', confusion_train)"
   ]
  },
  {
   "cell_type": "code",
   "execution_count": 21,
   "id": "9b2aa95d",
   "metadata": {
    "execution": {
     "iopub.execute_input": "2022-05-19T14:26:35.034996Z",
     "iopub.status.busy": "2022-05-19T14:26:35.034281Z",
     "iopub.status.idle": "2022-05-19T14:26:35.044890Z",
     "shell.execute_reply": "2022-05-19T14:26:35.043687Z"
    },
    "papermill": {
     "duration": 0.053243,
     "end_time": "2022-05-19T14:26:35.046842",
     "exception": false,
     "start_time": "2022-05-19T14:26:34.993599",
     "status": "completed"
    },
    "tags": []
   },
   "outputs": [
    {
     "name": "stdout",
     "output_type": "stream",
     "text": [
      "훈련데이터 분류예측 레포트 : \n",
      "               precision    recall  f1-score   support\n",
      "\n",
      "           0       0.63      0.26      0.37        46\n",
      "           1       0.76      0.94      0.84       112\n",
      "\n",
      "    accuracy                           0.74       158\n",
      "   macro avg       0.69      0.60      0.60       158\n",
      "weighted avg       0.72      0.74      0.70       158\n",
      "\n"
     ]
    }
   ],
   "source": [
    "# 훈련데이터 분류예측 레포트 확인\n",
    "from sklearn.metrics import classification_report\n",
    "cfreport_train = classification_report(y_train, pred_train)\n",
    "print('훈련데이터 분류예측 레포트 : \\n', cfreport_train)"
   ]
  },
  {
   "cell_type": "code",
   "execution_count": 22,
   "id": "b7f0e1b9",
   "metadata": {
    "execution": {
     "iopub.execute_input": "2022-05-19T14:26:35.123439Z",
     "iopub.status.busy": "2022-05-19T14:26:35.122570Z",
     "iopub.status.idle": "2022-05-19T14:26:35.129454Z",
     "shell.execute_reply": "2022-05-19T14:26:35.128381Z"
    },
    "papermill": {
     "duration": 0.046979,
     "end_time": "2022-05-19T14:26:35.131271",
     "exception": false,
     "start_time": "2022-05-19T14:26:35.084292",
     "status": "completed"
    },
    "tags": []
   },
   "outputs": [
    {
     "name": "stdout",
     "output_type": "stream",
     "text": [
      "테스트데이터 혼동행렬 : \n",
      " [[ 3 12]\n",
      " [ 5 33]]\n"
     ]
    }
   ],
   "source": [
    "# 테스트데이터 혼동행렬 확인\n",
    "confusion_test = confusion_matrix(y_test, pred_test)\n",
    "print('테스트데이터 혼동행렬 : \\n', confusion_test)"
   ]
  },
  {
   "cell_type": "code",
   "execution_count": 23,
   "id": "d4119d8d",
   "metadata": {
    "execution": {
     "iopub.execute_input": "2022-05-19T14:26:35.207582Z",
     "iopub.status.busy": "2022-05-19T14:26:35.207133Z",
     "iopub.status.idle": "2022-05-19T14:26:35.216401Z",
     "shell.execute_reply": "2022-05-19T14:26:35.215494Z"
    },
    "papermill": {
     "duration": 0.049417,
     "end_time": "2022-05-19T14:26:35.218251",
     "exception": false,
     "start_time": "2022-05-19T14:26:35.168834",
     "status": "completed"
    },
    "tags": []
   },
   "outputs": [
    {
     "name": "stdout",
     "output_type": "stream",
     "text": [
      "테스트데이터 분류예측 레포트 :\n",
      "               precision    recall  f1-score   support\n",
      "\n",
      "           0       0.38      0.20      0.26        15\n",
      "           1       0.73      0.87      0.80        38\n",
      "\n",
      "    accuracy                           0.68        53\n",
      "   macro avg       0.55      0.53      0.53        53\n",
      "weighted avg       0.63      0.68      0.64        53\n",
      "\n"
     ]
    }
   ],
   "source": [
    "# 테스트데이터 분류예측 레포트 확인\n",
    "cfreport_test=classification_report(y_test, pred_test)\n",
    "print('테스트데이터 분류예측 레포트 :\\n', cfreport_test)"
   ]
  },
  {
   "cell_type": "code",
   "execution_count": 24,
   "id": "3c7d56a6",
   "metadata": {
    "execution": {
     "iopub.execute_input": "2022-05-19T14:26:35.295162Z",
     "iopub.status.busy": "2022-05-19T14:26:35.294716Z",
     "iopub.status.idle": "2022-05-19T14:26:35.309384Z",
     "shell.execute_reply": "2022-05-19T14:26:35.308394Z"
    },
    "papermill": {
     "duration": 0.055651,
     "end_time": "2022-05-19T14:26:35.311390",
     "exception": false,
     "start_time": "2022-05-19T14:26:35.255739",
     "status": "completed"
    },
    "tags": []
   },
   "outputs": [
    {
     "data": {
      "text/plain": [
       "0.6350877192982456"
      ]
     },
     "execution_count": 24,
     "metadata": {},
     "output_type": "execute_result"
    }
   ],
   "source": [
    "# ROC Curve\n",
    "from sklearn.metrics import roc_curve, auc\n",
    "from sklearn import metrics\n",
    "fp_rate, tp_rate, thresholds = roc_curve(y_test, final_model.decision_function(X_test))\n",
    "roc_auc = metrics.roc_auc_score(y_test, final_model.decision_function(X_test))\n",
    "roc_auc"
   ]
  },
  {
   "cell_type": "code",
   "execution_count": 25,
   "id": "100c7b53",
   "metadata": {
    "execution": {
     "iopub.execute_input": "2022-05-19T14:26:35.388944Z",
     "iopub.status.busy": "2022-05-19T14:26:35.388522Z",
     "iopub.status.idle": "2022-05-19T14:26:35.543377Z",
     "shell.execute_reply": "2022-05-19T14:26:35.542511Z"
    },
    "papermill": {
     "duration": 0.195916,
     "end_time": "2022-05-19T14:26:35.545386",
     "exception": false,
     "start_time": "2022-05-19T14:26:35.349470",
     "status": "completed"
    },
    "tags": []
   },
   "outputs": [
    {
     "data": {
      "image/png": "[encoded data removed]",
      "text/plain": [
       "<Figure size 432x288 with 1 Axes>"
      ]
     },
     "metadata": {
      "needs_background": "light"
     },
     "output_type": "display_data"
    }
   ],
   "source": [
    "plt.title('Receiver Operating Characteristic')\n",
    "plt.xlabel('False Positive Rate(1 - Specificity)')\n",
    "plt.ylabel('True Positive Rate(Sensitivity)')\n",
    "\n",
    "plt.plot(fp_rate, tp_rate, 'b', label='Model (AUC = %0.2f)' % roc_auc)\n",
    "plt.plot([0,1],[1,1],'y--')\n",
    "plt.plot([0,1],[0,1],'r--')\n",
    "\n",
    "plt.legend(loc='lower right')\n",
    "plt.show();"
   ]
  }
 ],
 "metadata": {
  "kernelspec": {
   "display_name": "Python 3",
   "language": "python",
   "name": "python3"
  },
  "language_info": {
   "codemirror_mode": {
    "name": "ipython",
    "version": 3
   },
   "file_extension": ".py",
   "mimetype": "text/x-python",
   "name": "python",
   "nbconvert_exporter": "python",
   "pygments_lexer": "ipython3",
   "version": "3.7.12"
  },
  "papermill": {
   "default_parameters": {},
   "duration": 29.160734,
   "end_time": "2022-05-19T14:26:36.304810",
   "environment_variables": {},
   "exception": null,
   "input_path": "__notebook__.ipynb",
   "output_path": "__notebook__.ipynb",
   "parameters": {},
   "start_time": "2022-05-19T14:26:07.144076",
   "version": "2.3.4"
  }
 },
 "nbformat": 4,
 "nbformat_minor": 5
}
